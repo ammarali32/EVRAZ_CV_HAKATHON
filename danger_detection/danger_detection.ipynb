{
 "cells": [
  {
   "cell_type": "code",
   "execution_count": 2,
   "metadata": {},
   "outputs": [
    {
     "name": "stdout",
     "output_type": "stream",
     "text": [
      "/opt/conda/lib/python3.7/site-packages/secretstorage/dhcrypto.py:16: CryptographyDeprecationWarning: int_from_bytes is deprecated, use int.from_bytes instead\n",
      "  from cryptography.utils import int_from_bytes\n",
      "/opt/conda/lib/python3.7/site-packages/secretstorage/util.py:25: CryptographyDeprecationWarning: int_from_bytes is deprecated, use int.from_bytes instead\n",
      "  from cryptography.utils import int_from_bytes\n",
      "Collecting mediapipe\n",
      "  Using cached mediapipe-0.8.8.1-cp37-cp37m-manylinux_2_17_x86_64.manylinux2014_x86_64.whl (34.0 MB)\n",
      "Requirement already satisfied: six in /opt/conda/lib/python3.7/site-packages (from mediapipe) (1.14.0)\n",
      "Requirement already satisfied: wheel in /opt/conda/lib/python3.7/site-packages (from mediapipe) (0.34.2)\n",
      "Requirement already satisfied: attrs>=19.1.0 in /opt/conda/lib/python3.7/site-packages (from mediapipe) (19.3.0)\n",
      "Requirement already satisfied: matplotlib in /opt/conda/lib/python3.7/site-packages (from mediapipe) (3.4.3)\n",
      "Collecting opencv-contrib-python\n",
      "  Using cached opencv_contrib_python-4.5.4.58-cp37-cp37m-manylinux2014_x86_64.whl (66.5 MB)\n",
      "Requirement already satisfied: numpy in /opt/conda/lib/python3.7/site-packages (from mediapipe) (1.20.3)\n",
      "Requirement already satisfied: absl-py in /opt/conda/lib/python3.7/site-packages (from mediapipe) (0.15.0)\n",
      "Requirement already satisfied: protobuf>=3.11.4 in /opt/conda/lib/python3.7/site-packages (from mediapipe) (3.18.0)\n",
      "Requirement already satisfied: cycler>=0.10 in /opt/conda/lib/python3.7/site-packages (from matplotlib->mediapipe) (0.10.0)\n",
      "Requirement already satisfied: pyparsing>=2.2.1 in /opt/conda/lib/python3.7/site-packages (from matplotlib->mediapipe) (2.4.6)\n",
      "Requirement already satisfied: python-dateutil>=2.7 in /opt/conda/lib/python3.7/site-packages (from matplotlib->mediapipe) (2.8.1)\n",
      "Requirement already satisfied: kiwisolver>=1.0.1 in /opt/conda/lib/python3.7/site-packages (from matplotlib->mediapipe) (1.1.0)\n",
      "Requirement already satisfied: pillow>=6.2.0 in /opt/conda/lib/python3.7/site-packages (from matplotlib->mediapipe) (8.3.2)\n",
      "Requirement already satisfied: setuptools in /opt/conda/lib/python3.7/site-packages (from kiwisolver>=1.0.1->matplotlib->mediapipe) (58.1.0)\n",
      "Installing collected packages: opencv-contrib-python, mediapipe\n",
      "Successfully installed mediapipe-0.8.8.1 opencv-contrib-python-4.5.4.58\n",
      "\u001b[33mWARNING: Running pip as the 'root' user can result in broken permissions and conflicting behaviour with the system package manager. It is recommended to use a virtual environment instead: https://pip.pypa.io/warnings/venv\u001b[0m\n",
      "\u001b[33mWARNING: You are using pip version 21.2.4; however, version 21.3.1 is available.\n",
      "You should consider upgrading via the '/opt/conda/bin/python -m pip install --upgrade pip' command.\u001b[0m\n"
     ]
    }
   ],
   "source": [
    "!pip install mediapipe"
   ]
  },
  {
   "cell_type": "code",
   "execution_count": 3,
   "metadata": {},
   "outputs": [
    {
     "name": "stdout",
     "output_type": "stream",
     "text": [
      "Get:1 http://security.debian.org/debian-security buster/updates InRelease [65.4 kB]\n",
      "Hit:2 http://deb.debian.org/debian buster InRelease       \n",
      "Get:3 http://deb.debian.org/debian buster-updates InRelease [51.9 kB]\n",
      "Fetched 117 kB in 0s (445 kB/s)      \n",
      "Reading package lists... Done\n",
      "Reading package lists... Done\n",
      "Building dependency tree       \n",
      "Reading state information... Done\n",
      "python3-opencv is already the newest version (3.2.0+dfsg-6).\n",
      "0 upgraded, 0 newly installed, 0 to remove and 50 not upgraded.\n"
     ]
    }
   ],
   "source": [
    "!apt-get update && apt-get install -y python3-opencv"
   ]
  },
  {
   "cell_type": "code",
   "execution_count": 4,
   "metadata": {},
   "outputs": [
    {
     "name": "stdout",
     "output_type": "stream",
     "text": [
      "/opt/conda/lib/python3.7/site-packages/secretstorage/dhcrypto.py:16: CryptographyDeprecationWarning: int_from_bytes is deprecated, use int.from_bytes instead\n",
      "  from cryptography.utils import int_from_bytes\n",
      "/opt/conda/lib/python3.7/site-packages/secretstorage/util.py:25: CryptographyDeprecationWarning: int_from_bytes is deprecated, use int.from_bytes instead\n",
      "  from cryptography.utils import int_from_bytes\n",
      "\u001b[33mWARNING: Running pip as the 'root' user can result in broken permissions and conflicting behaviour with the system package manager. It is recommended to use a virtual environment instead: https://pip.pypa.io/warnings/venv\u001b[0m\n",
      "\u001b[33mWARNING: You are using pip version 21.2.4; however, version 21.3.1 is available.\n",
      "You should consider upgrading via the '/opt/conda/bin/python -m pip install --upgrade pip' command.\u001b[0m\n"
     ]
    }
   ],
   "source": [
    "!cd yolov5 && pip install -r requirements.txt > /dev/null"
   ]
  },
  {
   "cell_type": "code",
   "execution_count": 18,
   "metadata": {},
   "outputs": [],
   "source": [
    "import os\n",
    "import json\n",
    "import torch\n",
    "import cv2\n",
    "from tqdm import tqdm\n",
    "\n",
    "\n",
    "from detection.yolov5.utils.general import non_max_suppression, scale_coords, xyxy2xywh\n",
    "from detection.yolov5.utils.augmentations import letterbox\n",
    "from detection.yolov5.models.experimental import attempt_load\n",
    "\n",
    "image_dic = dict()\n",
    "\n",
    "def preprocess(path_to_img, img_size, device):\n",
    "    print(path_to_img)\n",
    "    orig_img = cv2.imread(path_to_img)\n",
    "    print(orig_img.shape)\n",
    "    orig_img = cv2.cvtColor(orig_img, cv2.COLOR_BGR2RGB)\n",
    "    img = letterbox(orig_img, img_size, auto=False)[0]\n",
    "    img = img.transpose(2, 0, 1)\n",
    "    img_tensor = torch.from_numpy(img).float().to(device)\n",
    "    img_tensor /= 255\n",
    "    img_tensor = img_tensor.unsqueeze(0)\n",
    "    return img_tensor, list(orig_img.shape), list(img_tensor.shape)\n",
    "\n",
    "\n",
    "def postprocess(\n",
    "    out,\n",
    "    tensor_shape,\n",
    "    orig_shape,\n",
    "    path_to_img,\n",
    "    conf_thres=0.6,\n",
    "    iou_thres=0.6,\n",
    "    counter = 1,\n",
    "):\n",
    "    out = non_max_suppression(out, conf_thres, iou_thres)\n",
    "    img_predict = []\n",
    "    \n",
    "    for pred in out:\n",
    "        pred[:, :4] = scale_coords(tensor_shape[2:], pred[:, :4], orig_shape).round()\n",
    "        box = xyxy2xywh(pred[:, :4])  # xywh\n",
    "        box[:, :2] -= box[:, 2:] / 2\n",
    "        for p, b in zip(pred.tolist(), box.tolist()):\n",
    "            img_predict.append(\n",
    "                {\n",
    "                    \"id\" : counter,\n",
    "                    \"image_id\": int(1),\n",
    "                    \"category_id\": 1,\n",
    "                    \"segmentation\":[],\n",
    "                    \"area\":b[2] * b[3],\n",
    "                    \"bbox\": [int(x) for x in b],\n",
    "                    \"iscrowd\": 0,\n",
    "                    \"attributes\":{\"occluded\":False}\n",
    "                }\n",
    "            )\n",
    "            counter += 1\n",
    "    return img_predict, counter\n",
    "\n",
    "\n",
    "def get_img_predict(model, path_to_img, device, img_size, counter = 1):\n",
    "    img_tensor, orig_shape, tensor_shape = preprocess(path_to_img, img_size, device)\n",
    "    with torch.no_grad():\n",
    "        out, _ = model(img_tensor, augment=False)\n",
    "    img_predict, counter = postprocess(out, tensor_shape, orig_shape, path_to_img,counter = counter)\n",
    "    return img_predict, counter\n",
    "\n",
    "\n",
    "def get_detection_solution(\n",
    "    path_to_weights ='yolov5/runs/train/exp2048/weights/best.pt' , path_to_test_images = \"data_task2/test/images\", path_to_dt_ann = 'detection_predictions.json', device = None, img_size = 2048,\n",
    "    sample_path = 'data_task2/submission_example.json'\n",
    "):\n",
    "    detect_model = attempt_load(path_to_weights, map_location=device)\n",
    "    detect_model.eval()\n",
    "    result = []\n",
    "    counter = 1\n",
    "    file_name = path_to_test_images\n",
    "    img_predict, counter = get_img_predict(\n",
    "        detect_model, path_to_test_images, device, img_size, counter\n",
    "    )\n",
    "    return img_predict\n"
   ]
  },
  {
   "cell_type": "code",
   "execution_count": 1,
   "metadata": {},
   "outputs": [],
   "source": [
    "import os\n",
    "import numpy as np\n",
    "import pandas as pd\n",
    "\n",
    "IMG_LIST = os.listdir('data_task2/train/images')"
   ]
  },
  {
   "cell_type": "code",
   "execution_count": 2,
   "metadata": {},
   "outputs": [],
   "source": [
    "labels = []\n",
    "names = []\n",
    "for i in IMG_LIST:\n",
    "    if '.jpg' in i:\n",
    "        if 'violation' in i:\n",
    "            labels.append(0)\n",
    "        else:\n",
    "            labels.append(1)\n",
    "        names.append(i)"
   ]
  },
  {
   "cell_type": "code",
   "execution_count": 3,
   "metadata": {},
   "outputs": [],
   "source": [
    "data= {'img_id':names,'label':labels}\n",
    "df = pd.DataFrame(data, columns=['img_id','label'])"
   ]
  },
  {
   "cell_type": "code",
   "execution_count": 12,
   "metadata": {},
   "outputs": [
    {
     "data": {
      "image/png": "[encoded data removed]",
      "text/plain": [
       "<Figure size 432x288 with 1 Axes>"
      ]
     },
     "metadata": {
      "needs_background": "light"
     },
     "output_type": "display_data"
    }
   ],
   "source": [
    "import cv2\n",
    "import math\n",
    "import numpy as np\n",
    "import matplotlib.pyplot as plt\n",
    "DESIRED_HEIGHT = 1080\n",
    "DESIRED_WIDTH = 1920\n",
    "def resize_and_show(image):\n",
    "    h, w = image.shape[:2]\n",
    "    if h < w:\n",
    "        img = cv2.resize(image, (DESIRED_WIDTH, math.floor(h/(w/DESIRED_WIDTH))))\n",
    "    else:\n",
    "        img = cv2.resize(image, (math.floor(w/(h/DESIRED_HEIGHT)), DESIRED_HEIGHT))\n",
    "    plt.imshow(img)\n",
    "    plt.axis(\"off\")\n",
    "\n",
    "\n",
    "image = cv2.imread('data_task2/train/images/' + df['img_id'].iloc[0])  \n",
    "resize_and_show(image)"
   ]
  },
  {
   "cell_type": "code",
   "execution_count": 10,
   "metadata": {},
   "outputs": [],
   "source": [
    "import mediapipe as mp\n",
    "mp_pose = mp.solutions.pose\n",
    "mp_drawing = mp.solutions.drawing_utils \n",
    "mp_drawing_styles = mp.solutions.drawing_styles"
   ]
  },
  {
   "cell_type": "code",
   "execution_count": 19,
   "metadata": {},
   "outputs": [
    {
     "name": "stdout",
     "output_type": "stream",
     "text": [
      "data_task2/train/images/am3_5_frame110.jpg\n",
      "(1080, 1920, 3)\n"
     ]
    },
    {
     "data": {
      "image/png": "[encoded data removed]",
      "text/plain": [
       "<Figure size 432x288 with 1 Axes>"
      ]
     },
     "metadata": {
      "needs_background": "light"
     },
     "output_type": "display_data"
    }
   ],
   "source": [
    "with mp_pose.Pose(\n",
    "    static_image_mode=True, min_detection_confidence=0.5, model_complexity=2) as pose:\n",
    "    # Convert the BGR image to RGB and process it with MediaPipe Pose.\n",
    "    img_predict = get_detection_solution(path_to_test_images = 'data_task2/train/images/' + df['img_id'].iloc[0])\n",
    "    for i in img_predict:\n",
    "        box = i['bbox']\n",
    "        img1 = image[box[1]:box[1] + box[3],box[0]:box[0] + box[2],:]\n",
    "        results = pose.process(cv2.cvtColor(img1, cv2.COLOR_BGR2RGB))\n",
    "\n",
    "        # Print nose landmark.\n",
    "        image_hight, image_width, _ = img1.shape\n",
    "        annotated_image = img1.copy()\n",
    "        mp_drawing.draw_landmarks(\n",
    "            annotated_image,\n",
    "            results.pose_landmarks,\n",
    "            mp_pose.POSE_CONNECTIONS,\n",
    "            landmark_drawing_spec=mp_drawing_styles.get_default_pose_landmarks_style())\n",
    "        image[box[1]:box[1] + box[3],box[0]:box[0] + box[2],:] = annotated_image\n",
    "resize_and_show(image)"
   ]
  },
  {
   "cell_type": "code",
   "execution_count": 25,
   "metadata": {
    "collapsed": true,
    "jupyter": {
     "outputs_hidden": true
    }
   },
   "outputs": [
    {
     "name": "stdout",
     "output_type": "stream",
     "text": [
      "data_task2/train/images/am3_5_frame110.jpg\n",
      "(1080, 1920, 3)\n",
      "data_task2/train/images/oz7_frame511.jpg\n",
      "(1080, 1920, 3)\n",
      "data_task2/train/images/am3_6_violation_frame058.jpg\n",
      "(1080, 1920, 3)\n",
      "data_task2/train/images/oz7_frame430.jpg\n",
      "(1080, 1920, 3)\n",
      "data_task2/train/images/am3_9_violation_frame127.jpg\n",
      "(1080, 1920, 3)\n",
      "data_task2/train/images/am3_1_frame015.jpg\n",
      "(1080, 1920, 3)\n",
      "data_task2/train/images/oz7_frame016.jpg\n",
      "(1080, 1920, 3)\n",
      "data_task2/train/images/oz_frame527.jpg\n",
      "(1080, 1920, 3)\n",
      "data_task2/train/images/oz_frame446.jpg\n",
      "(1080, 1920, 3)\n",
      "data_task2/train/images/oz_frame086.jpg\n",
      "(1080, 1920, 3)\n",
      "data_task2/train/images/oz7_frame052.jpg\n",
      "(1080, 1920, 3)\n",
      "data_task2/train/images/oz7_frame241.jpg\n",
      "(1080, 1920, 3)\n",
      "data_task2/train/images/oz7_frame403.jpg\n",
      "(1080, 1920, 3)\n",
      "data_task2/train/images/oz_frame590.jpg\n",
      "(1080, 1920, 3)\n",
      "data_task2/train/images/am3_1_frame006.jpg\n",
      "(1080, 1920, 3)\n",
      "data_task2/train/images/oz_frame518.jpg\n",
      "(1080, 1920, 3)\n",
      "data_task2/train/images/oz7_frame520.jpg\n",
      "(1080, 1920, 3)\n",
      "data_task2/train/images/oz_frame158.jpg\n",
      "(1080, 1920, 3)\n",
      "data_task2/train/images/oz_frame077.jpg\n",
      "(1080, 1920, 3)\n",
      "data_task2/train/images/am3_1_frame042.jpg\n",
      "(1080, 1920, 3)\n",
      "data_task2/train/images/oz_frame554.jpg\n",
      "(1080, 1920, 3)\n",
      "data_task2/train/images/oz7_frame043.jpg\n",
      "(1080, 1920, 3)\n",
      "data_task2/train/images/oz7_violation_frame559.jpg\n",
      "(1080, 1920, 3)\n",
      "data_task2/train/images/oz7_frame502.jpg\n",
      "(1080, 1920, 3)\n",
      "data_task2/train/images/am3_6_frame089.jpg\n",
      "(1080, 1920, 3)\n",
      "data_task2/train/images/am3_5_frame020.jpg\n",
      "(1080, 1920, 3)\n",
      "data_task2/train/images/oz_frame572.jpg\n",
      "(1080, 1920, 3)\n",
      "data_task2/train/images/oz7_violation_frame434.jpg\n",
      "(1080, 1920, 3)\n",
      "data_task2/train/images/oz7_frame555.jpg\n",
      "(1080, 1920, 3)\n",
      "data_task2/train/images/oz_frame150.jpg\n",
      "(1080, 1920, 3)\n",
      "data_task2/train/images/oz7_frame438.jpg\n",
      "(1080, 1920, 3)\n",
      "data_task2/train/images/oz_violation_frame486.jpg\n",
      "(1080, 1920, 3)\n",
      "data_task2/train/images/oz7_violation_frame056.jpg\n",
      "(1080, 1920, 3)\n",
      "data_task2/train/images/oz_frame132.jpg\n",
      "(1080, 1920, 3)\n",
      "data_task2/train/images/oz7_frame096.jpg\n",
      "(1080, 1920, 3)\n",
      "data_task2/train/images/am3_4_frame065.jpg\n",
      "(1080, 1920, 3)\n",
      "data_task2/train/images/am3_7_frame116.jpg\n",
      "(1080, 1920, 3)\n",
      "data_task2/train/images/oz7_frame492.jpg\n",
      "(1080, 1920, 3)\n",
      "data_task2/train/images/oz7_frame375.jpg\n",
      "(1080, 1920, 3)\n",
      "data_task2/train/images/oz7_frame537.jpg\n",
      "(1080, 1920, 3)\n",
      "data_task2/train/images/oz7_frame456.jpg\n",
      "(1080, 1920, 3)\n",
      "data_task2/train/images/am3_7_frame071.jpg\n",
      "(1080, 1920, 3)\n",
      "data_task2/train/images/am3_7_frame152.jpg\n",
      "(1080, 1920, 3)\n",
      "data_task2/train/images/am3_5_frame091.jpg\n",
      "(1080, 1920, 3)\n",
      "data_task2/train/images/am3_5_violation_frame114.jpg\n",
      "(1080, 1920, 3)\n",
      "data_task2/train/images/am3_4_frame056.jpg\n",
      "(1080, 1920, 3)\n",
      "data_task2/train/images/am3_9_violation_frame101.jpg\n",
      "(1080, 1920, 3)\n",
      "data_task2/train/images/oz7_frame564.jpg\n",
      "(1080, 1920, 3)\n",
      "data_task2/train/images/oz7_frame483.jpg\n",
      "(1080, 1920, 3)\n",
      "data_task2/train/images/oz_frame600.jpg\n",
      "(1080, 1920, 3)\n",
      "data_task2/train/images/am3_7_frame107.jpg\n",
      "(1080, 1920, 3)\n",
      "data_task2/train/images/oz7_violation_frame407.jpg\n",
      "(1080, 1920, 3)\n",
      "data_task2/train/images/oz7_frame528.jpg\n",
      "(1080, 1920, 3)\n",
      "data_task2/train/images/am3_7_frame062.jpg\n",
      "(1080, 1920, 3)\n",
      "data_task2/train/images/am3_6_frame054.jpg\n",
      "(1080, 1920, 3)\n",
      "data_task2/train/images/oz7_frame429.jpg\n",
      "(1080, 1920, 3)\n",
      "data_task2/train/images/am3_4_frame074.jpg\n",
      "(1080, 1920, 3)\n",
      "data_task2/train/images/oz_frame060.jpg\n",
      "(1080, 1920, 3)\n",
      "data_task2/train/images/oz_frame501.jpg\n",
      "(1080, 1920, 3)\n",
      "data_task2/train/images/oz7_frame069.jpg\n",
      "(1080, 1920, 3)\n",
      "data_task2/train/images/oz_frame024.jpg\n",
      "(1080, 1920, 3)\n",
      "data_task2/train/images/oz_frame499.jpg\n",
      "(1080, 1920, 3)\n",
      "data_task2/train/images/oz7_frame074.jpg\n",
      "(1080, 1920, 3)\n",
      "data_task2/train/images/am3_6_frame023.jpg\n",
      "(1080, 1920, 3)\n",
      "data_task2/train/images/am3_9_violation_frame086.jpg\n",
      "(1080, 1920, 3)\n",
      "data_task2/train/images/oz7_frame470.jpg\n",
      "(1080, 1920, 3)\n",
      "data_task2/train/images/am3_1_frame037.jpg\n",
      "(1080, 1920, 3)\n",
      "data_task2/train/images/oz7_frame515.jpg\n",
      "(1080, 1920, 3)\n",
      "data_task2/train/images/am3_3_frame017.jpg\n",
      "(1080, 1920, 3)\n",
      "data_task2/train/images/oz_violation_frame563.jpg\n",
      "(1080, 1920, 3)\n",
      "data_task2/train/images/oz7_frame038.jpg\n",
      "(1080, 1920, 3)\n",
      "data_task2/train/images/am3_6_frame041.jpg\n",
      "(1080, 1920, 3)\n",
      "data_task2/train/images/oz_violation_frame545.jpg\n",
      "(1080, 1920, 3)\n",
      "data_task2/train/images/oz7_frame371.jpg\n",
      "(1080, 1920, 3)\n",
      "data_task2/train/images/oz7_frame083.jpg\n",
      "(1080, 1920, 3)\n",
      "data_task2/train/images/oz7_frame560.jpg\n",
      "(1080, 1920, 3)\n",
      "data_task2/train/images/am3_5_frame123.jpg\n",
      "(1080, 1920, 3)\n",
      "data_task2/train/images/oz7_frame443.jpg\n",
      "(1080, 1920, 3)\n",
      "data_task2/train/images/am3_3_frame026.jpg\n",
      "(1080, 1920, 3)\n",
      "data_task2/train/images/oz7_frame524.jpg\n",
      "(1080, 1920, 3)\n",
      "data_task2/train/images/oz_frame477.jpg\n",
      "(1080, 1920, 3)\n",
      "data_task2/train/images/oz_frame558.jpg\n",
      "(1080, 1920, 3)\n",
      "data_task2/train/images/oz7_frame047.jpg\n",
      "(1080, 1920, 3)\n",
      "data_task2/train/images/am3_1_frame028.jpg\n",
      "(1080, 1920, 3)\n",
      "data_task2/train/images/oz7_frame425.jpg\n",
      "(1080, 1920, 3)\n",
      "data_task2/train/images/am3_4_frame070.jpg\n",
      "(1080, 1920, 3)\n",
      "data_task2/train/images/oz7_frame506.jpg\n",
      "(1080, 1920, 3)\n",
      "data_task2/train/images/am3_7_frame040.jpg\n",
      "(1080, 1920, 3)\n",
      "data_task2/train/images/am3_5_frame024.jpg\n",
      "(1080, 1920, 3)\n",
      "data_task2/train/images/am3_7_frame004.jpg\n",
      "(1080, 1920, 3)\n",
      "data_task2/train/images/oz7_frame065.jpg\n",
      "(1080, 1920, 3)\n",
      "data_task2/train/images/oz7_frame478.jpg\n",
      "(1080, 1920, 3)\n",
      "data_task2/train/images/oz7_violation_frame519.jpg\n",
      "(1080, 1920, 3)\n",
      "data_task2/train/images/oz7_frame003.jpg\n",
      "(1080, 1920, 3)\n",
      "data_task2/train/images/am3_6_frame067.jpg\n",
      "(1080, 1920, 3)\n",
      "data_task2/train/images/am3_7_frame138.jpg\n",
      "(1080, 1920, 3)\n",
      "data_task2/train/images/am3_7_frame057.jpg\n",
      "(1080, 1920, 3)\n",
      "data_task2/train/images/am3_9_frame118.jpg\n",
      "(1080, 1920, 3)\n",
      "data_task2/train/images/am3_4_frame069.jpg\n",
      "(1080, 1920, 3)\n",
      "data_task2/train/images/am3_6_frame049.jpg\n",
      "(1080, 1920, 3)\n",
      "data_task2/train/images/oz7_frame496.jpg\n",
      "(1080, 1920, 3)\n",
      "data_task2/train/images/oz7_frame379.jpg\n",
      "(1080, 1920, 3)\n",
      "data_task2/train/images/oz_frame172.jpg\n",
      "(1080, 1920, 3)\n",
      "data_task2/train/images/am3_9_frame055.jpg\n",
      "(1080, 1920, 3)\n",
      "data_task2/train/images/oz_frame442.jpg\n",
      "(1080, 1920, 3)\n",
      "data_task2/train/images/oz_frame604.jpg\n",
      "(1080, 1920, 3)\n",
      "data_task2/train/images/oz7_frame487.jpg\n",
      "(1080, 1920, 3)\n",
      "data_task2/train/images/oz_frame082.jpg\n",
      "(1080, 1920, 3)\n",
      "data_task2/train/images/am3_9_frame046.jpg\n",
      "(1080, 1920, 3)\n",
      "data_task2/train/images/oz_violation_frame105.jpg\n",
      "(1080, 1920, 3)\n",
      "data_task2/train/images/am3_7_frame066.jpg\n",
      "(1080, 1920, 3)\n",
      "data_task2/train/images/oz_frame145.jpg\n",
      "(1080, 1920, 3)\n",
      "data_task2/train/images/am3_5_frame068.jpg\n",
      "(1080, 1920, 3)\n",
      "data_task2/train/images/am3_9_frame109.jpg\n",
      "(1080, 1920, 3)\n",
      "data_task2/train/images/am3_7_violation_frame143.jpg\n",
      "(1080, 1920, 3)\n",
      "data_task2/train/images/oz_frame505.jpg\n",
      "(1080, 1920, 3)\n",
      "data_task2/train/images/oz_frame109.jpg\n",
      "(1080, 1920, 3)\n",
      "data_task2/train/images/am3_7_frame084.jpg\n",
      "(1080, 1920, 3)\n",
      "data_task2/train/images/am3_5_frame031.jpg\n",
      "(1080, 1920, 3)\n",
      "data_task2/train/images/am3_6_frame021.jpg\n",
      "(1080, 1920, 3)\n",
      "data_task2/train/images/oz_violation_frame561.jpg\n",
      "(1080, 1920, 3)\n",
      "data_task2/train/images/oz_frame547.jpg\n",
      "(1080, 1920, 3)\n",
      "data_task2/train/images/am3_9_violation_frame129.jpg\n",
      "(1080, 1920, 3)\n",
      "data_task2/train/images/oz7_frame513.jpg\n",
      "(1080, 1920, 3)\n",
      "data_task2/train/images/am3_1_frame035.jpg\n",
      "(1080, 1920, 3)\n",
      "data_task2/train/images/oz_frame448.jpg\n",
      "(1080, 1920, 3)\n",
      "data_task2/train/images/oz_violation_frame543.jpg\n",
      "(1080, 1920, 3)\n",
      "data_task2/train/images/oz_frame529.jpg\n",
      "(1080, 1920, 3)\n",
      "data_task2/train/images/oz7_frame018.jpg\n",
      "(1080, 1920, 3)\n",
      "data_task2/train/images/oz7_frame090.jpg\n",
      "(1080, 1920, 3)\n",
      "data_task2/train/images/oz7_frame054.jpg\n",
      "(1080, 1920, 3)\n",
      "data_task2/train/images/oz7_frame450.jpg\n",
      "(1080, 1920, 3)\n",
      "data_task2/train/images/oz_frame439.jpg\n",
      "(1080, 1920, 3)\n",
      "data_task2/train/images/am3_5_frame040.jpg\n",
      "(1080, 1920, 3)\n",
      "data_task2/train/images/am3_7_frame020.jpg\n",
      "(1080, 1920, 3)\n",
      "data_task2/train/images/oz7_frame081.jpg\n",
      "(1080, 1920, 3)\n",
      "data_task2/train/images/oz_frame475.jpg\n",
      "(1080, 1920, 3)\n",
      "data_task2/train/images/oz7_frame045.jpg\n",
      "(1080, 1920, 3)\n",
      "data_task2/train/images/oz_frame556.jpg\n",
      "(1080, 1920, 3)\n",
      "data_task2/train/images/oz7_frame522.jpg\n",
      "(1080, 1920, 3)\n",
      "data_task2/train/images/am3_3_frame024.jpg\n",
      "(1080, 1920, 3)\n",
      "data_task2/train/images/oz_frame538.jpg\n",
      "(1080, 1920, 3)\n",
      "data_task2/train/images/oz7_frame504.jpg\n",
      "(1080, 1920, 3)\n",
      "data_task2/train/images/oz7_frame423.jpg\n",
      "(1080, 1920, 3)\n",
      "data_task2/train/images/oz7_violation_frame498.jpg\n",
      "(1080, 1920, 3)\n",
      "data_task2/train/images/oz_frame097.jpg\n",
      "(1080, 1920, 3)\n",
      "data_task2/train/images/oz_frame431.jpg\n",
      "(1080, 1920, 3)\n",
      "data_task2/train/images/am3_5_frame039.jpg\n",
      "(1080, 1920, 3)\n",
      "data_task2/train/images/oz7_violation_frame517.jpg\n",
      "(1080, 1920, 3)\n",
      "data_task2/train/images/oz7_frame001.jpg\n",
      "(1080, 1920, 3)\n",
      "data_task2/train/images/oz_frame116.jpg\n",
      "(1080, 1920, 3)\n",
      "data_task2/train/images/am3_4_frame049.jpg\n",
      "(1080, 1920, 3)\n",
      "data_task2/train/images/am3_9_frame035.jpg\n",
      "(1080, 1920, 3)\n",
      "data_task2/train/images/am3_9_violation_frame130.jpg\n",
      "(1080, 1920, 3)\n",
      "data_task2/train/images/am3_7_frame118.jpg\n",
      "(1080, 1920, 3)\n",
      "data_task2/train/images/oz_frame134.jpg\n",
      "(1080, 1920, 3)\n",
      "data_task2/train/images/oz7_frame098.jpg\n",
      "(1080, 1920, 3)\n",
      "data_task2/train/images/am3_5_frame093.jpg\n",
      "(1080, 1920, 3)\n",
      "data_task2/train/images/am3_7_frame073.jpg\n",
      "(1080, 1920, 3)\n",
      "data_task2/train/images/am3_9_frame134.jpg\n",
      "(1080, 1920, 3)\n",
      "data_task2/train/images/oz_frame170.jpg\n",
      "(1080, 1920, 3)\n",
      "data_task2/train/images/oz_frame440.jpg\n",
      "(1080, 1920, 3)\n",
      "data_task2/train/images/oz_frame602.jpg\n",
      "(1080, 1920, 3)\n",
      "data_task2/train/images/am3_9_violation_frame103.jpg\n",
      "(1080, 1920, 3)\n",
      "data_task2/train/images/oz_frame125.jpg\n",
      "(1080, 1920, 3)\n",
      "data_task2/train/images/oz_frame044.jpg\n",
      "(1080, 1920, 3)\n",
      "data_task2/train/images/am3_4_frame058.jpg\n",
      "(1080, 1920, 3)\n",
      "data_task2/train/images/am3_7_frame064.jpg\n",
      "(1080, 1920, 3)\n",
      "data_task2/train/images/am3_9_frame125.jpg\n",
      "(1080, 1920, 3)\n",
      "data_task2/train/images/oz7_frame449.jpg\n",
      "(1080, 1920, 3)\n",
      "data_task2/train/images/am3_9_frame026.jpg\n",
      "(1080, 1920, 3)\n",
      "data_task2/train/images/am3_9_frame107.jpg\n",
      "(1080, 1920, 3)\n",
      "data_task2/train/images/am3_6_frame056.jpg\n",
      "(1080, 1920, 3)\n",
      "data_task2/train/images/oz_frame305.jpg\n",
      "(1080, 1920, 3)\n",
      "data_task2/train/images/oz_frame062.jpg\n",
      "(1080, 1920, 3)\n",
      "data_task2/train/images/oz_frame107.jpg\n",
      "(1080, 1920, 3)\n",
      "data_task2/train/images/am3_7_frame082.jpg\n",
      "(1080, 1920, 3)\n",
      "data_task2/train/images/oz_frame503.jpg\n",
      "(1080, 1920, 3)\n",
      "data_task2/train/images/am3_7_violation_frame141.jpg\n",
      "(1080, 1920, 3)\n",
      "data_task2/train/images/oz7_frame467.jpg\n",
      "(1080, 1920, 3)\n",
      "data_task2/train/images/oz7_violation_frame432.jpg\n",
      "(1080, 1920, 3)\n",
      "data_task2/train/images/am3_5_frame116.jpg\n",
      "(1080, 1920, 3)\n",
      "data_task2/train/images/am3_7_frame015.jpg\n",
      "(1080, 1920, 3)\n",
      "data_task2/train/images/oz7_frame553.jpg\n",
      "(1080, 1920, 3)\n",
      "data_task2/train/images/oz7_frame472.jpg\n",
      "(1080, 1920, 3)\n",
      "data_task2/train/images/am3_5_frame035.jpg\n",
      "(1080, 1920, 3)\n",
      "data_task2/train/images/oz7_frame076.jpg\n",
      "(1080, 1920, 3)\n",
      "data_task2/train/images/oz_frame112.jpg\n",
      "(1080, 1920, 3)\n",
      "data_task2/train/images/am3_9_frame112.jpg\n",
      "(1080, 1920, 3)\n",
      "data_task2/train/images/oz_violation_frame484.jpg\n",
      "(1080, 1920, 3)\n",
      "data_task2/train/images/oz7_frame436.jpg\n",
      "(1080, 1920, 3)\n",
      "data_task2/train/images/am3_7_frame114.jpg\n",
      "(1080, 1920, 3)\n",
      "data_task2/train/images/oz7_frame490.jpg\n",
      "(1080, 1920, 3)\n",
      "data_task2/train/images/oz7_frame094.jpg\n",
      "(1080, 1920, 3)\n",
      "data_task2/train/images/am3_4_frame063.jpg\n",
      "(1080, 1920, 3)\n",
      "data_task2/train/images/oz_frame130.jpg\n",
      "(1080, 1920, 3)\n",
      "data_task2/train/images/oz7_frame058.jpg\n",
      "(1080, 1920, 3)\n",
      "data_task2/train/images/oz_frame013.jpg\n",
      "(1080, 1920, 3)\n",
      "data_task2/train/images/am3_5_violation_frame112.jpg\n",
      "(1080, 1920, 3)\n",
      "data_task2/train/images/oz_frame488.jpg\n",
      "(1080, 1920, 3)\n",
      "data_task2/train/images/oz7_frame454.jpg\n",
      "(1080, 1920, 3)\n",
      "data_task2/train/images/oz7_frame535.jpg\n",
      "(1080, 1920, 3)\n",
      "data_task2/train/images/oz7_frame373.jpg\n",
      "(1080, 1920, 3)\n",
      "data_task2/train/images/oz7_violation_frame441.jpg\n",
      "(1080, 1920, 3)\n",
      "data_task2/train/images/oz7_frame562.jpg\n",
      "(1080, 1920, 3)\n",
      "data_task2/train/images/oz7_frame481.jpg\n",
      "(1080, 1920, 3)\n",
      "data_task2/train/images/oz_frame040.jpg\n",
      "(1080, 1920, 3)\n",
      "data_task2/train/images/oz7_frame247.jpg\n",
      "(1080, 1920, 3)\n",
      "data_task2/train/images/oz_frame121.jpg\n",
      "(1080, 1920, 3)\n",
      "data_task2/train/images/oz7_frame049.jpg\n",
      "(1080, 1920, 3)\n",
      "data_task2/train/images/oz7_frame445.jpg\n",
      "(1080, 1920, 3)\n",
      "data_task2/train/images/oz7_frame526.jpg\n",
      "(1080, 1920, 3)\n",
      "data_task2/train/images/am3_3_frame028.jpg\n",
      "(1080, 1920, 3)\n",
      "data_task2/train/images/oz7_violation_frame405.jpg\n",
      "(1080, 1920, 3)\n",
      "data_task2/train/images/oz7_frame427.jpg\n",
      "(1080, 1920, 3)\n",
      "data_task2/train/images/oz7_frame508.jpg\n",
      "(1080, 1920, 3)\n",
      "data_task2/train/images/oz_frame497.jpg\n",
      "(1080, 1920, 3)\n",
      "data_task2/train/images/oz7_frame463.jpg\n",
      "(1080, 1920, 3)\n",
      "data_task2/train/images/oz7_frame399.jpg\n",
      "(1080, 1920, 3)\n",
      "data_task2/train/images/oz_frame516.jpg\n",
      "(1080, 1920, 3)\n",
      "data_task2/train/images/am3_1_frame004.jpg\n",
      "(1080, 1920, 3)\n",
      "data_task2/train/images/oz7_violation_frame476.jpg\n",
      "(1080, 1920, 3)\n",
      "data_task2/train/images/oz_frame552.jpg\n",
      "(1080, 1920, 3)\n",
      "data_task2/train/images/oz_frame471.jpg\n",
      "(1080, 1920, 3)\n",
      "data_task2/train/images/oz_frame075.jpg\n",
      "(1080, 1920, 3)\n",
      "data_task2/train/images/am3_1_frame040.jpg\n",
      "(1080, 1920, 3)\n",
      "data_task2/train/images/oz_frame534.jpg\n",
      "(1080, 1920, 3)\n",
      "data_task2/train/images/am3_9_frame057.jpg\n",
      "(1080, 1920, 3)\n",
      "data_task2/train/images/oz_frame525.jpg\n",
      "(1080, 1920, 3)\n",
      "data_task2/train/images/oz_frame444.jpg\n",
      "(1080, 1920, 3)\n",
      "data_task2/train/images/oz7_frame410.jpg\n",
      "(1080, 1920, 3)\n",
      "data_task2/train/images/oz_frame129.jpg\n",
      "(1080, 1920, 3)\n",
      "data_task2/train/images/am3_9_frame084.jpg\n",
      "(1080, 1920, 3)\n",
      "data_task2/train/images/oz7_frame050.jpg\n",
      "(1080, 1920, 3)\n",
      "data_task2/train/images/oz_frame480.jpg\n",
      "(1080, 1920, 3)\n",
      "data_task2/train/images/am3_7_frame149.jpg\n",
      "(1080, 1920, 3)\n",
      "data_task2/train/images/am3_9_frame048.jpg\n",
      "(1080, 1920, 3)\n",
      "data_task2/train/images/oz_frame624.jpg\n",
      "(1080, 1920, 3)\n",
      "data_task2/train/images/oz_frame147.jpg\n",
      "(1080, 1920, 3)\n",
      "data_task2/train/images/am3_9_frame066.jpg\n",
      "(1080, 1920, 3)\n",
      "data_task2/train/images/oz_frame426.jpg\n",
      "(1080, 1920, 3)\n",
      "data_task2/train/images/oz_violation_frame521.jpg\n",
      "(1080, 1920, 3)\n",
      "data_task2/train/images/oz7_frame035.jpg\n",
      "(1080, 1920, 3)\n",
      "data_task2/train/images/am3_9_violation_frame128.jpg\n",
      "(1080, 1920, 3)\n",
      "data_task2/train/images/oz_frame546.jpg\n",
      "(1080, 1920, 3)\n",
      "data_task2/train/images/oz_violation_frame560.jpg\n",
      "(1080, 1920, 3)\n",
      "data_task2/train/images/oz7_frame431.jpg\n",
      "(1080, 1920, 3)\n",
      "data_task2/train/images/am3_6_frame020.jpg\n",
      "(1080, 1920, 3)\n",
      "data_task2/train/images/oz7_frame071.jpg\n",
      "(1080, 1920, 3)\n",
      "data_task2/train/images/oz_frame582.jpg\n",
      "(1080, 1920, 3)\n",
      "data_task2/train/images/am3_4_frame040.jpg\n",
      "(1080, 1920, 3)\n",
      "data_task2/train/images/am3_7_frame010.jpg\n",
      "(1080, 1920, 3)\n",
      "data_task2/train/images/oz_frame429.jpg\n",
      "(1080, 1920, 3)\n",
      "data_task2/train/images/oz7_frame530.jpg\n",
      "(1080, 1920, 3)\n",
      "data_task2/train/images/am3_9_frame087.jpg\n",
      "(1080, 1920, 3)\n",
      "data_task2/train/images/oz_frame447.jpg\n",
      "(1080, 1920, 3)\n",
      "data_task2/train/images/oz_frame474.jpg\n",
      "(1080, 1920, 3)\n",
      "data_task2/train/images/oz_frame555.jpg\n",
      "(1080, 1920, 3)\n",
      "data_task2/train/images/am3_3_frame023.jpg\n",
      "(1080, 1920, 3)\n",
      "data_task2/train/images/oz_frame591.jpg\n",
      "(1080, 1920, 3)\n",
      "data_task2/train/images/oz7_frame404.jpg\n",
      "(1080, 1920, 3)\n",
      "data_task2/train/images/am3_1_frame007.jpg\n",
      "(1080, 1920, 3)\n",
      "data_task2/train/images/am3_6_frame110.jpg\n",
      "(1080, 1920, 3)\n",
      "data_task2/train/images/oz_frame519.jpg\n",
      "(1080, 1920, 3)\n",
      "data_task2/train/images/am3_5_frame120.jpg\n",
      "(1080, 1920, 3)\n",
      "data_task2/train/images/oz_violation_frame533.jpg\n",
      "(1080, 1920, 3)\n",
      "data_task2/train/images/oz_violation_frame452.jpg\n",
      "(1080, 1920, 3)\n",
      "data_task2/train/images/oz_frame438.jpg\n",
      "(1080, 1920, 3)\n",
      "data_task2/train/images/oz_violation_frame515.jpg\n",
      "(1080, 1920, 3)\n",
      "data_task2/train/images/oz7_frame503.jpg\n",
      "(1080, 1920, 3)\n",
      "data_task2/train/images/oz7_frame422.jpg\n",
      "(1080, 1920, 3)\n",
      "data_task2/train/images/oz_frame537.jpg\n",
      "(1080, 1920, 3)\n",
      "data_task2/train/images/oz7_frame026.jpg\n",
      "(1080, 1920, 3)\n",
      "data_task2/train/images/oz_frame618.jpg\n",
      "(1080, 1920, 3)\n",
      "data_task2/train/images/oz_frame456.jpg\n",
      "(1080, 1920, 3)\n",
      "data_task2/train/images/am3_9_frame034.jpg\n",
      "(1080, 1920, 3)\n",
      "data_task2/train/images/oz7_violation_frame471.jpg\n",
      "(1080, 1920, 3)\n",
      "data_task2/train/images/am3_6_frame064.jpg\n",
      "(1080, 1920, 3)\n",
      "data_task2/train/images/am3_4_frame048.jpg\n",
      "(1080, 1920, 3)\n",
      "data_task2/train/images/oz_frame034.jpg\n",
      "(1080, 1920, 3)\n",
      "data_task2/train/images/oz7_frame079.jpg\n",
      "(1080, 1920, 3)\n",
      "data_task2/train/images/oz7_violation_frame516.jpg\n",
      "(1080, 1920, 3)\n",
      "data_task2/train/images/oz7_frame475.jpg\n",
      "(1080, 1920, 3)\n",
      "data_task2/train/images/am3_7_frame153.jpg\n",
      "(1080, 1920, 3)\n",
      "data_task2/train/images/am3_5_frame092.jpg\n",
      "(1080, 1920, 3)\n",
      "data_task2/train/images/am3_7_frame072.jpg\n",
      "(1080, 1920, 3)\n",
      "data_task2/train/images/oz7_frame538.jpg\n",
      "(1080, 1920, 3)\n",
      "data_task2/train/images/oz7_frame376.jpg\n",
      "(1080, 1920, 3)\n",
      "data_task2/train/images/oz_frame133.jpg\n",
      "(1080, 1920, 3)\n",
      "data_task2/train/images/am3_4_frame066.jpg\n",
      "(1080, 1920, 3)\n",
      "data_task2/train/images/oz7_frame097.jpg\n",
      "(1080, 1920, 3)\n",
      "data_task2/train/images/am3_5_frame056.jpg\n",
      "(1080, 1920, 3)\n",
      "data_task2/train/images/am3_7_frame117.jpg\n",
      "(1080, 1920, 3)\n",
      "data_task2/train/images/oz7_frame493.jpg\n",
      "(1080, 1920, 3)\n",
      "data_task2/train/images/am3_9_frame043.jpg\n",
      "(1080, 1920, 3)\n",
      "data_task2/train/images/am3_9_frame124.jpg\n",
      "(1080, 1920, 3)\n",
      "data_task2/train/images/oz7_frame529.jpg\n",
      "(1080, 1920, 3)\n",
      "data_task2/train/images/oz7_violation_frame408.jpg\n",
      "(1080, 1920, 3)\n",
      "data_task2/train/images/oz_frame160.jpg\n",
      "(1080, 1920, 3)\n",
      "data_task2/train/images/oz7_frame448.jpg\n",
      "(1080, 1920, 3)\n",
      "data_task2/train/images/am3_4_frame057.jpg\n",
      "(1080, 1920, 3)\n",
      "data_task2/train/images/am3_7_frame027.jpg\n",
      "(1080, 1920, 3)\n",
      "data_task2/train/images/oz_frame601.jpg\n",
      "(1080, 1920, 3)\n",
      "data_task2/train/images/am3_9_frame061.jpg\n",
      "(1080, 1920, 3)\n",
      "data_task2/train/images/am3_7_frame009.jpg\n",
      "(1080, 1920, 3)\n",
      "data_task2/train/images/oz_frame502.jpg\n",
      "(1080, 1920, 3)\n",
      "data_task2/train/images/oz7_frame466.jpg\n",
      "(1080, 1920, 3)\n",
      "data_task2/train/images/oz_frame304.jpg\n",
      "(1080, 1920, 3)\n",
      "data_task2/train/images/am3_6_frame055.jpg\n",
      "(1080, 1920, 3)\n",
      "data_task2/train/images/oz_frame142.jpg\n",
      "(1080, 1920, 3)\n",
      "data_task2/train/images/am3_4_frame075.jpg\n",
      "(1080, 1920, 3)\n",
      "data_task2/train/images/am3_9_frame025.jpg\n",
      "(1080, 1920, 3)\n",
      "data_task2/train/images/oz_violation_frame478.jpg\n",
      "(1080, 1920, 3)\n",
      "data_task2/train/images/am3_9_frame111.jpg\n",
      "(1080, 1920, 3)\n",
      "data_task2/train/images/oz_violation_frame483.jpg\n",
      "(1080, 1920, 3)\n",
      "data_task2/train/images/oz7_frame435.jpg\n",
      "(1080, 1920, 3)\n",
      "data_task2/train/images/am3_3_frame018.jpg\n",
      "(1080, 1920, 3)\n",
      "data_task2/train/images/oz_frame030.jpg\n",
      "(1080, 1920, 3)\n",
      "data_task2/train/images/oz7_frame075.jpg\n",
      "(1080, 1920, 3)\n",
      "data_task2/train/images/oz_frame111.jpg\n",
      "(1080, 1920, 3)\n",
      "data_task2/train/images/am3_5_frame115.jpg\n",
      "(1080, 1920, 3)\n",
      "data_task2/train/images/oz_frame012.jpg\n",
      "(1080, 1920, 3)\n",
      "data_task2/train/images/oz7_violation_frame017.jpg\n",
      "(1080, 1920, 3)\n",
      "data_task2/train/images/oz_frame487.jpg\n",
      "(1080, 1920, 3)\n",
      "data_task2/train/images/oz7_frame453.jpg\n",
      "(1080, 1920, 3)\n",
      "data_task2/train/images/oz7_frame534.jpg\n",
      "(1080, 1920, 3)\n",
      "data_task2/train/images/oz7_frame093.jpg\n",
      "(1080, 1920, 3)\n",
      "data_task2/train/images/oz7_frame417.jpg\n",
      "(1080, 1920, 3)\n",
      "data_task2/train/images/am3_5_frame052.jpg\n",
      "(1080, 1920, 3)\n",
      "data_task2/train/images/am3_9_frame012.jpg\n",
      "(1080, 1920, 3)\n",
      "data_task2/train/images/am3_7_frame032.jpg\n",
      "(1080, 1920, 3)\n",
      "data_task2/train/images/oz_frame397.jpg\n",
      "(1080, 1920, 3)\n",
      "data_task2/train/images/am3_9_frame120.jpg\n",
      "(1080, 1920, 3)\n",
      "data_task2/train/images/oz7_frame048.jpg\n",
      "(1080, 1920, 3)\n",
      "data_task2/train/images/oz7_frame525.jpg\n",
      "(1080, 1920, 3)\n",
      "data_task2/train/images/am3_4_frame053.jpg\n",
      "(1080, 1920, 3)\n",
      "data_task2/train/images/am3_6_frame033.jpg\n",
      "(1080, 1920, 3)\n",
      "data_task2/train/images/am3_5_frame043.jpg\n",
      "(1080, 1920, 3)\n",
      "data_task2/train/images/oz7_frame480.jpg\n",
      "(1080, 1920, 3)\n",
      "data_task2/train/images/oz7_violation_frame440.jpg\n",
      "(1080, 1920, 3)\n",
      "data_task2/train/images/oz7_frame561.jpg\n",
      "(1080, 1920, 3)\n",
      "data_task2/train/images/oz7_frame462.jpg\n",
      "(1080, 1920, 3)\n",
      "data_task2/train/images/am3_4_frame071.jpg\n",
      "(1080, 1920, 3)\n",
      "data_task2/train/images/oz7_frame426.jpg\n",
      "(1080, 1920, 3)\n",
      "data_task2/train/images/oz7_violation_frame062.jpg\n",
      "(1080, 1920, 3)\n",
      "data_task2/train/images/am3_6_frame051.jpg\n",
      "(1080, 1920, 3)\n",
      "data_task2/train/images/am3_7_frame041.jpg\n",
      "(1080, 1920, 3)\n",
      "data_task2/train/images/am3_7_frame058.jpg\n",
      "(1080, 1920, 3)\n",
      "data_task2/train/images/oz7_frame040.jpg\n",
      "(1080, 1920, 3)\n",
      "data_task2/train/images/oz_frame470.jpg\n",
      "(1080, 1920, 3)\n",
      "data_task2/train/images/am3_9_frame074.jpg\n",
      "(1080, 1920, 3)\n",
      "data_task2/train/images/oz_frame119.jpg\n",
      "(1080, 1920, 3)\n",
      "data_task2/train/images/oz7_frame479.jpg\n",
      "(1080, 1920, 3)\n",
      "data_task2/train/images/oz7_violation_frame439.jpg\n",
      "(1080, 1920, 3)\n",
      "data_task2/train/images/oz7_frame398.jpg\n",
      "(1080, 1920, 3)\n",
      "data_task2/train/images/am3_7_frame076.jpg\n",
      "(1080, 1920, 3)\n",
      "data_task2/train/images/am3_7_frame157.jpg\n",
      "(1080, 1920, 3)\n",
      "data_task2/train/images/am3_1_frame021.jpg\n",
      "(1080, 1920, 3)\n",
      "data_task2/train/images/oz_violation_frame106.jpg\n",
      "(1080, 1920, 3)\n",
      "data_task2/train/images/am3_7_frame148.jpg\n",
      "(1080, 1920, 3)\n",
      "data_task2/train/images/am3_5_frame087.jpg\n",
      "(1080, 1920, 3)\n",
      "data_task2/train/images/oz_frame083.jpg\n",
      "(1080, 1920, 3)\n",
      "data_task2/train/images/oz_frame164.jpg\n",
      "(1080, 1920, 3)\n",
      "data_task2/train/images/am3_6_frame077.jpg\n",
      "(1080, 1920, 3)\n",
      "data_task2/train/images/oz_violation_frame061.jpg\n",
      "(1080, 1920, 3)\n",
      "data_task2/train/images/oz_frame128.jpg\n",
      "(1080, 1920, 3)\n",
      "data_task2/train/images/oz7_frame488.jpg\n",
      "(1080, 1920, 3)\n",
      "data_task2/train/images/oz_frame605.jpg\n",
      "(1080, 1920, 3)\n",
      "data_task2/train/images/oz_frame443.jpg\n",
      "(1080, 1920, 3)\n",
      "data_task2/train/images/oz7_frame013.jpg\n",
      "(1080, 1920, 3)\n",
      "data_task2/train/images/oz_violation_frame520.jpg\n",
      "(1080, 1920, 3)\n",
      "data_task2/train/images/oz_frame146.jpg\n",
      "(1080, 1920, 3)\n",
      "data_task2/train/images/oz_frame623.jpg\n",
      "(1080, 1920, 3)\n",
      "data_task2/train/images/am3_9_frame029.jpg\n",
      "(1080, 1920, 3)\n",
      "data_task2/train/images/oz_frame461.jpg\n",
      "(1080, 1920, 3)\n",
      "data_task2/train/images/oz7_frame031.jpg\n",
      "(1080, 1920, 3)\n",
      "data_task2/train/images/oz_frame548.jpg\n",
      "(1080, 1920, 3)\n",
      "data_task2/train/images/oz_violation_frame562.jpg\n",
      "(1080, 1920, 3)\n",
      "data_task2/train/images/am3_7_frame012.jpg\n",
      "(1080, 1920, 3)\n",
      "data_task2/train/images/am3_9_violation_frame085.jpg\n",
      "(1080, 1920, 3)\n",
      "data_task2/train/images/oz7_frame451.jpg\n",
      "(1080, 1920, 3)\n",
      "data_task2/train/images/oz7_frame370.jpg\n",
      "(1080, 1920, 3)\n",
      "data_task2/train/images/am3_3_frame034.jpg\n",
      "(1080, 1920, 3)\n",
      "data_task2/train/images/oz7_frame217.jpg\n",
      "(1080, 1920, 3)\n",
      "data_task2/train/images/oz7_frame091.jpg\n",
      "(1080, 1920, 3)\n",
      "data_task2/train/images/oz7_frame523.jpg\n",
      "(1080, 1920, 3)\n",
      "data_task2/train/images/oz7_frame046.jpg\n",
      "(1080, 1920, 3)\n",
      "data_task2/train/images/oz_frame557.jpg\n",
      "(1080, 1920, 3)\n",
      "data_task2/train/images/oz_frame395.jpg\n",
      "(1080, 1920, 3)\n",
      "data_task2/train/images/oz_frame001.jpg\n",
      "(1080, 1920, 3)\n",
      "data_task2/train/images/am3_7_frame021.jpg\n",
      "(1080, 1920, 3)\n",
      "data_task2/train/images/oz_frame593.jpg\n",
      "(1080, 1920, 3)\n",
      "data_task2/train/images/oz_frame098.jpg\n",
      "(1080, 1920, 3)\n",
      "data_task2/train/images/oz7_frame460.jpg\n",
      "(1080, 1920, 3)\n",
      "data_task2/train/images/oz7_violation_frame499.jpg\n",
      "(1080, 1920, 3)\n",
      "data_task2/train/images/oz_frame458.jpg\n",
      "(1080, 1920, 3)\n",
      "data_task2/train/images/am3_7_frame120.jpg\n",
      "(1080, 1920, 3)\n",
      "data_task2/train/images/oz7_frame028.jpg\n",
      "(1080, 1920, 3)\n",
      "data_task2/train/images/oz7_violation_frame060.jpg\n",
      "(1080, 1920, 3)\n",
      "data_task2/train/images/oz_frame153.jpg\n",
      "(1080, 1920, 3)\n",
      "data_task2/train/images/am3_9_frame117.jpg\n",
      "(1080, 1920, 3)\n",
      "data_task2/train/images/oz7_violation_frame518.jpg\n",
      "(1080, 1920, 3)\n",
      "data_task2/train/images/oz_frame432.jpg\n",
      "(1080, 1920, 3)\n",
      "data_task2/train/images/oz_frame513.jpg\n",
      "(1080, 1920, 3)\n",
      "data_task2/train/images/oz_frame117.jpg\n",
      "(1080, 1920, 3)\n",
      "data_task2/train/images/oz7_frame459.jpg\n",
      "(1080, 1920, 3)\n",
      "data_task2/train/images/oz7_frame378.jpg\n",
      "(1080, 1920, 3)\n",
      "data_task2/train/images/am3_6_frame084.jpg\n",
      "(1080, 1920, 3)\n",
      "data_task2/train/images/am3_7_frame155.jpg\n",
      "(1080, 1920, 3)\n",
      "data_task2/train/images/am3_5_frame094.jpg\n",
      "(1080, 1920, 3)\n",
      "data_task2/train/images/am3_9_frame135.jpg\n",
      "(1080, 1920, 3)\n",
      "data_task2/train/images/oz_frame531.jpg\n",
      "(1080, 1920, 3)\n",
      "data_task2/train/images/oz7_frame020.jpg\n",
      "(1080, 1920, 3)\n",
      "data_task2/train/images/am3_9_frame090.jpg\n",
      "(1080, 1920, 3)\n",
      "data_task2/train/images/oz_frame054.jpg\n",
      "(1080, 1920, 3)\n",
      "data_task2/train/images/oz7_frame099.jpg\n",
      "(1080, 1920, 3)\n",
      "data_task2/train/images/oz_frame162.jpg\n",
      "(1080, 1920, 3)\n",
      "data_task2/train/images/oz_violation_frame104.jpg\n",
      "(1080, 1920, 3)\n",
      "data_task2/train/images/am3_5_frame085.jpg\n",
      "(1080, 1920, 3)\n",
      "data_task2/train/images/oz_frame603.jpg\n",
      "(1080, 1920, 3)\n",
      "data_task2/train/images/oz7_frame486.jpg\n",
      "(1080, 1920, 3)\n",
      "data_task2/train/images/am3_5_frame049.jpg\n",
      "(1080, 1920, 3)\n",
      "data_task2/train/images/oz_frame441.jpg\n",
      "(1080, 1920, 3)\n",
      "data_task2/train/images/oz7_frame567.jpg\n",
      "(1080, 1920, 3)\n",
      "data_task2/train/images/am3_7_frame029.jpg\n",
      "(1080, 1920, 3)\n",
      "data_task2/train/images/am3_9_violation_frame104.jpg\n",
      "(1080, 1920, 3)\n",
      "data_task2/train/images/am3_9_frame081.jpg\n",
      "(1080, 1920, 3)\n",
      "data_task2/train/images/oz_frame423.jpg\n",
      "(1080, 1920, 3)\n",
      "data_task2/train/images/oz_frame504.jpg\n",
      "(1080, 1920, 3)\n",
      "data_task2/train/images/am3_7_violation_frame142.jpg\n",
      "(1080, 1920, 3)\n",
      "data_task2/train/images/oz_frame108.jpg\n",
      "(1080, 1920, 3)\n",
      "data_task2/train/images/oz_frame621.jpg\n",
      "(1080, 1920, 3)\n",
      "data_task2/train/images/oz7_frame437.jpg\n",
      "(1080, 1920, 3)\n",
      "data_task2/train/images/oz_violation_frame485.jpg\n",
      "(1080, 1920, 3)\n",
      "data_task2/train/images/oz7_frame554.jpg\n",
      "(1080, 1920, 3)\n",
      "data_task2/train/images/oz_violation_frame449.jpg\n",
      "(1080, 1920, 3)\n",
      "data_task2/train/images/am3_4_frame046.jpg\n",
      "(1080, 1920, 3)\n",
      "data_task2/train/images/oz7_frame077.jpg\n",
      "(1080, 1920, 3)\n",
      "data_task2/train/images/am3_6_frame026.jpg\n",
      "(1080, 1920, 3)\n",
      "data_task2/train/images/oz_frame113.jpg\n",
      "(1080, 1920, 3)\n",
      "data_task2/train/images/am3_5_frame090.jpg\n",
      "(1080, 1920, 3)\n",
      "data_task2/train/images/am3_5_violation_frame113.jpg\n",
      "(1080, 1920, 3)\n",
      "data_task2/train/images/oz_frame489.jpg\n",
      "(1080, 1920, 3)\n",
      "data_task2/train/images/am3_7_frame034.jpg\n",
      "(1080, 1920, 3)\n",
      "data_task2/train/images/oz7_frame491.jpg\n",
      "(1080, 1920, 3)\n",
      "data_task2/train/images/am3_7_frame115.jpg\n",
      "(1080, 1920, 3)\n",
      "data_task2/train/images/oz7_frame419.jpg\n",
      "(1080, 1920, 3)\n",
      "data_task2/train/images/oz7_frame095.jpg\n",
      "(1080, 1920, 3)\n",
      "data_task2/train/images/oz_frame131.jpg\n",
      "(1080, 1920, 3)\n",
      "data_task2/train/images/oz7_frame527.jpg\n",
      "(1080, 1920, 3)\n",
      "data_task2/train/images/am3_6_frame071.jpg\n",
      "(1080, 1920, 3)\n",
      "data_task2/train/images/oz_frame005.jpg\n",
      "(1080, 1920, 3)\n",
      "data_task2/train/images/am3_9_frame122.jpg\n",
      "(1080, 1920, 3)\n",
      "data_task2/train/images/oz7_frame482.jpg\n",
      "(1080, 1920, 3)\n",
      "data_task2/train/images/oz_frame203.jpg\n",
      "(1080, 1920, 3)\n",
      "data_task2/train/images/oz7_frame086.jpg\n",
      "(1080, 1920, 3)\n",
      "data_task2/train/images/oz7_frame383.jpg\n",
      "(1080, 1920, 3)\n",
      "data_task2/train/images/am3_7_frame007.jpg\n",
      "(1080, 1920, 3)\n",
      "data_task2/train/images/oz_frame500.jpg\n",
      "(1080, 1920, 3)\n",
      "data_task2/train/images/am3_5_frame027.jpg\n",
      "(1080, 1920, 3)\n",
      "data_task2/train/images/oz7_frame464.jpg\n",
      "(1080, 1920, 3)\n",
      "data_task2/train/images/am3_7_frame043.jpg\n",
      "(1080, 1920, 3)\n",
      "data_task2/train/images/am3_5_frame063.jpg\n",
      "(1080, 1920, 3)\n",
      "data_task2/train/images/am3_4_frame073.jpg\n",
      "(1080, 1920, 3)\n",
      "data_task2/train/images/oz7_frame428.jpg\n",
      "(1080, 1920, 3)\n",
      "data_task2/train/images/am3_6_frame053.jpg\n",
      "(1080, 1920, 3)\n",
      "data_task2/train/images/oz7_frame509.jpg\n",
      "(1080, 1920, 3)\n",
      "data_task2/train/images/am3_3_frame021.jpg\n",
      "(1080, 1920, 3)\n",
      "data_task2/train/images/oz7_violation_frame477.jpg\n",
      "(1080, 1920, 3)\n",
      "data_task2/train/images/oz_frame553.jpg\n",
      "(1080, 1920, 3)\n",
      "data_task2/train/images/oz7_frame006.jpg\n",
      "(1080, 1920, 3)\n",
      "data_task2/train/images/oz_violation_frame450.jpg\n",
      "(1080, 1920, 3)\n",
      "data_task2/train/images/oz7_frame402.jpg\n",
      "(1080, 1920, 3)\n",
      "data_task2/train/images/am3_9_frame076.jpg\n",
      "(1080, 1920, 3)\n",
      "data_task2/train/images/am3_5_frame100.jpg\n",
      "(1080, 1920, 3)\n",
      "data_task2/train/images/oz_frame571.jpg\n",
      "(1080, 1920, 3)\n",
      "data_task2/train/images/oz_frame490.jpg\n",
      "(1080, 1920, 3)\n",
      "data_task2/train/images/oz_frame535.jpg\n",
      "(1080, 1920, 3)\n",
      "data_task2/train/images/oz_frame373.jpg\n",
      "(1080, 1920, 3)\n",
      "data_task2/train/images/oz_frame616.jpg\n",
      "(1080, 1920, 3)\n",
      "data_task2/train/images/oz_frame454.jpg\n",
      "(1080, 1920, 3)\n",
      "data_task2/train/images/am3_1_frame023.jpg\n",
      "(1080, 1920, 3)\n",
      "data_task2/train/images/oz7_frame420.jpg\n",
      "(1080, 1920, 3)\n",
      "data_task2/train/images/oz_frame058.jpg\n",
      "(1080, 1920, 3)\n",
      "data_task2/train/images/am3_9_frame094.jpg\n",
      "(1080, 1920, 3)\n",
      "data_task2/train/images/oz_frame139.jpg\n",
      "(1080, 1920, 3)\n",
      "data_task2/train/images/oz_frame166.jpg\n",
      "(1080, 1920, 3)\n",
      "data_task2/train/images/am3_6_frame079.jpg\n",
      "(1080, 1920, 3)\n",
      "data_task2/train/images/am3_3_frame030.jpg\n",
      "(1080, 1920, 3)\n",
      "data_task2/train/images/oz_frame409.jpg\n",
      "(1080, 1920, 3)\n",
      "data_task2/train/images/oz7_frame051.jpg\n",
      "(1080, 1920, 3)\n",
      "data_task2/train/images/oz_frame526.jpg\n",
      "(1080, 1920, 3)\n",
      "data_task2/train/images/oz7_frame015.jpg\n",
      "(1080, 1920, 3)\n",
      "data_task2/train/images/oz7_frame411.jpg\n",
      "(1080, 1920, 3)\n",
      "data_task2/train/images/oz_frame508.jpg\n",
      "(1080, 1920, 3)\n",
      "data_task2/train/images/oz_frame580.jpg\n",
      "(1080, 1920, 3)\n",
      "data_task2/train/images/oz7_frame033.jpg\n",
      "(1080, 1920, 3)\n",
      "data_task2/train/images/am3_1_frame032.jpg\n",
      "(1080, 1920, 3)\n",
      "data_task2/train/images/oz_frame067.jpg\n",
      "(1080, 1920, 3)\n",
      "data_task2/train/images/oz7_frame510.jpg\n",
      "(1080, 1920, 3)\n"
     ]
    }
   ],
   "source": [
    "for j in df['img_id'].values:\n",
    "    image = cv2.imread('data_task2/train/images/' + j)\n",
    "    with mp_pose.Pose(\n",
    "        static_image_mode=True, min_detection_confidence=0.5, model_complexity=2) as pose:\n",
    "    # Convert the BGR image to RGB and process it with MediaPipe Pose.\n",
    "        img_predict = get_detection_solution(path_to_test_images = 'data_task2/train/images/' + j)\n",
    "        for i in img_predict:\n",
    "            box = i['bbox']\n",
    "            img1 = image[box[1]:box[1] + box[3],box[0]:box[0] + box[2],:]\n",
    "            results = pose.process(cv2.cvtColor(img1, cv2.COLOR_BGR2RGB))\n",
    "\n",
    "            # Print nose landmark.\n",
    "            image_hight, image_width, _ = img1.shape\n",
    "            annotated_image = img1.copy()\n",
    "            mp_drawing.draw_landmarks(\n",
    "                annotated_image,\n",
    "                results.pose_landmarks,\n",
    "                mp_pose.POSE_CONNECTIONS,\n",
    "                landmark_drawing_spec=mp_drawing_styles.get_default_pose_landmarks_style())\n",
    "            image[box[1]:box[1] + box[3],box[0]:box[0] + box[2],:] = annotated_image\n",
    "    cv2.imwrite('data/' + j,image)"
   ]
  },
  {
   "cell_type": "code",
   "execution_count": 26,
   "metadata": {},
   "outputs": [
    {
     "name": "stdout",
     "output_type": "stream",
     "text": [
      "/opt/conda/lib/python3.7/site-packages/secretstorage/dhcrypto.py:16: CryptographyDeprecationWarning: int_from_bytes is deprecated, use int.from_bytes instead\n",
      "  from cryptography.utils import int_from_bytes\n",
      "/opt/conda/lib/python3.7/site-packages/secretstorage/util.py:25: CryptographyDeprecationWarning: int_from_bytes is deprecated, use int.from_bytes instead\n",
      "  from cryptography.utils import int_from_bytes\n",
      "Collecting timm\n",
      "  Downloading timm-0.4.12-py3-none-any.whl (376 kB)\n",
      "\u001b[K     |████████████████████████████████| 376 kB 26.7 MB/s eta 0:00:01\n",
      "\u001b[?25hRequirement already satisfied: torchvision in /opt/conda/lib/python3.7/site-packages (from timm) (0.11.1)\n",
      "Requirement already satisfied: torch>=1.4 in /opt/conda/lib/python3.7/site-packages (from timm) (1.10.0)\n",
      "Requirement already satisfied: typing-extensions in /opt/conda/lib/python3.7/site-packages (from torch>=1.4->timm) (3.10.0.2)\n",
      "Requirement already satisfied: numpy in /opt/conda/lib/python3.7/site-packages (from torchvision->timm) (1.20.3)\n",
      "Requirement already satisfied: pillow!=8.3.0,>=5.3.0 in /opt/conda/lib/python3.7/site-packages (from torchvision->timm) (8.3.2)\n",
      "Installing collected packages: timm\n",
      "Successfully installed timm-0.4.12\n",
      "\u001b[33mWARNING: Running pip as the 'root' user can result in broken permissions and conflicting behaviour with the system package manager. It is recommended to use a virtual environment instead: https://pip.pypa.io/warnings/venv\u001b[0m\n",
      "\u001b[33mWARNING: You are using pip version 21.2.4; however, version 21.3.1 is available.\n",
      "You should consider upgrading via the '/opt/conda/bin/python -m pip install --upgrade pip' command.\u001b[0m\n",
      "/opt/conda/lib/python3.7/site-packages/secretstorage/dhcrypto.py:16: CryptographyDeprecationWarning: int_from_bytes is deprecated, use int.from_bytes instead\n",
      "  from cryptography.utils import int_from_bytes\n",
      "/opt/conda/lib/python3.7/site-packages/secretstorage/util.py:25: CryptographyDeprecationWarning: int_from_bytes is deprecated, use int.from_bytes instead\n",
      "  from cryptography.utils import int_from_bytes\n",
      "Collecting Albumentations\n",
      "  Downloading albumentations-1.1.0-py3-none-any.whl (102 kB)\n",
      "\u001b[K     |████████████████████████████████| 102 kB 28.1 MB/s eta 0:00:01\n",
      "\u001b[?25hRequirement already satisfied: PyYAML in /opt/conda/lib/python3.7/site-packages (from Albumentations) (5.4.1)\n",
      "Collecting opencv-python-headless>=4.1.1\n",
      "  Downloading opencv_python_headless-4.5.4.58-cp37-cp37m-manylinux2014_x86_64.whl (47.6 MB)\n",
      "\u001b[K     |████████████████████████████████| 47.6 MB 62.0 MB/s eta 0:00:01\n",
      "\u001b[?25hCollecting qudida>=0.0.4\n",
      "  Downloading qudida-0.0.4-py3-none-any.whl (3.5 kB)\n",
      "Requirement already satisfied: scikit-image>=0.16.1 in /opt/conda/lib/python3.7/site-packages (from Albumentations) (0.16.2)\n",
      "Requirement already satisfied: numpy>=1.11.1 in /opt/conda/lib/python3.7/site-packages (from Albumentations) (1.20.3)\n",
      "Requirement already satisfied: scipy in /opt/conda/lib/python3.7/site-packages (from Albumentations) (1.4.1)\n",
      "Requirement already satisfied: typing-extensions in /opt/conda/lib/python3.7/site-packages (from qudida>=0.0.4->Albumentations) (3.10.0.2)\n",
      "Requirement already satisfied: scikit-learn>=0.19.1 in /opt/conda/lib/python3.7/site-packages (from qudida>=0.0.4->Albumentations) (0.22.1)\n",
      "Requirement already satisfied: pillow>=4.3.0 in /opt/conda/lib/python3.7/site-packages (from scikit-image>=0.16.1->Albumentations) (8.3.2)\n",
      "Requirement already satisfied: matplotlib!=3.0.0,>=2.0.0 in /opt/conda/lib/python3.7/site-packages (from scikit-image>=0.16.1->Albumentations) (3.4.3)\n",
      "Requirement already satisfied: imageio>=2.3.0 in /opt/conda/lib/python3.7/site-packages (from scikit-image>=0.16.1->Albumentations) (2.6.1)\n",
      "Requirement already satisfied: networkx>=2.0 in /opt/conda/lib/python3.7/site-packages (from scikit-image>=0.16.1->Albumentations) (2.4)\n",
      "Requirement already satisfied: PyWavelets>=0.4.0 in /opt/conda/lib/python3.7/site-packages (from scikit-image>=0.16.1->Albumentations) (1.1.1)\n",
      "Requirement already satisfied: kiwisolver>=1.0.1 in /opt/conda/lib/python3.7/site-packages (from matplotlib!=3.0.0,>=2.0.0->scikit-image>=0.16.1->Albumentations) (1.1.0)\n",
      "Requirement already satisfied: python-dateutil>=2.7 in /opt/conda/lib/python3.7/site-packages (from matplotlib!=3.0.0,>=2.0.0->scikit-image>=0.16.1->Albumentations) (2.8.1)\n",
      "Requirement already satisfied: cycler>=0.10 in /opt/conda/lib/python3.7/site-packages (from matplotlib!=3.0.0,>=2.0.0->scikit-image>=0.16.1->Albumentations) (0.10.0)\n",
      "Requirement already satisfied: pyparsing>=2.2.1 in /opt/conda/lib/python3.7/site-packages (from matplotlib!=3.0.0,>=2.0.0->scikit-image>=0.16.1->Albumentations) (2.4.6)\n",
      "Requirement already satisfied: six in /opt/conda/lib/python3.7/site-packages (from cycler>=0.10->matplotlib!=3.0.0,>=2.0.0->scikit-image>=0.16.1->Albumentations) (1.14.0)\n",
      "Requirement already satisfied: setuptools in /opt/conda/lib/python3.7/site-packages (from kiwisolver>=1.0.1->matplotlib!=3.0.0,>=2.0.0->scikit-image>=0.16.1->Albumentations) (58.1.0)\n",
      "Requirement already satisfied: decorator>=4.3.0 in /opt/conda/lib/python3.7/site-packages (from networkx>=2.0->scikit-image>=0.16.1->Albumentations) (4.4.1)\n",
      "Requirement already satisfied: joblib>=0.11 in /opt/conda/lib/python3.7/site-packages (from scikit-learn>=0.19.1->qudida>=0.0.4->Albumentations) (0.14.1)\n",
      "Installing collected packages: opencv-python-headless, qudida, Albumentations\n",
      "Successfully installed Albumentations-1.1.0 opencv-python-headless-4.5.4.58 qudida-0.0.4\n",
      "\u001b[33mWARNING: Running pip as the 'root' user can result in broken permissions and conflicting behaviour with the system package manager. It is recommended to use a virtual environment instead: https://pip.pypa.io/warnings/venv\u001b[0m\n",
      "\u001b[33mWARNING: You are using pip version 21.2.4; however, version 21.3.1 is available.\n",
      "You should consider upgrading via the '/opt/conda/bin/python -m pip install --upgrade pip' command.\u001b[0m\n"
     ]
    }
   ],
   "source": [
    "!pip install timm\n",
    "!pip install Albumentations"
   ]
  },
  {
   "cell_type": "code",
   "execution_count": 25,
   "metadata": {},
   "outputs": [],
   "source": [
    "class CFG:\n",
    "    debug=False\n",
    "    apex=False\n",
    "    print_freq=100\n",
    "    num_workers=0\n",
    "    model_name='tf_efficientnet_b0_ns'\n",
    "    size=720\n",
    "    scheduler='ReduceLROnPlateau' # ['ReduceLROnPlateau', 'CosineAnnealingLR', 'CosineAnnealingWarmRestarts']\n",
    "    epochs=50\n",
    "    factor=0.2 # ReduceLROnPlateau\n",
    "    patience=5 # ReduceLROnPlateau\n",
    "    eps=1e-6 # ReduceLROnPlateau\n",
    "    #T_max=10 # CosineAnnealingLR\n",
    "    T_0=10 # CosineAnnealingWarmRestarts\n",
    "    lr=1e-4\n",
    "    min_lr=1e-6\n",
    "    batch_size=8\n",
    "    weight_decay=1e-6\n",
    "    gradient_accumulation_steps=1\n",
    "    max_grad_norm=1000\n",
    "    seed=42\n",
    "    target_size=2\n",
    "    target_col='label'\n",
    "    n_fold=5\n",
    "    trn_fold=[0]\n",
    "    train=True\n",
    "    inference=False\n",
    "    \n",
    "if CFG.debug:\n",
    "    CFG.epochs = 1\n",
    "    train = train.sample(n=1000, random_state=CFG.seed).reset_index(drop=True)"
   ]
  },
  {
   "cell_type": "code",
   "execution_count": 5,
   "metadata": {},
   "outputs": [],
   "source": [
    "# ====================================================\n",
    "# Library\n",
    "# ====================================================\n",
    "import sys\n",
    "\n",
    "import os\n",
    "import math\n",
    "import time\n",
    "import random\n",
    "import shutil\n",
    "from pathlib import Path\n",
    "from contextlib import contextmanager\n",
    "from collections import defaultdict, Counter\n",
    "\n",
    "import scipy as sp\n",
    "import numpy as np\n",
    "import pandas as pd\n",
    "\n",
    "from sklearn import preprocessing\n",
    "from sklearn.metrics import accuracy_score\n",
    "from sklearn.model_selection import StratifiedKFold\n",
    "\n",
    "from tqdm.auto import tqdm\n",
    "from functools import partial\n",
    "\n",
    "import cv2\n",
    "from PIL import Image\n",
    "\n",
    "import torch\n",
    "import torch.nn as nn\n",
    "import torch.nn.functional as F\n",
    "from torch.optim import Adam, SGD\n",
    "import torchvision.models as models\n",
    "from torch.nn.parameter import Parameter\n",
    "from torch.utils.data import DataLoader, Dataset\n",
    "from torch.optim.lr_scheduler import CosineAnnealingWarmRestarts, CosineAnnealingLR, ReduceLROnPlateau\n",
    "\n",
    "from albumentations import (\n",
    "    Compose, OneOf, Normalize, Resize, RandomCrop, HorizontalFlip, VerticalFlip, \n",
    "    RandomBrightness, RandomContrast, RandomBrightnessContrast, Rotate, ShiftScaleRotate, Cutout, \n",
    "    IAAAdditiveGaussianNoise, Transpose\n",
    "    )\n",
    "from albumentations.pytorch import ToTensorV2 \n",
    "from albumentations import ImageOnlyTransform \n",
    "\n",
    "import timm\n",
    "\n",
    "import warnings \n",
    "warnings.filterwarnings('ignore')\n",
    "\n",
    "if CFG.apex:\n",
    "    from apex import amp\n",
    "\n",
    "device = torch.device('cuda' if torch.cuda.is_available() else 'cpu')"
   ]
  },
  {
   "cell_type": "code",
   "execution_count": 6,
   "metadata": {},
   "outputs": [],
   "source": [
    "# ====================================================\n",
    "# Utils\n",
    "# ====================================================\n",
    "def get_score(y_true, y_pred):\n",
    "    return accuracy_score(y_true, y_pred)\n",
    "\n",
    "\n",
    "@contextmanager\n",
    "def timer(name):\n",
    "    t0 = time.time()\n",
    "    LOGGER.info(f'[{name}] start')\n",
    "    yield\n",
    "    LOGGER.info(f'[{name}] done in {time.time() - t0:.0f} s.')\n",
    "\n",
    "\n",
    "def init_logger(log_file='train.log'):\n",
    "    from logging import getLogger, INFO, FileHandler,  Formatter,  StreamHandler\n",
    "    logger = getLogger(__name__)\n",
    "    logger.setLevel(INFO)\n",
    "    handler1 = StreamHandler()\n",
    "    handler1.setFormatter(Formatter(\"%(message)s\"))\n",
    "    handler2 = FileHandler(filename=log_file)\n",
    "    handler2.setFormatter(Formatter(\"%(message)s\"))\n",
    "    logger.addHandler(handler1)\n",
    "    logger.addHandler(handler2)\n",
    "    return logger\n",
    "\n",
    "LOGGER = init_logger()\n",
    "\n",
    "\n",
    "def seed_torch(seed=42):\n",
    "    random.seed(seed)\n",
    "    os.environ['PYTHONHASHSEED'] = str(seed)\n",
    "    np.random.seed(seed)\n",
    "    torch.manual_seed(seed)\n",
    "    torch.cuda.manual_seed(seed)\n",
    "    torch.backends.cudnn.deterministic = True\n",
    "\n",
    "seed_torch(seed=CFG.seed)"
   ]
  },
  {
   "cell_type": "code",
   "execution_count": 8,
   "metadata": {},
   "outputs": [],
   "source": [
    "train = df.copy()"
   ]
  },
  {
   "cell_type": "code",
   "execution_count": 9,
   "metadata": {},
   "outputs": [
    {
     "name": "stdout",
     "output_type": "stream",
     "text": [
      "fold  label\n",
      "0     0        12\n",
      "      1        88\n",
      "1     0        12\n",
      "      1        88\n",
      "2     0        12\n",
      "      1        88\n",
      "3     0        12\n",
      "      1        88\n",
      "4     0        12\n",
      "      1        88\n",
      "dtype: int64\n"
     ]
    }
   ],
   "source": [
    "folds = train.copy()\n",
    "Fold = StratifiedKFold(n_splits=CFG.n_fold, shuffle=True, random_state=CFG.seed)\n",
    "for n, (train_index, val_index) in enumerate(Fold.split(folds, folds[CFG.target_col])):\n",
    "    folds.loc[val_index, 'fold'] = int(n)\n",
    "folds['fold'] = folds['fold'].astype(int)\n",
    "print(folds.groupby(['fold', CFG.target_col]).size())"
   ]
  },
  {
   "cell_type": "code",
   "execution_count": 10,
   "metadata": {},
   "outputs": [],
   "source": [
    "class TrainDataset(Dataset):\n",
    "    def __init__(self, df, transform=None):\n",
    "        self.df = df\n",
    "        self.file_names = df['img_id'].values\n",
    "        self.labels = df['label'].values\n",
    "        self.transform = transform\n",
    "        \n",
    "    def __len__(self):\n",
    "        return len(self.df)\n",
    "\n",
    "    def __getitem__(self, idx):\n",
    "        file_name = self.file_names[idx]\n",
    "        file_path = 'data/'+ file_name\n",
    "        image = cv2.imread(file_path)\n",
    "        image = cv2.cvtColor(image, cv2.COLOR_BGR2RGB)\n",
    "        if self.transform:\n",
    "            augmented = self.transform(image=image)\n",
    "            image = augmented['image']\n",
    "        label = torch.tensor(self.labels[idx]).long()\n",
    "        return image, label\n",
    "    \n",
    "\n",
    "class TestDataset(Dataset):\n",
    "    def __init__(self, df, transform=None):\n",
    "        self.df = df\n",
    "        self.file_names = df['img_id'].values\n",
    "        self.transform = transform\n",
    "        \n",
    "    def __len__(self):\n",
    "        return len(self.df)\n",
    "\n",
    "    def __getitem__(self, idx):\n",
    "        file_name = self.file_names[idx]\n",
    "        file_path = f'{TEST_PATH}/{file_name}'\n",
    "        image = cv2.imread(file_path)\n",
    "        image = cv2.cvtColor(image, cv2.COLOR_BGR2RGB)\n",
    "        if self.transform:\n",
    "            augmented = self.transform(image=image)\n",
    "            image = augmented['image']\n",
    "        return image"
   ]
  },
  {
   "cell_type": "code",
   "execution_count": 13,
   "metadata": {},
   "outputs": [
    {
     "data": {
      "image/png": "[encoded data removed]",
      "text/plain": [
       "<Figure size 432x288 with 1 Axes>"
      ]
     },
     "metadata": {
      "needs_background": "light"
     },
     "output_type": "display_data"
    }
   ],
   "source": [
    "train_dataset = TrainDataset(train, transform=None)\n",
    "\n",
    "for i in range(1):\n",
    "    image, label = train_dataset[i]\n",
    "    plt.imshow(image)\n",
    "    plt.title(f'label: {label}')\n",
    "    plt.show() "
   ]
  },
  {
   "cell_type": "code",
   "execution_count": 14,
   "metadata": {},
   "outputs": [],
   "source": [
    "# ====================================================\n",
    "# Transforms\n",
    "# ====================================================\n",
    "def get_transforms(*, data):\n",
    "    \n",
    "    if data == 'train':\n",
    "        return Compose([\n",
    "            Resize(CFG.size, CFG.size),\n",
    "            #RandomResizedCrop(CFG.size, CFG.size),\n",
    "            Transpose(p=0.5),\n",
    "            HorizontalFlip(p=0.5),\n",
    "            VerticalFlip(p=0.5),\n",
    "            ShiftScaleRotate(p=0.5),\n",
    "            Normalize(\n",
    "                mean=[0.485, 0.456, 0.406],\n",
    "                std=[0.229, 0.224, 0.225],\n",
    "            ),\n",
    "            ToTensorV2(),\n",
    "        ])\n",
    "\n",
    "    elif data == 'valid':\n",
    "        return Compose([\n",
    "            Resize(CFG.size, CFG.size),\n",
    "            Normalize(\n",
    "                mean=[0.485, 0.456, 0.406],\n",
    "                std=[0.229, 0.224, 0.225],\n",
    "            ),\n",
    "            ToTensorV2(),\n",
    "        ])"
   ]
  },
  {
   "cell_type": "code",
   "execution_count": 15,
   "metadata": {},
   "outputs": [
    {
     "data": {
      "image/png": "[encoded data removed]",
      "text/plain": [
       "<Figure size 432x288 with 1 Axes>"
      ]
     },
     "metadata": {
      "needs_background": "light"
     },
     "output_type": "display_data"
    }
   ],
   "source": [
    "train_dataset = TrainDataset(train, transform=get_transforms(data='train'))\n",
    "\n",
    "for i in range(1):\n",
    "    image, label = train_dataset[i]\n",
    "    plt.imshow(image[0])\n",
    "    plt.title(f'label: {label}')\n",
    "    plt.show() "
   ]
  },
  {
   "cell_type": "code",
   "execution_count": 16,
   "metadata": {},
   "outputs": [],
   "source": [
    "# ====================================================\n",
    "# MODEL\n",
    "# ====================================================\n",
    "class CustomModel(nn.Module):\n",
    "    def __init__(self, model_name='tf_efficientnet_b0_ns', pretrained=False):\n",
    "        super().__init__()\n",
    "        self.model = timm.create_model(model_name, pretrained=pretrained)\n",
    "        n_features = self.model.classifier.in_features\n",
    "        self.model.classifier = nn.Linear(n_features, CFG.target_size)\n",
    "\n",
    "    def forward(self, x):\n",
    "        x = self.model(x)\n",
    "        return x"
   ]
  },
  {
   "cell_type": "code",
   "execution_count": 17,
   "metadata": {},
   "outputs": [
    {
     "name": "stdout",
     "output_type": "stream",
     "text": [
      "tensor([[-0.0814, -0.0591],\n",
      "        [-0.0436, -0.0519],\n",
      "        [-0.0438, -0.0365],\n",
      "        [-0.0942, -0.0467]], grad_fn=<AddmmBackward0>)\n"
     ]
    }
   ],
   "source": [
    "model = CustomModel(model_name=CFG.model_name, pretrained=False)\n",
    "train_dataset = TrainDataset(train, transform=get_transforms(data='train'))\n",
    "train_loader = DataLoader(train_dataset, batch_size=4, shuffle=True,\n",
    "                          num_workers=0, pin_memory=True, drop_last=True)\n",
    "\n",
    "for image, label in train_loader:\n",
    "    output = model(image)\n",
    "    print(output)\n",
    "    break"
   ]
  },
  {
   "cell_type": "code",
   "execution_count": 18,
   "metadata": {},
   "outputs": [],
   "source": [
    "# ====================================================\n",
    "# Helper functions\n",
    "# ====================================================\n",
    "class AverageMeter(object):\n",
    "    \"\"\"Computes and stores the average and current value\"\"\"\n",
    "    def __init__(self):\n",
    "        self.reset()\n",
    "\n",
    "    def reset(self):\n",
    "        self.val = 0\n",
    "        self.avg = 0\n",
    "        self.sum = 0\n",
    "        self.count = 0\n",
    "\n",
    "    def update(self, val, n=1):\n",
    "        self.val = val\n",
    "        self.sum += val * n\n",
    "        self.count += n\n",
    "        self.avg = self.sum / self.count\n",
    "\n",
    "\n",
    "def asMinutes(s):\n",
    "    m = math.floor(s / 60)\n",
    "    s -= m * 60\n",
    "    return '%dm %ds' % (m, s)\n",
    "\n",
    "\n",
    "def timeSince(since, percent):\n",
    "    now = time.time()\n",
    "    s = now - since\n",
    "    es = s / (percent)\n",
    "    rs = es - s\n",
    "    return '%s (remain %s)' % (asMinutes(s), asMinutes(rs))\n",
    "\n",
    "\n",
    "def train_fn(train_loader, model, criterion, optimizer, epoch, scheduler, device):\n",
    "    batch_time = AverageMeter()\n",
    "    data_time = AverageMeter()\n",
    "    losses = AverageMeter()\n",
    "    scores = AverageMeter()\n",
    "    # switch to train mode\n",
    "    model.train()\n",
    "    start = end = time.time()\n",
    "    global_step = 0\n",
    "    for step, (images, labels) in enumerate(train_loader):\n",
    "        # measure data loading time\n",
    "        data_time.update(time.time() - end)\n",
    "        images = images.to(device)\n",
    "        labels = labels.to(device)\n",
    "        batch_size = labels.size(0)\n",
    "        y_preds = model(images)\n",
    "        loss = criterion(y_preds, labels)\n",
    "        # record loss\n",
    "        losses.update(loss.item(), batch_size)\n",
    "        if CFG.gradient_accumulation_steps > 1:\n",
    "            loss = loss / CFG.gradient_accumulation_steps\n",
    "        if CFG.apex:\n",
    "            with amp.scale_loss(loss, optimizer) as scaled_loss:\n",
    "                scaled_loss.backward()\n",
    "        else:\n",
    "            loss.backward()\n",
    "        grad_norm = torch.nn.utils.clip_grad_norm_(model.parameters(), CFG.max_grad_norm)\n",
    "        if (step + 1) % CFG.gradient_accumulation_steps == 0:\n",
    "            optimizer.step()\n",
    "            optimizer.zero_grad()\n",
    "            global_step += 1\n",
    "        # measure elapsed time\n",
    "        batch_time.update(time.time() - end)\n",
    "        end = time.time()\n",
    "        if step % CFG.print_freq == 0 or step == (len(train_loader)-1):\n",
    "            print('Epoch: [{0}][{1}/{2}] '\n",
    "                  'Data {data_time.val:.3f} ({data_time.avg:.3f}) '\n",
    "                  'Elapsed {remain:s} '\n",
    "                  'Loss: {loss.val:.4f}({loss.avg:.4f}) '\n",
    "                  'Grad: {grad_norm:.4f}  '\n",
    "                  #'LR: {lr:.6f}  '\n",
    "                  .format(\n",
    "                   epoch+1, step, len(train_loader), batch_time=batch_time,\n",
    "                   data_time=data_time, loss=losses,\n",
    "                   remain=timeSince(start, float(step+1)/len(train_loader)),\n",
    "                   grad_norm=grad_norm,\n",
    "                   #lr=scheduler.get_lr()[0],\n",
    "                   ))\n",
    "    return losses.avg\n",
    "\n",
    "\n",
    "def valid_fn(valid_loader, model, criterion, device):\n",
    "    batch_time = AverageMeter()\n",
    "    data_time = AverageMeter()\n",
    "    losses = AverageMeter()\n",
    "    scores = AverageMeter()\n",
    "    # switch to evaluation mode\n",
    "    model.eval()\n",
    "    preds = []\n",
    "    start = end = time.time()\n",
    "    for step, (images, labels) in enumerate(valid_loader):\n",
    "        # measure data loading time\n",
    "        data_time.update(time.time() - end)\n",
    "        images = images.to(device)\n",
    "        labels = labels.to(device)\n",
    "        batch_size = labels.size(0)\n",
    "        # compute loss\n",
    "        with torch.no_grad():\n",
    "            y_preds = model(images)\n",
    "        loss = criterion(y_preds, labels)\n",
    "        losses.update(loss.item(), batch_size)\n",
    "        # record accuracy\n",
    "        preds.append(y_preds.softmax(1).to('cpu').numpy())\n",
    "        if CFG.gradient_accumulation_steps > 1:\n",
    "            loss = loss / CFG.gradient_accumulation_steps\n",
    "        # measure elapsed time\n",
    "        batch_time.update(time.time() - end)\n",
    "        end = time.time()\n",
    "        if step % CFG.print_freq == 0 or step == (len(valid_loader)-1):\n",
    "            print('EVAL: [{0}/{1}] '\n",
    "                  'Data {data_time.val:.3f} ({data_time.avg:.3f}) '\n",
    "                  'Elapsed {remain:s} '\n",
    "                  'Loss: {loss.val:.4f}({loss.avg:.4f}) '\n",
    "                  .format(\n",
    "                   step, len(valid_loader), batch_time=batch_time,\n",
    "                   data_time=data_time, loss=losses,\n",
    "                   remain=timeSince(start, float(step+1)/len(valid_loader)),\n",
    "                   ))\n",
    "    predictions = np.concatenate(preds)\n",
    "    return losses.avg, predictions\n",
    "\n",
    "\n",
    "def inference(model, states, test_loader, device):\n",
    "    model.to(device)\n",
    "    tk0 = tqdm(enumerate(test_loader), total=len(test_loader))\n",
    "    probs = []\n",
    "    for i, (images) in tk0:\n",
    "        images = images.to(device)\n",
    "        avg_preds = []\n",
    "        for state in states:\n",
    "            model.load_state_dict(state['model'])\n",
    "            model.eval()\n",
    "            with torch.no_grad():\n",
    "                y_preds = model(images)\n",
    "            avg_preds.append(y_preds.softmax(1).to('cpu').numpy())\n",
    "        avg_preds = np.mean(avg_preds, axis=0)\n",
    "        probs.append(avg_preds)\n",
    "    probs = np.concatenate(probs)\n",
    "    return probs"
   ]
  },
  {
   "cell_type": "code",
   "execution_count": 27,
   "metadata": {},
   "outputs": [],
   "source": [
    "# ====================================================\n",
    "# Train loop\n",
    "# ====================================================\n",
    "def train_loop(folds, fold):\n",
    "\n",
    "    LOGGER.info(f\"========== fold: {fold} training ==========\")\n",
    "\n",
    "    # ====================================================\n",
    "    # loader\n",
    "    # ====================================================\n",
    "    trn_idx = folds[folds['fold'] != fold].index\n",
    "    val_idx = folds[folds['fold'] == fold].index\n",
    "\n",
    "    train_folds = folds.loc[trn_idx].reset_index(drop=True)\n",
    "    valid_folds = folds.loc[val_idx].reset_index(drop=True)\n",
    "\n",
    "    train_dataset = TrainDataset(train_folds, \n",
    "                                 transform=get_transforms(data='train'))\n",
    "    valid_dataset = TrainDataset(valid_folds, \n",
    "                                 transform=get_transforms(data='valid'))\n",
    "\n",
    "    train_loader = DataLoader(train_dataset, \n",
    "                              batch_size=CFG.batch_size, \n",
    "                              shuffle=True, \n",
    "                              num_workers=CFG.num_workers, pin_memory=True, drop_last=True)\n",
    "    valid_loader = DataLoader(valid_dataset, \n",
    "                              batch_size=CFG.batch_size, \n",
    "                              shuffle=False, \n",
    "                              num_workers=CFG.num_workers, pin_memory=True, drop_last=False)\n",
    "    \n",
    "    # ====================================================\n",
    "    # scheduler \n",
    "    # ====================================================\n",
    "    def get_scheduler(optimizer):\n",
    "        if CFG.scheduler=='ReduceLROnPlateau':\n",
    "            scheduler = ReduceLROnPlateau(optimizer, mode='min', factor=CFG.factor, patience=CFG.patience, verbose=True, eps=CFG.eps)\n",
    "        elif CFG.scheduler=='CosineAnnealingLR':\n",
    "            scheduler = CosineAnnealingLR(optimizer, T_max=CFG.T_max, eta_min=CFG.min_lr, last_epoch=-1)\n",
    "        elif CFG.scheduler=='CosineAnnealingWarmRestarts':\n",
    "            scheduler = CosineAnnealingWarmRestarts(optimizer, T_0=CFG.T_0, T_mult=1, eta_min=CFG.min_lr, last_epoch=-1)\n",
    "        return scheduler\n",
    "\n",
    "    # ====================================================\n",
    "    # model & optimizer\n",
    "    # ====================================================\n",
    "    model = CustomModel(CFG.model_name, pretrained=True)\n",
    "    model.to(device)\n",
    "\n",
    "    optimizer = Adam(model.parameters(), lr=CFG.lr, weight_decay=CFG.weight_decay, amsgrad=False)\n",
    "    scheduler = get_scheduler(optimizer)\n",
    "\n",
    "    # ====================================================\n",
    "    # apex\n",
    "    # ====================================================\n",
    "    if CFG.apex:\n",
    "        model, optimizer = amp.initialize(model, optimizer, opt_level='O1', verbosity=0)\n",
    "\n",
    "    # ====================================================\n",
    "    # loop\n",
    "    # ====================================================\n",
    "    criterion = nn.CrossEntropyLoss()\n",
    "\n",
    "    best_score = 0.\n",
    "    best_loss = np.inf\n",
    "    \n",
    "    for epoch in range(CFG.epochs):\n",
    "        \n",
    "        start_time = time.time()\n",
    "        \n",
    "        # train\n",
    "        avg_loss = train_fn(train_loader, model, criterion, optimizer, epoch, scheduler, device)\n",
    "\n",
    "        # eval\n",
    "        avg_val_loss, preds = valid_fn(valid_loader, model, criterion, device)\n",
    "        valid_labels = valid_folds[CFG.target_col].values\n",
    "        \n",
    "        if isinstance(scheduler, ReduceLROnPlateau):\n",
    "            scheduler.step(avg_val_loss)\n",
    "        elif isinstance(scheduler, CosineAnnealingLR):\n",
    "            scheduler.step()\n",
    "        elif isinstance(scheduler, CosineAnnealingWarmRestarts):\n",
    "            scheduler.step()\n",
    "\n",
    "        # scoring\n",
    "        score = get_score(valid_labels, preds.argmax(1))\n",
    "\n",
    "        elapsed = time.time() - start_time\n",
    "\n",
    "        LOGGER.info(f'Epoch {epoch+1} - avg_train_loss: {avg_loss:.4f}  avg_val_loss: {avg_val_loss:.4f}  time: {elapsed:.0f}s')\n",
    "        LOGGER.info(f'Epoch {epoch+1} - Accuracy: {score}')\n",
    "\n",
    "        if score > best_score:\n",
    "            best_score = score\n",
    "            LOGGER.info(f'Epoch {epoch+1} - Save Best Score: {best_score:.4f} Model')\n",
    "            torch.save({'model': model.state_dict(), \n",
    "                        'preds': preds},\n",
    "                        f'{CFG.model_name}_fold{fold}_best.pth')\n",
    "    \n",
    "\n",
    "    return valid_folds"
   ]
  },
  {
   "cell_type": "code",
   "execution_count": 23,
   "metadata": {},
   "outputs": [],
   "source": [
    "def main():\n",
    "\n",
    "    \"\"\"\n",
    "    Prepare: 1.train  2.test  3.submission  4.folds\n",
    "    \"\"\"\n",
    "\n",
    "    def get_result(result_df):\n",
    "        preds = result_df['preds'].values\n",
    "        labels = result_df[CFG.target_col].values\n",
    "        score = get_score(labels, preds)\n",
    "        LOGGER.info(f'Score: {score:<.5f}')\n",
    "    \n",
    "    if CFG.train:\n",
    "        # train \n",
    "        oof_df = pd.DataFrame()\n",
    "        for fold in range(CFG.n_fold):\n",
    "            if fold in CFG.trn_fold:\n",
    "                train_loop(folds, fold)\n",
    " \n",
    "    if CFG.inference:\n",
    "        # inference\n",
    "        model = CustomModel(CFG.model_name, pretrained=False)\n",
    "        states = [torch.load(OUTPUT_DIR+f'{CFG.model_name}_fold{fold}_best.pth') for fold in CFG.trn_fold]\n",
    "        test_dataset = TestDataset(test, transform=get_transforms(data='valid'))\n",
    "        test_loader = DataLoader(test_dataset, batch_size=CFG.batch_size, shuffle=False, \n",
    "                                 num_workers=CFG.num_workers, pin_memory=True)\n",
    "        predictions = inference(model, states, test_loader, device)\n",
    "        # submission\n",
    "        test['label'] = predictions.argmax(1)\n",
    "        test[['image_id', 'label']].to_csv(OUTPUT_DIR+'submission.csv', index=False)"
   ]
  },
  {
   "cell_type": "code",
   "execution_count": 26,
   "metadata": {
    "collapsed": true,
    "jupyter": {
     "outputs_hidden": true
    }
   },
   "outputs": [
    {
     "name": "stderr",
     "output_type": "stream",
     "text": [
      "========== fold: 0 training ==========\n"
     ]
    },
    {
     "name": "stdout",
     "output_type": "stream",
     "text": [
      "Epoch: [1][0/50] Data 0.357 (0.357) Elapsed 0m 0s (remain 0m 39s) Loss: 0.6654(0.6654) Grad: 2.7430  \n",
      "Epoch: [1][49/50] Data 0.325 (0.332) Elapsed 0m 36s (remain 0m 0s) Loss: 0.3141(0.4375) Grad: 1.0427  \n",
      "EVAL: [0/13] Data 0.302 (0.302) Elapsed 0m 0s (remain 0m 4s) Loss: 0.3302(0.3302) \n"
     ]
    },
    {
     "name": "stderr",
     "output_type": "stream",
     "text": [
      "Epoch 1 - avg_train_loss: 0.4375  avg_val_loss: 0.3843  time: 42s\n",
      "Epoch 1 - Accuracy: 0.88\n",
      "Epoch 1 - Save Best Score: 0.8800 Model\n"
     ]
    },
    {
     "name": "stdout",
     "output_type": "stream",
     "text": [
      "EVAL: [12/13] Data 0.145 (0.290) Elapsed 0m 5s (remain 0m 0s) Loss: 0.7940(0.3843) \n",
      "Epoch: [2][0/50] Data 0.335 (0.335) Elapsed 0m 0s (remain 0m 35s) Loss: 0.1234(0.1234) Grad: 0.8830  \n",
      "Epoch: [2][49/50] Data 0.315 (0.333) Elapsed 0m 36s (remain 0m 0s) Loss: 0.4083(0.3675) Grad: 0.9021  \n",
      "EVAL: [0/13] Data 0.301 (0.301) Elapsed 0m 0s (remain 0m 4s) Loss: 0.3634(0.3634) \n"
     ]
    },
    {
     "name": "stderr",
     "output_type": "stream",
     "text": [
      "Epoch 2 - avg_train_loss: 0.3675  avg_val_loss: 0.3725  time: 42s\n",
      "Epoch 2 - Accuracy: 0.88\n"
     ]
    },
    {
     "name": "stdout",
     "output_type": "stream",
     "text": [
      "EVAL: [12/13] Data 0.148 (0.293) Elapsed 0m 5s (remain 0m 0s) Loss: 0.5989(0.3725) \n",
      "Epoch: [3][0/50] Data 0.336 (0.336) Elapsed 0m 0s (remain 0m 36s) Loss: 0.3003(0.3003) Grad: 0.6481  \n",
      "Epoch: [3][49/50] Data 0.330 (0.333) Elapsed 0m 36s (remain 0m 0s) Loss: 0.1143(0.3577) Grad: 0.7922  \n",
      "EVAL: [0/13] Data 0.303 (0.303) Elapsed 0m 0s (remain 0m 4s) Loss: 0.3323(0.3323) \n"
     ]
    },
    {
     "name": "stderr",
     "output_type": "stream",
     "text": [
      "Epoch 3 - avg_train_loss: 0.3577  avg_val_loss: 0.3891  time: 42s\n",
      "Epoch 3 - Accuracy: 0.88\n"
     ]
    },
    {
     "name": "stdout",
     "output_type": "stream",
     "text": [
      "EVAL: [12/13] Data 0.145 (0.288) Elapsed 0m 5s (remain 0m 0s) Loss: 0.7466(0.3891) \n",
      "Epoch: [4][0/50] Data 0.343 (0.343) Elapsed 0m 0s (remain 0m 36s) Loss: 0.1121(0.1121) Grad: 0.7970  \n",
      "Epoch: [4][49/50] Data 0.337 (0.335) Elapsed 0m 36s (remain 0m 0s) Loss: 0.1241(0.3559) Grad: 0.8102  \n",
      "EVAL: [0/13] Data 0.306 (0.306) Elapsed 0m 0s (remain 0m 4s) Loss: 0.3975(0.3975) \n"
     ]
    },
    {
     "name": "stderr",
     "output_type": "stream",
     "text": [
      "Epoch 4 - avg_train_loss: 0.3559  avg_val_loss: 0.3830  time: 42s\n",
      "Epoch 4 - Accuracy: 0.88\n"
     ]
    },
    {
     "name": "stdout",
     "output_type": "stream",
     "text": [
      "EVAL: [12/13] Data 0.151 (0.293) Elapsed 0m 5s (remain 0m 0s) Loss: 0.7277(0.3830) \n",
      "Epoch: [5][0/50] Data 0.355 (0.355) Elapsed 0m 0s (remain 0m 37s) Loss: 0.1093(0.1093) Grad: 0.7789  \n",
      "Epoch: [5][49/50] Data 0.336 (0.334) Elapsed 0m 36s (remain 0m 0s) Loss: 0.2113(0.3310) Grad: 1.1050  \n",
      "EVAL: [0/13] Data 0.313 (0.313) Elapsed 0m 0s (remain 0m 5s) Loss: 0.3481(0.3481) \n"
     ]
    },
    {
     "name": "stderr",
     "output_type": "stream",
     "text": [
      "Epoch 5 - avg_train_loss: 0.3310  avg_val_loss: 0.3654  time: 42s\n",
      "Epoch 5 - Accuracy: 0.88\n"
     ]
    },
    {
     "name": "stdout",
     "output_type": "stream",
     "text": [
      "EVAL: [12/13] Data 0.146 (0.290) Elapsed 0m 5s (remain 0m 0s) Loss: 0.5090(0.3654) \n",
      "Epoch: [6][0/50] Data 0.330 (0.330) Elapsed 0m 0s (remain 0m 35s) Loss: 0.9379(0.9379) Grad: 2.8600  \n",
      "Epoch: [6][49/50] Data 0.330 (0.333) Elapsed 0m 36s (remain 0m 0s) Loss: 0.7100(0.3432) Grad: 2.3802  \n",
      "EVAL: [0/13] Data 0.312 (0.312) Elapsed 0m 0s (remain 0m 5s) Loss: 0.3586(0.3586) \n"
     ]
    },
    {
     "name": "stderr",
     "output_type": "stream",
     "text": [
      "Epoch 6 - avg_train_loss: 0.3432  avg_val_loss: 0.3606  time: 42s\n",
      "Epoch 6 - Accuracy: 0.88\n"
     ]
    },
    {
     "name": "stdout",
     "output_type": "stream",
     "text": [
      "EVAL: [12/13] Data 0.149 (0.296) Elapsed 0m 5s (remain 0m 0s) Loss: 0.6451(0.3606) \n",
      "Epoch: [7][0/50] Data 0.339 (0.339) Elapsed 0m 0s (remain 0m 36s) Loss: 0.2311(0.2311) Grad: 0.7908  \n",
      "Epoch: [7][49/50] Data 0.353 (0.331) Elapsed 0m 36s (remain 0m 0s) Loss: 0.3544(0.3160) Grad: 1.5198  \n",
      "EVAL: [0/13] Data 0.315 (0.315) Elapsed 0m 0s (remain 0m 5s) Loss: 0.4271(0.4271) \n"
     ]
    },
    {
     "name": "stderr",
     "output_type": "stream",
     "text": [
      "Epoch 7 - avg_train_loss: 0.3160  avg_val_loss: 0.4028  time: 42s\n",
      "Epoch 7 - Accuracy: 0.88\n"
     ]
    },
    {
     "name": "stdout",
     "output_type": "stream",
     "text": [
      "EVAL: [12/13] Data 0.150 (0.291) Elapsed 0m 5s (remain 0m 0s) Loss: 0.5023(0.4028) \n",
      "Epoch: [8][0/50] Data 0.342 (0.342) Elapsed 0m 0s (remain 0m 36s) Loss: 0.1528(0.1528) Grad: 0.9761  \n",
      "Epoch: [8][49/50] Data 0.334 (0.333) Elapsed 0m 36s (remain 0m 0s) Loss: 0.3603(0.2947) Grad: 2.1060  \n",
      "EVAL: [0/13] Data 0.301 (0.301) Elapsed 0m 0s (remain 0m 4s) Loss: 0.2482(0.2482) \n"
     ]
    },
    {
     "name": "stderr",
     "output_type": "stream",
     "text": [
      "Epoch 8 - avg_train_loss: 0.2947  avg_val_loss: 0.3437  time: 42s\n",
      "Epoch 8 - Accuracy: 0.88\n"
     ]
    },
    {
     "name": "stdout",
     "output_type": "stream",
     "text": [
      "EVAL: [12/13] Data 0.147 (0.289) Elapsed 0m 5s (remain 0m 0s) Loss: 0.5160(0.3437) \n",
      "Epoch: [9][0/50] Data 0.337 (0.337) Elapsed 0m 0s (remain 0m 36s) Loss: 0.1789(0.1789) Grad: 1.1652  \n",
      "Epoch: [9][49/50] Data 0.334 (0.334) Elapsed 0m 36s (remain 0m 0s) Loss: 0.3552(0.2925) Grad: 2.5913  \n",
      "EVAL: [0/13] Data 0.303 (0.303) Elapsed 0m 0s (remain 0m 4s) Loss: 0.2720(0.2720) \n"
     ]
    },
    {
     "name": "stderr",
     "output_type": "stream",
     "text": [
      "Epoch 9 - avg_train_loss: 0.2925  avg_val_loss: 0.2925  time: 42s\n",
      "Epoch 9 - Accuracy: 0.9\n",
      "Epoch 9 - Save Best Score: 0.9000 Model\n"
     ]
    },
    {
     "name": "stdout",
     "output_type": "stream",
     "text": [
      "EVAL: [12/13] Data 0.145 (0.290) Elapsed 0m 5s (remain 0m 0s) Loss: 0.3819(0.2925) \n",
      "Epoch: [10][0/50] Data 0.314 (0.314) Elapsed 0m 0s (remain 0m 35s) Loss: 0.1976(0.1976) Grad: 1.2254  \n",
      "Epoch: [10][49/50] Data 0.337 (0.333) Elapsed 0m 36s (remain 0m 0s) Loss: 0.2735(0.2424) Grad: 1.7479  \n",
      "EVAL: [0/13] Data 0.304 (0.304) Elapsed 0m 0s (remain 0m 4s) Loss: 0.3395(0.3395) \n"
     ]
    },
    {
     "name": "stderr",
     "output_type": "stream",
     "text": [
      "Epoch 10 - avg_train_loss: 0.2424  avg_val_loss: 0.2824  time: 42s\n",
      "Epoch 10 - Accuracy: 0.9\n"
     ]
    },
    {
     "name": "stdout",
     "output_type": "stream",
     "text": [
      "EVAL: [12/13] Data 0.145 (0.289) Elapsed 0m 5s (remain 0m 0s) Loss: 0.1999(0.2824) \n",
      "Epoch: [11][0/50] Data 0.341 (0.341) Elapsed 0m 0s (remain 0m 37s) Loss: 0.1069(0.1069) Grad: 0.6525  \n",
      "Epoch: [11][49/50] Data 0.344 (0.333) Elapsed 0m 37s (remain 0m 0s) Loss: 0.0982(0.2456) Grad: 0.8882  \n",
      "EVAL: [0/13] Data 0.313 (0.313) Elapsed 0m 0s (remain 0m 5s) Loss: 0.4356(0.4356) \n"
     ]
    },
    {
     "name": "stderr",
     "output_type": "stream",
     "text": [
      "Epoch 11 - avg_train_loss: 0.2456  avg_val_loss: 0.2216  time: 42s\n",
      "Epoch 11 - Accuracy: 0.94\n",
      "Epoch 11 - Save Best Score: 0.9400 Model\n"
     ]
    },
    {
     "name": "stdout",
     "output_type": "stream",
     "text": [
      "EVAL: [12/13] Data 0.146 (0.293) Elapsed 0m 5s (remain 0m 0s) Loss: 0.1405(0.2216) \n",
      "Epoch: [12][0/50] Data 0.321 (0.321) Elapsed 0m 0s (remain 0m 35s) Loss: 0.0952(0.0952) Grad: 0.7217  \n",
      "Epoch: [12][49/50] Data 0.359 (0.335) Elapsed 0m 37s (remain 0m 0s) Loss: 0.6222(0.1913) Grad: 5.0788  \n",
      "EVAL: [0/13] Data 0.315 (0.315) Elapsed 0m 0s (remain 0m 5s) Loss: 0.2232(0.2232) \n"
     ]
    },
    {
     "name": "stderr",
     "output_type": "stream",
     "text": [
      "Epoch 12 - avg_train_loss: 0.1913  avg_val_loss: 0.2374  time: 42s\n",
      "Epoch 12 - Accuracy: 0.87\n"
     ]
    },
    {
     "name": "stdout",
     "output_type": "stream",
     "text": [
      "EVAL: [12/13] Data 0.147 (0.295) Elapsed 0m 5s (remain 0m 0s) Loss: 0.1987(0.2374) \n",
      "Epoch: [13][0/50] Data 0.349 (0.349) Elapsed 0m 0s (remain 0m 37s) Loss: 0.0434(0.0434) Grad: 0.5184  \n",
      "Epoch: [13][49/50] Data 0.328 (0.335) Elapsed 0m 37s (remain 0m 0s) Loss: 0.2380(0.1939) Grad: 2.7999  \n",
      "EVAL: [0/13] Data 0.302 (0.302) Elapsed 0m 0s (remain 0m 4s) Loss: 0.3007(0.3007) \n"
     ]
    },
    {
     "name": "stderr",
     "output_type": "stream",
     "text": [
      "Epoch 13 - avg_train_loss: 0.1939  avg_val_loss: 0.2269  time: 43s\n",
      "Epoch 13 - Accuracy: 0.91\n"
     ]
    },
    {
     "name": "stdout",
     "output_type": "stream",
     "text": [
      "EVAL: [12/13] Data 0.144 (0.291) Elapsed 0m 5s (remain 0m 0s) Loss: 0.0558(0.2269) \n",
      "Epoch: [14][0/50] Data 0.330 (0.330) Elapsed 0m 0s (remain 0m 36s) Loss: 0.2530(0.2530) Grad: 2.3137  \n",
      "Epoch: [14][49/50] Data 0.332 (0.336) Elapsed 0m 37s (remain 0m 0s) Loss: 0.0254(0.1669) Grad: 0.2231  \n",
      "EVAL: [0/13] Data 0.302 (0.302) Elapsed 0m 0s (remain 0m 4s) Loss: 0.5899(0.5899) \n"
     ]
    },
    {
     "name": "stderr",
     "output_type": "stream",
     "text": [
      "Epoch 14 - avg_train_loss: 0.1669  avg_val_loss: 0.1934  time: 43s\n",
      "Epoch 14 - Accuracy: 0.91\n"
     ]
    },
    {
     "name": "stdout",
     "output_type": "stream",
     "text": [
      "EVAL: [12/13] Data 0.147 (0.292) Elapsed 0m 5s (remain 0m 0s) Loss: 0.0985(0.1934) \n",
      "Epoch: [15][0/50] Data 0.334 (0.334) Elapsed 0m 0s (remain 0m 36s) Loss: 0.2274(0.2274) Grad: 2.3320  \n",
      "Epoch: [15][49/50] Data 0.344 (0.332) Elapsed 0m 37s (remain 0m 0s) Loss: 0.1013(0.1525) Grad: 1.7635  \n",
      "EVAL: [0/13] Data 0.301 (0.301) Elapsed 0m 0s (remain 0m 4s) Loss: 0.6986(0.6986) \n"
     ]
    },
    {
     "name": "stderr",
     "output_type": "stream",
     "text": [
      "Epoch 15 - avg_train_loss: 0.1525  avg_val_loss: 0.2444  time: 42s\n",
      "Epoch 15 - Accuracy: 0.87\n"
     ]
    },
    {
     "name": "stdout",
     "output_type": "stream",
     "text": [
      "EVAL: [12/13] Data 0.147 (0.290) Elapsed 0m 5s (remain 0m 0s) Loss: 0.0223(0.2444) \n",
      "Epoch: [16][0/50] Data 0.335 (0.335) Elapsed 0m 0s (remain 0m 36s) Loss: 0.0657(0.0657) Grad: 1.5718  \n",
      "Epoch: [16][49/50] Data 0.341 (0.331) Elapsed 0m 37s (remain 0m 0s) Loss: 0.2365(0.1274) Grad: 3.4184  \n",
      "EVAL: [0/13] Data 0.302 (0.302) Elapsed 0m 0s (remain 0m 4s) Loss: 0.9137(0.9137) \n"
     ]
    },
    {
     "name": "stderr",
     "output_type": "stream",
     "text": [
      "Epoch 16 - avg_train_loss: 0.1274  avg_val_loss: 0.2319  time: 42s\n",
      "Epoch 16 - Accuracy: 0.9\n"
     ]
    },
    {
     "name": "stdout",
     "output_type": "stream",
     "text": [
      "EVAL: [12/13] Data 0.145 (0.292) Elapsed 0m 5s (remain 0m 0s) Loss: 0.0365(0.2319) \n",
      "Epoch: [17][0/50] Data 0.325 (0.325) Elapsed 0m 0s (remain 0m 36s) Loss: 0.0236(0.0236) Grad: 0.5324  \n",
      "Epoch: [17][49/50] Data 0.332 (0.333) Elapsed 0m 37s (remain 0m 0s) Loss: 0.0496(0.0946) Grad: 1.5292  \n",
      "EVAL: [0/13] Data 0.308 (0.308) Elapsed 0m 0s (remain 0m 4s) Loss: 0.7127(0.7127) \n"
     ]
    },
    {
     "name": "stderr",
     "output_type": "stream",
     "text": [
      "Epoch 17 - avg_train_loss: 0.0946  avg_val_loss: 0.1808  time: 42s\n",
      "Epoch 17 - Accuracy: 0.93\n"
     ]
    },
    {
     "name": "stdout",
     "output_type": "stream",
     "text": [
      "EVAL: [12/13] Data 0.150 (0.294) Elapsed 0m 5s (remain 0m 0s) Loss: 0.0142(0.1808) \n",
      "Epoch: [18][0/50] Data 0.337 (0.337) Elapsed 0m 0s (remain 0m 36s) Loss: 0.0871(0.0871) Grad: 2.4458  \n",
      "Epoch: [18][49/50] Data 0.337 (0.333) Elapsed 0m 37s (remain 0m 0s) Loss: 0.1672(0.0938) Grad: 2.1368  \n",
      "EVAL: [0/13] Data 0.300 (0.300) Elapsed 0m 0s (remain 0m 4s) Loss: 0.7590(0.7590) \n"
     ]
    },
    {
     "name": "stderr",
     "output_type": "stream",
     "text": [
      "Epoch 18 - avg_train_loss: 0.0938  avg_val_loss: 0.4716  time: 42s\n",
      "Epoch 18 - Accuracy: 0.79\n"
     ]
    },
    {
     "name": "stdout",
     "output_type": "stream",
     "text": [
      "EVAL: [12/13] Data 0.147 (0.292) Elapsed 0m 5s (remain 0m 0s) Loss: 0.1060(0.4716) \n",
      "Epoch: [19][0/50] Data 0.356 (0.356) Elapsed 0m 0s (remain 0m 37s) Loss: 0.0381(0.0381) Grad: 1.8716  \n",
      "Epoch: [19][49/50] Data 0.355 (0.334) Elapsed 0m 37s (remain 0m 0s) Loss: 0.0178(0.1003) Grad: 0.6563  \n",
      "EVAL: [0/13] Data 0.311 (0.311) Elapsed 0m 0s (remain 0m 5s) Loss: 0.6726(0.6726) \n"
     ]
    },
    {
     "name": "stderr",
     "output_type": "stream",
     "text": [
      "Epoch 19 - avg_train_loss: 0.1003  avg_val_loss: 0.1800  time: 42s\n",
      "Epoch 19 - Accuracy: 0.93\n"
     ]
    },
    {
     "name": "stdout",
     "output_type": "stream",
     "text": [
      "EVAL: [12/13] Data 0.145 (0.292) Elapsed 0m 5s (remain 0m 0s) Loss: 0.0104(0.1800) \n",
      "Epoch: [20][0/50] Data 0.326 (0.326) Elapsed 0m 0s (remain 0m 36s) Loss: 0.1127(0.1127) Grad: 3.1976  \n",
      "Epoch: [20][49/50] Data 0.343 (0.331) Elapsed 0m 37s (remain 0m 0s) Loss: 0.0099(0.1091) Grad: 0.2214  \n",
      "EVAL: [0/13] Data 0.299 (0.299) Elapsed 0m 0s (remain 0m 4s) Loss: 0.6983(0.6983) \n"
     ]
    },
    {
     "name": "stderr",
     "output_type": "stream",
     "text": [
      "Epoch 20 - avg_train_loss: 0.1091  avg_val_loss: 0.1914  time: 42s\n",
      "Epoch 20 - Accuracy: 0.93\n"
     ]
    },
    {
     "name": "stdout",
     "output_type": "stream",
     "text": [
      "EVAL: [12/13] Data 0.144 (0.288) Elapsed 0m 5s (remain 0m 0s) Loss: 0.0178(0.1914) \n",
      "Epoch: [21][0/50] Data 0.332 (0.332) Elapsed 0m 0s (remain 0m 36s) Loss: 0.0651(0.0651) Grad: 1.4009  \n",
      "Epoch: [21][49/50] Data 0.341 (0.333) Elapsed 0m 37s (remain 0m 0s) Loss: 0.0282(0.1114) Grad: 0.6149  \n",
      "EVAL: [0/13] Data 0.302 (0.302) Elapsed 0m 0s (remain 0m 4s) Loss: 0.6371(0.6371) \n"
     ]
    },
    {
     "name": "stderr",
     "output_type": "stream",
     "text": [
      "Epoch 21 - avg_train_loss: 0.1114  avg_val_loss: 0.2322  time: 42s\n",
      "Epoch 21 - Accuracy: 0.95\n",
      "Epoch 21 - Save Best Score: 0.9500 Model\n"
     ]
    },
    {
     "name": "stdout",
     "output_type": "stream",
     "text": [
      "EVAL: [12/13] Data 0.148 (0.289) Elapsed 0m 5s (remain 0m 0s) Loss: 0.0280(0.2322) \n",
      "Epoch: [22][0/50] Data 0.339 (0.339) Elapsed 0m 0s (remain 0m 36s) Loss: 0.0285(0.0285) Grad: 0.7450  \n",
      "Epoch: [22][49/50] Data 0.338 (0.333) Elapsed 0m 37s (remain 0m 0s) Loss: 0.0038(0.0650) Grad: 0.0709  \n",
      "EVAL: [0/13] Data 0.298 (0.298) Elapsed 0m 0s (remain 0m 4s) Loss: 0.3791(0.3791) \n"
     ]
    },
    {
     "name": "stderr",
     "output_type": "stream",
     "text": [
      "Epoch 22 - avg_train_loss: 0.0650  avg_val_loss: 0.3082  time: 42s\n",
      "Epoch 22 - Accuracy: 0.91\n"
     ]
    },
    {
     "name": "stdout",
     "output_type": "stream",
     "text": [
      "EVAL: [12/13] Data 0.146 (0.291) Elapsed 0m 5s (remain 0m 0s) Loss: 0.0079(0.3082) \n",
      "Epoch: [23][0/50] Data 0.325 (0.325) Elapsed 0m 0s (remain 0m 36s) Loss: 0.0237(0.0237) Grad: 0.3765  \n",
      "Epoch: [23][49/50] Data 0.335 (0.332) Elapsed 0m 37s (remain 0m 0s) Loss: 0.0126(0.0844) Grad: 0.3203  \n",
      "EVAL: [0/13] Data 0.301 (0.301) Elapsed 0m 0s (remain 0m 4s) Loss: 0.7347(0.7347) \n"
     ]
    },
    {
     "name": "stderr",
     "output_type": "stream",
     "text": [
      "Epoch 23 - avg_train_loss: 0.0844  avg_val_loss: 0.2653  time: 42s\n",
      "Epoch 23 - Accuracy: 0.91\n"
     ]
    },
    {
     "name": "stdout",
     "output_type": "stream",
     "text": [
      "EVAL: [12/13] Data 0.149 (0.288) Elapsed 0m 5s (remain 0m 0s) Loss: 0.0101(0.2653) \n",
      "Epoch: [24][0/50] Data 0.332 (0.332) Elapsed 0m 0s (remain 0m 36s) Loss: 0.0251(0.0251) Grad: 0.6489  \n",
      "Epoch: [24][49/50] Data 0.316 (0.329) Elapsed 0m 37s (remain 0m 0s) Loss: 0.0109(0.1018) Grad: 0.1520  \n",
      "EVAL: [0/13] Data 0.299 (0.299) Elapsed 0m 0s (remain 0m 4s) Loss: 1.0384(1.0384) \n"
     ]
    },
    {
     "name": "stderr",
     "output_type": "stream",
     "text": [
      "Epoch 24 - avg_train_loss: 0.1018  avg_val_loss: 0.2702  time: 42s\n",
      "Epoch 24 - Accuracy: 0.93\n"
     ]
    },
    {
     "name": "stdout",
     "output_type": "stream",
     "text": [
      "EVAL: [12/13] Data 0.144 (0.289) Elapsed 0m 5s (remain 0m 0s) Loss: 0.0045(0.2702) \n",
      "Epoch: [25][0/50] Data 0.313 (0.313) Elapsed 0m 0s (remain 0m 35s) Loss: 0.0163(0.0163) Grad: 0.1853  \n",
      "Epoch: [25][49/50] Data 0.331 (0.332) Elapsed 0m 37s (remain 0m 0s) Loss: 0.0510(0.0833) Grad: 1.5602  \n",
      "EVAL: [0/13] Data 0.300 (0.300) Elapsed 0m 0s (remain 0m 4s) Loss: 0.8378(0.8378) \n"
     ]
    },
    {
     "name": "stderr",
     "output_type": "stream",
     "text": [
      "Epoch 25 - avg_train_loss: 0.0833  avg_val_loss: 0.2205  time: 42s\n",
      "Epoch 25 - Accuracy: 0.9\n"
     ]
    },
    {
     "name": "stdout",
     "output_type": "stream",
     "text": [
      "EVAL: [12/13] Data 0.145 (0.288) Elapsed 0m 5s (remain 0m 0s) Loss: 0.0019(0.2205) \n",
      "Epoch    25: reducing learning rate of group 0 to 2.0000e-05.\n",
      "Epoch: [26][0/50] Data 0.333 (0.333) Elapsed 0m 0s (remain 0m 36s) Loss: 0.0093(0.0093) Grad: 0.1676  \n",
      "Epoch: [26][49/50] Data 0.339 (0.333) Elapsed 0m 36s (remain 0m 0s) Loss: 0.0166(0.0555) Grad: 0.4498  \n",
      "EVAL: [0/13] Data 0.300 (0.300) Elapsed 0m 0s (remain 0m 4s) Loss: 0.7573(0.7573) \n"
     ]
    },
    {
     "name": "stderr",
     "output_type": "stream",
     "text": [
      "Epoch 26 - avg_train_loss: 0.0555  avg_val_loss: 0.2508  time: 42s\n",
      "Epoch 26 - Accuracy: 0.9\n"
     ]
    },
    {
     "name": "stdout",
     "output_type": "stream",
     "text": [
      "EVAL: [12/13] Data 0.146 (0.290) Elapsed 0m 5s (remain 0m 0s) Loss: 0.0030(0.2508) \n",
      "Epoch: [27][0/50] Data 0.323 (0.323) Elapsed 0m 0s (remain 0m 35s) Loss: 0.0179(0.0179) Grad: 0.3055  \n",
      "Epoch: [27][49/50] Data 0.335 (0.331) Elapsed 0m 36s (remain 0m 0s) Loss: 0.0130(0.0399) Grad: 0.4317  \n",
      "EVAL: [0/13] Data 0.314 (0.314) Elapsed 0m 0s (remain 0m 5s) Loss: 0.6936(0.6936) \n"
     ]
    },
    {
     "name": "stderr",
     "output_type": "stream",
     "text": [
      "Epoch 27 - avg_train_loss: 0.0399  avg_val_loss: 0.2691  time: 42s\n",
      "Epoch 27 - Accuracy: 0.92\n"
     ]
    },
    {
     "name": "stdout",
     "output_type": "stream",
     "text": [
      "EVAL: [12/13] Data 0.146 (0.291) Elapsed 0m 5s (remain 0m 0s) Loss: 0.0079(0.2691) \n",
      "Epoch: [28][0/50] Data 0.336 (0.336) Elapsed 0m 0s (remain 0m 36s) Loss: 0.0068(0.0068) Grad: 0.1584  \n",
      "Epoch: [28][49/50] Data 0.331 (0.334) Elapsed 0m 36s (remain 0m 0s) Loss: 0.0291(0.0404) Grad: 1.0957  \n",
      "EVAL: [0/13] Data 0.303 (0.303) Elapsed 0m 0s (remain 0m 4s) Loss: 0.6570(0.6570) \n"
     ]
    },
    {
     "name": "stderr",
     "output_type": "stream",
     "text": [
      "Epoch 28 - avg_train_loss: 0.0404  avg_val_loss: 0.2785  time: 42s\n",
      "Epoch 28 - Accuracy: 0.94\n"
     ]
    },
    {
     "name": "stdout",
     "output_type": "stream",
     "text": [
      "EVAL: [12/13] Data 0.146 (0.288) Elapsed 0m 5s (remain 0m 0s) Loss: 0.0170(0.2785) \n",
      "Epoch: [29][0/50] Data 0.348 (0.348) Elapsed 0m 0s (remain 0m 37s) Loss: 0.0246(0.0246) Grad: 0.5504  \n",
      "Epoch: [29][49/50] Data 0.319 (0.334) Elapsed 0m 36s (remain 0m 0s) Loss: 0.0045(0.0613) Grad: 0.1300  \n",
      "EVAL: [0/13] Data 0.304 (0.304) Elapsed 0m 0s (remain 0m 4s) Loss: 0.6399(0.6399) \n"
     ]
    },
    {
     "name": "stderr",
     "output_type": "stream",
     "text": [
      "Epoch 29 - avg_train_loss: 0.0613  avg_val_loss: 0.2730  time: 42s\n",
      "Epoch 29 - Accuracy: 0.9\n"
     ]
    },
    {
     "name": "stdout",
     "output_type": "stream",
     "text": [
      "EVAL: [12/13] Data 0.146 (0.288) Elapsed 0m 5s (remain 0m 0s) Loss: 0.0053(0.2730) \n",
      "Epoch: [30][0/50] Data 0.350 (0.350) Elapsed 0m 0s (remain 0m 37s) Loss: 0.0081(0.0081) Grad: 0.1567  \n",
      "Epoch: [30][49/50] Data 0.338 (0.332) Elapsed 0m 36s (remain 0m 0s) Loss: 0.0033(0.0262) Grad: 0.0528  \n",
      "EVAL: [0/13] Data 0.299 (0.299) Elapsed 0m 0s (remain 0m 4s) Loss: 0.6922(0.6922) \n"
     ]
    },
    {
     "name": "stderr",
     "output_type": "stream",
     "text": [
      "Epoch 30 - avg_train_loss: 0.0262  avg_val_loss: 0.2564  time: 42s\n",
      "Epoch 30 - Accuracy: 0.91\n"
     ]
    },
    {
     "name": "stdout",
     "output_type": "stream",
     "text": [
      "EVAL: [12/13] Data 0.145 (0.287) Elapsed 0m 5s (remain 0m 0s) Loss: 0.0047(0.2564) \n",
      "Epoch: [31][0/50] Data 0.346 (0.346) Elapsed 0m 0s (remain 0m 36s) Loss: 0.0017(0.0017) Grad: 0.0294  \n",
      "Epoch: [31][49/50] Data 0.334 (0.334) Elapsed 0m 36s (remain 0m 0s) Loss: 0.0109(0.0350) Grad: 0.4507  \n",
      "EVAL: [0/13] Data 0.301 (0.301) Elapsed 0m 0s (remain 0m 4s) Loss: 0.7587(0.7587) \n"
     ]
    },
    {
     "name": "stderr",
     "output_type": "stream",
     "text": [
      "Epoch 31 - avg_train_loss: 0.0350  avg_val_loss: 0.2539  time: 42s\n",
      "Epoch 31 - Accuracy: 0.92\n"
     ]
    },
    {
     "name": "stdout",
     "output_type": "stream",
     "text": [
      "EVAL: [12/13] Data 0.147 (0.288) Elapsed 0m 5s (remain 0m 0s) Loss: 0.0048(0.2539) \n",
      "Epoch    31: reducing learning rate of group 0 to 4.0000e-06.\n",
      "Epoch: [32][0/50] Data 0.340 (0.340) Elapsed 0m 0s (remain 0m 36s) Loss: 0.0065(0.0065) Grad: 0.1593  \n",
      "Epoch: [32][49/50] Data 0.331 (0.333) Elapsed 0m 36s (remain 0m 0s) Loss: 0.0049(0.0213) Grad: 0.0819  \n",
      "EVAL: [0/13] Data 0.305 (0.305) Elapsed 0m 0s (remain 0m 4s) Loss: 0.7693(0.7693) \n"
     ]
    },
    {
     "name": "stderr",
     "output_type": "stream",
     "text": [
      "Epoch 32 - avg_train_loss: 0.0213  avg_val_loss: 0.2499  time: 42s\n",
      "Epoch 32 - Accuracy: 0.93\n"
     ]
    },
    {
     "name": "stdout",
     "output_type": "stream",
     "text": [
      "EVAL: [12/13] Data 0.145 (0.288) Elapsed 0m 5s (remain 0m 0s) Loss: 0.0042(0.2499) \n",
      "Epoch: [33][0/50] Data 0.330 (0.330) Elapsed 0m 0s (remain 0m 36s) Loss: 0.0078(0.0078) Grad: 0.2990  \n",
      "Epoch: [33][49/50] Data 0.330 (0.330) Elapsed 0m 36s (remain 0m 0s) Loss: 0.0055(0.0277) Grad: 0.1794  \n",
      "EVAL: [0/13] Data 0.299 (0.299) Elapsed 0m 0s (remain 0m 4s) Loss: 0.7957(0.7957) \n"
     ]
    },
    {
     "name": "stderr",
     "output_type": "stream",
     "text": [
      "Epoch 33 - avg_train_loss: 0.0277  avg_val_loss: 0.2545  time: 42s\n",
      "Epoch 33 - Accuracy: 0.92\n"
     ]
    },
    {
     "name": "stdout",
     "output_type": "stream",
     "text": [
      "EVAL: [12/13] Data 0.149 (0.288) Elapsed 0m 5s (remain 0m 0s) Loss: 0.0043(0.2545) \n",
      "Epoch: [34][0/50] Data 0.332 (0.332) Elapsed 0m 0s (remain 0m 35s) Loss: 0.0730(0.0730) Grad: 1.8883  \n",
      "Epoch: [34][49/50] Data 0.351 (0.336) Elapsed 0m 36s (remain 0m 0s) Loss: 0.0043(0.0270) Grad: 0.0724  \n",
      "EVAL: [0/13] Data 0.303 (0.303) Elapsed 0m 0s (remain 0m 4s) Loss: 0.7582(0.7582) \n"
     ]
    },
    {
     "name": "stderr",
     "output_type": "stream",
     "text": [
      "Epoch 34 - avg_train_loss: 0.0270  avg_val_loss: 0.2458  time: 42s\n",
      "Epoch 34 - Accuracy: 0.89\n"
     ]
    },
    {
     "name": "stdout",
     "output_type": "stream",
     "text": [
      "EVAL: [12/13] Data 0.145 (0.291) Elapsed 0m 5s (remain 0m 0s) Loss: 0.0033(0.2458) \n",
      "Epoch: [35][0/50] Data 0.335 (0.335) Elapsed 0m 0s (remain 0m 35s) Loss: 0.0197(0.0197) Grad: 0.5094  \n",
      "Epoch: [35][49/50] Data 0.326 (0.331) Elapsed 0m 36s (remain 0m 0s) Loss: 0.0186(0.0332) Grad: 0.3411  \n",
      "EVAL: [0/13] Data 0.315 (0.315) Elapsed 0m 0s (remain 0m 5s) Loss: 0.7883(0.7883) \n"
     ]
    },
    {
     "name": "stderr",
     "output_type": "stream",
     "text": [
      "Epoch 35 - avg_train_loss: 0.0332  avg_val_loss: 0.2604  time: 42s\n",
      "Epoch 35 - Accuracy: 0.92\n"
     ]
    },
    {
     "name": "stdout",
     "output_type": "stream",
     "text": [
      "EVAL: [12/13] Data 0.145 (0.291) Elapsed 0m 5s (remain 0m 0s) Loss: 0.0057(0.2604) \n",
      "Epoch: [36][0/50] Data 0.336 (0.336) Elapsed 0m 0s (remain 0m 36s) Loss: 0.0321(0.0321) Grad: 1.0265  \n",
      "Epoch: [36][49/50] Data 0.319 (0.329) Elapsed 0m 36s (remain 0m 0s) Loss: 0.0118(0.0326) Grad: 0.5174  \n",
      "EVAL: [0/13] Data 0.300 (0.300) Elapsed 0m 0s (remain 0m 4s) Loss: 0.7494(0.7494) \n"
     ]
    },
    {
     "name": "stderr",
     "output_type": "stream",
     "text": [
      "Epoch 36 - avg_train_loss: 0.0326  avg_val_loss: 0.2468  time: 42s\n",
      "Epoch 36 - Accuracy: 0.91\n"
     ]
    },
    {
     "name": "stdout",
     "output_type": "stream",
     "text": [
      "EVAL: [12/13] Data 0.146 (0.293) Elapsed 0m 5s (remain 0m 0s) Loss: 0.0051(0.2468) \n",
      "Epoch: [37][0/50] Data 0.326 (0.326) Elapsed 0m 0s (remain 0m 35s) Loss: 0.0034(0.0034) Grad: 0.0868  \n",
      "Epoch: [37][49/50] Data 0.339 (0.331) Elapsed 0m 36s (remain 0m 0s) Loss: 0.0177(0.0443) Grad: 0.5620  \n",
      "EVAL: [0/13] Data 0.301 (0.301) Elapsed 0m 0s (remain 0m 4s) Loss: 0.7216(0.7216) \n"
     ]
    },
    {
     "name": "stderr",
     "output_type": "stream",
     "text": [
      "Epoch 37 - avg_train_loss: 0.0443  avg_val_loss: 0.2532  time: 42s\n",
      "Epoch 37 - Accuracy: 0.91\n"
     ]
    },
    {
     "name": "stdout",
     "output_type": "stream",
     "text": [
      "EVAL: [12/13] Data 0.146 (0.289) Elapsed 0m 5s (remain 0m 0s) Loss: 0.0047(0.2532) \n",
      "Epoch    37: reducing learning rate of group 0 to 8.0000e-07.\n",
      "Epoch: [38][0/50] Data 0.327 (0.327) Elapsed 0m 0s (remain 0m 35s) Loss: 0.0031(0.0031) Grad: 0.0575  \n",
      "Epoch: [38][49/50] Data 0.328 (0.332) Elapsed 0m 36s (remain 0m 0s) Loss: 0.0118(0.0378) Grad: 0.4867  \n",
      "EVAL: [0/13] Data 0.300 (0.300) Elapsed 0m 0s (remain 0m 4s) Loss: 0.7923(0.7923) \n"
     ]
    },
    {
     "name": "stderr",
     "output_type": "stream",
     "text": [
      "Epoch 38 - avg_train_loss: 0.0378  avg_val_loss: 0.2642  time: 42s\n",
      "Epoch 38 - Accuracy: 0.91\n"
     ]
    },
    {
     "name": "stdout",
     "output_type": "stream",
     "text": [
      "EVAL: [12/13] Data 0.148 (0.290) Elapsed 0m 5s (remain 0m 0s) Loss: 0.0037(0.2642) \n",
      "Epoch: [39][0/50] Data 0.318 (0.318) Elapsed 0m 0s (remain 0m 35s) Loss: 0.0036(0.0036) Grad: 0.0851  \n",
      "Epoch: [39][49/50] Data 0.336 (0.332) Elapsed 0m 36s (remain 0m 0s) Loss: 0.0065(0.0244) Grad: 0.1483  \n",
      "EVAL: [0/13] Data 0.312 (0.312) Elapsed 0m 0s (remain 0m 5s) Loss: 0.7037(0.7037) \n"
     ]
    },
    {
     "name": "stderr",
     "output_type": "stream",
     "text": [
      "Epoch 39 - avg_train_loss: 0.0244  avg_val_loss: 0.2560  time: 42s\n",
      "Epoch 39 - Accuracy: 0.94\n"
     ]
    },
    {
     "name": "stdout",
     "output_type": "stream",
     "text": [
      "EVAL: [12/13] Data 0.150 (0.292) Elapsed 0m 5s (remain 0m 0s) Loss: 0.0081(0.2560) \n",
      "Epoch: [40][0/50] Data 0.332 (0.332) Elapsed 0m 0s (remain 0m 36s) Loss: 0.0025(0.0025) Grad: 0.0415  \n",
      "Epoch: [40][49/50] Data 0.330 (0.332) Elapsed 0m 37s (remain 0m 0s) Loss: 0.0028(0.0217) Grad: 0.0565  \n",
      "EVAL: [0/13] Data 0.310 (0.310) Elapsed 0m 0s (remain 0m 5s) Loss: 0.8067(0.8067) \n"
     ]
    },
    {
     "name": "stderr",
     "output_type": "stream",
     "text": [
      "Epoch 40 - avg_train_loss: 0.0217  avg_val_loss: 0.2647  time: 42s\n",
      "Epoch 40 - Accuracy: 0.9\n"
     ]
    },
    {
     "name": "stdout",
     "output_type": "stream",
     "text": [
      "EVAL: [12/13] Data 0.145 (0.289) Elapsed 0m 5s (remain 0m 0s) Loss: 0.0041(0.2647) \n",
      "Epoch: [41][0/50] Data 0.334 (0.334) Elapsed 0m 0s (remain 0m 36s) Loss: 0.0625(0.0625) Grad: 2.3875  \n",
      "Epoch: [41][49/50] Data 0.327 (0.331) Elapsed 0m 37s (remain 0m 0s) Loss: 0.0735(0.0263) Grad: 3.2036  \n",
      "EVAL: [0/13] Data 0.302 (0.302) Elapsed 0m 0s (remain 0m 4s) Loss: 0.7459(0.7459) \n"
     ]
    },
    {
     "name": "stderr",
     "output_type": "stream",
     "text": [
      "Epoch 41 - avg_train_loss: 0.0263  avg_val_loss: 0.2630  time: 42s\n",
      "Epoch 41 - Accuracy: 0.94\n"
     ]
    },
    {
     "name": "stdout",
     "output_type": "stream",
     "text": [
      "EVAL: [12/13] Data 0.146 (0.290) Elapsed 0m 5s (remain 0m 0s) Loss: 0.0064(0.2630) \n",
      "Epoch: [42][0/50] Data 0.340 (0.340) Elapsed 0m 0s (remain 0m 37s) Loss: 0.0601(0.0601) Grad: 2.0104  \n",
      "Epoch: [42][49/50] Data 0.318 (0.331) Elapsed 0m 37s (remain 0m 0s) Loss: 0.0643(0.0440) Grad: 2.6102  \n",
      "EVAL: [0/13] Data 0.303 (0.303) Elapsed 0m 0s (remain 0m 4s) Loss: 0.8309(0.8309) \n"
     ]
    },
    {
     "name": "stderr",
     "output_type": "stream",
     "text": [
      "Epoch 42 - avg_train_loss: 0.0440  avg_val_loss: 0.2590  time: 42s\n",
      "Epoch 42 - Accuracy: 0.9\n"
     ]
    },
    {
     "name": "stdout",
     "output_type": "stream",
     "text": [
      "EVAL: [12/13] Data 0.145 (0.289) Elapsed 0m 5s (remain 0m 0s) Loss: 0.0029(0.2590) \n",
      "Epoch: [43][0/50] Data 0.335 (0.335) Elapsed 0m 0s (remain 0m 36s) Loss: 0.0052(0.0052) Grad: 0.1243  \n",
      "Epoch: [43][49/50] Data 0.331 (0.334) Elapsed 0m 37s (remain 0m 0s) Loss: 0.0086(0.0297) Grad: 0.4030  \n",
      "EVAL: [0/13] Data 0.302 (0.302) Elapsed 0m 0s (remain 0m 4s) Loss: 0.8054(0.8054) \n"
     ]
    },
    {
     "name": "stderr",
     "output_type": "stream",
     "text": [
      "Epoch 43 - avg_train_loss: 0.0297  avg_val_loss: 0.2647  time: 42s\n",
      "Epoch 43 - Accuracy: 0.9\n"
     ]
    },
    {
     "name": "stdout",
     "output_type": "stream",
     "text": [
      "EVAL: [12/13] Data 0.146 (0.287) Elapsed 0m 5s (remain 0m 0s) Loss: 0.0034(0.2647) \n",
      "Epoch: [44][0/50] Data 0.348 (0.348) Elapsed 0m 0s (remain 0m 37s) Loss: 0.0049(0.0049) Grad: 0.1186  \n",
      "Epoch: [44][49/50] Data 0.351 (0.333) Elapsed 0m 37s (remain 0m 0s) Loss: 0.0690(0.0316) Grad: 2.3154  \n",
      "EVAL: [0/13] Data 0.299 (0.299) Elapsed 0m 0s (remain 0m 4s) Loss: 0.7737(0.7737) \n"
     ]
    },
    {
     "name": "stderr",
     "output_type": "stream",
     "text": [
      "Epoch 44 - avg_train_loss: 0.0316  avg_val_loss: 0.2790  time: 42s\n",
      "Epoch 44 - Accuracy: 0.94\n"
     ]
    },
    {
     "name": "stdout",
     "output_type": "stream",
     "text": [
      "EVAL: [12/13] Data 0.145 (0.291) Elapsed 0m 5s (remain 0m 0s) Loss: 0.0075(0.2790) \n",
      "Epoch: [45][0/50] Data 0.320 (0.320) Elapsed 0m 0s (remain 0m 36s) Loss: 0.0045(0.0045) Grad: 0.0835  \n",
      "Epoch: [45][49/50] Data 0.333 (0.330) Elapsed 0m 37s (remain 0m 0s) Loss: 0.0045(0.0313) Grad: 0.1228  \n",
      "EVAL: [0/13] Data 0.314 (0.314) Elapsed 0m 0s (remain 0m 5s) Loss: 0.7995(0.7995) \n"
     ]
    },
    {
     "name": "stderr",
     "output_type": "stream",
     "text": [
      "Epoch 45 - avg_train_loss: 0.0313  avg_val_loss: 0.2638  time: 42s\n",
      "Epoch 45 - Accuracy: 0.91\n"
     ]
    },
    {
     "name": "stdout",
     "output_type": "stream",
     "text": [
      "EVAL: [12/13] Data 0.145 (0.289) Elapsed 0m 5s (remain 0m 0s) Loss: 0.0043(0.2638) \n",
      "Epoch: [46][0/50] Data 0.323 (0.323) Elapsed 0m 0s (remain 0m 35s) Loss: 0.0021(0.0021) Grad: 0.0413  \n",
      "Epoch: [46][49/50] Data 0.324 (0.330) Elapsed 0m 37s (remain 0m 0s) Loss: 0.0085(0.0284) Grad: 0.3290  \n",
      "EVAL: [0/13] Data 0.312 (0.312) Elapsed 0m 0s (remain 0m 5s) Loss: 0.8306(0.8306) \n"
     ]
    },
    {
     "name": "stderr",
     "output_type": "stream",
     "text": [
      "Epoch 46 - avg_train_loss: 0.0284  avg_val_loss: 0.2801  time: 42s\n",
      "Epoch 46 - Accuracy: 0.9\n"
     ]
    },
    {
     "name": "stdout",
     "output_type": "stream",
     "text": [
      "EVAL: [12/13] Data 0.146 (0.293) Elapsed 0m 5s (remain 0m 0s) Loss: 0.0034(0.2801) \n",
      "Epoch: [47][0/50] Data 0.326 (0.326) Elapsed 0m 0s (remain 0m 36s) Loss: 0.0203(0.0203) Grad: 1.2211  \n",
      "Epoch: [47][49/50] Data 0.331 (0.330) Elapsed 0m 36s (remain 0m 0s) Loss: 0.0059(0.0247) Grad: 0.1307  \n",
      "EVAL: [0/13] Data 0.303 (0.303) Elapsed 0m 0s (remain 0m 4s) Loss: 0.8385(0.8385) \n"
     ]
    },
    {
     "name": "stderr",
     "output_type": "stream",
     "text": [
      "Epoch 47 - avg_train_loss: 0.0247  avg_val_loss: 0.2633  time: 42s\n",
      "Epoch 47 - Accuracy: 0.9\n"
     ]
    },
    {
     "name": "stdout",
     "output_type": "stream",
     "text": [
      "EVAL: [12/13] Data 0.150 (0.292) Elapsed 0m 5s (remain 0m 0s) Loss: 0.0034(0.2633) \n",
      "Epoch: [48][0/50] Data 0.341 (0.341) Elapsed 0m 0s (remain 0m 37s) Loss: 0.0075(0.0075) Grad: 0.2190  \n",
      "Epoch: [48][49/50] Data 0.325 (0.331) Elapsed 0m 36s (remain 0m 0s) Loss: 0.0136(0.0187) Grad: 0.3821  \n",
      "EVAL: [0/13] Data 0.304 (0.304) Elapsed 0m 0s (remain 0m 4s) Loss: 0.7828(0.7828) \n"
     ]
    },
    {
     "name": "stderr",
     "output_type": "stream",
     "text": [
      "Epoch 48 - avg_train_loss: 0.0187  avg_val_loss: 0.2753  time: 42s\n",
      "Epoch 48 - Accuracy: 0.92\n"
     ]
    },
    {
     "name": "stdout",
     "output_type": "stream",
     "text": [
      "EVAL: [12/13] Data 0.145 (0.292) Elapsed 0m 5s (remain 0m 0s) Loss: 0.0056(0.2753) \n",
      "Epoch: [49][0/50] Data 0.338 (0.338) Elapsed 0m 0s (remain 0m 36s) Loss: 0.0087(0.0087) Grad: 0.2763  \n",
      "Epoch: [49][49/50] Data 0.335 (0.332) Elapsed 0m 36s (remain 0m 0s) Loss: 0.0050(0.0241) Grad: 0.2053  \n",
      "EVAL: [0/13] Data 0.301 (0.301) Elapsed 0m 0s (remain 0m 4s) Loss: 0.7849(0.7849) \n"
     ]
    },
    {
     "name": "stderr",
     "output_type": "stream",
     "text": [
      "Epoch 49 - avg_train_loss: 0.0241  avg_val_loss: 0.2624  time: 42s\n",
      "Epoch 49 - Accuracy: 0.91\n"
     ]
    },
    {
     "name": "stdout",
     "output_type": "stream",
     "text": [
      "EVAL: [12/13] Data 0.146 (0.287) Elapsed 0m 5s (remain 0m 0s) Loss: 0.0040(0.2624) \n",
      "Epoch: [50][0/50] Data 0.319 (0.319) Elapsed 0m 0s (remain 0m 35s) Loss: 0.0143(0.0143) Grad: 0.3561  \n",
      "Epoch: [50][49/50] Data 0.317 (0.333) Elapsed 0m 36s (remain 0m 0s) Loss: 0.0736(0.0299) Grad: 4.9396  \n",
      "EVAL: [0/13] Data 0.302 (0.302) Elapsed 0m 0s (remain 0m 4s) Loss: 0.7940(0.7940) \n"
     ]
    },
    {
     "name": "stderr",
     "output_type": "stream",
     "text": [
      "Epoch 50 - avg_train_loss: 0.0299  avg_val_loss: 0.2623  time: 42s\n",
      "Epoch 50 - Accuracy: 0.9\n"
     ]
    },
    {
     "name": "stdout",
     "output_type": "stream",
     "text": [
      "EVAL: [12/13] Data 0.149 (0.293) Elapsed 0m 5s (remain 0m 0s) Loss: 0.0045(0.2623) \n"
     ]
    },
    {
     "ename": "KeyError",
     "evalue": "\"None of [Index(['0'], dtype='object')] are in the [columns]\"",
     "output_type": "error",
     "traceback": [
      "\u001b[0;31m---------------------------------------------------------------------------\u001b[0m",
      "\u001b[0;31mKeyError\u001b[0m                                  Traceback (most recent call last)",
      "\u001b[0;32m<ipython-input-26-c7bc734e5e35>\u001b[0m in \u001b[0;36m<module>\u001b[0;34m\u001b[0m\n\u001b[1;32m      1\u001b[0m \u001b[0;32mif\u001b[0m \u001b[0m__name__\u001b[0m \u001b[0;34m==\u001b[0m \u001b[0;34m'__main__'\u001b[0m\u001b[0;34m:\u001b[0m\u001b[0;34m\u001b[0m\u001b[0;34m\u001b[0m\u001b[0m\n\u001b[0;32m----> 2\u001b[0;31m     \u001b[0mmain\u001b[0m\u001b[0;34m(\u001b[0m\u001b[0;34m)\u001b[0m\u001b[0;34m\u001b[0m\u001b[0;34m\u001b[0m\u001b[0m\n\u001b[0m",
      "\u001b[0;32m<ipython-input-23-7b2210a84cbe>\u001b[0m in \u001b[0;36mmain\u001b[0;34m()\u001b[0m\n\u001b[1;32m     16\u001b[0m         \u001b[0;32mfor\u001b[0m \u001b[0mfold\u001b[0m \u001b[0;32min\u001b[0m \u001b[0mrange\u001b[0m\u001b[0;34m(\u001b[0m\u001b[0mCFG\u001b[0m\u001b[0;34m.\u001b[0m\u001b[0mn_fold\u001b[0m\u001b[0;34m)\u001b[0m\u001b[0;34m:\u001b[0m\u001b[0;34m\u001b[0m\u001b[0;34m\u001b[0m\u001b[0m\n\u001b[1;32m     17\u001b[0m             \u001b[0;32mif\u001b[0m \u001b[0mfold\u001b[0m \u001b[0;32min\u001b[0m \u001b[0mCFG\u001b[0m\u001b[0;34m.\u001b[0m\u001b[0mtrn_fold\u001b[0m\u001b[0;34m:\u001b[0m\u001b[0;34m\u001b[0m\u001b[0;34m\u001b[0m\u001b[0m\n\u001b[0;32m---> 18\u001b[0;31m                 \u001b[0m_oof_df\u001b[0m \u001b[0;34m=\u001b[0m \u001b[0mtrain_loop\u001b[0m\u001b[0;34m(\u001b[0m\u001b[0mfolds\u001b[0m\u001b[0;34m,\u001b[0m \u001b[0mfold\u001b[0m\u001b[0;34m)\u001b[0m\u001b[0;34m\u001b[0m\u001b[0;34m\u001b[0m\u001b[0m\n\u001b[0m\u001b[1;32m     19\u001b[0m                 \u001b[0moof_df\u001b[0m \u001b[0;34m=\u001b[0m \u001b[0mpd\u001b[0m\u001b[0;34m.\u001b[0m\u001b[0mconcat\u001b[0m\u001b[0;34m(\u001b[0m\u001b[0;34m[\u001b[0m\u001b[0moof_df\u001b[0m\u001b[0;34m,\u001b[0m \u001b[0m_oof_df\u001b[0m\u001b[0;34m]\u001b[0m\u001b[0;34m)\u001b[0m\u001b[0;34m\u001b[0m\u001b[0;34m\u001b[0m\u001b[0m\n\u001b[1;32m     20\u001b[0m                 \u001b[0mLOGGER\u001b[0m\u001b[0;34m.\u001b[0m\u001b[0minfo\u001b[0m\u001b[0;34m(\u001b[0m\u001b[0;34mf\"========== fold: {fold} result ==========\"\u001b[0m\u001b[0;34m)\u001b[0m\u001b[0;34m\u001b[0m\u001b[0;34m\u001b[0m\u001b[0m\n",
      "\u001b[0;32m<ipython-input-22-dd7ac528c2f7>\u001b[0m in \u001b[0;36mtrain_loop\u001b[0;34m(folds, fold)\u001b[0m\n\u001b[1;32m     98\u001b[0m \u001b[0;34m\u001b[0m\u001b[0m\n\u001b[1;32m     99\u001b[0m     \u001b[0mcheck_point\u001b[0m \u001b[0;34m=\u001b[0m \u001b[0mtorch\u001b[0m\u001b[0;34m.\u001b[0m\u001b[0mload\u001b[0m\u001b[0;34m(\u001b[0m\u001b[0;34mf'{CFG.model_name}_fold{fold}_best.pth'\u001b[0m\u001b[0;34m)\u001b[0m\u001b[0;34m\u001b[0m\u001b[0;34m\u001b[0m\u001b[0m\n\u001b[0;32m--> 100\u001b[0;31m     \u001b[0mvalid_folds\u001b[0m\u001b[0;34m[\u001b[0m\u001b[0;34m[\u001b[0m\u001b[0mstr\u001b[0m\u001b[0;34m(\u001b[0m\u001b[0mc\u001b[0m\u001b[0;34m)\u001b[0m \u001b[0;32mfor\u001b[0m \u001b[0mc\u001b[0m \u001b[0;32min\u001b[0m \u001b[0mrange\u001b[0m\u001b[0;34m(\u001b[0m\u001b[0;36m1\u001b[0m\u001b[0;34m)\u001b[0m\u001b[0;34m]\u001b[0m\u001b[0;34m]\u001b[0m \u001b[0;34m=\u001b[0m \u001b[0mcheck_point\u001b[0m\u001b[0;34m[\u001b[0m\u001b[0;34m'preds'\u001b[0m\u001b[0;34m]\u001b[0m\u001b[0;34m\u001b[0m\u001b[0;34m\u001b[0m\u001b[0m\n\u001b[0m\u001b[1;32m    101\u001b[0m     \u001b[0mvalid_folds\u001b[0m\u001b[0;34m[\u001b[0m\u001b[0;34m'preds'\u001b[0m\u001b[0;34m]\u001b[0m \u001b[0;34m=\u001b[0m \u001b[0mcheck_point\u001b[0m\u001b[0;34m[\u001b[0m\u001b[0;34m'preds'\u001b[0m\u001b[0;34m]\u001b[0m\u001b[0;34m.\u001b[0m\u001b[0margmax\u001b[0m\u001b[0;34m(\u001b[0m\u001b[0;36m1\u001b[0m\u001b[0;34m)\u001b[0m\u001b[0;34m\u001b[0m\u001b[0;34m\u001b[0m\u001b[0m\n\u001b[1;32m    102\u001b[0m \u001b[0;34m\u001b[0m\u001b[0m\n",
      "\u001b[0;32m/opt/conda/lib/python3.7/site-packages/pandas/core/frame.py\u001b[0m in \u001b[0;36m__setitem__\u001b[0;34m(self, key, value)\u001b[0m\n\u001b[1;32m   2933\u001b[0m             \u001b[0mself\u001b[0m\u001b[0;34m.\u001b[0m\u001b[0m_setitem_frame\u001b[0m\u001b[0;34m(\u001b[0m\u001b[0mkey\u001b[0m\u001b[0;34m,\u001b[0m \u001b[0mvalue\u001b[0m\u001b[0;34m)\u001b[0m\u001b[0;34m\u001b[0m\u001b[0;34m\u001b[0m\u001b[0m\n\u001b[1;32m   2934\u001b[0m         \u001b[0;32melif\u001b[0m \u001b[0misinstance\u001b[0m\u001b[0;34m(\u001b[0m\u001b[0mkey\u001b[0m\u001b[0;34m,\u001b[0m \u001b[0;34m(\u001b[0m\u001b[0mSeries\u001b[0m\u001b[0;34m,\u001b[0m \u001b[0mnp\u001b[0m\u001b[0;34m.\u001b[0m\u001b[0mndarray\u001b[0m\u001b[0;34m,\u001b[0m \u001b[0mlist\u001b[0m\u001b[0;34m,\u001b[0m \u001b[0mIndex\u001b[0m\u001b[0;34m)\u001b[0m\u001b[0;34m)\u001b[0m\u001b[0;34m:\u001b[0m\u001b[0;34m\u001b[0m\u001b[0;34m\u001b[0m\u001b[0m\n\u001b[0;32m-> 2935\u001b[0;31m             \u001b[0mself\u001b[0m\u001b[0;34m.\u001b[0m\u001b[0m_setitem_array\u001b[0m\u001b[0;34m(\u001b[0m\u001b[0mkey\u001b[0m\u001b[0;34m,\u001b[0m \u001b[0mvalue\u001b[0m\u001b[0;34m)\u001b[0m\u001b[0;34m\u001b[0m\u001b[0;34m\u001b[0m\u001b[0m\n\u001b[0m\u001b[1;32m   2936\u001b[0m         \u001b[0;32melse\u001b[0m\u001b[0;34m:\u001b[0m\u001b[0;34m\u001b[0m\u001b[0;34m\u001b[0m\u001b[0m\n\u001b[1;32m   2937\u001b[0m             \u001b[0;31m# set column\u001b[0m\u001b[0;34m\u001b[0m\u001b[0;34m\u001b[0m\u001b[0;34m\u001b[0m\u001b[0m\n",
      "\u001b[0;32m/opt/conda/lib/python3.7/site-packages/pandas/core/frame.py\u001b[0m in \u001b[0;36m_setitem_array\u001b[0;34m(self, key, value)\u001b[0m\n\u001b[1;32m   2964\u001b[0m             \u001b[0;32melse\u001b[0m\u001b[0;34m:\u001b[0m\u001b[0;34m\u001b[0m\u001b[0;34m\u001b[0m\u001b[0m\n\u001b[1;32m   2965\u001b[0m                 indexer = self.loc._get_listlike_indexer(\n\u001b[0;32m-> 2966\u001b[0;31m                     \u001b[0mkey\u001b[0m\u001b[0;34m,\u001b[0m \u001b[0maxis\u001b[0m\u001b[0;34m=\u001b[0m\u001b[0;36m1\u001b[0m\u001b[0;34m,\u001b[0m \u001b[0mraise_missing\u001b[0m\u001b[0;34m=\u001b[0m\u001b[0;32mFalse\u001b[0m\u001b[0;34m\u001b[0m\u001b[0;34m\u001b[0m\u001b[0m\n\u001b[0m\u001b[1;32m   2967\u001b[0m                 )[1]\n\u001b[1;32m   2968\u001b[0m                 \u001b[0mself\u001b[0m\u001b[0;34m.\u001b[0m\u001b[0m_check_setitem_copy\u001b[0m\u001b[0;34m(\u001b[0m\u001b[0;34m)\u001b[0m\u001b[0;34m\u001b[0m\u001b[0;34m\u001b[0m\u001b[0m\n",
      "\u001b[0;32m/opt/conda/lib/python3.7/site-packages/pandas/core/indexing.py\u001b[0m in \u001b[0;36m_get_listlike_indexer\u001b[0;34m(self, key, axis, raise_missing)\u001b[0m\n\u001b[1;32m   1550\u001b[0m \u001b[0;34m\u001b[0m\u001b[0m\n\u001b[1;32m   1551\u001b[0m         self._validate_read_indexer(\n\u001b[0;32m-> 1552\u001b[0;31m             \u001b[0mkeyarr\u001b[0m\u001b[0;34m,\u001b[0m \u001b[0mindexer\u001b[0m\u001b[0;34m,\u001b[0m \u001b[0mo\u001b[0m\u001b[0;34m.\u001b[0m\u001b[0m_get_axis_number\u001b[0m\u001b[0;34m(\u001b[0m\u001b[0maxis\u001b[0m\u001b[0;34m)\u001b[0m\u001b[0;34m,\u001b[0m \u001b[0mraise_missing\u001b[0m\u001b[0;34m=\u001b[0m\u001b[0mraise_missing\u001b[0m\u001b[0;34m\u001b[0m\u001b[0;34m\u001b[0m\u001b[0m\n\u001b[0m\u001b[1;32m   1553\u001b[0m         )\n\u001b[1;32m   1554\u001b[0m         \u001b[0;32mreturn\u001b[0m \u001b[0mkeyarr\u001b[0m\u001b[0;34m,\u001b[0m \u001b[0mindexer\u001b[0m\u001b[0;34m\u001b[0m\u001b[0;34m\u001b[0m\u001b[0m\n",
      "\u001b[0;32m/opt/conda/lib/python3.7/site-packages/pandas/core/indexing.py\u001b[0m in \u001b[0;36m_validate_read_indexer\u001b[0;34m(self, key, indexer, axis, raise_missing)\u001b[0m\n\u001b[1;32m   1637\u001b[0m             \u001b[0;32mif\u001b[0m \u001b[0mmissing\u001b[0m \u001b[0;34m==\u001b[0m \u001b[0mlen\u001b[0m\u001b[0;34m(\u001b[0m\u001b[0mindexer\u001b[0m\u001b[0;34m)\u001b[0m\u001b[0;34m:\u001b[0m\u001b[0;34m\u001b[0m\u001b[0;34m\u001b[0m\u001b[0m\n\u001b[1;32m   1638\u001b[0m                 \u001b[0maxis_name\u001b[0m \u001b[0;34m=\u001b[0m \u001b[0mself\u001b[0m\u001b[0;34m.\u001b[0m\u001b[0mobj\u001b[0m\u001b[0;34m.\u001b[0m\u001b[0m_get_axis_name\u001b[0m\u001b[0;34m(\u001b[0m\u001b[0maxis\u001b[0m\u001b[0;34m)\u001b[0m\u001b[0;34m\u001b[0m\u001b[0;34m\u001b[0m\u001b[0m\n\u001b[0;32m-> 1639\u001b[0;31m                 \u001b[0;32mraise\u001b[0m \u001b[0mKeyError\u001b[0m\u001b[0;34m(\u001b[0m\u001b[0;34mf\"None of [{key}] are in the [{axis_name}]\"\u001b[0m\u001b[0;34m)\u001b[0m\u001b[0;34m\u001b[0m\u001b[0;34m\u001b[0m\u001b[0m\n\u001b[0m\u001b[1;32m   1640\u001b[0m \u001b[0;34m\u001b[0m\u001b[0m\n\u001b[1;32m   1641\u001b[0m             \u001b[0;31m# We (temporarily) allow for some missing keys with .loc, except in\u001b[0m\u001b[0;34m\u001b[0m\u001b[0;34m\u001b[0m\u001b[0;34m\u001b[0m\u001b[0m\n",
      "\u001b[0;31mKeyError\u001b[0m: \"None of [Index(['0'], dtype='object')] are in the [columns]\""
     ]
    }
   ],
   "source": [
    "if __name__ == '__main__':\n",
    "    main()"
   ]
  },
  {
   "cell_type": "code",
   "execution_count": 56,
   "metadata": {},
   "outputs": [],
   "source": [
    "\n",
    "def detect_danger(imagepath):\n",
    "    label = ['Danger', 'Safe']\n",
    "    image = cv2.imread(imagepath)\n",
    "    image = cv2.cvtColor(image, cv2.COLOR_BGR2RGB)\n",
    "    image = cv2.resize(image,(720,720))\n",
    "    #image = Normalize(image)\n",
    "    image =image / 255.0;\n",
    "    image -=[0.485, 0.456, 0.406]\n",
    "    image /=[0.229, 0.224, 0.225]\n",
    "    image = np.transpose(image,(2,0,1))\n",
    "    image = np.expand_dims(image,0)\n",
    "    image = torch.from_numpy(image)\n",
    "    model = CustomModel(model_name=CFG.model_name, pretrained=False)\n",
    "    state = torch.load('tf_efficientnet_b0_ns_fold0_best.pth')\n",
    "    model.load_state_dict(state['model'])\n",
    "    model.eval()\n",
    "    res = model(image.float())\n",
    "    idx = 1\n",
    "    if res.softmax(1).detach().numpy()[0][0] > 0.2:\n",
    "        idx = 0\n",
    "    print(label[idx])"
   ]
  },
  {
   "cell_type": "code",
   "execution_count": 57,
   "metadata": {},
   "outputs": [
    {
     "name": "stdout",
     "output_type": "stream",
     "text": [
      "Danger\n"
     ]
    }
   ],
   "source": [
    "detect_danger('data_task2/test/images/am3_5_violation_frame111.jpg')"
   ]
  },
  {
   "cell_type": "code",
   "execution_count": 58,
   "metadata": {},
   "outputs": [
    {
     "name": "stdout",
     "output_type": "stream",
     "text": [
      "Safe\n"
     ]
    }
   ],
   "source": [
    "detect_danger('data_task2/test/images/am3_1_frame043.jpg')"
   ]
  },
  {
   "cell_type": "code",
   "execution_count": 59,
   "metadata": {},
   "outputs": [
    {
     "name": "stdout",
     "output_type": "stream",
     "text": [
      "Danger\n"
     ]
    }
   ],
   "source": [
    "detect_danger('data_task2/test/images/am3_6_violation_frame059.jpg')"
   ]
  },
  {
   "cell_type": "code",
   "execution_count": 60,
   "metadata": {},
   "outputs": [
    {
     "name": "stdout",
     "output_type": "stream",
     "text": [
      "Danger\n"
     ]
    }
   ],
   "source": [
    "detect_danger('data_task2/test/images/am3_7_violation_frame139.jpg')"
   ]
  },
  {
   "cell_type": "code",
   "execution_count": 61,
   "metadata": {},
   "outputs": [
    {
     "name": "stdout",
     "output_type": "stream",
     "text": [
      "Danger\n"
     ]
    }
   ],
   "source": [
    "detect_danger('data_task2/test/images/am3_7_violation_frame140.jpg')"
   ]
  },
  {
   "cell_type": "code",
   "execution_count": 62,
   "metadata": {},
   "outputs": [
    {
     "name": "stdout",
     "output_type": "stream",
     "text": [
      "Safe\n"
     ]
    }
   ],
   "source": [
    "detect_danger('data_task2/test/images/am3_7_frame146.jpg')"
   ]
  },
  {
   "cell_type": "code",
   "execution_count": 63,
   "metadata": {},
   "outputs": [
    {
     "name": "stdout",
     "output_type": "stream",
     "text": [
      "Danger\n"
     ]
    }
   ],
   "source": [
    "detect_danger('data_task2/test/images/oz_violation_frame451.jpg')"
   ]
  },
  {
   "cell_type": "code",
   "execution_count": null,
   "metadata": {},
   "outputs": [],
   "source": []
  }
 ],
 "metadata": {
  "instance_type": "ml.g4dn.xlarge",
  "kernelspec": {
   "display_name": "Python 3 (Data Science)",
   "language": "python",
   "name": "python3__SAGEMAKER_INTERNAL__arn:aws:sagemaker:eu-west-1:470317259841:image/datascience-1.0"
  },
  "language_info": {
   "codemirror_mode": {
    "name": "ipython",
    "version": 3
   },
   "file_extension": ".py",
   "mimetype": "text/x-python",
   "name": "python",
   "nbconvert_exporter": "python",
   "pygments_lexer": "ipython3",
   "version": "3.7.10"
  }
 },
 "nbformat": 4,
 "nbformat_minor": 4
}
