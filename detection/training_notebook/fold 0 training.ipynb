{
 "cells": [
  {
   "cell_type": "code",
   "execution_count": 2,
   "metadata": {},
   "outputs": [
    {
     "name": "stdout",
     "output_type": "stream",
     "text": [
      "Cloning into 'yolov5'...\n",
      "remote: Enumerating objects: 9827, done.\u001b[K\n",
      "remote: Counting objects: 100% (5/5), done.\u001b[K\n",
      "remote: Compressing objects: 100% (5/5), done.\u001b[K\n",
      "remote: Total 9827 (delta 0), reused 2 (delta 0), pack-reused 9822\u001b[K\n",
      "Receiving objects: 100% (9827/9827), 10.15 MiB | 29.70 MiB/s, done.\n",
      "Resolving deltas: 100% (6822/6822), done.\n",
      "Checking out files: 100% (104/104), done.\n",
      "HEAD is now at cce7e78 Created using Colaboratory\n",
      "/opt/conda/lib/python3.7/site-packages/secretstorage/dhcrypto.py:16: CryptographyDeprecationWarning: int_from_bytes is deprecated, use int.from_bytes instead\n",
      "  from cryptography.utils import int_from_bytes\n",
      "/opt/conda/lib/python3.7/site-packages/secretstorage/util.py:25: CryptographyDeprecationWarning: int_from_bytes is deprecated, use int.from_bytes instead\n",
      "  from cryptography.utils import int_from_bytes\n",
      "\u001b[33mWARNING: Running pip as the 'root' user can result in broken permissions and conflicting behaviour with the system package manager. It is recommended to use a virtual environment instead: https://pip.pypa.io/warnings/venv\u001b[0m\n",
      "\u001b[33mWARNING: You are using pip version 21.2.4; however, version 21.3.1 is available.\n",
      "You should consider upgrading via the '/opt/conda/bin/python -m pip install --upgrade pip' command.\u001b[0m\n"
     ]
    }
   ],
   "source": [
    "!git clone https://github.com/ultralytics/yolov5.git > /dev/null\n",
    "!cd yolov5 && git reset --hard  cce7e78\n",
    "!cd yolov5 && pip install -r requirements.txt > /dev/null"
   ]
  },
  {
   "cell_type": "code",
   "execution_count": 6,
   "metadata": {},
   "outputs": [
    {
     "name": "stdout",
     "output_type": "stream",
     "text": [
      "/opt/conda/lib/python3.7/site-packages/secretstorage/dhcrypto.py:16: CryptographyDeprecationWarning: int_from_bytes is deprecated, use int.from_bytes instead\n",
      "  from cryptography.utils import int_from_bytes\n",
      "/opt/conda/lib/python3.7/site-packages/secretstorage/util.py:25: CryptographyDeprecationWarning: int_from_bytes is deprecated, use int.from_bytes instead\n",
      "  from cryptography.utils import int_from_bytes\n",
      "Requirement already satisfied: opencv-python in /opt/conda/lib/python3.7/site-packages (4.5.4.58)\n",
      "Requirement already satisfied: numpy>=1.14.5 in /opt/conda/lib/python3.7/site-packages (from opencv-python) (1.20.3)\n",
      "\u001b[33mWARNING: Running pip as the 'root' user can result in broken permissions and conflicting behaviour with the system package manager. It is recommended to use a virtual environment instead: https://pip.pypa.io/warnings/venv\u001b[0m\n",
      "\u001b[33mWARNING: You are using pip version 21.2.4; however, version 21.3.1 is available.\n",
      "You should consider upgrading via the '/opt/conda/bin/python -m pip install --upgrade pip' command.\u001b[0m\n"
     ]
    }
   ],
   "source": [
    "!pip install opencv-python"
   ]
  },
  {
   "cell_type": "code",
   "execution_count": 1,
   "metadata": {},
   "outputs": [],
   "source": [
    "import os\n",
    "import yaml\n",
    "from PIL import Image\n",
    "import random\n",
    "import numpy as np\n",
    "from shutil import copyfile\n",
    "import json\n",
    "from tqdm import tqdm\n",
    "import matplotlib.pyplot as plt"
   ]
  },
  {
   "cell_type": "code",
   "execution_count": null,
   "metadata": {},
   "outputs": [],
   "source": []
  },
  {
   "cell_type": "code",
   "execution_count": 5,
   "metadata": {
    "collapsed": true,
    "jupyter": {
     "outputs_hidden": true
    }
   },
   "outputs": [
    {
     "name": "stdout",
     "output_type": "stream",
     "text": [
      "Get:1 http://security.debian.org/debian-security buster/updates InRelease [65.4 kB]\n",
      "Get:2 http://deb.debian.org/debian buster InRelease [122 kB]\n",
      "Get:3 http://deb.debian.org/debian buster-updates InRelease [51.9 kB]\n",
      "Get:4 http://security.debian.org/debian-security buster/updates/main amd64 Packages [308 kB]\n",
      "Get:5 http://deb.debian.org/debian buster/main amd64 Packages [7906 kB]\n",
      "Get:6 http://deb.debian.org/debian buster-updates/main amd64 Packages [15.2 kB]\n",
      "Fetched 8469 kB in 1s (6235 kB/s)                           \n",
      "Reading package lists... Done\n",
      "Reading package lists... Done\n",
      "Building dependency tree       \n",
      "Reading state information... Done\n",
      "The following additional packages will be installed:\n",
      "  adwaita-icon-theme at-spi2-core autoconf automake autotools-dev binutils\n",
      "  binutils-common binutils-x86-64-linux-gnu cpp cpp-8 dbus-user-session\n",
      "  dconf-gsettings-backend dconf-service dmsetup gcc gcc-8 gdal-data gfortran\n",
      "  gfortran-8 glib-networking glib-networking-common glib-networking-services\n",
      "  gsettings-desktop-schemas gtk-update-icon-cache i965-va-driver\n",
      "  ibverbs-providers intel-media-va-driver libaacs0 libaec0 libaom0 libargon2-1\n",
      "  libarmadillo9 libarpack2 libasan5 libatk-bridge2.0-0 libatk1.0-0\n",
      "  libatk1.0-data libatomic1 libatspi2.0-0 libavcodec58 libavformat58\n",
      "  libavresample4 libavutil56 libbdplus0 libbinutils libblas3 libbluray2\n",
      "  libcaf-openmpi-3 libcairo-gobject2 libcc1-0 libcharls2 libchromaprint1\n",
      "  libcoarrays-dev libcoarrays-openmpi-dev libcodec2-0.8.1 libcolord2 libcroco3\n",
      "  libcryptsetup12 libcrystalhd3 libdap25 libdapclient6v5 libdapserver7v5\n",
      "  libdc1394-22 libdconf1 libdevmapper1.02.1 libdrm-amdgpu1 libdrm-common\n",
      "  libdrm-intel1 libdrm-nouveau2 libdrm-radeon1 libdrm2 libelf1 libepoxy0\n",
      "  libepsilon1 libevent-2.1-6 libevent-core-2.1-6 libevent-pthreads-2.1-6\n",
      "  libexif12 libfabric1 libfreexl1 libfyba0 libgcc-8-dev libgd3 libgdal20\n",
      "  libgdcm2.8 libgdk-pixbuf2.0-0 libgdk-pixbuf2.0-bin libgdk-pixbuf2.0-common\n",
      "  libgeos-3.7.1 libgeos-c1v5 libgeotiff2 libgfortran-8-dev libgfortran5\n",
      "  libgif7 libgl1 libgl1-mesa-dri libgl2ps1.4 libglapi-mesa libglu1-mesa\n",
      "  libglvnd0 libglx-mesa0 libglx0 libgme0 libgphoto2-6 libgphoto2-l10n\n",
      "  libgphoto2-port12 libgsm1 libgtk-3-0 libgtk-3-bin libgtk-3-common\n",
      "  libhdf4-0-alt libhdf5-103 libhdf5-openmpi-103 libhwloc-dev libhwloc-plugins\n",
      "  libhwloc5 libibverbs-dev libibverbs1 libigdgmm5 libip4tc0 libisl19 libitm1\n",
      "  libjson-glib-1.0-0 libjson-glib-1.0-common libjsoncpp1 libkmlbase1\n",
      "  libkmlconvenience1 libkmldom1 libkmlengine1 libkmlregionator1 libkmlxsd1\n",
      "  libkmod2 liblapack3 liblept5 libllvm7 liblsan0 libltdl-dev libmariadb3\n",
      "  libminizip1 libmp3lame0 libmpc3 libmpdec2 libmpfr6 libmpg123-0 libmpx2\n",
      "  libnetcdf-c++4 libnetcdf13 libnl-3-200 libnl-3-dev libnl-route-3-200\n",
      "  libnl-route-3-dev libnspr4 libnss-systemd libnss3 libnuma-dev libodbc1\n",
      "  libogdi3.2 libogg0 libopencv-calib3d3.2 libopencv-contrib3.2\n",
      "  libopencv-core3.2 libopencv-features2d3.2 libopencv-flann3.2\n",
      "  libopencv-highgui3.2 libopencv-imgcodecs3.2 libopencv-imgproc3.2\n",
      "  libopencv-ml3.2 libopencv-objdetect3.2 libopencv-photo3.2 libopencv-shape3.2\n",
      "  libopencv-stitching3.2 libopencv-superres3.2 libopencv-video3.2\n",
      "  libopencv-videoio3.2 libopencv-videostab3.2 libopencv-viz3.2 libopenmpi-dev\n",
      "  libopenmpi3 libopenmpt0 libopus0 libpam-systemd libpciaccess0 libpmix2\n",
      "  libpoppler82 libpopt0 libpq5 libproj13 libproxy1v5 libpsm-infinipath1\n",
      "  libpsm2-2 libpython2.7 libpython3-stdlib libpython3.7-minimal\n",
      "  libpython3.7-stdlib libqhull7 libquadmath0 libraw1394-11 librdmacm1\n",
      "  librest-0.7-0 librsvg2-2 librsvg2-common libsensors-config libsensors5\n",
      "  libshine3 libsigsegv2 libsnappy1v5 libsocket++1 libsoup-gnome2.4-1\n",
      "  libsoup2.4-1 libsoxr0 libspatialite7 libspeex1 libssh-gcrypt-4 libsuperlu5\n",
      "  libswresample3 libswscale5 libsystemd0 libsz2 libtbb2 libtcl8.6\n",
      "  libtesseract4 libtheora0 libtk8.6 libtool libtsan0 libtwolame0 libubsan1\n",
      "  liburiparser1 libusb-1.0-0 libva-drm2 libva-x11-2 libva2 libvdpau-va-gl1\n",
      "  libvdpau1 libvorbis0a libvorbisenc2 libvorbisfile3 libvpx5 libvtk6.3\n",
      "  libwavpack1 libwayland-client0 libwayland-cursor0 libwayland-egl1\n",
      "  libx11-xcb1 libx264-155 libxcb-dri2-0 libxcb-dri3-0 libxcb-glx0\n",
      "  libxcb-present0 libxcb-sync1 libxcb-xfixes0 libxcomposite1 libxcursor1\n",
      "  libxdamage1 libxerces-c3.2 libxfixes3 libxft2 libxi6 libxinerama1\n",
      "  libxkbcommon0 libxrandr2 libxshmfence1 libxss1 libxtst6 libxvidcore4\n",
      "  libxxf86vm1 libzvbi-common libzvbi0 m4 mariadb-common mesa-va-drivers\n",
      "  mesa-vdpau-drivers mysql-common ocl-icd-libopencl1 odbcinst odbcinst1debian2\n",
      "  openmpi-bin openmpi-common proj-bin proj-data python3 python3-minimal\n",
      "  python3-numpy python3-pkg-resources python3.7 python3.7-minimal systemd\n",
      "  systemd-sysv va-driver-all vdpau-driver-all xkb-data\n",
      "Suggested packages:\n",
      "  autoconf-archive gnu-standards autoconf-doc gettext binutils-doc cpp-doc\n",
      "  gcc-8-locales gcc-multilib make flex bison gdb gcc-doc gcc-8-multilib\n",
      "  gcc-8-doc libgcc1-dbg libgomp1-dbg libitm1-dbg libatomic1-dbg libasan5-dbg\n",
      "  liblsan0-dbg libtsan0-dbg libubsan1-dbg libmpx2-dbg libquadmath0-dbg\n",
      "  gfortran-multilib gfortran-doc gfortran-8-multilib gfortran-8-doc\n",
      "  libgfortran5-dbg i965-va-driver-shaders libbluray-bdj colord\n",
      "  firmware-crystalhd libgd-tools geotiff-bin gdal-bin libgeotiff-epsg gphoto2\n",
      "  gvfs libhdf4-doc libhdf4-alt-dev hdf4-tools libhwloc-contrib-plugins\n",
      "  libtool-doc libmyodbc odbc-postgresql tdsodbc unixodbc-bin ogdi-bin\n",
      "  openmpi-doc opus-tools pciutils libraw1394-doc librsvg2-bin lm-sensors speex\n",
      "  tcl8.6 tk8.6 gcj-jdk mpi-default-bin vtk6-doc vtk6-examples m4-doc\n",
      "  opencl-icd python3-doc python3-tk python3-venv python-numpy-doc python3-dev\n",
      "  python3-pytest python3-numpy-dbg python3-setuptools python3.7-venv\n",
      "  python3.7-doc binfmt-support systemd-container policykit-1\n",
      "  nvidia-vdpau-driver nvidia-legacy-340xx-vdpau-driver\n",
      "  nvidia-legacy-304xx-vdpau-driver\n",
      "The following NEW packages will be installed:\n",
      "  adwaita-icon-theme at-spi2-core autoconf automake autotools-dev binutils\n",
      "  binutils-common binutils-x86-64-linux-gnu cpp cpp-8 dbus-user-session\n",
      "  dconf-gsettings-backend dconf-service dmsetup gcc gcc-8 gdal-data gfortran\n",
      "  gfortran-8 glib-networking glib-networking-common glib-networking-services\n",
      "  gsettings-desktop-schemas gtk-update-icon-cache i965-va-driver\n",
      "  ibverbs-providers intel-media-va-driver libaacs0 libaec0 libaom0 libargon2-1\n",
      "  libarmadillo9 libarpack2 libasan5 libatk-bridge2.0-0 libatk1.0-0\n",
      "  libatk1.0-data libatomic1 libatspi2.0-0 libavcodec58 libavformat58\n",
      "  libavresample4 libavutil56 libbdplus0 libbinutils libblas3 libbluray2\n",
      "  libcaf-openmpi-3 libcairo-gobject2 libcc1-0 libcharls2 libchromaprint1\n",
      "  libcoarrays-dev libcoarrays-openmpi-dev libcodec2-0.8.1 libcolord2 libcroco3\n",
      "  libcryptsetup12 libcrystalhd3 libdap25 libdapclient6v5 libdapserver7v5\n",
      "  libdc1394-22 libdconf1 libdevmapper1.02.1 libdrm-amdgpu1 libdrm-common\n",
      "  libdrm-intel1 libdrm-nouveau2 libdrm-radeon1 libdrm2 libelf1 libepoxy0\n",
      "  libepsilon1 libevent-2.1-6 libevent-core-2.1-6 libevent-pthreads-2.1-6\n",
      "  libexif12 libfabric1 libfreexl1 libfyba0 libgcc-8-dev libgd3 libgdal20\n",
      "  libgdcm2.8 libgdk-pixbuf2.0-0 libgdk-pixbuf2.0-bin libgdk-pixbuf2.0-common\n",
      "  libgeos-3.7.1 libgeos-c1v5 libgeotiff2 libgfortran-8-dev libgfortran5\n",
      "  libgif7 libgl1 libgl1-mesa-dri libgl2ps1.4 libglapi-mesa libglu1-mesa\n",
      "  libglvnd0 libglx-mesa0 libglx0 libgme0 libgphoto2-6 libgphoto2-l10n\n",
      "  libgphoto2-port12 libgsm1 libgtk-3-0 libgtk-3-bin libgtk-3-common\n",
      "  libhdf4-0-alt libhdf5-103 libhdf5-openmpi-103 libhwloc-dev libhwloc-plugins\n",
      "  libhwloc5 libibverbs-dev libibverbs1 libigdgmm5 libip4tc0 libisl19 libitm1\n",
      "  libjson-glib-1.0-0 libjson-glib-1.0-common libjsoncpp1 libkmlbase1\n",
      "  libkmlconvenience1 libkmldom1 libkmlengine1 libkmlregionator1 libkmlxsd1\n",
      "  libkmod2 liblapack3 liblept5 libllvm7 liblsan0 libltdl-dev libmariadb3\n",
      "  libminizip1 libmp3lame0 libmpc3 libmpdec2 libmpfr6 libmpg123-0 libmpx2\n",
      "  libnetcdf-c++4 libnetcdf13 libnl-3-200 libnl-3-dev libnl-route-3-200\n",
      "  libnl-route-3-dev libnspr4 libnss-systemd libnss3 libnuma-dev libodbc1\n",
      "  libogdi3.2 libogg0 libopencv-calib3d3.2 libopencv-contrib3.2\n",
      "  libopencv-core3.2 libopencv-features2d3.2 libopencv-flann3.2\n",
      "  libopencv-highgui3.2 libopencv-imgcodecs3.2 libopencv-imgproc3.2\n",
      "  libopencv-ml3.2 libopencv-objdetect3.2 libopencv-photo3.2 libopencv-shape3.2\n",
      "  libopencv-stitching3.2 libopencv-superres3.2 libopencv-video3.2\n",
      "  libopencv-videoio3.2 libopencv-videostab3.2 libopencv-viz3.2 libopenmpi-dev\n",
      "  libopenmpi3 libopenmpt0 libopus0 libpam-systemd libpciaccess0 libpmix2\n",
      "  libpoppler82 libpopt0 libpq5 libproj13 libproxy1v5 libpsm-infinipath1\n",
      "  libpsm2-2 libpython2.7 libpython3-stdlib libpython3.7-minimal\n",
      "  libpython3.7-stdlib libqhull7 libquadmath0 libraw1394-11 librdmacm1\n",
      "  librest-0.7-0 librsvg2-2 librsvg2-common libsensors-config libsensors5\n",
      "  libshine3 libsigsegv2 libsnappy1v5 libsocket++1 libsoup-gnome2.4-1\n",
      "  libsoup2.4-1 libsoxr0 libspatialite7 libspeex1 libssh-gcrypt-4 libsuperlu5\n",
      "  libswresample3 libswscale5 libsz2 libtbb2 libtcl8.6 libtesseract4 libtheora0\n",
      "  libtk8.6 libtool libtsan0 libtwolame0 libubsan1 liburiparser1 libusb-1.0-0\n",
      "  libva-drm2 libva-x11-2 libva2 libvdpau-va-gl1 libvdpau1 libvorbis0a\n",
      "  libvorbisenc2 libvorbisfile3 libvpx5 libvtk6.3 libwavpack1\n",
      "  libwayland-client0 libwayland-cursor0 libwayland-egl1 libx11-xcb1\n",
      "  libx264-155 libxcb-dri2-0 libxcb-dri3-0 libxcb-glx0 libxcb-present0\n",
      "  libxcb-sync1 libxcb-xfixes0 libxcomposite1 libxcursor1 libxdamage1\n",
      "  libxerces-c3.2 libxfixes3 libxft2 libxi6 libxinerama1 libxkbcommon0\n",
      "  libxrandr2 libxshmfence1 libxss1 libxtst6 libxvidcore4 libxxf86vm1\n",
      "  libzvbi-common libzvbi0 m4 mariadb-common mesa-va-drivers mesa-vdpau-drivers\n",
      "  mysql-common ocl-icd-libopencl1 odbcinst odbcinst1debian2 openmpi-bin\n",
      "  openmpi-common proj-bin proj-data python3 python3-minimal python3-numpy\n",
      "  python3-opencv python3-pkg-resources python3.7 python3.7-minimal systemd\n",
      "  systemd-sysv va-driver-all vdpau-driver-all xkb-data\n",
      "The following packages will be upgraded:\n",
      "  libsystemd0\n",
      "1 upgraded, 291 newly installed, 0 to remove and 50 not upgraded.\n",
      "Need to get 199 MB of archives.\n",
      "After this operation, 938 MB of additional disk space will be used.\n",
      "Get:1 http://deb.debian.org/debian buster/main amd64 libsystemd0 amd64 241-7~deb10u8 [331 kB]\n",
      "Get:2 http://security.debian.org/debian-security buster/updates/main amd64 libavutil56 amd64 7:4.1.8-0+deb10u1 [243 kB]\n",
      "Get:3 http://security.debian.org/debian-security buster/updates/main amd64 libswresample3 amd64 7:4.1.8-0+deb10u1 [111 kB]\n",
      "Get:4 http://deb.debian.org/debian buster/main amd64 libargon2-1 amd64 0~20171227-0.2 [19.6 kB]\n",
      "Get:5 http://deb.debian.org/debian buster/main amd64 dmsetup amd64 2:1.02.155-3 [90.8 kB]\n",
      "Get:6 http://security.debian.org/debian-security buster/updates/main amd64 libavcodec58 amd64 7:4.1.8-0+deb10u1 [4809 kB]\n",
      "Get:7 http://deb.debian.org/debian buster/main amd64 libdevmapper1.02.1 amd64 2:1.02.155-3 [141 kB]\n",
      "Get:8 http://deb.debian.org/debian buster/main amd64 libcryptsetup12 amd64 2:2.1.0-5+deb10u2 [193 kB]\n",
      "Get:9 http://deb.debian.org/debian buster/main amd64 libip4tc0 amd64 1.8.2-4 [70.2 kB]\n",
      "Get:10 http://deb.debian.org/debian buster/main amd64 libkmod2 amd64 26-1 [52.7 kB]\n",
      "Get:11 http://deb.debian.org/debian buster/main amd64 systemd amd64 241-7~deb10u8 [3496 kB]\n",
      "Get:12 http://deb.debian.org/debian buster/main amd64 systemd-sysv amd64 241-7~deb10u8 [100 kB]\n",
      "Get:13 http://deb.debian.org/debian buster/main amd64 libpython3.7-minimal amd64 3.7.3-2+deb10u3 [589 kB]\n",
      "Get:14 http://deb.debian.org/debian buster/main amd64 python3.7-minimal amd64 3.7.3-2+deb10u3 [1737 kB]\n",
      "Get:15 http://security.debian.org/debian-security buster/updates/main amd64 libavformat58 amd64 7:4.1.8-0+deb10u1 [1018 kB]\n",
      "Get:16 http://security.debian.org/debian-security buster/updates/main amd64 libavresample4 amd64 7:4.1.8-0+deb10u1 [108 kB]\n",
      "Get:17 http://security.debian.org/debian-security buster/updates/main amd64 libswscale5 amd64 7:4.1.8-0+deb10u1 [208 kB]\n",
      "Get:18 http://deb.debian.org/debian buster/main amd64 python3-minimal amd64 3.7.3-1 [36.6 kB]\n",
      "Get:19 http://deb.debian.org/debian buster/main amd64 libmpdec2 amd64 2.4.2-2 [87.2 kB]\n",
      "Get:20 http://deb.debian.org/debian buster/main amd64 libpython3.7-stdlib amd64 3.7.3-2+deb10u3 [1734 kB]\n",
      "Get:21 http://deb.debian.org/debian buster/main amd64 python3.7 amd64 3.7.3-2+deb10u3 [330 kB]\n",
      "Get:22 http://deb.debian.org/debian buster/main amd64 libpython3-stdlib amd64 3.7.3-1 [20.0 kB]\n",
      "Get:23 http://deb.debian.org/debian buster/main amd64 python3 amd64 3.7.3-1 [61.5 kB]\n",
      "Get:24 http://deb.debian.org/debian buster/main amd64 libnss-systemd amd64 241-7~deb10u8 [205 kB]\n",
      "Get:25 http://deb.debian.org/debian buster/main amd64 libpam-systemd amd64 241-7~deb10u8 [209 kB]\n",
      "Get:26 http://deb.debian.org/debian buster/main amd64 libgdk-pixbuf2.0-common all 2.38.1+dfsg-1 [316 kB]\n",
      "Get:27 http://deb.debian.org/debian buster/main amd64 libgdk-pixbuf2.0-0 amd64 2.38.1+dfsg-1 [177 kB]\n",
      "Get:28 http://deb.debian.org/debian buster/main amd64 gtk-update-icon-cache amd64 3.24.5-1 [81.7 kB]\n",
      "Get:29 http://deb.debian.org/debian buster/main amd64 libcroco3 amd64 0.6.12-3 [145 kB]\n",
      "Get:30 http://deb.debian.org/debian buster/main amd64 librsvg2-2 amd64 2.44.10-2.1 [1280 kB]\n",
      "Get:31 http://deb.debian.org/debian buster/main amd64 librsvg2-common amd64 2.44.10-2.1 [23.3 kB]\n",
      "Get:32 http://deb.debian.org/debian buster/main amd64 adwaita-icon-theme all 3.30.1-1 [11.7 MB]\n",
      "Get:33 http://deb.debian.org/debian buster/main amd64 libatspi2.0-0 amd64 2.30.0-7 [65.0 kB]\n",
      "Get:34 http://deb.debian.org/debian buster/main amd64 libxi6 amd64 2:1.7.9-1 [82.6 kB]\n",
      "Get:35 http://deb.debian.org/debian buster/main amd64 libxtst6 amd64 2:1.2.3-1 [27.8 kB]\n",
      "Get:36 http://deb.debian.org/debian buster/main amd64 at-spi2-core amd64 2.30.0-7 [70.7 kB]\n",
      "Get:37 http://deb.debian.org/debian buster/main amd64 libsigsegv2 amd64 2.12-2 [32.8 kB]\n",
      "Get:38 http://deb.debian.org/debian buster/main amd64 m4 amd64 1.4.18-2 [203 kB]\n",
      "Get:39 http://deb.debian.org/debian buster/main amd64 autoconf all 2.69-11 [341 kB]\n",
      "Get:40 http://deb.debian.org/debian buster/main amd64 autotools-dev all 20180224.1 [77.0 kB]\n",
      "Get:41 http://deb.debian.org/debian buster/main amd64 automake all 1:1.16.1-4 [771 kB]\n",
      "Get:42 http://deb.debian.org/debian buster/main amd64 binutils-common amd64 2.31.1-16 [2073 kB]\n",
      "Get:43 http://deb.debian.org/debian buster/main amd64 libbinutils amd64 2.31.1-16 [478 kB]\n",
      "Get:44 http://deb.debian.org/debian buster/main amd64 binutils-x86-64-linux-gnu amd64 2.31.1-16 [1823 kB]\n",
      "Get:45 http://deb.debian.org/debian buster/main amd64 binutils amd64 2.31.1-16 [56.8 kB]\n",
      "Get:46 http://deb.debian.org/debian buster/main amd64 libisl19 amd64 0.20-2 [587 kB]\n",
      "Get:47 http://deb.debian.org/debian buster/main amd64 libmpfr6 amd64 4.0.2-1 [775 kB]\n",
      "Get:48 http://deb.debian.org/debian buster/main amd64 libmpc3 amd64 1.1.0-1 [41.3 kB]\n",
      "Get:49 http://deb.debian.org/debian buster/main amd64 cpp-8 amd64 8.3.0-6 [8914 kB]\n",
      "Get:50 http://deb.debian.org/debian buster/main amd64 cpp amd64 4:8.3.0-1 [19.4 kB]\n",
      "Get:51 http://deb.debian.org/debian buster/main amd64 dbus-user-session amd64 1.12.20-0+deb10u1 [94.5 kB]\n",
      "Get:52 http://deb.debian.org/debian buster/main amd64 libdconf1 amd64 0.30.1-2 [40.7 kB]\n",
      "Get:53 http://deb.debian.org/debian buster/main amd64 dconf-service amd64 0.30.1-2 [36.4 kB]\n",
      "Get:54 http://deb.debian.org/debian buster/main amd64 dconf-gsettings-backend amd64 0.30.1-2 [28.9 kB]\n",
      "Get:55 http://deb.debian.org/debian buster/main amd64 libcc1-0 amd64 8.3.0-6 [46.6 kB]\n",
      "Get:56 http://deb.debian.org/debian buster/main amd64 libitm1 amd64 8.3.0-6 [27.7 kB]\n",
      "Get:57 http://deb.debian.org/debian buster/main amd64 libatomic1 amd64 8.3.0-6 [9032 B]\n",
      "Get:58 http://deb.debian.org/debian buster/main amd64 libasan5 amd64 8.3.0-6 [362 kB]\n",
      "Get:59 http://deb.debian.org/debian buster/main amd64 liblsan0 amd64 8.3.0-6 [131 kB]\n",
      "Get:60 http://deb.debian.org/debian buster/main amd64 libtsan0 amd64 8.3.0-6 [283 kB]\n",
      "Get:61 http://deb.debian.org/debian buster/main amd64 libubsan1 amd64 8.3.0-6 [120 kB]\n",
      "Get:62 http://deb.debian.org/debian buster/main amd64 libmpx2 amd64 8.3.0-6 [11.4 kB]\n",
      "Get:63 http://deb.debian.org/debian buster/main amd64 libquadmath0 amd64 8.3.0-6 [133 kB]\n",
      "Get:64 http://deb.debian.org/debian buster/main amd64 libgcc-8-dev amd64 8.3.0-6 [2298 kB]\n",
      "Get:65 http://deb.debian.org/debian buster/main amd64 gcc-8 amd64 8.3.0-6 [9452 kB]\n",
      "Get:66 http://deb.debian.org/debian buster/main amd64 gcc amd64 4:8.3.0-1 [5196 B]\n",
      "Get:67 http://deb.debian.org/debian buster/main amd64 gdal-data all 2.4.0+dfsg-1 [744 kB]\n",
      "Get:68 http://deb.debian.org/debian buster/main amd64 libgfortran5 amd64 8.3.0-6 [581 kB]\n",
      "Get:69 http://deb.debian.org/debian buster/main amd64 libgfortran-8-dev amd64 8.3.0-6 [616 kB]\n",
      "Get:70 http://deb.debian.org/debian buster/main amd64 gfortran-8 amd64 8.3.0-6 [9375 kB]\n",
      "Get:71 http://deb.debian.org/debian buster/main amd64 gfortran amd64 4:8.3.0-1 [1432 B]\n",
      "Get:72 http://deb.debian.org/debian buster/main amd64 libproxy1v5 amd64 0.4.15-5+deb10u1 [56.1 kB]\n",
      "Get:73 http://deb.debian.org/debian buster/main amd64 glib-networking-common all 2.58.0-2+deb10u2 [59.5 kB]\n",
      "Get:74 http://deb.debian.org/debian buster/main amd64 glib-networking-services amd64 2.58.0-2+deb10u2 [13.7 kB]\n",
      "Get:75 http://deb.debian.org/debian buster/main amd64 gsettings-desktop-schemas all 3.28.1-1 [529 kB]\n",
      "Get:76 http://deb.debian.org/debian buster/main amd64 glib-networking amd64 2.58.0-2+deb10u2 [54.6 kB]\n",
      "Get:77 http://deb.debian.org/debian buster/main amd64 libva2 amd64 2.4.0-1 [57.2 kB]\n",
      "Get:78 http://deb.debian.org/debian buster/main amd64 libdrm-common all 2.4.97-1 [13.8 kB]\n",
      "Get:79 http://deb.debian.org/debian buster/main amd64 libdrm2 amd64 2.4.97-1 [39.7 kB]\n",
      "Get:80 http://deb.debian.org/debian buster/main amd64 libpciaccess0 amd64 0.14-1 [53.5 kB]\n",
      "Get:81 http://deb.debian.org/debian buster/main amd64 libdrm-intel1 amd64 2.4.97-1 [69.8 kB]\n",
      "Get:82 http://deb.debian.org/debian buster/main amd64 i965-va-driver amd64 2.3.0+dfsg1-1 [311 kB]\n",
      "Get:83 http://deb.debian.org/debian buster/main amd64 libnl-3-200 amd64 3.4.0-1 [63.0 kB]\n",
      "Get:84 http://deb.debian.org/debian buster/main amd64 libnl-route-3-200 amd64 3.4.0-1 [162 kB]\n",
      "Get:85 http://deb.debian.org/debian buster/main amd64 libibverbs1 amd64 22.1-1 [51.2 kB]\n",
      "Get:86 http://deb.debian.org/debian buster/main amd64 ibverbs-providers amd64 22.1-1 [187 kB]\n",
      "Get:87 http://deb.debian.org/debian buster/main amd64 libigdgmm5 amd64 18.4.1+ds1-1 [78.7 kB]\n",
      "Get:88 http://deb.debian.org/debian buster/main amd64 intel-media-va-driver amd64 18.4.1+dfsg1-1 [974 kB]\n",
      "Get:89 http://deb.debian.org/debian buster/main amd64 libaacs0 amd64 0.9.0-2 [52.4 kB]\n",
      "Get:90 http://deb.debian.org/debian buster/main amd64 libaec0 amd64 1.0.2-1 [20.1 kB]\n",
      "Get:91 http://deb.debian.org/debian buster/main amd64 libaom0 amd64 1.0.0-3 [1165 kB]\n",
      "Get:92 http://deb.debian.org/debian buster/main amd64 libblas3 amd64 3.8.0-2 [148 kB]\n",
      "Get:93 http://deb.debian.org/debian buster/main amd64 liblapack3 amd64 3.8.0-2 [2110 kB]\n",
      "Get:94 http://deb.debian.org/debian buster/main amd64 libarpack2 amd64 3.7.0-2 [102 kB]\n",
      "Get:95 http://deb.debian.org/debian buster/main amd64 libsuperlu5 amd64 5.2.1+dfsg1-4 [161 kB]\n",
      "Get:96 http://deb.debian.org/debian buster/main amd64 libarmadillo9 amd64 1:9.200.7+dfsg-1 [88.6 kB]\n",
      "Get:97 http://deb.debian.org/debian buster/main amd64 libatk1.0-data all 2.30.0-2 [145 kB]\n",
      "Get:98 http://deb.debian.org/debian buster/main amd64 libatk1.0-0 amd64 2.30.0-2 [50.6 kB]\n",
      "Get:99 http://deb.debian.org/debian buster/main amd64 libatk-bridge2.0-0 amd64 2.30.0-5 [61.6 kB]\n",
      "Get:100 http://deb.debian.org/debian buster/main amd64 libva-drm2 amd64 2.4.0-1 [16.6 kB]\n",
      "Get:101 http://deb.debian.org/debian buster/main amd64 libxfixes3 amd64 1:5.0.3-1 [21.9 kB]\n",
      "Get:102 http://deb.debian.org/debian buster/main amd64 libva-x11-2 amd64 2.4.0-1 [21.3 kB]\n",
      "Get:103 http://deb.debian.org/debian buster/main amd64 libvdpau1 amd64 1.1.1-10 [42.0 kB]\n",
      "Get:104 http://deb.debian.org/debian buster/main amd64 libcodec2-0.8.1 amd64 0.8.1-2 [233 kB]\n",
      "Get:105 http://deb.debian.org/debian buster/main amd64 libcrystalhd3 amd64 1:0.0~git20110715.fdd2f19-13 [45.9 kB]\n",
      "Get:106 http://deb.debian.org/debian buster/main amd64 libgsm1 amd64 1.0.18-2 [27.7 kB]\n",
      "Get:107 http://deb.debian.org/debian buster/main amd64 libmp3lame0 amd64 3.100-2+b1 [367 kB]\n",
      "Get:108 http://deb.debian.org/debian buster/main amd64 libopus0 amd64 1.3-1 [191 kB]\n",
      "Get:109 http://deb.debian.org/debian buster/main amd64 libshine3 amd64 3.1.1-2 [23.6 kB]\n",
      "Get:110 http://deb.debian.org/debian buster/main amd64 libsnappy1v5 amd64 1.1.7-1 [17.0 kB]\n",
      "Get:111 http://deb.debian.org/debian buster/main amd64 libspeex1 amd64 1.2~rc1.2-1+b2 [54.8 kB]\n",
      "Get:112 http://deb.debian.org/debian buster/main amd64 libsoxr0 amd64 0.1.2-3 [65.9 kB]\n",
      "Get:113 http://deb.debian.org/debian buster/main amd64 libogg0 amd64 1.3.2-1+b1 [21.3 kB]\n",
      "Get:114 http://deb.debian.org/debian buster/main amd64 libtheora0 amd64 1.1.1+dfsg.1-15 [169 kB]\n",
      "Get:115 http://deb.debian.org/debian buster/main amd64 libtwolame0 amd64 0.3.13-4 [49.3 kB]\n",
      "Get:116 http://deb.debian.org/debian buster/main amd64 libvorbis0a amd64 1.3.6-2 [93.5 kB]\n",
      "Get:117 http://deb.debian.org/debian buster/main amd64 libvorbisenc2 amd64 1.3.6-2 [80.2 kB]\n",
      "Get:118 http://deb.debian.org/debian buster/main amd64 libvpx5 amd64 1.7.0-3+deb10u1 [800 kB]\n",
      "Get:119 http://deb.debian.org/debian buster/main amd64 libwavpack1 amd64 5.1.0-6 [86.8 kB]\n",
      "Get:120 http://deb.debian.org/debian buster/main amd64 libx264-155 amd64 2:0.155.2917+git0a84d98-2 [528 kB]\n",
      "Get:121 http://deb.debian.org/debian buster/main amd64 libxvidcore4 amd64 2:1.3.5-1 [241 kB]\n",
      "Get:122 http://deb.debian.org/debian buster/main amd64 libzvbi-common all 0.2.35-16 [64.3 kB]\n",
      "Get:123 http://deb.debian.org/debian buster/main amd64 libzvbi0 amd64 0.2.35-16 [270 kB]\n",
      "Get:124 http://deb.debian.org/debian buster/main amd64 libbluray2 amd64 1:1.1.0-1 [145 kB]\n",
      "Get:125 http://deb.debian.org/debian buster/main amd64 libchromaprint1 amd64 1.4.3-3 [41.4 kB]\n",
      "Get:126 http://deb.debian.org/debian buster/main amd64 libgme0 amd64 0.6.2-1 [121 kB]\n",
      "Get:127 http://deb.debian.org/debian buster/main amd64 libmpg123-0 amd64 1.25.10-2 [140 kB]\n",
      "Get:128 http://deb.debian.org/debian buster/main amd64 libvorbisfile3 amd64 1.3.6-2 [25.5 kB]\n",
      "Get:129 http://deb.debian.org/debian buster/main amd64 libopenmpt0 amd64 0.4.3-1+deb10u1 [627 kB]\n",
      "Get:130 http://deb.debian.org/debian buster/main amd64 libssh-gcrypt-4 amd64 0.8.7-1+deb10u1 [200 kB]\n",
      "Get:131 http://deb.debian.org/debian buster/main amd64 libbdplus0 amd64 0.1.2-3 [47.5 kB]\n",
      "Get:132 http://deb.debian.org/debian buster/main amd64 libevent-2.1-6 amd64 2.1.8-stable-4 [177 kB]\n",
      "Get:133 http://deb.debian.org/debian buster/main amd64 libevent-core-2.1-6 amd64 2.1.8-stable-4 [129 kB]\n",
      "Get:134 http://deb.debian.org/debian buster/main amd64 libevent-pthreads-2.1-6 amd64 2.1.8-stable-4 [47.9 kB]\n",
      "Get:135 http://deb.debian.org/debian buster/main amd64 libpsm-infinipath1 amd64 3.3+20.604758e7-6 [168 kB]\n",
      "Get:136 http://deb.debian.org/debian buster/main amd64 libpsm2-2 amd64 11.2.78-1 [177 kB]\n",
      "Get:137 http://deb.debian.org/debian buster/main amd64 librdmacm1 amd64 22.1-1 [65.3 kB]\n",
      "Get:138 http://deb.debian.org/debian buster/main amd64 libfabric1 amd64 1.6.2-3 [396 kB]\n",
      "Get:139 http://deb.debian.org/debian buster/main amd64 libhwloc5 amd64 1.11.12-3 [111 kB]\n",
      "Get:140 http://deb.debian.org/debian buster/main amd64 ocl-icd-libopencl1 amd64 2.2.12-2 [37.5 kB]\n",
      "Get:141 http://deb.debian.org/debian buster/main amd64 libhwloc-plugins amd64 1.11.12-3 [17.4 kB]\n",
      "Get:142 http://deb.debian.org/debian buster/main amd64 libpmix2 amd64 3.1.2-3 [498 kB]\n",
      "Get:143 http://deb.debian.org/debian buster/main amd64 libopenmpi3 amd64 3.1.3-11 [2191 kB]\n",
      "Get:144 http://deb.debian.org/debian buster/main amd64 libcaf-openmpi-3 amd64 2.4.0-2 [35.6 kB]\n",
      "Get:145 http://deb.debian.org/debian buster/main amd64 libcairo-gobject2 amd64 1.16.0-4+deb10u1 [125 kB]\n",
      "Get:146 http://deb.debian.org/debian buster/main amd64 libcharls2 amd64 2.0.0+dfsg-1 [64.3 kB]\n",
      "Get:147 http://deb.debian.org/debian buster/main amd64 libcoarrays-dev amd64 2.4.0-2 [29.1 kB]\n",
      "Get:148 http://deb.debian.org/debian buster/main amd64 openmpi-common all 3.1.3-11 [165 kB]\n",
      "Get:149 http://deb.debian.org/debian buster/main amd64 openmpi-bin amd64 3.1.3-11 [200 kB]\n",
      "Get:150 http://deb.debian.org/debian buster/main amd64 libcoarrays-openmpi-dev amd64 2.4.0-2 [35.2 kB]\n",
      "Get:151 http://deb.debian.org/debian buster/main amd64 libcolord2 amd64 1.4.3-4 [141 kB]\n",
      "Get:152 http://deb.debian.org/debian buster/main amd64 libdap25 amd64 3.20.3-1 [557 kB]\n",
      "Get:153 http://deb.debian.org/debian buster/main amd64 libdapclient6v5 amd64 3.20.3-1 [202 kB]\n",
      "Get:154 http://deb.debian.org/debian buster/main amd64 libdapserver7v5 amd64 3.20.3-1 [131 kB]\n",
      "Get:155 http://deb.debian.org/debian buster/main amd64 libraw1394-11 amd64 2.1.2-1+b1 [47.2 kB]\n",
      "Get:156 http://deb.debian.org/debian buster/main amd64 libusb-1.0-0 amd64 2:1.0.22-2 [55.3 kB]\n",
      "Get:157 http://deb.debian.org/debian buster/main amd64 libdc1394-22 amd64 2.2.5-1 [106 kB]\n",
      "Get:158 http://deb.debian.org/debian buster/main amd64 libdrm-amdgpu1 amd64 2.4.97-1 [27.3 kB]\n",
      "Get:159 http://deb.debian.org/debian buster/main amd64 libdrm-nouveau2 amd64 2.4.97-1 [26.3 kB]\n",
      "Get:160 http://deb.debian.org/debian buster/main amd64 libdrm-radeon1 amd64 2.4.97-1 [31.1 kB]\n",
      "Get:161 http://deb.debian.org/debian buster/main amd64 libelf1 amd64 0.176-1.1 [161 kB]\n",
      "Get:162 http://deb.debian.org/debian buster/main amd64 libepoxy0 amd64 1.5.3-0.1 [190 kB]\n",
      "Get:163 http://deb.debian.org/debian buster/main amd64 libpopt0 amd64 1.16-12 [49.4 kB]\n",
      "Get:164 http://deb.debian.org/debian buster/main amd64 libepsilon1 amd64 0.9.2+dfsg-4 [42.0 kB]\n",
      "Get:165 http://deb.debian.org/debian buster/main amd64 libexif12 amd64 0.6.21-5.1+deb10u5 [326 kB]\n",
      "Get:166 http://deb.debian.org/debian buster/main amd64 libfreexl1 amd64 1.0.5-3 [34.1 kB]\n",
      "Get:167 http://deb.debian.org/debian buster/main amd64 libfyba0 amd64 4.1.1-6 [114 kB]\n",
      "Get:168 http://deb.debian.org/debian buster/main amd64 libgd3 amd64 2.2.5-5.2 [136 kB]\n",
      "Get:169 http://deb.debian.org/debian buster/main amd64 libgeos-3.7.1 amd64 3.7.1-1 [735 kB]\n",
      "Get:170 http://deb.debian.org/debian buster/main amd64 libgeos-c1v5 amd64 3.7.1-1 [299 kB]\n",
      "Get:171 http://deb.debian.org/debian buster/main amd64 proj-data all 5.2.0-1 [6986 kB]\n",
      "Get:172 http://deb.debian.org/debian buster/main amd64 libproj13 amd64 5.2.0-1 [225 kB]\n",
      "Get:173 http://deb.debian.org/debian buster/main amd64 libgeotiff2 amd64 1.4.3-1 [72.0 kB]\n",
      "Get:174 http://deb.debian.org/debian buster/main amd64 libgif7 amd64 5.1.4-3 [43.3 kB]\n",
      "Get:175 http://deb.debian.org/debian buster/main amd64 libhdf4-0-alt amd64 4.2.13-4 [277 kB]\n",
      "Get:176 http://deb.debian.org/debian buster/main amd64 libsz2 amd64 1.0.2-1 [6676 B]\n",
      "Get:177 http://deb.debian.org/debian buster/main amd64 libhdf5-103 amd64 1.10.4+repack-10 [1325 kB]\n",
      "Get:178 http://deb.debian.org/debian buster/main amd64 libminizip1 amd64 1.1-8+b1 [20.4 kB]\n",
      "Get:179 http://deb.debian.org/debian buster/main amd64 liburiparser1 amd64 0.9.1-1 [47.8 kB]\n",
      "Get:180 http://deb.debian.org/debian buster/main amd64 libkmlbase1 amd64 1.3.0-7 [48.9 kB]\n",
      "Get:181 http://deb.debian.org/debian buster/main amd64 libkmldom1 amd64 1.3.0-7 [172 kB]\n",
      "Get:182 http://deb.debian.org/debian buster/main amd64 libkmlengine1 amd64 1.3.0-7 [78.4 kB]\n",
      "Get:183 http://deb.debian.org/debian buster/main amd64 libkmlconvenience1 amd64 1.3.0-7 [50.1 kB]\n",
      "Get:184 http://deb.debian.org/debian buster/main amd64 libkmlregionator1 amd64 1.3.0-7 [25.1 kB]\n",
      "Get:185 http://deb.debian.org/debian buster/main amd64 libkmlxsd1 amd64 1.3.0-7 [34.6 kB]\n",
      "Get:186 http://deb.debian.org/debian buster/main amd64 mysql-common all 5.8+1.0.5 [7324 B]\n",
      "Get:187 http://deb.debian.org/debian buster/main amd64 mariadb-common all 1:10.3.31-0+deb10u1 [32.7 kB]\n",
      "Get:188 http://deb.debian.org/debian buster/main amd64 libmariadb3 amd64 1:10.3.31-0+deb10u1 [173 kB]\n",
      "Get:189 http://deb.debian.org/debian buster/main amd64 libnetcdf13 amd64 1:4.6.2-1 [403 kB]\n",
      "Get:190 http://deb.debian.org/debian buster/main amd64 libodbc1 amd64 2.3.6-0.1 [223 kB]\n",
      "Get:191 http://deb.debian.org/debian buster/main amd64 libogdi3.2 amd64 3.2.1+ds-4 [241 kB]\n",
      "Get:192 http://deb.debian.org/debian buster/main amd64 libnspr4 amd64 2:4.20-1 [112 kB]\n",
      "Get:193 http://deb.debian.org/debian buster/main amd64 libnss3 amd64 2:3.42.1-1+deb10u3 [1159 kB]\n",
      "Get:194 http://deb.debian.org/debian buster/main amd64 libpoppler82 amd64 0.71.0-5 [1507 kB]\n",
      "Get:195 http://deb.debian.org/debian buster/main amd64 libpq5 amd64 11.13-0+deb10u1 [170 kB]\n",
      "Get:196 http://deb.debian.org/debian buster/main amd64 libqhull7 amd64 2015.2-4 [196 kB]\n",
      "Get:197 http://deb.debian.org/debian buster/main amd64 libspatialite7 amd64 4.3.0a-5+b2 [1256 kB]\n",
      "Get:198 http://deb.debian.org/debian buster/main amd64 libxerces-c3.2 amd64 3.2.2+debian-1+deb10u1 [886 kB]\n",
      "Get:199 http://deb.debian.org/debian buster/main amd64 odbcinst amd64 2.3.6-0.1 [48.4 kB]\n",
      "Get:200 http://deb.debian.org/debian buster/main amd64 odbcinst1debian2 amd64 2.3.6-0.1 [78.1 kB]\n",
      "Get:201 http://deb.debian.org/debian buster/main amd64 libgdal20 amd64 2.4.0+dfsg-1+b1 [6171 kB]\n",
      "Get:202 http://deb.debian.org/debian buster/main amd64 libsocket++1 amd64 1.12.13-10 [42.1 kB]\n",
      "Get:203 http://deb.debian.org/debian buster/main amd64 libgdcm2.8 amd64 2.8.8-9 [1834 kB]\n",
      "Get:204 http://deb.debian.org/debian buster/main amd64 libgdk-pixbuf2.0-bin amd64 2.38.1+dfsg-1 [24.1 kB]\n",
      "Get:205 http://deb.debian.org/debian buster/main amd64 libglapi-mesa amd64 18.3.6-2+deb10u1 [66.3 kB]\n",
      "Get:206 http://deb.debian.org/debian buster/main amd64 libllvm7 amd64 1:7.0.1-8+deb10u2 [13.1 MB]\n",
      "Get:207 http://deb.debian.org/debian buster/main amd64 libsensors-config all 1:3.5.0-3 [31.6 kB]\n",
      "Get:208 http://deb.debian.org/debian buster/main amd64 libsensors5 amd64 1:3.5.0-3 [52.6 kB]\n",
      "Get:209 http://deb.debian.org/debian buster/main amd64 libgl1-mesa-dri amd64 18.3.6-2+deb10u1 [6685 kB]\n",
      "Get:210 http://deb.debian.org/debian buster/main amd64 libglvnd0 amd64 1.1.0-1 [48.6 kB]\n",
      "Get:211 http://deb.debian.org/debian buster/main amd64 libx11-xcb1 amd64 2:1.6.7-1+deb10u2 [191 kB]\n",
      "Get:212 http://deb.debian.org/debian buster/main amd64 libxcb-dri2-0 amd64 1.13.1-2 [101 kB]\n",
      "Get:213 http://deb.debian.org/debian buster/main amd64 libxcb-dri3-0 amd64 1.13.1-2 [100 kB]\n",
      "Get:214 http://deb.debian.org/debian buster/main amd64 libxcb-glx0 amd64 1.13.1-2 [116 kB]\n",
      "Get:215 http://deb.debian.org/debian buster/main amd64 libxcb-present0 amd64 1.13.1-2 [99.1 kB]\n",
      "Get:216 http://deb.debian.org/debian buster/main amd64 libxcb-sync1 amd64 1.13.1-2 [103 kB]\n",
      "Get:217 http://deb.debian.org/debian buster/main amd64 libxdamage1 amd64 1:1.1.4-3+b3 [14.9 kB]\n",
      "Get:218 http://deb.debian.org/debian buster/main amd64 libxshmfence1 amd64 1.3-1 [8820 B]\n",
      "Get:219 http://deb.debian.org/debian buster/main amd64 libxxf86vm1 amd64 1:1.1.4-1+b2 [20.8 kB]\n",
      "Get:220 http://deb.debian.org/debian buster/main amd64 libglx-mesa0 amd64 18.3.6-2+deb10u1 [180 kB]\n",
      "Get:221 http://deb.debian.org/debian buster/main amd64 libglx0 amd64 1.1.0-1 [30.0 kB]\n",
      "Get:222 http://deb.debian.org/debian buster/main amd64 libgl1 amd64 1.1.0-1 [91.1 kB]\n",
      "Get:223 http://deb.debian.org/debian buster/main amd64 libgl2ps1.4 amd64 1.4.0+dfsg1-2 [39.0 kB]\n",
      "Get:224 http://deb.debian.org/debian buster/main amd64 libglu1-mesa amd64 9.0.0-2.1+b3 [169 kB]\n",
      "Get:225 http://deb.debian.org/debian buster/main amd64 libgphoto2-port12 amd64 2.5.22-3 [118 kB]\n",
      "Get:226 http://deb.debian.org/debian buster/main amd64 libgphoto2-6 amd64 2.5.22-3 [895 kB]\n",
      "Get:227 http://deb.debian.org/debian buster/main amd64 libgphoto2-l10n all 2.5.22-3 [468 kB]\n",
      "Get:228 http://deb.debian.org/debian buster/main amd64 libjson-glib-1.0-common all 1.4.4-2 [52.3 kB]\n",
      "Get:229 http://deb.debian.org/debian buster/main amd64 libjson-glib-1.0-0 amd64 1.4.4-2 [61.2 kB]\n",
      "Get:230 http://deb.debian.org/debian buster/main amd64 libsoup2.4-1 amd64 2.64.2-2 [253 kB]\n",
      "Get:231 http://deb.debian.org/debian buster/main amd64 libsoup-gnome2.4-1 amd64 2.64.2-2 [18.0 kB]\n",
      "Get:232 http://deb.debian.org/debian buster/main amd64 librest-0.7-0 amd64 0.8.1-1 [33.7 kB]\n",
      "Get:233 http://deb.debian.org/debian buster/main amd64 libwayland-client0 amd64 1.16.0-1 [26.4 kB]\n",
      "Get:234 http://deb.debian.org/debian buster/main amd64 libwayland-cursor0 amd64 1.16.0-1 [14.1 kB]\n",
      "Get:235 http://deb.debian.org/debian buster/main amd64 libwayland-egl1 amd64 1.16.0-1 [8204 B]\n",
      "Get:236 http://deb.debian.org/debian buster/main amd64 libxcomposite1 amd64 1:0.4.4-2 [16.5 kB]\n",
      "Get:237 http://deb.debian.org/debian buster/main amd64 libxcursor1 amd64 1:1.1.15-2 [36.6 kB]\n",
      "Get:238 http://deb.debian.org/debian buster/main amd64 libxinerama1 amd64 2:1.1.4-2 [17.7 kB]\n",
      "Get:239 http://deb.debian.org/debian buster/main amd64 xkb-data all 2.26-2 [681 kB]\n",
      "Get:240 http://deb.debian.org/debian buster/main amd64 libxkbcommon0 amd64 0.8.2-1 [123 kB]\n",
      "Get:241 http://deb.debian.org/debian buster/main amd64 libxrandr2 amd64 2:1.5.1-1 [37.5 kB]\n",
      "Get:242 http://deb.debian.org/debian buster/main amd64 libgtk-3-common all 3.24.5-1 [3678 kB]\n",
      "Get:243 http://deb.debian.org/debian buster/main amd64 libgtk-3-0 amd64 3.24.5-1 [2580 kB]\n",
      "Get:244 http://deb.debian.org/debian buster/main amd64 libgtk-3-bin amd64 3.24.5-1 [114 kB]\n",
      "Get:245 http://deb.debian.org/debian buster/main amd64 libhdf5-openmpi-103 amd64 1.10.4+repack-10 [1373 kB]\n",
      "Get:246 http://deb.debian.org/debian buster/main amd64 libnuma-dev amd64 2.0.12-1 [39.2 kB]\n",
      "Get:247 http://deb.debian.org/debian buster/main amd64 libltdl-dev amd64 2.4.6-9 [162 kB]\n",
      "Get:248 http://deb.debian.org/debian buster/main amd64 libhwloc-dev amd64 1.11.12-3 [175 kB]\n",
      "Get:249 http://deb.debian.org/debian buster/main amd64 libnl-3-dev amd64 3.4.0-1 [102 kB]\n",
      "Get:250 http://deb.debian.org/debian buster/main amd64 libnl-route-3-dev amd64 3.4.0-1 [177 kB]\n",
      "Get:251 http://deb.debian.org/debian buster/main amd64 libibverbs-dev amd64 22.1-1 [362 kB]\n",
      "Get:252 http://deb.debian.org/debian buster/main amd64 libjsoncpp1 amd64 1.7.4-3 [75.6 kB]\n",
      "Get:253 http://deb.debian.org/debian buster/main amd64 liblept5 amd64 1.76.0-1 [940 kB]\n",
      "Get:254 http://deb.debian.org/debian buster/main amd64 libnetcdf-c++4 amd64 4.2-11 [34.6 kB]\n",
      "Get:255 http://deb.debian.org/debian buster/main amd64 libtbb2 amd64 2018~U6-4 [147 kB]\n",
      "Get:256 http://deb.debian.org/debian buster/main amd64 libopencv-core3.2 amd64 3.2.0+dfsg-6 [726 kB]\n",
      "Get:257 http://deb.debian.org/debian buster/main amd64 libopencv-flann3.2 amd64 3.2.0+dfsg-6 [106 kB]\n",
      "Get:258 http://deb.debian.org/debian buster/main amd64 libopencv-imgproc3.2 amd64 3.2.0+dfsg-6 [830 kB]\n",
      "Get:259 http://deb.debian.org/debian buster/main amd64 libopencv-imgcodecs3.2 amd64 3.2.0+dfsg-6 [99.1 kB]\n",
      "Get:260 http://deb.debian.org/debian buster/main amd64 libopencv-videoio3.2 amd64 3.2.0+dfsg-6 [94.1 kB]\n",
      "Get:261 http://deb.debian.org/debian buster/main amd64 libopencv-highgui3.2 amd64 3.2.0+dfsg-6 [34.0 kB]\n",
      "Get:262 http://deb.debian.org/debian buster/main amd64 libopencv-ml3.2 amd64 3.2.0+dfsg-6 [234 kB]\n",
      "Get:263 http://deb.debian.org/debian buster/main amd64 libopencv-features2d3.2 amd64 3.2.0+dfsg-6 [242 kB]\n",
      "Get:264 http://deb.debian.org/debian buster/main amd64 libopencv-calib3d3.2 amd64 3.2.0+dfsg-6 [441 kB]\n",
      "Get:265 http://deb.debian.org/debian buster/main amd64 libopencv-objdetect3.2 amd64 3.2.0+dfsg-6 [151 kB]\n",
      "Get:266 http://deb.debian.org/debian buster/main amd64 libopencv-photo3.2 amd64 3.2.0+dfsg-6 [199 kB]\n",
      "Get:267 http://deb.debian.org/debian buster/main amd64 libopencv-video3.2 amd64 3.2.0+dfsg-6 [136 kB]\n",
      "Get:268 http://deb.debian.org/debian buster/main amd64 libopencv-shape3.2 amd64 3.2.0+dfsg-6 [72.3 kB]\n",
      "Get:269 http://deb.debian.org/debian buster/main amd64 libopencv-stitching3.2 amd64 3.2.0+dfsg-6 [179 kB]\n",
      "Get:270 http://deb.debian.org/debian buster/main amd64 libopencv-superres3.2 amd64 3.2.0+dfsg-6 [57.3 kB]\n",
      "Get:271 http://deb.debian.org/debian buster/main amd64 libopencv-videostab3.2 amd64 3.2.0+dfsg-6 [110 kB]\n",
      "Get:272 http://deb.debian.org/debian buster/main amd64 libpython2.7 amd64 2.7.16-2+deb10u1 [1036 kB]\n",
      "Get:273 http://deb.debian.org/debian buster/main amd64 libtcl8.6 amd64 8.6.9+dfsg-2 [1005 kB]\n",
      "Get:274 http://deb.debian.org/debian buster/main amd64 libxft2 amd64 2.3.2-2 [57.2 kB]\n",
      "Get:275 http://deb.debian.org/debian buster/main amd64 libxss1 amd64 1:1.2.3-1 [17.8 kB]\n",
      "Get:276 http://deb.debian.org/debian buster/main amd64 libtk8.6 amd64 8.6.9-2 [768 kB]\n",
      "Get:277 http://deb.debian.org/debian buster/main amd64 libvtk6.3 amd64 6.3.0+dfsg2-2+b5 [32.5 MB]\n",
      "Get:278 http://deb.debian.org/debian buster/main amd64 libopencv-viz3.2 amd64 3.2.0+dfsg-6 [128 kB]\n",
      "Get:279 http://deb.debian.org/debian buster/main amd64 libtesseract4 amd64 4.0.0-2 [1234 kB]\n",
      "Get:280 http://deb.debian.org/debian buster/main amd64 libopencv-contrib3.2 amd64 3.2.0+dfsg-6 [1469 kB]\n",
      "Get:281 http://deb.debian.org/debian buster/main amd64 libopenmpi-dev amd64 3.1.3-11 [974 kB]\n",
      "Get:282 http://deb.debian.org/debian buster/main amd64 libtool all 2.4.6-9 [547 kB]\n",
      "Get:283 http://deb.debian.org/debian buster/main amd64 libvdpau-va-gl1 amd64 0.4.2-1+b1 [71.3 kB]\n",
      "Get:284 http://deb.debian.org/debian buster/main amd64 libxcb-xfixes0 amd64 1.13.1-2 [103 kB]\n",
      "Get:285 http://deb.debian.org/debian buster/main amd64 mesa-va-drivers amd64 18.3.6-2+deb10u1 [1972 kB]\n",
      "Get:286 http://deb.debian.org/debian buster/main amd64 mesa-vdpau-drivers amd64 18.3.6-2+deb10u1 [2101 kB]\n",
      "Get:287 http://deb.debian.org/debian buster/main amd64 proj-bin amd64 5.2.0-1 [105 kB]\n",
      "Get:288 http://deb.debian.org/debian buster/main amd64 python3-pkg-resources all 40.8.0-1 [153 kB]\n",
      "Get:289 http://deb.debian.org/debian buster/main amd64 python3-numpy amd64 1:1.16.2-1 [2119 kB]\n",
      "Get:290 http://deb.debian.org/debian buster/main amd64 python3-opencv amd64 3.2.0+dfsg-6 [553 kB]\n",
      "Get:291 http://deb.debian.org/debian buster/main amd64 va-driver-all amd64 2.4.0-1 [13.0 kB]\n",
      "Get:292 http://deb.debian.org/debian buster/main amd64 vdpau-driver-all amd64 1.1.1-10 [20.8 kB]\n",
      "Fetched 199 MB in 2s (113 MB/s)                 \n",
      "debconf: delaying package configuration, since apt-utils is not installed\n",
      "(Reading database ... 20589 files and directories currently installed.)\n",
      "Preparing to unpack .../libsystemd0_241-7~deb10u8_amd64.deb ...\n",
      "Unpacking libsystemd0:amd64 (241-7~deb10u8) over (241-7~deb10u4) ...\n",
      "Setting up libsystemd0:amd64 (241-7~deb10u8) ...\n",
      "Selecting previously unselected package libargon2-1:amd64.\n",
      "(Reading database ... 20589 files and directories currently installed.)\n",
      "Preparing to unpack .../0-libargon2-1_0~20171227-0.2_amd64.deb ...\n",
      "Unpacking libargon2-1:amd64 (0~20171227-0.2) ...\n",
      "Selecting previously unselected package dmsetup.\n",
      "Preparing to unpack .../1-dmsetup_2%3a1.02.155-3_amd64.deb ...\n",
      "Unpacking dmsetup (2:1.02.155-3) ...\n",
      "Selecting previously unselected package libdevmapper1.02.1:amd64.\n",
      "Preparing to unpack .../2-libdevmapper1.02.1_2%3a1.02.155-3_amd64.deb ...\n",
      "Unpacking libdevmapper1.02.1:amd64 (2:1.02.155-3) ...\n",
      "Selecting previously unselected package libcryptsetup12:amd64.\n",
      "Preparing to unpack .../3-libcryptsetup12_2%3a2.1.0-5+deb10u2_amd64.deb ...\n",
      "Unpacking libcryptsetup12:amd64 (2:2.1.0-5+deb10u2) ...\n",
      "Selecting previously unselected package libip4tc0:amd64.\n",
      "Preparing to unpack .../4-libip4tc0_1.8.2-4_amd64.deb ...\n",
      "Unpacking libip4tc0:amd64 (1.8.2-4) ...\n",
      "Selecting previously unselected package libkmod2:amd64.\n",
      "Preparing to unpack .../5-libkmod2_26-1_amd64.deb ...\n",
      "Unpacking libkmod2:amd64 (26-1) ...\n",
      "Selecting previously unselected package systemd.\n",
      "Preparing to unpack .../6-systemd_241-7~deb10u8_amd64.deb ...\n",
      "Unpacking systemd (241-7~deb10u8) ...\n",
      "Setting up libargon2-1:amd64 (0~20171227-0.2) ...\n",
      "Setting up libip4tc0:amd64 (1.8.2-4) ...\n",
      "Setting up libkmod2:amd64 (26-1) ...\n",
      "Setting up libdevmapper1.02.1:amd64 (2:1.02.155-3) ...\n",
      "Setting up libcryptsetup12:amd64 (2:2.1.0-5+deb10u2) ...\n",
      "Setting up systemd (241-7~deb10u8) ...\n",
      "Created symlink /etc/systemd/system/getty.target.wants/getty@tty1.service → /lib/systemd/system/getty@.service.\n",
      "Created symlink /etc/systemd/system/multi-user.target.wants/remote-fs.target → /lib/systemd/system/remote-fs.target.\n",
      "Created symlink /etc/systemd/system/dbus-org.freedesktop.timesync1.service → /lib/systemd/system/systemd-timesyncd.service.\n",
      "Created symlink /etc/systemd/system/sysinit.target.wants/systemd-timesyncd.service → /lib/systemd/system/systemd-timesyncd.service.\n",
      "Setting up dmsetup (2:1.02.155-3) ...\n",
      "Selecting previously unselected package systemd-sysv.\n",
      "(Reading database ... 21394 files and directories currently installed.)\n",
      "Preparing to unpack .../systemd-sysv_241-7~deb10u8_amd64.deb ...\n",
      "Unpacking systemd-sysv (241-7~deb10u8) ...\n",
      "Selecting previously unselected package libpython3.7-minimal:amd64.\n",
      "Preparing to unpack .../libpython3.7-minimal_3.7.3-2+deb10u3_amd64.deb ...\n",
      "Unpacking libpython3.7-minimal:amd64 (3.7.3-2+deb10u3) ...\n",
      "Selecting previously unselected package python3.7-minimal.\n",
      "Preparing to unpack .../python3.7-minimal_3.7.3-2+deb10u3_amd64.deb ...\n",
      "Unpacking python3.7-minimal (3.7.3-2+deb10u3) ...\n",
      "Setting up libpython3.7-minimal:amd64 (3.7.3-2+deb10u3) ...\n",
      "Setting up python3.7-minimal (3.7.3-2+deb10u3) ...\n",
      "Selecting previously unselected package python3-minimal.\n",
      "(Reading database ... 21651 files and directories currently installed.)\n",
      "Preparing to unpack .../python3-minimal_3.7.3-1_amd64.deb ...\n",
      "Unpacking python3-minimal (3.7.3-1) ...\n",
      "Selecting previously unselected package libmpdec2:amd64.\n",
      "Preparing to unpack .../libmpdec2_2.4.2-2_amd64.deb ...\n",
      "Unpacking libmpdec2:amd64 (2.4.2-2) ...\n",
      "Selecting previously unselected package libpython3.7-stdlib:amd64.\n",
      "Preparing to unpack .../libpython3.7-stdlib_3.7.3-2+deb10u3_amd64.deb ...\n",
      "Unpacking libpython3.7-stdlib:amd64 (3.7.3-2+deb10u3) ...\n",
      "Selecting previously unselected package python3.7.\n",
      "Preparing to unpack .../python3.7_3.7.3-2+deb10u3_amd64.deb ...\n",
      "Unpacking python3.7 (3.7.3-2+deb10u3) ...\n",
      "Selecting previously unselected package libpython3-stdlib:amd64.\n",
      "Preparing to unpack .../libpython3-stdlib_3.7.3-1_amd64.deb ...\n",
      "Unpacking libpython3-stdlib:amd64 (3.7.3-1) ...\n",
      "Setting up python3-minimal (3.7.3-1) ...\n",
      "Selecting previously unselected package python3.\n",
      "(Reading database ... 22063 files and directories currently installed.)\n",
      "Preparing to unpack .../000-python3_3.7.3-1_amd64.deb ...\n",
      "Unpacking python3 (3.7.3-1) ...\n",
      "Selecting previously unselected package libnss-systemd:amd64.\n",
      "Preparing to unpack .../001-libnss-systemd_241-7~deb10u8_amd64.deb ...\n",
      "Unpacking libnss-systemd:amd64 (241-7~deb10u8) ...\n",
      "Selecting previously unselected package libpam-systemd:amd64.\n",
      "Preparing to unpack .../002-libpam-systemd_241-7~deb10u8_amd64.deb ...\n",
      "Unpacking libpam-systemd:amd64 (241-7~deb10u8) ...\n",
      "Selecting previously unselected package libgdk-pixbuf2.0-common.\n",
      "Preparing to unpack .../003-libgdk-pixbuf2.0-common_2.38.1+dfsg-1_all.deb ...\n",
      "Unpacking libgdk-pixbuf2.0-common (2.38.1+dfsg-1) ...\n",
      "Selecting previously unselected package libgdk-pixbuf2.0-0:amd64.\n",
      "Preparing to unpack .../004-libgdk-pixbuf2.0-0_2.38.1+dfsg-1_amd64.deb ...\n",
      "Unpacking libgdk-pixbuf2.0-0:amd64 (2.38.1+dfsg-1) ...\n",
      "Selecting previously unselected package gtk-update-icon-cache.\n",
      "Preparing to unpack .../005-gtk-update-icon-cache_3.24.5-1_amd64.deb ...\n",
      "No diversion 'diversion of /usr/sbin/update-icon-caches to /usr/sbin/update-icon-caches.gtk2 by libgtk-3-bin', none removed.\n",
      "No diversion 'diversion of /usr/share/man/man8/update-icon-caches.8.gz to /usr/share/man/man8/update-icon-caches.gtk2.8.gz by libgtk-3-bin', none removed.\n",
      "Unpacking gtk-update-icon-cache (3.24.5-1) ...\n",
      "Selecting previously unselected package libcroco3:amd64.\n",
      "Preparing to unpack .../006-libcroco3_0.6.12-3_amd64.deb ...\n",
      "Unpacking libcroco3:amd64 (0.6.12-3) ...\n",
      "Selecting previously unselected package librsvg2-2:amd64.\n",
      "Preparing to unpack .../007-librsvg2-2_2.44.10-2.1_amd64.deb ...\n",
      "Unpacking librsvg2-2:amd64 (2.44.10-2.1) ...\n",
      "Selecting previously unselected package librsvg2-common:amd64.\n",
      "Preparing to unpack .../008-librsvg2-common_2.44.10-2.1_amd64.deb ...\n",
      "Unpacking librsvg2-common:amd64 (2.44.10-2.1) ...\n",
      "Selecting previously unselected package adwaita-icon-theme.\n",
      "Preparing to unpack .../009-adwaita-icon-theme_3.30.1-1_all.deb ...\n",
      "Unpacking adwaita-icon-theme (3.30.1-1) ...\n",
      "Selecting previously unselected package libatspi2.0-0:amd64.\n",
      "Preparing to unpack .../010-libatspi2.0-0_2.30.0-7_amd64.deb ...\n",
      "Unpacking libatspi2.0-0:amd64 (2.30.0-7) ...\n",
      "Selecting previously unselected package libxi6:amd64.\n",
      "Preparing to unpack .../011-libxi6_2%3a1.7.9-1_amd64.deb ...\n",
      "Unpacking libxi6:amd64 (2:1.7.9-1) ...\n",
      "Selecting previously unselected package libxtst6:amd64.\n",
      "Preparing to unpack .../012-libxtst6_2%3a1.2.3-1_amd64.deb ...\n",
      "Unpacking libxtst6:amd64 (2:1.2.3-1) ...\n",
      "Selecting previously unselected package at-spi2-core.\n",
      "Preparing to unpack .../013-at-spi2-core_2.30.0-7_amd64.deb ...\n",
      "Unpacking at-spi2-core (2.30.0-7) ...\n",
      "Selecting previously unselected package libsigsegv2:amd64.\n",
      "Preparing to unpack .../014-libsigsegv2_2.12-2_amd64.deb ...\n",
      "Unpacking libsigsegv2:amd64 (2.12-2) ...\n",
      "Selecting previously unselected package m4.\n",
      "Preparing to unpack .../015-m4_1.4.18-2_amd64.deb ...\n",
      "Unpacking m4 (1.4.18-2) ...\n",
      "Selecting previously unselected package autoconf.\n",
      "Preparing to unpack .../016-autoconf_2.69-11_all.deb ...\n",
      "Unpacking autoconf (2.69-11) ...\n",
      "Selecting previously unselected package autotools-dev.\n",
      "Preparing to unpack .../017-autotools-dev_20180224.1_all.deb ...\n",
      "Unpacking autotools-dev (20180224.1) ...\n",
      "Selecting previously unselected package automake.\n",
      "Preparing to unpack .../018-automake_1%3a1.16.1-4_all.deb ...\n",
      "Unpacking automake (1:1.16.1-4) ...\n",
      "Selecting previously unselected package binutils-common:amd64.\n",
      "Preparing to unpack .../019-binutils-common_2.31.1-16_amd64.deb ...\n",
      "Unpacking binutils-common:amd64 (2.31.1-16) ...\n",
      "Selecting previously unselected package libbinutils:amd64.\n",
      "Preparing to unpack .../020-libbinutils_2.31.1-16_amd64.deb ...\n",
      "Unpacking libbinutils:amd64 (2.31.1-16) ...\n",
      "Selecting previously unselected package binutils-x86-64-linux-gnu.\n",
      "Preparing to unpack .../021-binutils-x86-64-linux-gnu_2.31.1-16_amd64.deb ...\n",
      "Unpacking binutils-x86-64-linux-gnu (2.31.1-16) ...\n",
      "Selecting previously unselected package binutils.\n",
      "Preparing to unpack .../022-binutils_2.31.1-16_amd64.deb ...\n",
      "Unpacking binutils (2.31.1-16) ...\n",
      "Selecting previously unselected package libisl19:amd64.\n",
      "Preparing to unpack .../023-libisl19_0.20-2_amd64.deb ...\n",
      "Unpacking libisl19:amd64 (0.20-2) ...\n",
      "Selecting previously unselected package libmpfr6:amd64.\n",
      "Preparing to unpack .../024-libmpfr6_4.0.2-1_amd64.deb ...\n",
      "Unpacking libmpfr6:amd64 (4.0.2-1) ...\n",
      "Selecting previously unselected package libmpc3:amd64.\n",
      "Preparing to unpack .../025-libmpc3_1.1.0-1_amd64.deb ...\n",
      "Unpacking libmpc3:amd64 (1.1.0-1) ...\n",
      "Selecting previously unselected package cpp-8.\n",
      "Preparing to unpack .../026-cpp-8_8.3.0-6_amd64.deb ...\n",
      "Unpacking cpp-8 (8.3.0-6) ...\n",
      "Selecting previously unselected package cpp.\n",
      "Preparing to unpack .../027-cpp_4%3a8.3.0-1_amd64.deb ...\n",
      "Unpacking cpp (4:8.3.0-1) ...\n",
      "Selecting previously unselected package dbus-user-session.\n",
      "Preparing to unpack .../028-dbus-user-session_1.12.20-0+deb10u1_amd64.deb ...\n",
      "Unpacking dbus-user-session (1.12.20-0+deb10u1) ...\n",
      "Selecting previously unselected package libdconf1:amd64.\n",
      "Preparing to unpack .../029-libdconf1_0.30.1-2_amd64.deb ...\n",
      "Unpacking libdconf1:amd64 (0.30.1-2) ...\n",
      "Selecting previously unselected package dconf-service.\n",
      "Preparing to unpack .../030-dconf-service_0.30.1-2_amd64.deb ...\n",
      "Unpacking dconf-service (0.30.1-2) ...\n",
      "Selecting previously unselected package dconf-gsettings-backend:amd64.\n",
      "Preparing to unpack .../031-dconf-gsettings-backend_0.30.1-2_amd64.deb ...\n",
      "Unpacking dconf-gsettings-backend:amd64 (0.30.1-2) ...\n",
      "Selecting previously unselected package libcc1-0:amd64.\n",
      "Preparing to unpack .../032-libcc1-0_8.3.0-6_amd64.deb ...\n",
      "Unpacking libcc1-0:amd64 (8.3.0-6) ...\n",
      "Selecting previously unselected package libitm1:amd64.\n",
      "Preparing to unpack .../033-libitm1_8.3.0-6_amd64.deb ...\n",
      "Unpacking libitm1:amd64 (8.3.0-6) ...\n",
      "Selecting previously unselected package libatomic1:amd64.\n",
      "Preparing to unpack .../034-libatomic1_8.3.0-6_amd64.deb ...\n",
      "Unpacking libatomic1:amd64 (8.3.0-6) ...\n",
      "Selecting previously unselected package libasan5:amd64.\n",
      "Preparing to unpack .../035-libasan5_8.3.0-6_amd64.deb ...\n",
      "Unpacking libasan5:amd64 (8.3.0-6) ...\n",
      "Selecting previously unselected package liblsan0:amd64.\n",
      "Preparing to unpack .../036-liblsan0_8.3.0-6_amd64.deb ...\n",
      "Unpacking liblsan0:amd64 (8.3.0-6) ...\n",
      "Selecting previously unselected package libtsan0:amd64.\n",
      "Preparing to unpack .../037-libtsan0_8.3.0-6_amd64.deb ...\n",
      "Unpacking libtsan0:amd64 (8.3.0-6) ...\n",
      "Selecting previously unselected package libubsan1:amd64.\n",
      "Preparing to unpack .../038-libubsan1_8.3.0-6_amd64.deb ...\n",
      "Unpacking libubsan1:amd64 (8.3.0-6) ...\n",
      "Selecting previously unselected package libmpx2:amd64.\n",
      "Preparing to unpack .../039-libmpx2_8.3.0-6_amd64.deb ...\n",
      "Unpacking libmpx2:amd64 (8.3.0-6) ...\n",
      "Selecting previously unselected package libquadmath0:amd64.\n",
      "Preparing to unpack .../040-libquadmath0_8.3.0-6_amd64.deb ...\n",
      "Unpacking libquadmath0:amd64 (8.3.0-6) ...\n",
      "Selecting previously unselected package libgcc-8-dev:amd64.\n",
      "Preparing to unpack .../041-libgcc-8-dev_8.3.0-6_amd64.deb ...\n",
      "Unpacking libgcc-8-dev:amd64 (8.3.0-6) ...\n",
      "Selecting previously unselected package gcc-8.\n",
      "Preparing to unpack .../042-gcc-8_8.3.0-6_amd64.deb ...\n",
      "Unpacking gcc-8 (8.3.0-6) ...\n",
      "Selecting previously unselected package gcc.\n",
      "Preparing to unpack .../043-gcc_4%3a8.3.0-1_amd64.deb ...\n",
      "Unpacking gcc (4:8.3.0-1) ...\n",
      "Selecting previously unselected package gdal-data.\n",
      "Preparing to unpack .../044-gdal-data_2.4.0+dfsg-1_all.deb ...\n",
      "Unpacking gdal-data (2.4.0+dfsg-1) ...\n",
      "Selecting previously unselected package libgfortran5:amd64.\n",
      "Preparing to unpack .../045-libgfortran5_8.3.0-6_amd64.deb ...\n",
      "Unpacking libgfortran5:amd64 (8.3.0-6) ...\n",
      "Selecting previously unselected package libgfortran-8-dev:amd64.\n",
      "Preparing to unpack .../046-libgfortran-8-dev_8.3.0-6_amd64.deb ...\n",
      "Unpacking libgfortran-8-dev:amd64 (8.3.0-6) ...\n",
      "Selecting previously unselected package gfortran-8.\n",
      "Preparing to unpack .../047-gfortran-8_8.3.0-6_amd64.deb ...\n",
      "Unpacking gfortran-8 (8.3.0-6) ...\n",
      "Selecting previously unselected package gfortran.\n",
      "Preparing to unpack .../048-gfortran_4%3a8.3.0-1_amd64.deb ...\n",
      "Unpacking gfortran (4:8.3.0-1) ...\n",
      "Selecting previously unselected package libproxy1v5:amd64.\n",
      "Preparing to unpack .../049-libproxy1v5_0.4.15-5+deb10u1_amd64.deb ...\n",
      "Unpacking libproxy1v5:amd64 (0.4.15-5+deb10u1) ...\n",
      "Selecting previously unselected package glib-networking-common.\n",
      "Preparing to unpack .../050-glib-networking-common_2.58.0-2+deb10u2_all.deb ...\n",
      "Unpacking glib-networking-common (2.58.0-2+deb10u2) ...\n",
      "Selecting previously unselected package glib-networking-services.\n",
      "Preparing to unpack .../051-glib-networking-services_2.58.0-2+deb10u2_amd64.deb ...\n",
      "Unpacking glib-networking-services (2.58.0-2+deb10u2) ...\n",
      "Selecting previously unselected package gsettings-desktop-schemas.\n",
      "Preparing to unpack .../052-gsettings-desktop-schemas_3.28.1-1_all.deb ...\n",
      "Unpacking gsettings-desktop-schemas (3.28.1-1) ...\n",
      "Selecting previously unselected package glib-networking:amd64.\n",
      "Preparing to unpack .../053-glib-networking_2.58.0-2+deb10u2_amd64.deb ...\n",
      "Unpacking glib-networking:amd64 (2.58.0-2+deb10u2) ...\n",
      "Selecting previously unselected package libva2:amd64.\n",
      "Preparing to unpack .../054-libva2_2.4.0-1_amd64.deb ...\n",
      "Unpacking libva2:amd64 (2.4.0-1) ...\n",
      "Selecting previously unselected package libdrm-common.\n",
      "Preparing to unpack .../055-libdrm-common_2.4.97-1_all.deb ...\n",
      "Unpacking libdrm-common (2.4.97-1) ...\n",
      "Selecting previously unselected package libdrm2:amd64.\n",
      "Preparing to unpack .../056-libdrm2_2.4.97-1_amd64.deb ...\n",
      "Unpacking libdrm2:amd64 (2.4.97-1) ...\n",
      "Selecting previously unselected package libpciaccess0:amd64.\n",
      "Preparing to unpack .../057-libpciaccess0_0.14-1_amd64.deb ...\n",
      "Unpacking libpciaccess0:amd64 (0.14-1) ...\n",
      "Selecting previously unselected package libdrm-intel1:amd64.\n",
      "Preparing to unpack .../058-libdrm-intel1_2.4.97-1_amd64.deb ...\n",
      "Unpacking libdrm-intel1:amd64 (2.4.97-1) ...\n",
      "Selecting previously unselected package i965-va-driver:amd64.\n",
      "Preparing to unpack .../059-i965-va-driver_2.3.0+dfsg1-1_amd64.deb ...\n",
      "Unpacking i965-va-driver:amd64 (2.3.0+dfsg1-1) ...\n",
      "Selecting previously unselected package libnl-3-200:amd64.\n",
      "Preparing to unpack .../060-libnl-3-200_3.4.0-1_amd64.deb ...\n",
      "Unpacking libnl-3-200:amd64 (3.4.0-1) ...\n",
      "Selecting previously unselected package libnl-route-3-200:amd64.\n",
      "Preparing to unpack .../061-libnl-route-3-200_3.4.0-1_amd64.deb ...\n",
      "Unpacking libnl-route-3-200:amd64 (3.4.0-1) ...\n",
      "Selecting previously unselected package libibverbs1:amd64.\n",
      "Preparing to unpack .../062-libibverbs1_22.1-1_amd64.deb ...\n",
      "Unpacking libibverbs1:amd64 (22.1-1) ...\n",
      "Selecting previously unselected package ibverbs-providers:amd64.\n",
      "Preparing to unpack .../063-ibverbs-providers_22.1-1_amd64.deb ...\n",
      "Unpacking ibverbs-providers:amd64 (22.1-1) ...\n",
      "Selecting previously unselected package libigdgmm5:amd64.\n",
      "Preparing to unpack .../064-libigdgmm5_18.4.1+ds1-1_amd64.deb ...\n",
      "Unpacking libigdgmm5:amd64 (18.4.1+ds1-1) ...\n",
      "Selecting previously unselected package intel-media-va-driver:amd64.\n",
      "Preparing to unpack .../065-intel-media-va-driver_18.4.1+dfsg1-1_amd64.deb ...\n",
      "Unpacking intel-media-va-driver:amd64 (18.4.1+dfsg1-1) ...\n",
      "Selecting previously unselected package libaacs0:amd64.\n",
      "Preparing to unpack .../066-libaacs0_0.9.0-2_amd64.deb ...\n",
      "Unpacking libaacs0:amd64 (0.9.0-2) ...\n",
      "Selecting previously unselected package libaec0:amd64.\n",
      "Preparing to unpack .../067-libaec0_1.0.2-1_amd64.deb ...\n",
      "Unpacking libaec0:amd64 (1.0.2-1) ...\n",
      "Selecting previously unselected package libaom0:amd64.\n",
      "Preparing to unpack .../068-libaom0_1.0.0-3_amd64.deb ...\n",
      "Unpacking libaom0:amd64 (1.0.0-3) ...\n",
      "Selecting previously unselected package libblas3:amd64.\n",
      "Preparing to unpack .../069-libblas3_3.8.0-2_amd64.deb ...\n",
      "Unpacking libblas3:amd64 (3.8.0-2) ...\n",
      "Selecting previously unselected package liblapack3:amd64.\n",
      "Preparing to unpack .../070-liblapack3_3.8.0-2_amd64.deb ...\n",
      "Unpacking liblapack3:amd64 (3.8.0-2) ...\n",
      "Selecting previously unselected package libarpack2:amd64.\n",
      "Preparing to unpack .../071-libarpack2_3.7.0-2_amd64.deb ...\n",
      "Unpacking libarpack2:amd64 (3.7.0-2) ...\n",
      "Selecting previously unselected package libsuperlu5:amd64.\n",
      "Preparing to unpack .../072-libsuperlu5_5.2.1+dfsg1-4_amd64.deb ...\n",
      "Unpacking libsuperlu5:amd64 (5.2.1+dfsg1-4) ...\n",
      "Selecting previously unselected package libarmadillo9.\n",
      "Preparing to unpack .../073-libarmadillo9_1%3a9.200.7+dfsg-1_amd64.deb ...\n",
      "Unpacking libarmadillo9 (1:9.200.7+dfsg-1) ...\n",
      "Selecting previously unselected package libatk1.0-data.\n",
      "Preparing to unpack .../074-libatk1.0-data_2.30.0-2_all.deb ...\n",
      "Unpacking libatk1.0-data (2.30.0-2) ...\n",
      "Selecting previously unselected package libatk1.0-0:amd64.\n",
      "Preparing to unpack .../075-libatk1.0-0_2.30.0-2_amd64.deb ...\n",
      "Unpacking libatk1.0-0:amd64 (2.30.0-2) ...\n",
      "Selecting previously unselected package libatk-bridge2.0-0:amd64.\n",
      "Preparing to unpack .../076-libatk-bridge2.0-0_2.30.0-5_amd64.deb ...\n",
      "Unpacking libatk-bridge2.0-0:amd64 (2.30.0-5) ...\n",
      "Selecting previously unselected package libva-drm2:amd64.\n",
      "Preparing to unpack .../077-libva-drm2_2.4.0-1_amd64.deb ...\n",
      "Unpacking libva-drm2:amd64 (2.4.0-1) ...\n",
      "Selecting previously unselected package libxfixes3:amd64.\n",
      "Preparing to unpack .../078-libxfixes3_1%3a5.0.3-1_amd64.deb ...\n",
      "Unpacking libxfixes3:amd64 (1:5.0.3-1) ...\n",
      "Selecting previously unselected package libva-x11-2:amd64.\n",
      "Preparing to unpack .../079-libva-x11-2_2.4.0-1_amd64.deb ...\n",
      "Unpacking libva-x11-2:amd64 (2.4.0-1) ...\n",
      "Selecting previously unselected package libvdpau1:amd64.\n",
      "Preparing to unpack .../080-libvdpau1_1.1.1-10_amd64.deb ...\n",
      "Unpacking libvdpau1:amd64 (1.1.1-10) ...\n",
      "Selecting previously unselected package libavutil56:amd64.\n",
      "Preparing to unpack .../081-libavutil56_7%3a4.1.8-0+deb10u1_amd64.deb ...\n",
      "Unpacking libavutil56:amd64 (7:4.1.8-0+deb10u1) ...\n",
      "Selecting previously unselected package libcodec2-0.8.1:amd64.\n",
      "Preparing to unpack .../082-libcodec2-0.8.1_0.8.1-2_amd64.deb ...\n",
      "Unpacking libcodec2-0.8.1:amd64 (0.8.1-2) ...\n",
      "Selecting previously unselected package libcrystalhd3:amd64.\n",
      "Preparing to unpack .../083-libcrystalhd3_1%3a0.0~git20110715.fdd2f19-13_amd64.deb ...\n",
      "Unpacking libcrystalhd3:amd64 (1:0.0~git20110715.fdd2f19-13) ...\n",
      "Selecting previously unselected package libgsm1:amd64.\n",
      "Preparing to unpack .../084-libgsm1_1.0.18-2_amd64.deb ...\n",
      "Unpacking libgsm1:amd64 (1.0.18-2) ...\n",
      "Selecting previously unselected package libmp3lame0:amd64.\n",
      "Preparing to unpack .../085-libmp3lame0_3.100-2+b1_amd64.deb ...\n",
      "Unpacking libmp3lame0:amd64 (3.100-2+b1) ...\n",
      "Selecting previously unselected package libopus0:amd64.\n",
      "Preparing to unpack .../086-libopus0_1.3-1_amd64.deb ...\n",
      "Unpacking libopus0:amd64 (1.3-1) ...\n",
      "Selecting previously unselected package libshine3:amd64.\n",
      "Preparing to unpack .../087-libshine3_3.1.1-2_amd64.deb ...\n",
      "Unpacking libshine3:amd64 (3.1.1-2) ...\n",
      "Selecting previously unselected package libsnappy1v5:amd64.\n",
      "Preparing to unpack .../088-libsnappy1v5_1.1.7-1_amd64.deb ...\n",
      "Unpacking libsnappy1v5:amd64 (1.1.7-1) ...\n",
      "Selecting previously unselected package libspeex1:amd64.\n",
      "Preparing to unpack .../089-libspeex1_1.2~rc1.2-1+b2_amd64.deb ...\n",
      "Unpacking libspeex1:amd64 (1.2~rc1.2-1+b2) ...\n",
      "Selecting previously unselected package libsoxr0:amd64.\n",
      "Preparing to unpack .../090-libsoxr0_0.1.2-3_amd64.deb ...\n",
      "Unpacking libsoxr0:amd64 (0.1.2-3) ...\n",
      "Selecting previously unselected package libswresample3:amd64.\n",
      "Preparing to unpack .../091-libswresample3_7%3a4.1.8-0+deb10u1_amd64.deb ...\n",
      "Unpacking libswresample3:amd64 (7:4.1.8-0+deb10u1) ...\n",
      "Selecting previously unselected package libogg0:amd64.\n",
      "Preparing to unpack .../092-libogg0_1.3.2-1+b1_amd64.deb ...\n",
      "Unpacking libogg0:amd64 (1.3.2-1+b1) ...\n",
      "Selecting previously unselected package libtheora0:amd64.\n",
      "Preparing to unpack .../093-libtheora0_1.1.1+dfsg.1-15_amd64.deb ...\n",
      "Unpacking libtheora0:amd64 (1.1.1+dfsg.1-15) ...\n",
      "Selecting previously unselected package libtwolame0:amd64.\n",
      "Preparing to unpack .../094-libtwolame0_0.3.13-4_amd64.deb ...\n",
      "Unpacking libtwolame0:amd64 (0.3.13-4) ...\n",
      "Selecting previously unselected package libvorbis0a:amd64.\n",
      "Preparing to unpack .../095-libvorbis0a_1.3.6-2_amd64.deb ...\n",
      "Unpacking libvorbis0a:amd64 (1.3.6-2) ...\n",
      "Selecting previously unselected package libvorbisenc2:amd64.\n",
      "Preparing to unpack .../096-libvorbisenc2_1.3.6-2_amd64.deb ...\n",
      "Unpacking libvorbisenc2:amd64 (1.3.6-2) ...\n",
      "Selecting previously unselected package libvpx5:amd64.\n",
      "Preparing to unpack .../097-libvpx5_1.7.0-3+deb10u1_amd64.deb ...\n",
      "Unpacking libvpx5:amd64 (1.7.0-3+deb10u1) ...\n",
      "Selecting previously unselected package libwavpack1:amd64.\n",
      "Preparing to unpack .../098-libwavpack1_5.1.0-6_amd64.deb ...\n",
      "Unpacking libwavpack1:amd64 (5.1.0-6) ...\n",
      "Selecting previously unselected package libx264-155:amd64.\n",
      "Preparing to unpack .../099-libx264-155_2%3a0.155.2917+git0a84d98-2_amd64.deb ...\n",
      "Unpacking libx264-155:amd64 (2:0.155.2917+git0a84d98-2) ...\n",
      "Selecting previously unselected package libxvidcore4:amd64.\n",
      "Preparing to unpack .../100-libxvidcore4_2%3a1.3.5-1_amd64.deb ...\n",
      "Unpacking libxvidcore4:amd64 (2:1.3.5-1) ...\n",
      "Selecting previously unselected package libzvbi-common.\n",
      "Preparing to unpack .../101-libzvbi-common_0.2.35-16_all.deb ...\n",
      "Unpacking libzvbi-common (0.2.35-16) ...\n",
      "Selecting previously unselected package libzvbi0:amd64.\n",
      "Preparing to unpack .../102-libzvbi0_0.2.35-16_amd64.deb ...\n",
      "Unpacking libzvbi0:amd64 (0.2.35-16) ...\n",
      "Selecting previously unselected package libavcodec58:amd64.\n",
      "Preparing to unpack .../103-libavcodec58_7%3a4.1.8-0+deb10u1_amd64.deb ...\n",
      "Unpacking libavcodec58:amd64 (7:4.1.8-0+deb10u1) ...\n",
      "Selecting previously unselected package libbluray2:amd64.\n",
      "Preparing to unpack .../104-libbluray2_1%3a1.1.0-1_amd64.deb ...\n",
      "Unpacking libbluray2:amd64 (1:1.1.0-1) ...\n",
      "Selecting previously unselected package libchromaprint1:amd64.\n",
      "Preparing to unpack .../105-libchromaprint1_1.4.3-3_amd64.deb ...\n",
      "Unpacking libchromaprint1:amd64 (1.4.3-3) ...\n",
      "Selecting previously unselected package libgme0:amd64.\n",
      "Preparing to unpack .../106-libgme0_0.6.2-1_amd64.deb ...\n",
      "Unpacking libgme0:amd64 (0.6.2-1) ...\n",
      "Selecting previously unselected package libmpg123-0:amd64.\n",
      "Preparing to unpack .../107-libmpg123-0_1.25.10-2_amd64.deb ...\n",
      "Unpacking libmpg123-0:amd64 (1.25.10-2) ...\n",
      "Selecting previously unselected package libvorbisfile3:amd64.\n",
      "Preparing to unpack .../108-libvorbisfile3_1.3.6-2_amd64.deb ...\n",
      "Unpacking libvorbisfile3:amd64 (1.3.6-2) ...\n",
      "Selecting previously unselected package libopenmpt0:amd64.\n",
      "Preparing to unpack .../109-libopenmpt0_0.4.3-1+deb10u1_amd64.deb ...\n",
      "Unpacking libopenmpt0:amd64 (0.4.3-1+deb10u1) ...\n",
      "Selecting previously unselected package libssh-gcrypt-4:amd64.\n",
      "Preparing to unpack .../110-libssh-gcrypt-4_0.8.7-1+deb10u1_amd64.deb ...\n",
      "Unpacking libssh-gcrypt-4:amd64 (0.8.7-1+deb10u1) ...\n",
      "Selecting previously unselected package libavformat58:amd64.\n",
      "Preparing to unpack .../111-libavformat58_7%3a4.1.8-0+deb10u1_amd64.deb ...\n",
      "Unpacking libavformat58:amd64 (7:4.1.8-0+deb10u1) ...\n",
      "Selecting previously unselected package libavresample4:amd64.\n",
      "Preparing to unpack .../112-libavresample4_7%3a4.1.8-0+deb10u1_amd64.deb ...\n",
      "Unpacking libavresample4:amd64 (7:4.1.8-0+deb10u1) ...\n",
      "Selecting previously unselected package libbdplus0:amd64.\n",
      "Preparing to unpack .../113-libbdplus0_0.1.2-3_amd64.deb ...\n",
      "Unpacking libbdplus0:amd64 (0.1.2-3) ...\n",
      "Selecting previously unselected package libevent-2.1-6:amd64.\n",
      "Preparing to unpack .../114-libevent-2.1-6_2.1.8-stable-4_amd64.deb ...\n",
      "Unpacking libevent-2.1-6:amd64 (2.1.8-stable-4) ...\n",
      "Selecting previously unselected package libevent-core-2.1-6:amd64.\n",
      "Preparing to unpack .../115-libevent-core-2.1-6_2.1.8-stable-4_amd64.deb ...\n",
      "Unpacking libevent-core-2.1-6:amd64 (2.1.8-stable-4) ...\n",
      "Selecting previously unselected package libevent-pthreads-2.1-6:amd64.\n",
      "Preparing to unpack .../116-libevent-pthreads-2.1-6_2.1.8-stable-4_amd64.deb ...\n",
      "Unpacking libevent-pthreads-2.1-6:amd64 (2.1.8-stable-4) ...\n",
      "Selecting previously unselected package libpsm-infinipath1.\n",
      "Preparing to unpack .../117-libpsm-infinipath1_3.3+20.604758e7-6_amd64.deb ...\n",
      "Unpacking libpsm-infinipath1 (3.3+20.604758e7-6) ...\n",
      "Selecting previously unselected package libpsm2-2.\n",
      "Preparing to unpack .../118-libpsm2-2_11.2.78-1_amd64.deb ...\n",
      "Unpacking libpsm2-2 (11.2.78-1) ...\n",
      "Selecting previously unselected package librdmacm1:amd64.\n",
      "Preparing to unpack .../119-librdmacm1_22.1-1_amd64.deb ...\n",
      "Unpacking librdmacm1:amd64 (22.1-1) ...\n",
      "Selecting previously unselected package libfabric1.\n",
      "Preparing to unpack .../120-libfabric1_1.6.2-3_amd64.deb ...\n",
      "Unpacking libfabric1 (1.6.2-3) ...\n",
      "Selecting previously unselected package libhwloc5:amd64.\n",
      "Preparing to unpack .../121-libhwloc5_1.11.12-3_amd64.deb ...\n",
      "Unpacking libhwloc5:amd64 (1.11.12-3) ...\n",
      "Selecting previously unselected package ocl-icd-libopencl1:amd64.\n",
      "Preparing to unpack .../122-ocl-icd-libopencl1_2.2.12-2_amd64.deb ...\n",
      "Unpacking ocl-icd-libopencl1:amd64 (2.2.12-2) ...\n",
      "Selecting previously unselected package libhwloc-plugins:amd64.\n",
      "Preparing to unpack .../123-libhwloc-plugins_1.11.12-3_amd64.deb ...\n",
      "Unpacking libhwloc-plugins:amd64 (1.11.12-3) ...\n",
      "Selecting previously unselected package libpmix2:amd64.\n",
      "Preparing to unpack .../124-libpmix2_3.1.2-3_amd64.deb ...\n",
      "Unpacking libpmix2:amd64 (3.1.2-3) ...\n",
      "Selecting previously unselected package libopenmpi3:amd64.\n",
      "Preparing to unpack .../125-libopenmpi3_3.1.3-11_amd64.deb ...\n",
      "Unpacking libopenmpi3:amd64 (3.1.3-11) ...\n",
      "Selecting previously unselected package libcaf-openmpi-3:amd64.\n",
      "Preparing to unpack .../126-libcaf-openmpi-3_2.4.0-2_amd64.deb ...\n",
      "Unpacking libcaf-openmpi-3:amd64 (2.4.0-2) ...\n",
      "Selecting previously unselected package libcairo-gobject2:amd64.\n",
      "Preparing to unpack .../127-libcairo-gobject2_1.16.0-4+deb10u1_amd64.deb ...\n",
      "Unpacking libcairo-gobject2:amd64 (1.16.0-4+deb10u1) ...\n",
      "Selecting previously unselected package libcharls2:amd64.\n",
      "Preparing to unpack .../128-libcharls2_2.0.0+dfsg-1_amd64.deb ...\n",
      "Unpacking libcharls2:amd64 (2.0.0+dfsg-1) ...\n",
      "Selecting previously unselected package libcoarrays-dev:amd64.\n",
      "Preparing to unpack .../129-libcoarrays-dev_2.4.0-2_amd64.deb ...\n",
      "Unpacking libcoarrays-dev:amd64 (2.4.0-2) ...\n",
      "Selecting previously unselected package openmpi-common.\n",
      "Preparing to unpack .../130-openmpi-common_3.1.3-11_all.deb ...\n",
      "Unpacking openmpi-common (3.1.3-11) ...\n",
      "Selecting previously unselected package openmpi-bin.\n",
      "Preparing to unpack .../131-openmpi-bin_3.1.3-11_amd64.deb ...\n",
      "Unpacking openmpi-bin (3.1.3-11) ...\n",
      "Selecting previously unselected package libcoarrays-openmpi-dev:amd64.\n",
      "Preparing to unpack .../132-libcoarrays-openmpi-dev_2.4.0-2_amd64.deb ...\n",
      "Unpacking libcoarrays-openmpi-dev:amd64 (2.4.0-2) ...\n",
      "Selecting previously unselected package libcolord2:amd64.\n",
      "Preparing to unpack .../133-libcolord2_1.4.3-4_amd64.deb ...\n",
      "Unpacking libcolord2:amd64 (1.4.3-4) ...\n",
      "Selecting previously unselected package libdap25:amd64.\n",
      "Preparing to unpack .../134-libdap25_3.20.3-1_amd64.deb ...\n",
      "Unpacking libdap25:amd64 (3.20.3-1) ...\n",
      "Selecting previously unselected package libdapclient6v5:amd64.\n",
      "Preparing to unpack .../135-libdapclient6v5_3.20.3-1_amd64.deb ...\n",
      "Unpacking libdapclient6v5:amd64 (3.20.3-1) ...\n",
      "Selecting previously unselected package libdapserver7v5:amd64.\n",
      "Preparing to unpack .../136-libdapserver7v5_3.20.3-1_amd64.deb ...\n",
      "Unpacking libdapserver7v5:amd64 (3.20.3-1) ...\n",
      "Selecting previously unselected package libraw1394-11:amd64.\n",
      "Preparing to unpack .../137-libraw1394-11_2.1.2-1+b1_amd64.deb ...\n",
      "Unpacking libraw1394-11:amd64 (2.1.2-1+b1) ...\n",
      "Selecting previously unselected package libusb-1.0-0:amd64.\n",
      "Preparing to unpack .../138-libusb-1.0-0_2%3a1.0.22-2_amd64.deb ...\n",
      "Unpacking libusb-1.0-0:amd64 (2:1.0.22-2) ...\n",
      "Selecting previously unselected package libdc1394-22:amd64.\n",
      "Preparing to unpack .../139-libdc1394-22_2.2.5-1_amd64.deb ...\n",
      "Unpacking libdc1394-22:amd64 (2.2.5-1) ...\n",
      "Selecting previously unselected package libdrm-amdgpu1:amd64.\n",
      "Preparing to unpack .../140-libdrm-amdgpu1_2.4.97-1_amd64.deb ...\n",
      "Unpacking libdrm-amdgpu1:amd64 (2.4.97-1) ...\n",
      "Selecting previously unselected package libdrm-nouveau2:amd64.\n",
      "Preparing to unpack .../141-libdrm-nouveau2_2.4.97-1_amd64.deb ...\n",
      "Unpacking libdrm-nouveau2:amd64 (2.4.97-1) ...\n",
      "Selecting previously unselected package libdrm-radeon1:amd64.\n",
      "Preparing to unpack .../142-libdrm-radeon1_2.4.97-1_amd64.deb ...\n",
      "Unpacking libdrm-radeon1:amd64 (2.4.97-1) ...\n",
      "Selecting previously unselected package libelf1:amd64.\n",
      "Preparing to unpack .../143-libelf1_0.176-1.1_amd64.deb ...\n",
      "Unpacking libelf1:amd64 (0.176-1.1) ...\n",
      "Selecting previously unselected package libepoxy0:amd64.\n",
      "Preparing to unpack .../144-libepoxy0_1.5.3-0.1_amd64.deb ...\n",
      "Unpacking libepoxy0:amd64 (1.5.3-0.1) ...\n",
      "Selecting previously unselected package libpopt0:amd64.\n",
      "Preparing to unpack .../145-libpopt0_1.16-12_amd64.deb ...\n",
      "Unpacking libpopt0:amd64 (1.16-12) ...\n",
      "Selecting previously unselected package libepsilon1:amd64.\n",
      "Preparing to unpack .../146-libepsilon1_0.9.2+dfsg-4_amd64.deb ...\n",
      "Unpacking libepsilon1:amd64 (0.9.2+dfsg-4) ...\n",
      "Selecting previously unselected package libexif12:amd64.\n",
      "Preparing to unpack .../147-libexif12_0.6.21-5.1+deb10u5_amd64.deb ...\n",
      "Unpacking libexif12:amd64 (0.6.21-5.1+deb10u5) ...\n",
      "Selecting previously unselected package libfreexl1:amd64.\n",
      "Preparing to unpack .../148-libfreexl1_1.0.5-3_amd64.deb ...\n",
      "Unpacking libfreexl1:amd64 (1.0.5-3) ...\n",
      "Selecting previously unselected package libfyba0:amd64.\n",
      "Preparing to unpack .../149-libfyba0_4.1.1-6_amd64.deb ...\n",
      "Unpacking libfyba0:amd64 (4.1.1-6) ...\n",
      "Selecting previously unselected package libgd3:amd64.\n",
      "Preparing to unpack .../150-libgd3_2.2.5-5.2_amd64.deb ...\n",
      "Unpacking libgd3:amd64 (2.2.5-5.2) ...\n",
      "Selecting previously unselected package libgeos-3.7.1:amd64.\n",
      "Preparing to unpack .../151-libgeos-3.7.1_3.7.1-1_amd64.deb ...\n",
      "Unpacking libgeos-3.7.1:amd64 (3.7.1-1) ...\n",
      "Selecting previously unselected package libgeos-c1v5:amd64.\n",
      "Preparing to unpack .../152-libgeos-c1v5_3.7.1-1_amd64.deb ...\n",
      "Unpacking libgeos-c1v5:amd64 (3.7.1-1) ...\n",
      "Selecting previously unselected package proj-data.\n",
      "Preparing to unpack .../153-proj-data_5.2.0-1_all.deb ...\n",
      "Unpacking proj-data (5.2.0-1) ...\n",
      "Selecting previously unselected package libproj13:amd64.\n",
      "Preparing to unpack .../154-libproj13_5.2.0-1_amd64.deb ...\n",
      "Unpacking libproj13:amd64 (5.2.0-1) ...\n",
      "Selecting previously unselected package libgeotiff2:amd64.\n",
      "Preparing to unpack .../155-libgeotiff2_1.4.3-1_amd64.deb ...\n",
      "Unpacking libgeotiff2:amd64 (1.4.3-1) ...\n",
      "Selecting previously unselected package libgif7:amd64.\n",
      "Preparing to unpack .../156-libgif7_5.1.4-3_amd64.deb ...\n",
      "Unpacking libgif7:amd64 (5.1.4-3) ...\n",
      "Selecting previously unselected package libhdf4-0-alt.\n",
      "Preparing to unpack .../157-libhdf4-0-alt_4.2.13-4_amd64.deb ...\n",
      "Unpacking libhdf4-0-alt (4.2.13-4) ...\n",
      "Selecting previously unselected package libsz2:amd64.\n",
      "Preparing to unpack .../158-libsz2_1.0.2-1_amd64.deb ...\n",
      "Unpacking libsz2:amd64 (1.0.2-1) ...\n",
      "Selecting previously unselected package libhdf5-103:amd64.\n",
      "Preparing to unpack .../159-libhdf5-103_1.10.4+repack-10_amd64.deb ...\n",
      "Unpacking libhdf5-103:amd64 (1.10.4+repack-10) ...\n",
      "Selecting previously unselected package libminizip1:amd64.\n",
      "Preparing to unpack .../160-libminizip1_1.1-8+b1_amd64.deb ...\n",
      "Unpacking libminizip1:amd64 (1.1-8+b1) ...\n",
      "Selecting previously unselected package liburiparser1:amd64.\n",
      "Preparing to unpack .../161-liburiparser1_0.9.1-1_amd64.deb ...\n",
      "Unpacking liburiparser1:amd64 (0.9.1-1) ...\n",
      "Selecting previously unselected package libkmlbase1:amd64.\n",
      "Preparing to unpack .../162-libkmlbase1_1.3.0-7_amd64.deb ...\n",
      "Unpacking libkmlbase1:amd64 (1.3.0-7) ...\n",
      "Selecting previously unselected package libkmldom1:amd64.\n",
      "Preparing to unpack .../163-libkmldom1_1.3.0-7_amd64.deb ...\n",
      "Unpacking libkmldom1:amd64 (1.3.0-7) ...\n",
      "Selecting previously unselected package libkmlengine1:amd64.\n",
      "Preparing to unpack .../164-libkmlengine1_1.3.0-7_amd64.deb ...\n",
      "Unpacking libkmlengine1:amd64 (1.3.0-7) ...\n",
      "Selecting previously unselected package libkmlconvenience1:amd64.\n",
      "Preparing to unpack .../165-libkmlconvenience1_1.3.0-7_amd64.deb ...\n",
      "Unpacking libkmlconvenience1:amd64 (1.3.0-7) ...\n",
      "Selecting previously unselected package libkmlregionator1:amd64.\n",
      "Preparing to unpack .../166-libkmlregionator1_1.3.0-7_amd64.deb ...\n",
      "Unpacking libkmlregionator1:amd64 (1.3.0-7) ...\n",
      "Selecting previously unselected package libkmlxsd1:amd64.\n",
      "Preparing to unpack .../167-libkmlxsd1_1.3.0-7_amd64.deb ...\n",
      "Unpacking libkmlxsd1:amd64 (1.3.0-7) ...\n",
      "Selecting previously unselected package mysql-common.\n",
      "Preparing to unpack .../168-mysql-common_5.8+1.0.5_all.deb ...\n",
      "Unpacking mysql-common (5.8+1.0.5) ...\n",
      "Selecting previously unselected package mariadb-common.\n",
      "Preparing to unpack .../169-mariadb-common_1%3a10.3.31-0+deb10u1_all.deb ...\n",
      "Unpacking mariadb-common (1:10.3.31-0+deb10u1) ...\n",
      "Selecting previously unselected package libmariadb3:amd64.\n",
      "Preparing to unpack .../170-libmariadb3_1%3a10.3.31-0+deb10u1_amd64.deb ...\n",
      "Unpacking libmariadb3:amd64 (1:10.3.31-0+deb10u1) ...\n",
      "Selecting previously unselected package libnetcdf13:amd64.\n",
      "Preparing to unpack .../171-libnetcdf13_1%3a4.6.2-1_amd64.deb ...\n",
      "Unpacking libnetcdf13:amd64 (1:4.6.2-1) ...\n",
      "Selecting previously unselected package libodbc1:amd64.\n",
      "Preparing to unpack .../172-libodbc1_2.3.6-0.1_amd64.deb ...\n",
      "Unpacking libodbc1:amd64 (2.3.6-0.1) ...\n",
      "Selecting previously unselected package libogdi3.2.\n",
      "Preparing to unpack .../173-libogdi3.2_3.2.1+ds-4_amd64.deb ...\n",
      "Unpacking libogdi3.2 (3.2.1+ds-4) ...\n",
      "Selecting previously unselected package libnspr4:amd64.\n",
      "Preparing to unpack .../174-libnspr4_2%3a4.20-1_amd64.deb ...\n",
      "Unpacking libnspr4:amd64 (2:4.20-1) ...\n",
      "Selecting previously unselected package libnss3:amd64.\n",
      "Preparing to unpack .../175-libnss3_2%3a3.42.1-1+deb10u3_amd64.deb ...\n",
      "Unpacking libnss3:amd64 (2:3.42.1-1+deb10u3) ...\n",
      "Selecting previously unselected package libpoppler82:amd64.\n",
      "Preparing to unpack .../176-libpoppler82_0.71.0-5_amd64.deb ...\n",
      "Unpacking libpoppler82:amd64 (0.71.0-5) ...\n",
      "Selecting previously unselected package libpq5:amd64.\n",
      "Preparing to unpack .../177-libpq5_11.13-0+deb10u1_amd64.deb ...\n",
      "Unpacking libpq5:amd64 (11.13-0+deb10u1) ...\n",
      "Selecting previously unselected package libqhull7:amd64.\n",
      "Preparing to unpack .../178-libqhull7_2015.2-4_amd64.deb ...\n",
      "Unpacking libqhull7:amd64 (2015.2-4) ...\n",
      "Selecting previously unselected package libspatialite7:amd64.\n",
      "Preparing to unpack .../179-libspatialite7_4.3.0a-5+b2_amd64.deb ...\n",
      "Unpacking libspatialite7:amd64 (4.3.0a-5+b2) ...\n",
      "Selecting previously unselected package libxerces-c3.2:amd64.\n",
      "Preparing to unpack .../180-libxerces-c3.2_3.2.2+debian-1+deb10u1_amd64.deb ...\n",
      "Unpacking libxerces-c3.2:amd64 (3.2.2+debian-1+deb10u1) ...\n",
      "Selecting previously unselected package odbcinst.\n",
      "Preparing to unpack .../181-odbcinst_2.3.6-0.1_amd64.deb ...\n",
      "Unpacking odbcinst (2.3.6-0.1) ...\n",
      "Selecting previously unselected package odbcinst1debian2:amd64.\n",
      "Preparing to unpack .../182-odbcinst1debian2_2.3.6-0.1_amd64.deb ...\n",
      "Unpacking odbcinst1debian2:amd64 (2.3.6-0.1) ...\n",
      "Selecting previously unselected package libgdal20.\n",
      "Preparing to unpack .../183-libgdal20_2.4.0+dfsg-1+b1_amd64.deb ...\n",
      "Unpacking libgdal20 (2.4.0+dfsg-1+b1) ...\n",
      "Selecting previously unselected package libsocket++1:amd64.\n",
      "Preparing to unpack .../184-libsocket++1_1.12.13-10_amd64.deb ...\n",
      "Unpacking libsocket++1:amd64 (1.12.13-10) ...\n",
      "Selecting previously unselected package libgdcm2.8:amd64.\n",
      "Preparing to unpack .../185-libgdcm2.8_2.8.8-9_amd64.deb ...\n",
      "Unpacking libgdcm2.8:amd64 (2.8.8-9) ...\n",
      "Selecting previously unselected package libgdk-pixbuf2.0-bin.\n",
      "Preparing to unpack .../186-libgdk-pixbuf2.0-bin_2.38.1+dfsg-1_amd64.deb ...\n",
      "Unpacking libgdk-pixbuf2.0-bin (2.38.1+dfsg-1) ...\n",
      "Selecting previously unselected package libglapi-mesa:amd64.\n",
      "Preparing to unpack .../187-libglapi-mesa_18.3.6-2+deb10u1_amd64.deb ...\n",
      "Unpacking libglapi-mesa:amd64 (18.3.6-2+deb10u1) ...\n",
      "Selecting previously unselected package libllvm7:amd64.\n",
      "Preparing to unpack .../188-libllvm7_1%3a7.0.1-8+deb10u2_amd64.deb ...\n",
      "Unpacking libllvm7:amd64 (1:7.0.1-8+deb10u2) ...\n",
      "Selecting previously unselected package libsensors-config.\n",
      "Preparing to unpack .../189-libsensors-config_1%3a3.5.0-3_all.deb ...\n",
      "Unpacking libsensors-config (1:3.5.0-3) ...\n",
      "Selecting previously unselected package libsensors5:amd64.\n",
      "Preparing to unpack .../190-libsensors5_1%3a3.5.0-3_amd64.deb ...\n",
      "Unpacking libsensors5:amd64 (1:3.5.0-3) ...\n",
      "Selecting previously unselected package libgl1-mesa-dri:amd64.\n",
      "Preparing to unpack .../191-libgl1-mesa-dri_18.3.6-2+deb10u1_amd64.deb ...\n",
      "Unpacking libgl1-mesa-dri:amd64 (18.3.6-2+deb10u1) ...\n",
      "Selecting previously unselected package libglvnd0:amd64.\n",
      "Preparing to unpack .../192-libglvnd0_1.1.0-1_amd64.deb ...\n",
      "Unpacking libglvnd0:amd64 (1.1.0-1) ...\n",
      "Selecting previously unselected package libx11-xcb1:amd64.\n",
      "Preparing to unpack .../193-libx11-xcb1_2%3a1.6.7-1+deb10u2_amd64.deb ...\n",
      "Unpacking libx11-xcb1:amd64 (2:1.6.7-1+deb10u2) ...\n",
      "Selecting previously unselected package libxcb-dri2-0:amd64.\n",
      "Preparing to unpack .../194-libxcb-dri2-0_1.13.1-2_amd64.deb ...\n",
      "Unpacking libxcb-dri2-0:amd64 (1.13.1-2) ...\n",
      "Selecting previously unselected package libxcb-dri3-0:amd64.\n",
      "Preparing to unpack .../195-libxcb-dri3-0_1.13.1-2_amd64.deb ...\n",
      "Unpacking libxcb-dri3-0:amd64 (1.13.1-2) ...\n",
      "Selecting previously unselected package libxcb-glx0:amd64.\n",
      "Preparing to unpack .../196-libxcb-glx0_1.13.1-2_amd64.deb ...\n",
      "Unpacking libxcb-glx0:amd64 (1.13.1-2) ...\n",
      "Selecting previously unselected package libxcb-present0:amd64.\n",
      "Preparing to unpack .../197-libxcb-present0_1.13.1-2_amd64.deb ...\n",
      "Unpacking libxcb-present0:amd64 (1.13.1-2) ...\n",
      "Selecting previously unselected package libxcb-sync1:amd64.\n",
      "Preparing to unpack .../198-libxcb-sync1_1.13.1-2_amd64.deb ...\n",
      "Unpacking libxcb-sync1:amd64 (1.13.1-2) ...\n",
      "Selecting previously unselected package libxdamage1:amd64.\n",
      "Preparing to unpack .../199-libxdamage1_1%3a1.1.4-3+b3_amd64.deb ...\n",
      "Unpacking libxdamage1:amd64 (1:1.1.4-3+b3) ...\n",
      "Selecting previously unselected package libxshmfence1:amd64.\n",
      "Preparing to unpack .../200-libxshmfence1_1.3-1_amd64.deb ...\n",
      "Unpacking libxshmfence1:amd64 (1.3-1) ...\n",
      "Selecting previously unselected package libxxf86vm1:amd64.\n",
      "Preparing to unpack .../201-libxxf86vm1_1%3a1.1.4-1+b2_amd64.deb ...\n",
      "Unpacking libxxf86vm1:amd64 (1:1.1.4-1+b2) ...\n",
      "Selecting previously unselected package libglx-mesa0:amd64.\n",
      "Preparing to unpack .../202-libglx-mesa0_18.3.6-2+deb10u1_amd64.deb ...\n",
      "Unpacking libglx-mesa0:amd64 (18.3.6-2+deb10u1) ...\n",
      "Selecting previously unselected package libglx0:amd64.\n",
      "Preparing to unpack .../203-libglx0_1.1.0-1_amd64.deb ...\n",
      "Unpacking libglx0:amd64 (1.1.0-1) ...\n",
      "Selecting previously unselected package libgl1:amd64.\n",
      "Preparing to unpack .../204-libgl1_1.1.0-1_amd64.deb ...\n",
      "Unpacking libgl1:amd64 (1.1.0-1) ...\n",
      "Selecting previously unselected package libgl2ps1.4.\n",
      "Preparing to unpack .../205-libgl2ps1.4_1.4.0+dfsg1-2_amd64.deb ...\n",
      "Unpacking libgl2ps1.4 (1.4.0+dfsg1-2) ...\n",
      "Selecting previously unselected package libglu1-mesa:amd64.\n",
      "Preparing to unpack .../206-libglu1-mesa_9.0.0-2.1+b3_amd64.deb ...\n",
      "Unpacking libglu1-mesa:amd64 (9.0.0-2.1+b3) ...\n",
      "Selecting previously unselected package libgphoto2-port12:amd64.\n",
      "Preparing to unpack .../207-libgphoto2-port12_2.5.22-3_amd64.deb ...\n",
      "Unpacking libgphoto2-port12:amd64 (2.5.22-3) ...\n",
      "Selecting previously unselected package libgphoto2-6:amd64.\n",
      "Preparing to unpack .../208-libgphoto2-6_2.5.22-3_amd64.deb ...\n",
      "Unpacking libgphoto2-6:amd64 (2.5.22-3) ...\n",
      "Selecting previously unselected package libgphoto2-l10n.\n",
      "Preparing to unpack .../209-libgphoto2-l10n_2.5.22-3_all.deb ...\n",
      "Unpacking libgphoto2-l10n (2.5.22-3) ...\n",
      "Selecting previously unselected package libjson-glib-1.0-common.\n",
      "Preparing to unpack .../210-libjson-glib-1.0-common_1.4.4-2_all.deb ...\n",
      "Unpacking libjson-glib-1.0-common (1.4.4-2) ...\n",
      "Selecting previously unselected package libjson-glib-1.0-0:amd64.\n",
      "Preparing to unpack .../211-libjson-glib-1.0-0_1.4.4-2_amd64.deb ...\n",
      "Unpacking libjson-glib-1.0-0:amd64 (1.4.4-2) ...\n",
      "Selecting previously unselected package libsoup2.4-1:amd64.\n",
      "Preparing to unpack .../212-libsoup2.4-1_2.64.2-2_amd64.deb ...\n",
      "Unpacking libsoup2.4-1:amd64 (2.64.2-2) ...\n",
      "Selecting previously unselected package libsoup-gnome2.4-1:amd64.\n",
      "Preparing to unpack .../213-libsoup-gnome2.4-1_2.64.2-2_amd64.deb ...\n",
      "Unpacking libsoup-gnome2.4-1:amd64 (2.64.2-2) ...\n",
      "Selecting previously unselected package librest-0.7-0:amd64.\n",
      "Preparing to unpack .../214-librest-0.7-0_0.8.1-1_amd64.deb ...\n",
      "Unpacking librest-0.7-0:amd64 (0.8.1-1) ...\n",
      "Selecting previously unselected package libwayland-client0:amd64.\n",
      "Preparing to unpack .../215-libwayland-client0_1.16.0-1_amd64.deb ...\n",
      "Unpacking libwayland-client0:amd64 (1.16.0-1) ...\n",
      "Selecting previously unselected package libwayland-cursor0:amd64.\n",
      "Preparing to unpack .../216-libwayland-cursor0_1.16.0-1_amd64.deb ...\n",
      "Unpacking libwayland-cursor0:amd64 (1.16.0-1) ...\n",
      "Selecting previously unselected package libwayland-egl1:amd64.\n",
      "Preparing to unpack .../217-libwayland-egl1_1.16.0-1_amd64.deb ...\n",
      "Unpacking libwayland-egl1:amd64 (1.16.0-1) ...\n",
      "Selecting previously unselected package libxcomposite1:amd64.\n",
      "Preparing to unpack .../218-libxcomposite1_1%3a0.4.4-2_amd64.deb ...\n",
      "Unpacking libxcomposite1:amd64 (1:0.4.4-2) ...\n",
      "Selecting previously unselected package libxcursor1:amd64.\n",
      "Preparing to unpack .../219-libxcursor1_1%3a1.1.15-2_amd64.deb ...\n",
      "Unpacking libxcursor1:amd64 (1:1.1.15-2) ...\n",
      "Selecting previously unselected package libxinerama1:amd64.\n",
      "Preparing to unpack .../220-libxinerama1_2%3a1.1.4-2_amd64.deb ...\n",
      "Unpacking libxinerama1:amd64 (2:1.1.4-2) ...\n",
      "Selecting previously unselected package xkb-data.\n",
      "Preparing to unpack .../221-xkb-data_2.26-2_all.deb ...\n",
      "Unpacking xkb-data (2.26-2) ...\n",
      "Selecting previously unselected package libxkbcommon0:amd64.\n",
      "Preparing to unpack .../222-libxkbcommon0_0.8.2-1_amd64.deb ...\n",
      "Unpacking libxkbcommon0:amd64 (0.8.2-1) ...\n",
      "Selecting previously unselected package libxrandr2:amd64.\n",
      "Preparing to unpack .../223-libxrandr2_2%3a1.5.1-1_amd64.deb ...\n",
      "Unpacking libxrandr2:amd64 (2:1.5.1-1) ...\n",
      "Selecting previously unselected package libgtk-3-common.\n",
      "Preparing to unpack .../224-libgtk-3-common_3.24.5-1_all.deb ...\n",
      "Unpacking libgtk-3-common (3.24.5-1) ...\n",
      "Selecting previously unselected package libgtk-3-0:amd64.\n",
      "Preparing to unpack .../225-libgtk-3-0_3.24.5-1_amd64.deb ...\n",
      "Unpacking libgtk-3-0:amd64 (3.24.5-1) ...\n",
      "Selecting previously unselected package libgtk-3-bin.\n",
      "Preparing to unpack .../226-libgtk-3-bin_3.24.5-1_amd64.deb ...\n",
      "Unpacking libgtk-3-bin (3.24.5-1) ...\n",
      "Selecting previously unselected package libhdf5-openmpi-103:amd64.\n",
      "Preparing to unpack .../227-libhdf5-openmpi-103_1.10.4+repack-10_amd64.deb ...\n",
      "Unpacking libhdf5-openmpi-103:amd64 (1.10.4+repack-10) ...\n",
      "Selecting previously unselected package libnuma-dev:amd64.\n",
      "Preparing to unpack .../228-libnuma-dev_2.0.12-1_amd64.deb ...\n",
      "Unpacking libnuma-dev:amd64 (2.0.12-1) ...\n",
      "Selecting previously unselected package libltdl-dev:amd64.\n",
      "Preparing to unpack .../229-libltdl-dev_2.4.6-9_amd64.deb ...\n",
      "Unpacking libltdl-dev:amd64 (2.4.6-9) ...\n",
      "Selecting previously unselected package libhwloc-dev:amd64.\n",
      "Preparing to unpack .../230-libhwloc-dev_1.11.12-3_amd64.deb ...\n",
      "Unpacking libhwloc-dev:amd64 (1.11.12-3) ...\n",
      "Selecting previously unselected package libnl-3-dev:amd64.\n",
      "Preparing to unpack .../231-libnl-3-dev_3.4.0-1_amd64.deb ...\n",
      "Unpacking libnl-3-dev:amd64 (3.4.0-1) ...\n",
      "Selecting previously unselected package libnl-route-3-dev:amd64.\n",
      "Preparing to unpack .../232-libnl-route-3-dev_3.4.0-1_amd64.deb ...\n",
      "Unpacking libnl-route-3-dev:amd64 (3.4.0-1) ...\n",
      "Selecting previously unselected package libibverbs-dev:amd64.\n",
      "Preparing to unpack .../233-libibverbs-dev_22.1-1_amd64.deb ...\n",
      "Unpacking libibverbs-dev:amd64 (22.1-1) ...\n",
      "Selecting previously unselected package libjsoncpp1:amd64.\n",
      "Preparing to unpack .../234-libjsoncpp1_1.7.4-3_amd64.deb ...\n",
      "Unpacking libjsoncpp1:amd64 (1.7.4-3) ...\n",
      "Selecting previously unselected package liblept5.\n",
      "Preparing to unpack .../235-liblept5_1.76.0-1_amd64.deb ...\n",
      "Unpacking liblept5 (1.76.0-1) ...\n",
      "Selecting previously unselected package libnetcdf-c++4.\n",
      "Preparing to unpack .../236-libnetcdf-c++4_4.2-11_amd64.deb ...\n",
      "Unpacking libnetcdf-c++4 (4.2-11) ...\n",
      "Selecting previously unselected package libtbb2:amd64.\n",
      "Preparing to unpack .../237-libtbb2_2018~U6-4_amd64.deb ...\n",
      "Unpacking libtbb2:amd64 (2018~U6-4) ...\n",
      "Selecting previously unselected package libopencv-core3.2:amd64.\n",
      "Preparing to unpack .../238-libopencv-core3.2_3.2.0+dfsg-6_amd64.deb ...\n",
      "Unpacking libopencv-core3.2:amd64 (3.2.0+dfsg-6) ...\n",
      "Selecting previously unselected package libopencv-flann3.2:amd64.\n",
      "Preparing to unpack .../239-libopencv-flann3.2_3.2.0+dfsg-6_amd64.deb ...\n",
      "Unpacking libopencv-flann3.2:amd64 (3.2.0+dfsg-6) ...\n",
      "Selecting previously unselected package libopencv-imgproc3.2:amd64.\n",
      "Preparing to unpack .../240-libopencv-imgproc3.2_3.2.0+dfsg-6_amd64.deb ...\n",
      "Unpacking libopencv-imgproc3.2:amd64 (3.2.0+dfsg-6) ...\n",
      "Selecting previously unselected package libopencv-imgcodecs3.2:amd64.\n",
      "Preparing to unpack .../241-libopencv-imgcodecs3.2_3.2.0+dfsg-6_amd64.deb ...\n",
      "Unpacking libopencv-imgcodecs3.2:amd64 (3.2.0+dfsg-6) ...\n",
      "Selecting previously unselected package libswscale5:amd64.\n",
      "Preparing to unpack .../242-libswscale5_7%3a4.1.8-0+deb10u1_amd64.deb ...\n",
      "Unpacking libswscale5:amd64 (7:4.1.8-0+deb10u1) ...\n",
      "Selecting previously unselected package libopencv-videoio3.2:amd64.\n",
      "Preparing to unpack .../243-libopencv-videoio3.2_3.2.0+dfsg-6_amd64.deb ...\n",
      "Unpacking libopencv-videoio3.2:amd64 (3.2.0+dfsg-6) ...\n",
      "Selecting previously unselected package libopencv-highgui3.2:amd64.\n",
      "Preparing to unpack .../244-libopencv-highgui3.2_3.2.0+dfsg-6_amd64.deb ...\n",
      "Unpacking libopencv-highgui3.2:amd64 (3.2.0+dfsg-6) ...\n",
      "Selecting previously unselected package libopencv-ml3.2:amd64.\n",
      "Preparing to unpack .../245-libopencv-ml3.2_3.2.0+dfsg-6_amd64.deb ...\n",
      "Unpacking libopencv-ml3.2:amd64 (3.2.0+dfsg-6) ...\n",
      "Selecting previously unselected package libopencv-features2d3.2:amd64.\n",
      "Preparing to unpack .../246-libopencv-features2d3.2_3.2.0+dfsg-6_amd64.deb ...\n",
      "Unpacking libopencv-features2d3.2:amd64 (3.2.0+dfsg-6) ...\n",
      "Selecting previously unselected package libopencv-calib3d3.2:amd64.\n",
      "Preparing to unpack .../247-libopencv-calib3d3.2_3.2.0+dfsg-6_amd64.deb ...\n",
      "Unpacking libopencv-calib3d3.2:amd64 (3.2.0+dfsg-6) ...\n",
      "Selecting previously unselected package libopencv-objdetect3.2:amd64.\n",
      "Preparing to unpack .../248-libopencv-objdetect3.2_3.2.0+dfsg-6_amd64.deb ...\n",
      "Unpacking libopencv-objdetect3.2:amd64 (3.2.0+dfsg-6) ...\n",
      "Selecting previously unselected package libopencv-photo3.2:amd64.\n",
      "Preparing to unpack .../249-libopencv-photo3.2_3.2.0+dfsg-6_amd64.deb ...\n",
      "Unpacking libopencv-photo3.2:amd64 (3.2.0+dfsg-6) ...\n",
      "Selecting previously unselected package libopencv-video3.2:amd64.\n",
      "Preparing to unpack .../250-libopencv-video3.2_3.2.0+dfsg-6_amd64.deb ...\n",
      "Unpacking libopencv-video3.2:amd64 (3.2.0+dfsg-6) ...\n",
      "Selecting previously unselected package libopencv-shape3.2:amd64.\n",
      "Preparing to unpack .../251-libopencv-shape3.2_3.2.0+dfsg-6_amd64.deb ...\n",
      "Unpacking libopencv-shape3.2:amd64 (3.2.0+dfsg-6) ...\n",
      "Selecting previously unselected package libopencv-stitching3.2:amd64.\n",
      "Preparing to unpack .../252-libopencv-stitching3.2_3.2.0+dfsg-6_amd64.deb ...\n",
      "Unpacking libopencv-stitching3.2:amd64 (3.2.0+dfsg-6) ...\n",
      "Selecting previously unselected package libopencv-superres3.2:amd64.\n",
      "Preparing to unpack .../253-libopencv-superres3.2_3.2.0+dfsg-6_amd64.deb ...\n",
      "Unpacking libopencv-superres3.2:amd64 (3.2.0+dfsg-6) ...\n",
      "Selecting previously unselected package libopencv-videostab3.2:amd64.\n",
      "Preparing to unpack .../254-libopencv-videostab3.2_3.2.0+dfsg-6_amd64.deb ...\n",
      "Unpacking libopencv-videostab3.2:amd64 (3.2.0+dfsg-6) ...\n",
      "Selecting previously unselected package libpython2.7:amd64.\n",
      "Preparing to unpack .../255-libpython2.7_2.7.16-2+deb10u1_amd64.deb ...\n",
      "Unpacking libpython2.7:amd64 (2.7.16-2+deb10u1) ...\n",
      "Selecting previously unselected package libtcl8.6:amd64.\n",
      "Preparing to unpack .../256-libtcl8.6_8.6.9+dfsg-2_amd64.deb ...\n",
      "Unpacking libtcl8.6:amd64 (8.6.9+dfsg-2) ...\n",
      "Selecting previously unselected package libxft2:amd64.\n",
      "Preparing to unpack .../257-libxft2_2.3.2-2_amd64.deb ...\n",
      "Unpacking libxft2:amd64 (2.3.2-2) ...\n",
      "Selecting previously unselected package libxss1:amd64.\n",
      "Preparing to unpack .../258-libxss1_1%3a1.2.3-1_amd64.deb ...\n",
      "Unpacking libxss1:amd64 (1:1.2.3-1) ...\n",
      "Selecting previously unselected package libtk8.6:amd64.\n",
      "Preparing to unpack .../259-libtk8.6_8.6.9-2_amd64.deb ...\n",
      "Unpacking libtk8.6:amd64 (8.6.9-2) ...\n",
      "Selecting previously unselected package libvtk6.3.\n",
      "Preparing to unpack .../260-libvtk6.3_6.3.0+dfsg2-2+b5_amd64.deb ...\n",
      "Unpacking libvtk6.3 (6.3.0+dfsg2-2+b5) ...\n",
      "Selecting previously unselected package libopencv-viz3.2:amd64.\n",
      "Preparing to unpack .../261-libopencv-viz3.2_3.2.0+dfsg-6_amd64.deb ...\n",
      "Unpacking libopencv-viz3.2:amd64 (3.2.0+dfsg-6) ...\n",
      "Selecting previously unselected package libtesseract4:amd64.\n",
      "Preparing to unpack .../262-libtesseract4_4.0.0-2_amd64.deb ...\n",
      "Unpacking libtesseract4:amd64 (4.0.0-2) ...\n",
      "Selecting previously unselected package libopencv-contrib3.2:amd64.\n",
      "Preparing to unpack .../263-libopencv-contrib3.2_3.2.0+dfsg-6_amd64.deb ...\n",
      "Unpacking libopencv-contrib3.2:amd64 (3.2.0+dfsg-6) ...\n",
      "Selecting previously unselected package libopenmpi-dev:amd64.\n",
      "Preparing to unpack .../264-libopenmpi-dev_3.1.3-11_amd64.deb ...\n",
      "Unpacking libopenmpi-dev:amd64 (3.1.3-11) ...\n",
      "Selecting previously unselected package libtool.\n",
      "Preparing to unpack .../265-libtool_2.4.6-9_all.deb ...\n",
      "Unpacking libtool (2.4.6-9) ...\n",
      "Selecting previously unselected package libvdpau-va-gl1:amd64.\n",
      "Preparing to unpack .../266-libvdpau-va-gl1_0.4.2-1+b1_amd64.deb ...\n",
      "Unpacking libvdpau-va-gl1:amd64 (0.4.2-1+b1) ...\n",
      "Selecting previously unselected package libxcb-xfixes0:amd64.\n",
      "Preparing to unpack .../267-libxcb-xfixes0_1.13.1-2_amd64.deb ...\n",
      "Unpacking libxcb-xfixes0:amd64 (1.13.1-2) ...\n",
      "Selecting previously unselected package mesa-va-drivers:amd64.\n",
      "Preparing to unpack .../268-mesa-va-drivers_18.3.6-2+deb10u1_amd64.deb ...\n",
      "Unpacking mesa-va-drivers:amd64 (18.3.6-2+deb10u1) ...\n",
      "Selecting previously unselected package mesa-vdpau-drivers:amd64.\n",
      "Preparing to unpack .../269-mesa-vdpau-drivers_18.3.6-2+deb10u1_amd64.deb ...\n",
      "Unpacking mesa-vdpau-drivers:amd64 (18.3.6-2+deb10u1) ...\n",
      "Selecting previously unselected package proj-bin.\n",
      "Preparing to unpack .../270-proj-bin_5.2.0-1_amd64.deb ...\n",
      "Unpacking proj-bin (5.2.0-1) ...\n",
      "Selecting previously unselected package python3-pkg-resources.\n",
      "Preparing to unpack .../271-python3-pkg-resources_40.8.0-1_all.deb ...\n",
      "Unpacking python3-pkg-resources (40.8.0-1) ...\n",
      "Selecting previously unselected package python3-numpy.\n",
      "Preparing to unpack .../272-python3-numpy_1%3a1.16.2-1_amd64.deb ...\n",
      "Unpacking python3-numpy (1:1.16.2-1) ...\n",
      "Selecting previously unselected package python3-opencv.\n",
      "Preparing to unpack .../273-python3-opencv_3.2.0+dfsg-6_amd64.deb ...\n",
      "Unpacking python3-opencv (3.2.0+dfsg-6) ...\n",
      "Selecting previously unselected package va-driver-all:amd64.\n",
      "Preparing to unpack .../274-va-driver-all_2.4.0-1_amd64.deb ...\n",
      "Unpacking va-driver-all:amd64 (2.4.0-1) ...\n",
      "Selecting previously unselected package vdpau-driver-all:amd64.\n",
      "Preparing to unpack .../275-vdpau-driver-all_1.1.1-10_amd64.deb ...\n",
      "Unpacking vdpau-driver-all:amd64 (1.1.1-10) ...\n",
      "Setting up libgme0:amd64 (0.6.2-1) ...\n",
      "Setting up libssh-gcrypt-4:amd64 (0.8.7-1+deb10u1) ...\n",
      "Setting up libxcb-dri3-0:amd64 (1.13.1-2) ...\n",
      "Setting up libigdgmm5:amd64 (18.4.1+ds1-1) ...\n",
      "Setting up libx11-xcb1:amd64 (2:1.6.7-1+deb10u2) ...\n",
      "Setting up libpciaccess0:amd64 (0.14-1) ...\n",
      "Setting up mysql-common (5.8+1.0.5) ...\n",
      "update-alternatives: using /etc/mysql/my.cnf.fallback to provide /etc/mysql/my.cnf (my.cnf) in auto mode\n",
      "Setting up systemd-sysv (241-7~deb10u8) ...\n",
      "Setting up libpython2.7:amd64 (2.7.16-2+deb10u1) ...\n",
      "Setting up libraw1394-11:amd64 (2.1.2-1+b1) ...\n",
      "Setting up libxft2:amd64 (2.3.2-2) ...\n",
      "Setting up libproxy1v5:amd64 (0.4.15-5+deb10u1) ...\n",
      "Setting up libmpg123-0:amd64 (1.25.10-2) ...\n",
      "Setting up libxcb-xfixes0:amd64 (1.13.1-2) ...\n",
      "Setting up libogg0:amd64 (1.3.2-1+b1) ...\n",
      "Setting up libxerces-c3.2:amd64 (3.2.2+debian-1+deb10u1) ...\n",
      "Setting up libspeex1:amd64 (1.2~rc1.2-1+b2) ...\n",
      "Setting up proj-data (5.2.0-1) ...\n",
      "Setting up libshine3:amd64 (3.1.1-2) ...\n",
      "Setting up libxi6:amd64 (2:1.7.9-1) ...\n",
      "Setting up libtwolame0:amd64 (0.3.13-4) ...\n",
      "Setting up libgsm1:amd64 (1.0.18-2) ...\n",
      "Setting up libx264-155:amd64 (2:0.155.2917+git0a84d98-2) ...\n",
      "Setting up libcharls2:amd64 (2.0.0+dfsg-1) ...\n",
      "Setting up libminizip1:amd64 (1.1-8+b1) ...\n",
      "Setting up libsoxr0:amd64 (0.1.2-3) ...\n",
      "Setting up libglvnd0:amd64 (1.1.0-1) ...\n",
      "Setting up libhwloc5:amd64 (1.11.12-3) ...\n",
      "Setting up libxtst6:amd64 (2:1.2.3-1) ...\n",
      "Setting up libxcb-glx0:amd64 (1.13.1-2) ...\n",
      "Setting up libaom0:amd64 (1.0.0-3) ...\n",
      "Setting up libgdk-pixbuf2.0-common (2.38.1+dfsg-1) ...\n",
      "Setting up libcodec2-0.8.1:amd64 (0.8.1-2) ...\n",
      "Setting up libproj13:amd64 (5.2.0-1) ...\n",
      "Setting up binutils-common:amd64 (2.31.1-16) ...\n",
      "Setting up libsensors-config (1:3.5.0-3) ...\n",
      "Setting up libpq5:amd64 (11.13-0+deb10u1) ...\n",
      "Setting up proj-bin (5.2.0-1) ...\n",
      "Setting up libdap25:amd64 (3.20.3-1) ...\n",
      "Setting up libnss-systemd:amd64 (241-7~deb10u8) ...\n",
      "First installation detected...\n",
      "Checking NSS setup...\n",
      "Setting up xkb-data (2.26-2) ...\n",
      "Setting up libqhull7:amd64 (2015.2-4) ...\n",
      "Setting up libatspi2.0-0:amd64 (2.30.0-7) ...\n",
      "Setting up libcrystalhd3:amd64 (1:0.0~git20110715.fdd2f19-13) ...\n",
      "Setting up libxvidcore4:amd64 (2:1.3.5-1) ...\n",
      "Setting up libgphoto2-l10n (2.5.22-3) ...\n",
      "Setting up libdapserver7v5:amd64 (3.20.3-1) ...\n",
      "Setting up libgeos-3.7.1:amd64 (3.7.1-1) ...\n",
      "Setting up libaec0:amd64 (1.0.2-1) ...\n",
      "Setting up libcolord2:amd64 (1.4.3-4) ...\n",
      "Setting up gdal-data (2.4.0+dfsg-1) ...\n",
      "Setting up libxxf86vm1:amd64 (1:1.1.4-1+b2) ...\n",
      "Setting up libsnappy1v5:amd64 (1.1.7-1) ...\n",
      "Setting up libnuma-dev:amd64 (2.0.12-1) ...\n",
      "Setting up libxcb-present0:amd64 (1.13.1-2) ...\n",
      "Setting up libdconf1:amd64 (0.30.1-2) ...\n",
      "Setting up mariadb-common (1:10.3.31-0+deb10u1) ...\n",
      "update-alternatives: using /etc/mysql/mariadb.cnf to provide /etc/mysql/my.cnf (my.cnf) in auto mode\n",
      "Setting up libasan5:amd64 (8.3.0-6) ...\n",
      "Setting up libgeotiff2:amd64 (1.4.3-1) ...\n",
      "Setting up autotools-dev (20180224.1) ...\n",
      "Setting up libva2:amd64 (2.4.0-1) ...\n",
      "Setting up libepoxy0:amd64 (1.5.3-0.1) ...\n",
      "Setting up libmpfr6:amd64 (4.0.2-1) ...\n",
      "Setting up libnspr4:amd64 (2:4.20-1) ...\n",
      "Setting up libxfixes3:amd64 (1:5.0.3-1) ...\n",
      "Setting up libxcb-sync1:amd64 (1.13.1-2) ...\n",
      "Setting up libgdk-pixbuf2.0-0:amd64 (2.38.1+dfsg-1) ...\n",
      "Setting up libsigsegv2:amd64 (2.12-2) ...\n",
      "Setting up libopus0:amd64 (1.3-1) ...\n",
      "Setting up libquadmath0:amd64 (8.3.0-6) ...\n",
      "Setting up libxinerama1:amd64 (2:1.1.4-2) ...\n",
      "Setting up libexif12:amd64 (0.6.21-5.1+deb10u5) ...\n",
      "Setting up libgd3:amd64 (2.2.5-5.2) ...\n",
      "Setting up intel-media-va-driver:amd64 (18.4.1+dfsg1-1) ...\n",
      "Setting up libmpc3:amd64 (1.1.0-1) ...\n",
      "Setting up libatomic1:amd64 (8.3.0-6) ...\n",
      "Setting up libvorbis0a:amd64 (1.3.6-2) ...\n",
      "Setting up libxrandr2:amd64 (2:1.5.1-1) ...\n",
      "Setting up libtcl8.6:amd64 (8.6.9+dfsg-2) ...\n",
      "Setting up libcroco3:amd64 (0.6.12-3) ...\n",
      "Setting up libgeos-c1v5:amd64 (3.7.1-1) ...\n",
      "Setting up libmariadb3:amd64 (1:10.3.31-0+deb10u1) ...\n",
      "Setting up libsocket++1:amd64 (1.12.13-10) ...\n",
      "Setting up libodbc1:amd64 (2.3.6-0.1) ...\n",
      "Setting up libsensors5:amd64 (1:3.5.0-3) ...\n",
      "Setting up libaacs0:amd64 (0.9.0-2) ...\n",
      "Setting up libglapi-mesa:amd64 (18.3.6-2+deb10u1) ...\n",
      "Setting up libevent-core-2.1-6:amd64 (2.1.8-stable-4) ...\n",
      "Setting up libgfortran5:amd64 (8.3.0-6) ...\n",
      "Setting up libevent-2.1-6:amd64 (2.1.8-stable-4) ...\n",
      "Setting up libhdf4-0-alt (4.2.13-4) ...\n",
      "Setting up libmpx2:amd64 (8.3.0-6) ...\n",
      "Setting up libubsan1:amd64 (8.3.0-6) ...\n",
      "Setting up libxcb-dri2-0:amd64 (1.13.1-2) ...\n",
      "Setting up libgif7:amd64 (5.1.4-3) ...\n",
      "Setting up libatk1.0-data (2.30.0-2) ...\n",
      "Setting up liburiparser1:amd64 (0.9.1-1) ...\n",
      "Setting up libbdplus0:amd64 (0.1.2-3) ...\n",
      "Setting up libisl19:amd64 (0.20-2) ...\n",
      "Setting up libfreexl1:amd64 (1.0.5-3) ...\n",
      "Setting up at-spi2-core (2.30.0-7) ...\n",
      "Setting up ocl-icd-libopencl1:amd64 (2.2.12-2) ...\n",
      "Setting up libxshmfence1:amd64 (1.3-1) ...\n",
      "Setting up libgdk-pixbuf2.0-bin (2.38.1+dfsg-1) ...\n",
      "Setting up libvdpau1:amd64 (1.1.1-10) ...\n",
      "Setting up libwavpack1:amd64 (5.1.0-6) ...\n",
      "Setting up libfyba0:amd64 (4.1.1-6) ...\n",
      "Setting up libtheora0:amd64 (1.1.1+dfsg.1-15) ...\n",
      "Setting up libkmlbase1:amd64 (1.3.0-7) ...\n",
      "Setting up libdapclient6v5:amd64 (3.20.3-1) ...\n",
      "Setting up libnl-3-200:amd64 (3.4.0-1) ...\n",
      "Setting up libpsm2-2 (11.2.78-1) ...\n",
      "Setting up openmpi-common (3.1.3-11) ...\n",
      "Setting up libpam-systemd:amd64 (241-7~deb10u8) ...\n",
      "Setting up libllvm7:amd64 (1:7.0.1-8+deb10u2) ...\n",
      "Setting up libjson-glib-1.0-common (1.4.4-2) ...\n",
      "Setting up libcairo-gobject2:amd64 (1.16.0-4+deb10u1) ...\n",
      "Setting up libatk1.0-0:amd64 (2.30.0-2) ...\n",
      "Setting up libwayland-egl1:amd64 (1.16.0-1) ...\n",
      "Setting up libxss1:amd64 (1:1.2.3-1) ...\n",
      "Setting up libusb-1.0-0:amd64 (2:1.0.22-2) ...\n",
      "Setting up libgphoto2-port12:amd64 (2.5.22-3) ...\n",
      "Setting up libpsm-infinipath1 (3.3+20.604758e7-6) ...\n",
      "update-alternatives: using /usr/lib/libpsm1/libpsm_infinipath.so.1.16 to provide /usr/lib/x86_64-linux-gnu/libpsm_infinipath.so.1 (libpsm_infinipath.so.1) in auto mode\n",
      "Setting up libmpdec2:amd64 (2.4.2-2) ...\n",
      "Setting up glib-networking-common (2.58.0-2+deb10u2) ...\n",
      "Setting up libbinutils:amd64 (2.31.1-16) ...\n",
      "Setting up cpp-8 (8.3.0-6) ...\n",
      "Setting up libbluray2:amd64 (1:1.1.0-1) ...\n",
      "Setting up libdrm-common (2.4.97-1) ...\n",
      "Setting up libelf1:amd64 (0.176-1.1) ...\n",
      "Setting up libxcomposite1:amd64 (1:0.4.4-2) ...\n",
      "Setting up libcc1-0:amd64 (8.3.0-6) ...\n",
      "Setting up libzvbi-common (0.2.35-16) ...\n",
      "Setting up liblsan0:amd64 (8.3.0-6) ...\n",
      "Setting up libmp3lame0:amd64 (3.100-2+b1) ...\n",
      "Setting up libvpx5:amd64 (1.7.0-3+deb10u1) ...\n",
      "Setting up libsz2:amd64 (1.0.2-1) ...\n",
      "Setting up libitm1:amd64 (8.3.0-6) ...\n",
      "Setting up libvorbisenc2:amd64 (1.3.6-2) ...\n",
      "Setting up libjsoncpp1:amd64 (1.7.4-3) ...\n",
      "Setting up libkmlxsd1:amd64 (1.3.0-7) ...\n",
      "Setting up libpopt0:amd64 (1.16-12) ...\n",
      "Setting up binutils-x86-64-linux-gnu (2.31.1-16) ...\n",
      "Setting up libtsan0:amd64 (8.3.0-6) ...\n",
      "Setting up libxkbcommon0:amd64 (0.8.2-1) ...\n",
      "Setting up libkmldom1:amd64 (1.3.0-7) ...\n",
      "Setting up libwayland-client0:amd64 (1.16.0-1) ...\n",
      "Setting up libspatialite7:amd64 (4.3.0a-5+b2) ...\n",
      "Setting up glib-networking-services (2.58.0-2+deb10u2) ...\n",
      "Setting up libzvbi0:amd64 (0.2.35-16) ...\n",
      "Setting up libevent-pthreads-2.1-6:amd64 (2.1.8-stable-4) ...\n",
      "Setting up gtk-update-icon-cache (3.24.5-1) ...\n",
      "Setting up libpython3.7-stdlib:amd64 (3.7.3-2+deb10u3) ...\n",
      "Setting up libogdi3.2 (3.2.1+ds-4) ...\n",
      "Setting up libxdamage1:amd64 (1:1.1.4-3+b3) ...\n",
      "Setting up libkmlengine1:amd64 (1.3.0-7) ...\n",
      "Setting up libkmlconvenience1:amd64 (1.3.0-7) ...\n",
      "Setting up libtk8.6:amd64 (8.6.9-2) ...\n",
      "Setting up libxcursor1:amd64 (1:1.1.15-2) ...\n",
      "Setting up libtbb2:amd64 (2018~U6-4) ...\n",
      "Setting up libdc1394-22:amd64 (2.2.5-1) ...\n",
      "Setting up m4 (1.4.18-2) ...\n",
      "Setting up libnss3:amd64 (2:3.42.1-1+deb10u3) ...\n",
      "Setting up binutils (2.31.1-16) ...\n",
      "Setting up libepsilon1:amd64 (0.9.2+dfsg-4) ...\n",
      "Setting up libhwloc-plugins:amd64 (1.11.12-3) ...\n",
      "Setting up liblept5 (1.76.0-1) ...\n",
      "Setting up libjson-glib-1.0-0:amd64 (1.4.4-2) ...\n",
      "Setting up libnl-route-3-200:amd64 (3.4.0-1) ...\n",
      "Setting up librsvg2-2:amd64 (2.44.10-2.1) ...\n",
      "Setting up libatk-bridge2.0-0:amd64 (2.30.0-5) ...\n",
      "Setting up libvorbisfile3:amd64 (1.3.6-2) ...\n",
      "Setting up dbus-user-session (1.12.20-0+deb10u1) ...\n",
      "Setting up libgphoto2-6:amd64 (2.5.22-3) ...\n",
      "Setting up libblas3:amd64 (3.8.0-2) ...\n",
      "update-alternatives: using /usr/lib/x86_64-linux-gnu/blas/libblas.so.3 to provide /usr/lib/x86_64-linux-gnu/libblas.so.3 (libblas.so.3-x86_64-linux-gnu) in auto mode\n",
      "Setting up libgdcm2.8:amd64 (2.8.8-9) ...\n",
      "Setting up libkmlregionator1:amd64 (1.3.0-7) ...\n",
      "Setting up libhdf5-103:amd64 (1.10.4+repack-10) ...\n",
      "Setting up librsvg2-common:amd64 (2.44.10-2.1) ...\n",
      "Setting up libgcc-8-dev:amd64 (8.3.0-6) ...\n",
      "Setting up libtesseract4:amd64 (4.0.0-2) ...\n",
      "Setting up autoconf (2.69-11) ...\n",
      "Setting up libdrm2:amd64 (2.4.97-1) ...\n",
      "Setting up libnl-3-dev:amd64 (3.4.0-1) ...\n",
      "Setting up libva-drm2:amd64 (2.4.0-1) ...\n",
      "Setting up libwayland-cursor0:amd64 (1.16.0-1) ...\n",
      "Setting up cpp (4:8.3.0-1) ...\n",
      "Setting up libopencv-core3.2:amd64 (3.2.0+dfsg-6) ...\n",
      "Setting up libva-x11-2:amd64 (2.4.0-1) ...\n",
      "Setting up libopenmpt0:amd64 (0.4.3-1+deb10u1) ...\n",
      "Setting up libopencv-ml3.2:amd64 (3.2.0+dfsg-6) ...\n",
      "Setting up libpython3-stdlib:amd64 (3.7.3-1) ...\n",
      "Setting up libopencv-imgproc3.2:amd64 (3.2.0+dfsg-6) ...\n",
      "Setting up libdrm-amdgpu1:amd64 (2.4.97-1) ...\n",
      "Setting up automake (1:1.16.1-4) ...\n",
      "update-alternatives: using /usr/bin/automake-1.16 to provide /usr/bin/automake (automake) in auto mode\n",
      "update-alternatives: warning: skip creation of /usr/share/man/man1/automake.1.gz because associated file /usr/share/man/man1/automake-1.16.1.gz (of link group automake) doesn't exist\n",
      "update-alternatives: warning: skip creation of /usr/share/man/man1/aclocal.1.gz because associated file /usr/share/man/man1/aclocal-1.16.1.gz (of link group automake) doesn't exist\n",
      "Setting up libgfortran-8-dev:amd64 (8.3.0-6) ...\n",
      "Setting up python3.7 (3.7.3-2+deb10u3) ...\n",
      "Setting up libibverbs1:amd64 (22.1-1) ...\n",
      "Setting up liblapack3:amd64 (3.8.0-2) ...\n",
      "update-alternatives: using /usr/lib/x86_64-linux-gnu/lapack/liblapack.so.3 to provide /usr/lib/x86_64-linux-gnu/liblapack.so.3 (liblapack.so.3-x86_64-linux-gnu) in auto mode\n",
      "Setting up libdrm-nouveau2:amd64 (2.4.97-1) ...\n",
      "Setting up gcc-8 (8.3.0-6) ...\n",
      "Setting up libopencv-photo3.2:amd64 (3.2.0+dfsg-6) ...\n",
      "Setting up libpmix2:amd64 (3.1.2-3) ...\n",
      "Setting up ibverbs-providers:amd64 (22.1-1) ...\n",
      "Setting up libtool (2.4.6-9) ...\n",
      "Setting up libdrm-radeon1:amd64 (2.4.97-1) ...\n",
      "Setting up gfortran-8 (8.3.0-6) ...\n",
      "Setting up libdrm-intel1:amd64 (2.4.97-1) ...\n",
      "Setting up libgl1-mesa-dri:amd64 (18.3.6-2+deb10u1) ...\n",
      "Setting up libarpack2:amd64 (3.7.0-2) ...\n",
      "Setting up libsuperlu5:amd64 (5.2.1+dfsg1-4) ...\n",
      "Setting up libpoppler82:amd64 (0.71.0-5) ...\n",
      "Setting up libnetcdf13:amd64 (1:4.6.2-1) ...\n",
      "Setting up dconf-service (0.30.1-2) ...\n",
      "Setting up python3 (3.7.3-1) ...\n",
      "Setting up libnetcdf-c++4 (4.2-11) ...\n",
      "Setting up libavutil56:amd64 (7:4.1.8-0+deb10u1) ...\n",
      "Setting up gcc (4:8.3.0-1) ...\n",
      "Setting up libnl-route-3-dev:amd64 (3.4.0-1) ...\n",
      "Setting up libltdl-dev:amd64 (2.4.6-9) ...\n",
      "Setting up adwaita-icon-theme (3.30.1-1) ...\n",
      "update-alternatives: using /usr/share/icons/Adwaita/cursor.theme to provide /usr/share/icons/default/index.theme (x-cursor-theme) in auto mode\n",
      "Setting up libopencv-video3.2:amd64 (3.2.0+dfsg-6) ...\n",
      "Setting up libopencv-flann3.2:amd64 (3.2.0+dfsg-6) ...\n",
      "Setting up libswscale5:amd64 (7:4.1.8-0+deb10u1) ...\n",
      "Setting up libhwloc-dev:amd64 (1.11.12-3) ...\n",
      "Setting up libarmadillo9 (1:9.200.7+dfsg-1) ...\n",
      "Setting up mesa-va-drivers:amd64 (18.3.6-2+deb10u1) ...\n",
      "Setting up i965-va-driver:amd64 (2.3.0+dfsg1-1) ...\n",
      "Setting up python3-pkg-resources (40.8.0-1) ...\n",
      "Setting up librdmacm1:amd64 (22.1-1) ...\n",
      "Setting up mesa-vdpau-drivers:amd64 (18.3.6-2+deb10u1) ...\n",
      "Setting up libglx-mesa0:amd64 (18.3.6-2+deb10u1) ...\n",
      "Setting up libglx0:amd64 (1.1.0-1) ...\n",
      "Setting up dconf-gsettings-backend:amd64 (0.30.1-2) ...\n",
      "Setting up libswresample3:amd64 (7:4.1.8-0+deb10u1) ...\n",
      "Setting up libibverbs-dev:amd64 (22.1-1) ...\n",
      "Setting up gfortran (4:8.3.0-1) ...\n",
      "update-alternatives: using /usr/bin/gfortran to provide /usr/bin/f95 (f95) in auto mode\n",
      "update-alternatives: using /usr/bin/gfortran to provide /usr/bin/f77 (f77) in auto mode\n",
      "Setting up libavresample4:amd64 (7:4.1.8-0+deb10u1) ...\n",
      "Setting up libgl1:amd64 (1.1.0-1) ...\n",
      "Setting up va-driver-all:amd64 (2.4.0-1) ...\n",
      "Setting up libopencv-shape3.2:amd64 (3.2.0+dfsg-6) ...\n",
      "Setting up python3-numpy (1:1.16.2-1) ...\n",
      "Setting up libavcodec58:amd64 (7:4.1.8-0+deb10u1) ...\n",
      "Setting up libglu1-mesa:amd64 (9.0.0-2.1+b3) ...\n",
      "Setting up libvdpau-va-gl1:amd64 (0.4.2-1+b1) ...\n",
      "Setting up libgtk-3-common (3.24.5-1) ...\n",
      "Setting up libchromaprint1:amd64 (1.4.3-3) ...\n",
      "Setting up gsettings-desktop-schemas (3.28.1-1) ...\n",
      "Setting up libfabric1 (1.6.2-3) ...\n",
      "Setting up libavformat58:amd64 (7:4.1.8-0+deb10u1) ...\n",
      "Setting up libcoarrays-dev:amd64 (2.4.0-2) ...\n",
      "Setting up libopenmpi3:amd64 (3.1.3-11) ...\n",
      "Setting up libgl2ps1.4 (1.4.0+dfsg1-2) ...\n",
      "Setting up libhdf5-openmpi-103:amd64 (1.10.4+repack-10) ...\n",
      "Setting up libcaf-openmpi-3:amd64 (2.4.0-2) ...\n",
      "Setting up vdpau-driver-all:amd64 (1.1.1-10) ...\n",
      "Setting up openmpi-bin (3.1.3-11) ...\n",
      "update-alternatives: using /usr/bin/mpirun.openmpi to provide /usr/bin/mpirun (mpirun) in auto mode\n",
      "update-alternatives: warning: skip creation of /usr/share/man/man1/mpirun.1.gz because associated file /usr/share/man/man1/mpirun.openmpi.1.gz (of link group mpirun) doesn't exist\n",
      "update-alternatives: warning: skip creation of /usr/share/man/man1/mpiexec.1.gz because associated file /usr/share/man/man1/mpiexec.openmpi.1.gz (of link group mpirun) doesn't exist\n",
      "update-alternatives: using /usr/bin/mpicc.openmpi to provide /usr/bin/mpicc (mpi) in auto mode\n",
      "update-alternatives: warning: skip creation of /usr/share/man/man1/mpicc.1.gz because associated file /usr/share/man/man1/mpicc.openmpi.1.gz (of link group mpi) doesn't exist\n",
      "update-alternatives: warning: skip creation of /usr/share/man/man1/mpic++.1.gz because associated file /usr/share/man/man1/mpic++.openmpi.1.gz (of link group mpi) doesn't exist\n",
      "update-alternatives: warning: skip creation of /usr/share/man/man1/mpicxx.1.gz because associated file /usr/share/man/man1/mpicxx.openmpi.1.gz (of link group mpi) doesn't exist\n",
      "update-alternatives: warning: skip creation of /usr/share/man/man1/mpiCC.1.gz because associated file /usr/share/man/man1/mpiCC.openmpi.1.gz (of link group mpi) doesn't exist\n",
      "update-alternatives: warning: skip creation of /usr/share/man/man1/mpif77.1.gz because associated file /usr/share/man/man1/mpif77.openmpi.1.gz (of link group mpi) doesn't exist\n",
      "update-alternatives: warning: skip creation of /usr/share/man/man1/mpif90.1.gz because associated file /usr/share/man/man1/mpif90.openmpi.1.gz (of link group mpi) doesn't exist\n",
      "update-alternatives: warning: skip creation of /usr/share/man/man1/mpifort.1.gz because associated file /usr/share/man/man1/mpifort.openmpi.1.gz (of link group mpi) doesn't exist\n",
      "Setting up libcoarrays-openmpi-dev:amd64 (2.4.0-2) ...\n",
      "Setting up libopenmpi-dev:amd64 (3.1.3-11) ...\n",
      "update-alternatives: using /usr/lib/x86_64-linux-gnu/openmpi/include to provide /usr/include/x86_64-linux-gnu/mpi (mpi-x86_64-linux-gnu) in auto mode\n",
      "Setting up odbcinst (2.3.6-0.1) ...\n",
      "Setting up odbcinst1debian2:amd64 (2.3.6-0.1) ...\n",
      "Setting up libgdal20 (2.4.0+dfsg-1+b1) ...\n",
      "Setting up libopencv-imgcodecs3.2:amd64 (3.2.0+dfsg-6) ...\n",
      "Setting up libvtk6.3 (6.3.0+dfsg2-2+b5) ...\n",
      "Setting up libopencv-viz3.2:amd64 (3.2.0+dfsg-6) ...\n",
      "Processing triggers for dbus (1.12.20-0+deb10u1) ...\n",
      "Processing triggers for mime-support (3.62) ...\n",
      "Processing triggers for libglib2.0-0:amd64 (2.58.3-2+deb10u2) ...\n",
      "Processing triggers for libc-bin (2.28-10) ...\n",
      "Setting up glib-networking:amd64 (2.58.0-2+deb10u2) ...\n",
      "Setting up libsoup2.4-1:amd64 (2.64.2-2) ...\n",
      "Setting up libsoup-gnome2.4-1:amd64 (2.64.2-2) ...\n",
      "Setting up librest-0.7-0:amd64 (0.8.1-1) ...\n",
      "Setting up libgtk-3-0:amd64 (3.24.5-1) ...\n",
      "Setting up libgtk-3-bin (3.24.5-1) ...\n",
      "Setting up libopencv-videoio3.2:amd64 (3.2.0+dfsg-6) ...\n",
      "Setting up libopencv-superres3.2:amd64 (3.2.0+dfsg-6) ...\n",
      "Setting up libopencv-highgui3.2:amd64 (3.2.0+dfsg-6) ...\n",
      "Setting up libopencv-features2d3.2:amd64 (3.2.0+dfsg-6) ...\n",
      "Setting up libopencv-calib3d3.2:amd64 (3.2.0+dfsg-6) ...\n",
      "Setting up libopencv-objdetect3.2:amd64 (3.2.0+dfsg-6) ...\n",
      "Setting up libopencv-stitching3.2:amd64 (3.2.0+dfsg-6) ...\n",
      "Setting up libopencv-videostab3.2:amd64 (3.2.0+dfsg-6) ...\n",
      "Setting up libopencv-contrib3.2:amd64 (3.2.0+dfsg-6) ...\n",
      "Setting up python3-opencv (3.2.0+dfsg-6) ...\n",
      "Processing triggers for libgdk-pixbuf2.0-0:amd64 (2.38.1+dfsg-1) ...\n",
      "Processing triggers for libc-bin (2.28-10) ...\n"
     ]
    }
   ],
   "source": [
    "!apt-get update && apt-get install -y python3-opencv"
   ]
  },
  {
   "cell_type": "code",
   "execution_count": 6,
   "metadata": {},
   "outputs": [
    {
     "name": "stdout",
     "output_type": "stream",
     "text": [
      "/opt/conda/lib/python3.7/site-packages/secretstorage/dhcrypto.py:16: CryptographyDeprecationWarning: int_from_bytes is deprecated, use int.from_bytes instead\n",
      "  from cryptography.utils import int_from_bytes\n",
      "/opt/conda/lib/python3.7/site-packages/secretstorage/util.py:25: CryptographyDeprecationWarning: int_from_bytes is deprecated, use int.from_bytes instead\n",
      "  from cryptography.utils import int_from_bytes\n",
      "Requirement already satisfied: opencv-python in /opt/conda/lib/python3.7/site-packages (4.5.4.58)\n",
      "Requirement already satisfied: numpy>=1.14.5 in /opt/conda/lib/python3.7/site-packages (from opencv-python) (1.20.3)\n",
      "\u001b[33mWARNING: Running pip as the 'root' user can result in broken permissions and conflicting behaviour with the system package manager. It is recommended to use a virtual environment instead: https://pip.pypa.io/warnings/venv\u001b[0m\n",
      "\u001b[33mWARNING: You are using pip version 21.2.4; however, version 21.3.1 is available.\n",
      "You should consider upgrading via the '/opt/conda/bin/python -m pip install --upgrade pip' command.\u001b[0m\n"
     ]
    }
   ],
   "source": [
    "!pip install opencv-python"
   ]
  },
  {
   "cell_type": "code",
   "execution_count": 8,
   "metadata": {},
   "outputs": [],
   "source": [
    "import os\n",
    "import json\n",
    "from tqdm import tqdm\n",
    "from PIL import Image\n",
    "from shutil import copyfile\n",
    "import cv2\n",
    "import json\n",
    "\n",
    "def makedirs(path_to_save_labels, path_to_images, dataset_type2image):\n",
    "    for split_type in dataset_type2image.keys():\n",
    "        if not os.path.exists(os.path.join(path_to_save_labels, split_type)):\n",
    "            os.makedirs(os.path.join(path_to_save_labels, split_type))\n",
    "        if not os.path.exists(os.path.join(path_to_images, split_type)):\n",
    "            os.makedirs(os.path.join(path_to_images, split_type))\n",
    "\n",
    "\n",
    "\n",
    "\n",
    "class ConvertCOCOToYOLO:\n",
    "\n",
    "    \"\"\"\n",
    "    Takes in the path to COCO annotations and outputs YOLO annotations in multiple .txt files.\n",
    "    COCO annotation are to be JSON formart as follows:\n",
    "        \"annotations\":{\n",
    "            \"area\":2304645,\n",
    "            \"id\":1,\n",
    "            \"image_id\":10,\n",
    "            \"category_id\":4,\n",
    "            \"bbox\":[\n",
    "                0::704\n",
    "                1:620\n",
    "                2:1401\n",
    "                3:1645\n",
    "            ]\n",
    "        }\n",
    "        \n",
    "    \"\"\"\n",
    "\n",
    "    def __init__(self, img_folder, json_path,PATH_TO_SAVE_LABELS):\n",
    "        self.img_folder = img_folder\n",
    "        self.json_path = json_path\n",
    "        self.PATH_TO_SAVE_LABELS = PATH_TO_SAVE_LABELS\n",
    "\n",
    "    def get_img_shape(self, img_path):\n",
    "        img = cv2.imread(img_path)\n",
    "        try:\n",
    "            return img.shape\n",
    "        except AttributeError:\n",
    "            print('error!', img_path)\n",
    "            return (None, None, None)\n",
    "\n",
    "    def convert_labels(self, img_path, x1, y1, x2, y2):\n",
    "        \"\"\"\n",
    "        Definition: Parses label files to extract label and bounding box\n",
    "        coordinates. Converts (x1, y1, x1, y2) KITTI format to\n",
    "        (x, y, width, height) normalized YOLO format.\n",
    "        \"\"\"\n",
    "\n",
    "        def sorting(l1, l2):\n",
    "            if l1 > l2:\n",
    "                lmax, lmin = l1, l2\n",
    "                return lmax, lmin\n",
    "            else:\n",
    "                lmax, lmin = l2, l1\n",
    "                return lmax, lmin\n",
    "        size = (1080,1920)\n",
    "        xmax, xmin = sorting(x1, x2)\n",
    "        ymax, ymin = sorting(y1, y2)\n",
    "        dw = 1./size[1]\n",
    "        dh = 1./size[0]\n",
    "        x = (xmin + xmax)/2.0\n",
    "        y = (ymin + ymax)/2.0\n",
    "        w = xmax - xmin\n",
    "        h = ymax - ymin\n",
    "        x = x*dw\n",
    "        w = w*dw\n",
    "        y = y*dh\n",
    "        h = h*dh\n",
    "        return (x,y,w,h)\n",
    "\n",
    "    def convert(self,annotation_key='annotations',img_id='image_id',cat_id='category_id',bbox='bbox',image2dataset_type = None):\n",
    "        # Enter directory to read JSON file\n",
    "        data = json.load(open(self.json_path))\n",
    "        \n",
    "        check_set = set()\n",
    "\n",
    "        # Retrieve data\n",
    "        for i in range(len(data[annotation_key])):\n",
    "\n",
    "            # Get required data\n",
    "            image_id = data['annotations'][i]['image_id']\n",
    "            category_id = int(f'{data[annotation_key][i][cat_id]}') - 1\n",
    "            bbox = data[annotation_key][i]['bbox'] \n",
    "            # Retrieve image.\n",
    "            if self.img_folder == None:\n",
    "                image_path = f'{image_id}'\n",
    "            else:\n",
    "                image_path = f'./{self.img_folder}{image_id}'\n",
    "\n",
    "\n",
    "            # Convert the data\n",
    "            kitti_bbox = [bbox[0], bbox[1], bbox[2] + bbox[0], bbox[3] + bbox[1]]\n",
    "            yolo_bbox = self.convert_labels(image_path, kitti_bbox[0], kitti_bbox[1], kitti_bbox[2], kitti_bbox[3])\n",
    "            \n",
    "            # Prepare for export\n",
    "            \n",
    "            filename = f'{image_id}.txt'\n",
    "            content =f\"{category_id} {yolo_bbox[0]} {yolo_bbox[1]} {yolo_bbox[2]} {yolo_bbox[3]}\"\n",
    "            split_type = image2dataset_type[image_id]\n",
    "            # Export \n",
    "            if image_id in check_set:\n",
    "                # Append to existing file as there can be more than one label in each image\n",
    "                file = open(PATH_TO_SAVE_LABELS +split_type+'/'+ filename, \"a\")\n",
    "                file.write(\"\\n\")\n",
    "                file.write(content)\n",
    "                file.close()\n",
    "\n",
    "            elif image_id not in check_set:\n",
    "                check_set.add(image_id)\n",
    "                # Write files\n",
    "                file = open(PATH_TO_SAVE_LABELS +split_type+'/'+ filename, \"w\")\n",
    "                file.write(content)\n",
    "                file.close()\n",
    "            \n",
    "def get_yolo_labels(\n",
    "    path_to_bboxes, path_to_save_labels, path_to_images, image2dataset_type, class_names\n",
    "):\n",
    "    for file_name in os.listdir(path_to_bboxes):\n",
    "        with open(os.path.join(path_to_bboxes, file_name), \"r\") as f:\n",
    "            img_boxes = json.load(f)\n",
    "        img_name = file_name[:-5]\n",
    "        im = Image.open(os.path.join(path_to_images, img_name))\n",
    "        im_width, im_height = im.size\n",
    "        split_type = image2dataset_type[img_name]\n",
    "        if len(img_boxes[\"bb_objects\"]) > 0:\n",
    "            for box in img_boxes[\"bb_objects\"]:\n",
    "                x_center = ((box[\"x1\"] + box[\"x2\"]) / 2) / im_width\n",
    "                y_center = ((box[\"y1\"] + box[\"y2\"]) / 2) / im_height\n",
    "                width = (box[\"x2\"] - box[\"x1\"]) / im_width\n",
    "                height = (box[\"y2\"] - box[\"y1\"]) / im_height\n",
    "                label_class = class_names.index(box[\"class\"])\n",
    "                with open(\n",
    "                    os.path.join(\n",
    "                        path_to_save_labels, split_type, img_name[:-4] + \".txt\"\n",
    "                    ),\n",
    "                    \"a+\",\n",
    "                ) as f:\n",
    "                    f.write(f\"{label_class} {x_center} {y_center} {width} {height}\\n\")\n",
    "\n",
    "        # Если не хотите пропускать семплы без разметки\n",
    "        else:\n",
    "            open(\n",
    "                os.path.join(path_to_save_labels, split_type, img_name[:-4] + \".txt\"),\n",
    "                \"a\",\n",
    "            ).close()\n",
    "\n",
    "\n",
    "def copy_images(image_dic,images_name, image2dataset_type, path_to_images):\n",
    "    for img_path in tqdm(images_name):\n",
    "        split_type = image2dataset_type[image_dic[img_path]]\n",
    "        try:\n",
    "            copyfile(\n",
    "                os.path.join(path_to_images, img_path),\n",
    "                os.path.join(path_to_images, split_type, (str(image_dic[img_path]) + '.jpg')),\n",
    "            )\n",
    "        except IsADirectoryError:\n",
    "            continue"
   ]
  },
  {
   "cell_type": "code",
   "execution_count": 3,
   "metadata": {},
   "outputs": [],
   "source": [
    "PATH_TO_BBOXES = 'data_task2/train/annotations/COCO_json/'\n",
    "PATH_TO_IMAGES = 'data_task2/train/images/'\n",
    "PATH_TO_SAVE_LABELS = 'data_task2/train/labels/'\n",
    "\n",
    "CLASS_NAMES = ['Human']"
   ]
  },
  {
   "cell_type": "code",
   "execution_count": 4,
   "metadata": {},
   "outputs": [
    {
     "data": {
      "text/plain": [
       "(400, 100, 100)"
      ]
     },
     "execution_count": 4,
     "metadata": {},
     "output_type": "execute_result"
    }
   ],
   "source": [
    "random.seed(0)\n",
    "IMAGES_NAME = os.listdir(PATH_TO_IMAGES)\n",
    "random.shuffle(IMAGES_NAME)\n",
    "train_images = IMAGES_NAME[:int(len(IMAGES_NAME)*0.8)]\n",
    "val_images = IMAGES_NAME[int(len(IMAGES_NAME)*0.8):]\n",
    "test_images = IMAGES_NAME[int(len(IMAGES_NAME)*0.8):]\n",
    "len(train_images), len(val_images), len(test_images)"
   ]
  },
  {
   "cell_type": "code",
   "execution_count": 5,
   "metadata": {},
   "outputs": [],
   "source": [
    "dic = json.load(open(PATH_TO_BBOXES + 'coco_annotations_train.json'))"
   ]
  },
  {
   "cell_type": "code",
   "execution_count": 6,
   "metadata": {},
   "outputs": [],
   "source": [
    "image_dic = dict()\n",
    "for i in range(len(dic['images'])):\n",
    "    image_dic[dic['images'][i]['file_name']] = dic['images'][i]['id']\n",
    "    "
   ]
  },
  {
   "cell_type": "code",
   "execution_count": 7,
   "metadata": {},
   "outputs": [],
   "source": [
    "DATASET_TYPE2IMAGE = {'train': train_images,\n",
    "                      'val': val_images,\n",
    "                      'test': test_images}\n",
    "\n",
    "IMAGE2DATASET_TYPE = {}\n",
    "for key, values in DATASET_TYPE2IMAGE.items():\n",
    "    for file_name in values:\n",
    "        IMAGE2DATASET_TYPE[image_dic[file_name]] = key"
   ]
  },
  {
   "cell_type": "code",
   "execution_count": 15,
   "metadata": {},
   "outputs": [],
   "source": [
    "evra_dataset = [\"train: ../data_task2/train/images/train/\" + \"\\n\",\n",
    "                 \"val: ../data_task2/train/images/test/\" + \"\\n\",\n",
    "                 \"test: ../data_task2/train/images/test/\" + \"\\n\\n\",\n",
    "                 \"nc: 1\" + \"\\n\\n\",\n",
    "                 \"names: [ 'Human']\",\n",
    "                ]\n",
    "\n",
    "with open(r'yolov5/data/evra_dataset.yaml', 'w') as f:\n",
    "    f.writelines(evra_dataset)"
   ]
  },
  {
   "cell_type": "code",
   "execution_count": 10,
   "metadata": {},
   "outputs": [],
   "source": [
    "makedirs(PATH_TO_SAVE_LABELS, PATH_TO_IMAGES, DATASET_TYPE2IMAGE)"
   ]
  },
  {
   "cell_type": "code",
   "execution_count": 11,
   "metadata": {},
   "outputs": [],
   "source": [
    "ConvertCOCOToYOLO(img_folder=PATH_TO_IMAGES,json_path=PATH_TO_BBOXES + 'coco_annotations_train.json',PATH_TO_SAVE_LABELS = PATH_TO_SAVE_LABELS).convert(image2dataset_type =IMAGE2DATASET_TYPE)"
   ]
  },
  {
   "cell_type": "code",
   "execution_count": null,
   "metadata": {},
   "outputs": [],
   "source": []
  },
  {
   "cell_type": "code",
   "execution_count": 12,
   "metadata": {},
   "outputs": [
    {
     "name": "stderr",
     "output_type": "stream",
     "text": [
      "100%|██████████| 500/500 [00:13<00:00, 35.76it/s]\n"
     ]
    }
   ],
   "source": [
    "copy_images(image_dic,IMAGES_NAME, IMAGE2DATASET_TYPE, PATH_TO_IMAGES)"
   ]
  },
  {
   "cell_type": "code",
   "execution_count": 13,
   "metadata": {},
   "outputs": [],
   "source": [
    "\n",
    "with open(\"yolov5/data/hyps/hyp.scratch.yaml\", \"r\") as f:\n",
    "    hyps = yaml.safe_load(f)\n",
    "    \n",
    "\n",
    "with open(\"yolov5/data/hyps/hyp_evra_.yaml\", 'w') as f:\n",
    "    yaml.dump(hyps, f)"
   ]
  },
  {
   "cell_type": "code",
   "execution_count": 18,
   "metadata": {
    "collapsed": true,
    "jupyter": {
     "outputs_hidden": true
    }
   },
   "outputs": [
    {
     "name": "stdout",
     "output_type": "stream",
     "text": [
      "\u001b[34m\u001b[1mtrain: \u001b[0mweights=yolov5m6.pt, cfg=, data=evra_dataset.yaml, hyp=data/hyps/hyp_evra_.yaml, epochs=30, batch_size=8, imgsz=1280, rect=False, resume=False, nosave=False, noval=False, noautoanchor=False, evolve=None, bucket=, cache=None, image_weights=False, device=, multi_scale=False, single_cls=False, adam=False, sync_bn=False, workers=0, entity=None, project=runs/train, name=exp6, exist_ok=False, quad=False, linear_lr=False, label_smoothing=0.0, upload_dataset=False, bbox_interval=-1, save_period=-1, artifact_alias=latest, local_rank=-1, freeze=0, patience=100\n",
      "\u001b[34m\u001b[1mgithub: \u001b[0m⚠️ YOLOv5 is out of date by 58 commits. Use `git pull` or `git clone https://github.com/ultralytics/yolov5` to update.\n",
      "YOLOv5 🚀 v5.0-491-gcce7e78 torch 1.10.0+cu102 CUDA:0 (Tesla T4, 15109.75MB)\n",
      "\n",
      "\u001b[34m\u001b[1mhyperparameters: \u001b[0manchor_t=4.0, box=0.05, cls=0.5, cls_pw=1.0, copy_paste=0.0, degrees=0.0, fl_gamma=0.0, fliplr=0.5, flipud=0.0, hsv_h=0.015, hsv_s=0.7, hsv_v=0.4, iou_t=0.2, lr0=0.01, lrf=0.2, mixup=0.0, momentum=0.937, mosaic=1.0, obj=1.0, obj_pw=1.0, perspective=0.0, scale=0.5, shear=0.0, translate=0.1, warmup_bias_lr=0.1, warmup_epochs=3.0, warmup_momentum=0.8, weight_decay=0.0005\n",
      "\u001b[34m\u001b[1mWeights & Biases: \u001b[0mrun 'pip install wandb' to automatically track and visualize YOLOv5 🚀 runs (RECOMMENDED)\n",
      "\u001b[34m\u001b[1mTensorBoard: \u001b[0mStart with 'tensorboard --logdir runs/train', view at http://localhost:6006/\n",
      "Overriding model.yaml nc=80 with nc=1\n",
      "\n",
      "                 from  n    params  module                                  arguments                     \n",
      "  0                -1  1      5280  models.common.Conv                      [3, 48, 6, 2, 2]              \n",
      "  1                -1  1     41664  models.common.Conv                      [48, 96, 3, 2]                \n",
      "  2                -1  2     65280  models.common.C3                        [96, 96, 2]                   \n",
      "  3                -1  1    166272  models.common.Conv                      [96, 192, 3, 2]               \n",
      "  4                -1  4    444672  models.common.C3                        [192, 192, 4]                 \n",
      "  5                -1  1    664320  models.common.Conv                      [192, 384, 3, 2]              \n",
      "  6                -1  6   2512896  models.common.C3                        [384, 384, 6]                 \n",
      "  7                -1  1   1991808  models.common.Conv                      [384, 576, 3, 2]              \n",
      "  8                -1  2   2327040  models.common.C3                        [576, 576, 2]                 \n",
      "  9                -1  1   3982848  models.common.Conv                      [576, 768, 3, 2]              \n",
      " 10                -1  2   4134912  models.common.C3                        [768, 768, 2]                 \n",
      " 11                -1  1   1476864  models.common.SPPF                      [768, 768, 5]                 \n",
      " 12                -1  1    443520  models.common.Conv                      [768, 576, 1, 1]              \n",
      " 13                -1  1         0  torch.nn.modules.upsampling.Upsample    [None, 2, 'nearest']          \n",
      " 14           [-1, 8]  1         0  models.common.Concat                    [1]                           \n",
      " 15                -1  2   2658816  models.common.C3                        [1152, 576, 2, False]         \n",
      " 16                -1  1    221952  models.common.Conv                      [576, 384, 1, 1]              \n",
      " 17                -1  1         0  torch.nn.modules.upsampling.Upsample    [None, 2, 'nearest']          \n",
      " 18           [-1, 6]  1         0  models.common.Concat                    [1]                           \n",
      " 19                -1  2   1182720  models.common.C3                        [768, 384, 2, False]          \n",
      " 20                -1  1     74112  models.common.Conv                      [384, 192, 1, 1]              \n",
      " 21                -1  1         0  torch.nn.modules.upsampling.Upsample    [None, 2, 'nearest']          \n",
      " 22           [-1, 4]  1         0  models.common.Concat                    [1]                           \n",
      " 23                -1  2    296448  models.common.C3                        [384, 192, 2, False]          \n",
      " 24                -1  1    332160  models.common.Conv                      [192, 192, 3, 2]              \n",
      " 25          [-1, 20]  1         0  models.common.Concat                    [1]                           \n",
      " 26                -1  2   1035264  models.common.C3                        [384, 384, 2, False]          \n",
      " 27                -1  1   1327872  models.common.Conv                      [384, 384, 3, 2]              \n",
      " 28          [-1, 16]  1         0  models.common.Concat                    [1]                           \n",
      " 29                -1  2   2437632  models.common.C3                        [768, 576, 2, False]          \n",
      " 30                -1  1   2987136  models.common.Conv                      [576, 576, 3, 2]              \n",
      " 31          [-1, 12]  1         0  models.common.Concat                    [1]                           \n",
      " 32                -1  2   4429824  models.common.C3                        [1152, 768, 2, False]         \n",
      " 33  [23, 26, 29, 32]  1     34632  models.yolo.Detect                      [1, [[19, 27, 44, 40, 38, 94], [96, 68, 86, 152, 180, 137], [140, 301, 303, 264, 238, 542], [436, 615, 739, 380, 925, 792]], [192, 384, 576, 768]]\n",
      "/opt/conda/lib/python3.7/site-packages/torch/functional.py:445: UserWarning: torch.meshgrid: in an upcoming release, it will be required to pass the indexing argument. (Triggered internally at  ../aten/src/ATen/native/TensorShape.cpp:2157.)\n",
      "  return _VF.meshgrid(tensors, **kwargs)  # type: ignore[attr-defined]\n",
      "Model Summary: 481 layers, 35275944 parameters, 35275944 gradients, 49.1 GFLOPs\n",
      "\n",
      "Transferred 620/628 items from yolov5m6.pt\n",
      "Scaled weight_decay = 0.0005\n",
      "\u001b[34m\u001b[1moptimizer:\u001b[0m SGD with parameter groups 103 weight, 107 weight (no decay), 107 bias\n",
      "\u001b[34m\u001b[1mtrain: \u001b[0mScanning '../data_task2/train/labels/train.cache' images and labels... 40\u001b[0m\n",
      "\u001b[34m\u001b[1mval: \u001b[0mScanning '../data_task2/train/labels/test.cache' images and labels... 100 f\u001b[0m\n",
      "Plotting labels... \n",
      "\n",
      "\u001b[34m\u001b[1mautoanchor: \u001b[0mAnalyzing anchors... anchors/target = 6.09, Best Possible Recall (BPR) = 1.0000\n",
      "Image sizes 1280 train, 1280 val\n",
      "Using 0 dataloader workers\n",
      "Logging results to \u001b[1mruns/train/exp66\u001b[0m\n",
      "Starting training for 30 epochs...\n",
      "\n",
      "     Epoch   gpu_mem       box       obj       cls    labels  img_size\n",
      "      0/29     11.9G   0.09004   0.06274         0        19      1280: 100%|█| \n",
      "               Class     Images     Labels          P          R     mAP@.5 mAP@\n",
      "                 all        100        184    0.00817      0.163    0.00392    0.00109\n",
      "\n",
      "     Epoch   gpu_mem       box       obj       cls    labels  img_size\n",
      "      1/29     12.6G   0.06007   0.04832         0        36      1280: 100%|█| \n",
      "               Class     Images     Labels          P          R     mAP@.5 mAP@\n",
      "                 all        100        184      0.102      0.195     0.0465     0.0148\n",
      "\n",
      "     Epoch   gpu_mem       box       obj       cls    labels  img_size\n",
      "      2/29     12.6G   0.05005    0.0388         0        25      1280: 100%|█| \n",
      "               Class     Images     Labels          P          R     mAP@.5 mAP@\n",
      "                 all        100        184      0.554      0.842      0.672      0.257\n",
      "\n",
      "     Epoch   gpu_mem       box       obj       cls    labels  img_size\n",
      "      3/29     12.6G   0.04872    0.0257         0        31      1280: 100%|█| \n",
      "               Class     Images     Labels          P          R     mAP@.5 mAP@\n",
      "                 all        100        184      0.846      0.815      0.895      0.471\n",
      "\n",
      "     Epoch   gpu_mem       box       obj       cls    labels  img_size\n",
      "      4/29     12.6G   0.04968   0.02145         0        29      1280: 100%|█| \n",
      "               Class     Images     Labels          P          R     mAP@.5 mAP@\n",
      "                 all        100        184      0.658      0.652      0.718      0.235\n",
      "\n",
      "     Epoch   gpu_mem       box       obj       cls    labels  img_size\n",
      "      5/29     12.6G   0.05057   0.01897         0        38      1280: 100%|█| \n",
      "               Class     Images     Labels          P          R     mAP@.5 mAP@\n",
      "                 all        100        184      0.952      0.868      0.961      0.568\n",
      "\n",
      "     Epoch   gpu_mem       box       obj       cls    labels  img_size\n",
      "      6/29     12.6G   0.04627   0.01736         0        21      1280: 100%|█| \n",
      "               Class     Images     Labels          P          R     mAP@.5 mAP@\n",
      "                 all        100        184      0.726      0.891       0.86      0.434\n",
      "\n",
      "     Epoch   gpu_mem       box       obj       cls    labels  img_size\n",
      "      7/29     12.6G   0.04845   0.01651         0        20      1280: 100%|█| \n",
      "               Class     Images     Labels          P          R     mAP@.5 mAP@\n",
      "                 all        100        184      0.872      0.777      0.884      0.316\n",
      "\n",
      "     Epoch   gpu_mem       box       obj       cls    labels  img_size\n",
      "      8/29     12.6G   0.04631   0.01651         0        22      1280: 100%|█| \n",
      "               Class     Images     Labels          P          R     mAP@.5 mAP@\n",
      "                 all        100        184      0.606      0.864      0.699      0.364\n",
      "\n",
      "     Epoch   gpu_mem       box       obj       cls    labels  img_size\n",
      "      9/29     12.6G   0.04296   0.01481         0        17      1280: 100%|█| \n",
      "               Class     Images     Labels          P          R     mAP@.5 mAP@\n",
      "                 all        100        184      0.866      0.924       0.94      0.477\n",
      "\n",
      "     Epoch   gpu_mem       box       obj       cls    labels  img_size\n",
      "     10/29     12.6G   0.04436   0.01474         0        22      1280: 100%|█| \n",
      "               Class     Images     Labels          P          R     mAP@.5 mAP@\n",
      "                 all        100        184      0.703      0.777      0.778        0.4\n",
      "\n",
      "     Epoch   gpu_mem       box       obj       cls    labels  img_size\n",
      "     11/29     12.6G   0.04179   0.01401         0        20      1280: 100%|█| \n",
      "               Class     Images     Labels          P          R     mAP@.5 mAP@\n",
      "                 all        100        184      0.725      0.945      0.861      0.331\n",
      "\n",
      "     Epoch   gpu_mem       box       obj       cls    labels  img_size\n",
      "     12/29     12.6G   0.03878   0.01318         0        34      1280: 100%|█| \n",
      "               Class     Images     Labels          P          R     mAP@.5 mAP@\n",
      "                 all        100        184      0.788      0.902      0.896      0.418\n",
      "\n",
      "     Epoch   gpu_mem       box       obj       cls    labels  img_size\n",
      "     13/29     12.6G   0.04141   0.01278         0        13      1280: 100%|█| \n",
      "               Class     Images     Labels          P          R     mAP@.5 mAP@\n",
      "                 all        100        184      0.842      0.902      0.907      0.479\n",
      "\n",
      "     Epoch   gpu_mem       box       obj       cls    labels  img_size\n",
      "     14/29     12.6G    0.0382   0.01254         0        18      1280: 100%|█| \n",
      "               Class     Images     Labels          P          R     mAP@.5 mAP@\n",
      "                 all        100        184      0.702      0.804      0.809      0.337\n",
      "\n",
      "     Epoch   gpu_mem       box       obj       cls    labels  img_size\n",
      "     15/29     12.6G    0.0401   0.01224         0        20      1280: 100%|█| \n",
      "               Class     Images     Labels          P          R     mAP@.5 mAP@\n",
      "                 all        100        184      0.721      0.897      0.868      0.412\n",
      "\n",
      "     Epoch   gpu_mem       box       obj       cls    labels  img_size\n",
      "     16/29     12.6G   0.03981   0.01174         0        21      1280: 100%|█| \n",
      "               Class     Images     Labels          P          R     mAP@.5 mAP@\n",
      "                 all        100        184      0.854      0.923      0.943      0.601\n",
      "\n",
      "     Epoch   gpu_mem       box       obj       cls    labels  img_size\n",
      "     17/29     12.6G   0.03527   0.01191         0        29      1280: 100%|█| \n",
      "               Class     Images     Labels          P          R     mAP@.5 mAP@\n",
      "                 all        100        184      0.921      0.902      0.966      0.636\n",
      "\n",
      "     Epoch   gpu_mem       box       obj       cls    labels  img_size\n",
      "     18/29     12.6G   0.03259   0.01177         0        32      1280: 100%|█| \n",
      "               Class     Images     Labels          P          R     mAP@.5 mAP@\n",
      "                 all        100        184      0.892      0.951      0.924      0.553\n",
      "\n",
      "     Epoch   gpu_mem       box       obj       cls    labels  img_size\n",
      "     19/29     12.6G   0.03374   0.01123         0        30      1280: 100%|█| \n",
      "               Class     Images     Labels          P          R     mAP@.5 mAP@\n",
      "                 all        100        184      0.977      0.946      0.975       0.52\n",
      "\n",
      "     Epoch   gpu_mem       box       obj       cls    labels  img_size\n",
      "     20/29     12.6G   0.03013   0.01133         0        22      1280: 100%|█| \n",
      "               Class     Images     Labels          P          R     mAP@.5 mAP@\n",
      "                 all        100        184      0.972      0.956      0.972      0.601\n",
      "\n",
      "     Epoch   gpu_mem       box       obj       cls    labels  img_size\n",
      "     21/29     12.6G   0.02683   0.01103         0        34      1280: 100%|█| \n",
      "               Class     Images     Labels          P          R     mAP@.5 mAP@\n",
      "                 all        100        184      0.972      0.935      0.976      0.646\n",
      "\n",
      "     Epoch   gpu_mem       box       obj       cls    labels  img_size\n",
      "     22/29     12.6G    0.0255   0.01072         0        30      1280: 100%|█| \n",
      "               Class     Images     Labels          P          R     mAP@.5 mAP@\n",
      "                 all        100        184      0.983      0.962      0.985      0.632\n",
      "\n",
      "     Epoch   gpu_mem       box       obj       cls    labels  img_size\n",
      "     23/29     12.6G   0.02585    0.0108         0        21      1280: 100%|█| \n",
      "               Class     Images     Labels          P          R     mAP@.5 mAP@\n",
      "                 all        100        184      0.972      0.962      0.983      0.641\n",
      "\n",
      "     Epoch   gpu_mem       box       obj       cls    labels  img_size\n",
      "     24/29     12.6G   0.02379   0.01076         0        22      1280: 100%|█| \n",
      "               Class     Images     Labels          P          R     mAP@.5 mAP@\n",
      "                 all        100        184      0.962      0.956      0.978      0.666\n",
      "\n",
      "     Epoch   gpu_mem       box       obj       cls    labels  img_size\n",
      "     25/29     12.6G   0.02371  0.009762         0        33      1280: 100%|█| \n",
      "               Class     Images     Labels          P          R     mAP@.5 mAP@\n",
      "                 all        100        184      0.967      0.951      0.968      0.658\n",
      "\n",
      "     Epoch   gpu_mem       box       obj       cls    labels  img_size\n",
      "     26/29     12.6G   0.01989  0.009792         0        28      1280: 100%|█| \n",
      "               Class     Images     Labels          P          R     mAP@.5 mAP@\n",
      "                 all        100        184      0.983       0.94      0.964      0.676\n",
      "\n",
      "     Epoch   gpu_mem       box       obj       cls    labels  img_size\n",
      "     27/29     12.6G   0.02075  0.009705         0        22      1280: 100%|█| \n",
      "               Class     Images     Labels          P          R     mAP@.5 mAP@\n",
      "                 all        100        184      0.967      0.951      0.968      0.703\n",
      "\n",
      "     Epoch   gpu_mem       box       obj       cls    labels  img_size\n",
      "     28/29     12.6G   0.01997  0.009537         0        26      1280: 100%|█| \n",
      "               Class     Images     Labels          P          R     mAP@.5 mAP@\n",
      "                 all        100        184      0.956      0.951       0.97      0.713\n",
      "\n",
      "     Epoch   gpu_mem       box       obj       cls    labels  img_size\n",
      "     29/29     12.6G    0.0201  0.009572         0        25      1280: 100%|█| \n",
      "               Class     Images     Labels          P          R     mAP@.5 mAP@\n",
      "                 all        100        184      0.956      0.951      0.973       0.72\n",
      "\n",
      "30 epochs completed in 0.943 hours.\n",
      "Optimizer stripped from runs/train/exp66/weights/last.pt, 71.1MB\n",
      "Optimizer stripped from runs/train/exp66/weights/best.pt, 71.1MB\n",
      "\n",
      "Validating runs/train/exp66/weights/best.pt...\n",
      "Fusing layers... \n",
      "Model Summary: 378 layers, 35248920 parameters, 0 gradients, 49.0 GFLOPs\n",
      "               Class     Images     Labels          P          R     mAP@.5 mAP@\n",
      "                 all        100        184      0.956      0.951      0.973       0.72\n",
      "Results saved to \u001b[1mruns/train/exp66\u001b[0m\n"
     ]
    }
   ],
   "source": [
    "!cd yolov5 && python train.py --img 1280 --batch 8 --epochs 30 --data evra_dataset.yaml --weights yolov5m6.pt --hyp data/hyps/hyp_evra_.yaml --name exp6 --workers 0"
   ]
  },
  {
   "cell_type": "code",
   "execution_count": 19,
   "metadata": {},
   "outputs": [],
   "source": [
    "\n",
    "with open(\"yolov5/data/hyps/hyp_evra_.yaml\", \"r\") as f:\n",
    "    hyps = yaml.safe_load(f)\n",
    "    hyps['lr0'] = 0.0005\n",
    "    hyps['lrf'] = 1\n",
    "with open(\"yolov5/data/hyps/hyp_evra_.yaml\", 'w') as f:\n",
    "    yaml.dump(hyps, f)"
   ]
  },
  {
   "cell_type": "code",
   "execution_count": 20,
   "metadata": {},
   "outputs": [
    {
     "name": "stdout",
     "output_type": "stream",
     "text": [
      "\u001b[34m\u001b[1mtrain: \u001b[0mweights=runs/train/exp66/weights/best.pt, cfg=, data=evra_dataset.yaml, hyp=data/hyps/hyp_evra_.yaml, epochs=10, batch_size=2, imgsz=2048, rect=False, resume=False, nosave=False, noval=False, noautoanchor=False, evolve=None, bucket=, cache=None, image_weights=False, device=, multi_scale=False, single_cls=False, adam=False, sync_bn=False, workers=0, entity=None, project=runs/train, name=exp2048, exist_ok=False, quad=False, linear_lr=False, label_smoothing=0.0, upload_dataset=False, bbox_interval=-1, save_period=-1, artifact_alias=latest, local_rank=-1, freeze=0, patience=100\n",
      "\u001b[34m\u001b[1mgithub: \u001b[0m⚠️ YOLOv5 is out of date by 58 commits. Use `git pull` or `git clone https://github.com/ultralytics/yolov5` to update.\n",
      "YOLOv5 🚀 v5.0-491-gcce7e78 torch 1.10.0+cu102 CUDA:0 (Tesla T4, 15109.75MB)\n",
      "\n",
      "\u001b[34m\u001b[1mhyperparameters: \u001b[0manchor_t=4.0, box=0.05, cls=0.5, cls_pw=1.0, copy_paste=0.0, degrees=0.0, fl_gamma=0.0, fliplr=0.5, flipud=0.0, hsv_h=0.015, hsv_s=0.7, hsv_v=0.4, iou_t=0.2, lr0=0.0005, lrf=1, mixup=0.0, momentum=0.937, mosaic=1.0, obj=1.0, obj_pw=1.0, perspective=0.0, scale=0.5, shear=0.0, translate=0.1, warmup_bias_lr=0.1, warmup_epochs=3.0, warmup_momentum=0.8, weight_decay=0.0005\n",
      "\u001b[34m\u001b[1mWeights & Biases: \u001b[0mrun 'pip install wandb' to automatically track and visualize YOLOv5 🚀 runs (RECOMMENDED)\n",
      "\u001b[34m\u001b[1mTensorBoard: \u001b[0mStart with 'tensorboard --logdir runs/train', view at http://localhost:6006/\n",
      "\n",
      "                 from  n    params  module                                  arguments                     \n",
      "  0                -1  1      5280  models.common.Conv                      [3, 48, 6, 2, 2]              \n",
      "  1                -1  1     41664  models.common.Conv                      [48, 96, 3, 2]                \n",
      "  2                -1  2     65280  models.common.C3                        [96, 96, 2]                   \n",
      "  3                -1  1    166272  models.common.Conv                      [96, 192, 3, 2]               \n",
      "  4                -1  4    444672  models.common.C3                        [192, 192, 4]                 \n",
      "  5                -1  1    664320  models.common.Conv                      [192, 384, 3, 2]              \n",
      "  6                -1  6   2512896  models.common.C3                        [384, 384, 6]                 \n",
      "  7                -1  1   1991808  models.common.Conv                      [384, 576, 3, 2]              \n",
      "  8                -1  2   2327040  models.common.C3                        [576, 576, 2]                 \n",
      "  9                -1  1   3982848  models.common.Conv                      [576, 768, 3, 2]              \n",
      " 10                -1  2   4134912  models.common.C3                        [768, 768, 2]                 \n",
      " 11                -1  1   1476864  models.common.SPPF                      [768, 768, 5]                 \n",
      " 12                -1  1    443520  models.common.Conv                      [768, 576, 1, 1]              \n",
      " 13                -1  1         0  torch.nn.modules.upsampling.Upsample    [None, 2, 'nearest']          \n",
      " 14           [-1, 8]  1         0  models.common.Concat                    [1]                           \n",
      " 15                -1  2   2658816  models.common.C3                        [1152, 576, 2, False]         \n",
      " 16                -1  1    221952  models.common.Conv                      [576, 384, 1, 1]              \n",
      " 17                -1  1         0  torch.nn.modules.upsampling.Upsample    [None, 2, 'nearest']          \n",
      " 18           [-1, 6]  1         0  models.common.Concat                    [1]                           \n",
      " 19                -1  2   1182720  models.common.C3                        [768, 384, 2, False]          \n",
      " 20                -1  1     74112  models.common.Conv                      [384, 192, 1, 1]              \n",
      " 21                -1  1         0  torch.nn.modules.upsampling.Upsample    [None, 2, 'nearest']          \n",
      " 22           [-1, 4]  1         0  models.common.Concat                    [1]                           \n",
      " 23                -1  2    296448  models.common.C3                        [384, 192, 2, False]          \n",
      " 24                -1  1    332160  models.common.Conv                      [192, 192, 3, 2]              \n",
      " 25          [-1, 20]  1         0  models.common.Concat                    [1]                           \n",
      " 26                -1  2   1035264  models.common.C3                        [384, 384, 2, False]          \n",
      " 27                -1  1   1327872  models.common.Conv                      [384, 384, 3, 2]              \n",
      " 28          [-1, 16]  1         0  models.common.Concat                    [1]                           \n",
      " 29                -1  2   2437632  models.common.C3                        [768, 576, 2, False]          \n",
      " 30                -1  1   2987136  models.common.Conv                      [576, 576, 3, 2]              \n",
      " 31          [-1, 12]  1         0  models.common.Concat                    [1]                           \n",
      " 32                -1  2   4429824  models.common.C3                        [1152, 768, 2, False]         \n",
      " 33  [23, 26, 29, 32]  1     34632  models.yolo.Detect                      [1, [[19, 27, 44, 40, 38, 94], [96, 68, 86, 152, 180, 137], [140, 301, 303, 264, 238, 542], [436, 615, 739, 380, 925, 792]], [192, 384, 576, 768]]\n",
      "/opt/conda/lib/python3.7/site-packages/torch/functional.py:445: UserWarning: torch.meshgrid: in an upcoming release, it will be required to pass the indexing argument. (Triggered internally at  ../aten/src/ATen/native/TensorShape.cpp:2157.)\n",
      "  return _VF.meshgrid(tensors, **kwargs)  # type: ignore[attr-defined]\n",
      "Model Summary: 481 layers, 35275944 parameters, 35275944 gradients, 49.1 GFLOPs\n",
      "\n",
      "Transferred 628/628 items from runs/train/exp66/weights/best.pt\n",
      "Scaled weight_decay = 0.0005\n",
      "\u001b[34m\u001b[1moptimizer:\u001b[0m SGD with parameter groups 103 weight, 107 weight (no decay), 107 bias\n",
      "\u001b[34m\u001b[1mtrain: \u001b[0mScanning '../data_task2/train/labels/train.cache' images and labels... 40\u001b[0m\n",
      "\u001b[34m\u001b[1mval: \u001b[0mScanning '../data_task2/train/labels/test.cache' images and labels... 100 f\u001b[0m\n",
      "Plotting labels... \n",
      "\n",
      "\u001b[34m\u001b[1mautoanchor: \u001b[0mAnalyzing anchors... anchors/target = 6.47, Best Possible Recall (BPR) = 1.0000\n",
      "Image sizes 2048 train, 2048 val\n",
      "Using 0 dataloader workers\n",
      "Logging results to \u001b[1mruns/train/exp2048\u001b[0m\n",
      "Starting training for 10 epochs...\n",
      "\n",
      "     Epoch   gpu_mem       box       obj       cls    labels  img_size\n",
      "       0/9     7.73G   0.01961    0.0131         0         1      2048: 100%|█| \n",
      "               Class     Images     Labels          P          R     mAP@.5 mAP@\n",
      "                 all        100        184      0.962      0.956      0.978      0.693\n",
      "\n",
      "     Epoch   gpu_mem       box       obj       cls    labels  img_size\n",
      "       1/9     8.17G   0.01926   0.01333         0        12      2048: 100%|█| \n",
      "               Class     Images     Labels          P          R     mAP@.5 mAP@\n",
      "                 all        100        184      0.967      0.951      0.974        0.7\n",
      "\n",
      "     Epoch   gpu_mem       box       obj       cls    labels  img_size\n",
      "       2/9     8.17G   0.01831    0.0127         0        11      2048: 100%|█| \n",
      "               Class     Images     Labels          P          R     mAP@.5 mAP@\n",
      "                 all        100        184      0.967      0.951      0.973      0.701\n",
      "\n",
      "     Epoch   gpu_mem       box       obj       cls    labels  img_size\n",
      "       3/9     8.17G    0.0177   0.01241         0         5      2048: 100%|█| \n",
      "               Class     Images     Labels          P          R     mAP@.5 mAP@\n",
      "                 all        100        184      0.957      0.956      0.974      0.704\n",
      "\n",
      "     Epoch   gpu_mem       box       obj       cls    labels  img_size\n",
      "       4/9     8.17G   0.01718   0.01217         0        12      2048: 100%|█| \n",
      "               Class     Images     Labels          P          R     mAP@.5 mAP@\n",
      "                 all        100        184      0.956      0.957      0.979      0.707\n",
      "\n",
      "     Epoch   gpu_mem       box       obj       cls    labels  img_size\n",
      "       5/9     8.17G   0.01714   0.01205         0        14      2048: 100%|█| \n",
      "               Class     Images     Labels          P          R     mAP@.5 mAP@\n",
      "                 all        100        184      0.962      0.951      0.977      0.708\n",
      "\n",
      "     Epoch   gpu_mem       box       obj       cls    labels  img_size\n",
      "       6/9     8.17G   0.01684   0.01185         0         5      2048: 100%|█| \n",
      "               Class     Images     Labels          P          R     mAP@.5 mAP@\n",
      "                 all        100        184      0.967      0.946      0.977      0.716\n",
      "\n",
      "     Epoch   gpu_mem       box       obj       cls    labels  img_size\n",
      "       7/9     8.17G   0.01675   0.01196         0         5      2048: 100%|█| \n",
      "               Class     Images     Labels          P          R     mAP@.5 mAP@\n",
      "                 all        100        184      0.967      0.951      0.978      0.719\n",
      "\n",
      "     Epoch   gpu_mem       box       obj       cls    labels  img_size\n",
      "       8/9     8.17G   0.01609   0.01246         0        13      2048: 100%|█| \n",
      "               Class     Images     Labels          P          R     mAP@.5 mAP@\n",
      "                 all        100        184      0.967      0.951      0.978      0.721\n",
      "\n",
      "     Epoch   gpu_mem       box       obj       cls    labels  img_size\n",
      "       9/9     8.17G   0.01561    0.0115         0         5      2048: 100%|█| \n",
      "               Class     Images     Labels          P          R     mAP@.5 mAP@\n",
      "                 all        100        184      0.951      0.951      0.972      0.719\n",
      "\n",
      "10 epochs completed in 0.608 hours.\n",
      "Optimizer stripped from runs/train/exp2048/weights/last.pt, 71.3MB\n",
      "Optimizer stripped from runs/train/exp2048/weights/best.pt, 71.3MB\n",
      "\n",
      "Validating runs/train/exp2048/weights/best.pt...\n",
      "Fusing layers... \n",
      "Model Summary: 378 layers, 35248920 parameters, 0 gradients, 49.0 GFLOPs\n",
      "               Class     Images     Labels          P          R     mAP@.5 mAP@\n",
      "                 all        100        184      0.967      0.951      0.978      0.721\n",
      "Results saved to \u001b[1mruns/train/exp2048\u001b[0m\n"
     ]
    }
   ],
   "source": [
    "!cd yolov5 && python train.py --img 2048 --batch 2 --epochs 10 --data evra_dataset.yaml --weights runs/train/exp66/weights/best.pt --hyp data/hyps/hyp_evra_.yaml --name exp2048 --workers 0"
   ]
  },
  {
   "cell_type": "code",
   "execution_count": 21,
   "metadata": {},
   "outputs": [],
   "source": [
    "dic = json.load(open('data_task2/submission_example.json'))\n",
    "image_dic = dict()\n",
    "for i in range(len(dic['images'])):\n",
    "    image_dic[dic['images'][i]['file_name']] = dic['images'][i]['id']\n",
    "    "
   ]
  },
  {
   "cell_type": "code",
   "execution_count": 35,
   "metadata": {},
   "outputs": [],
   "source": []
  },
  {
   "cell_type": "code",
   "execution_count": 87,
   "metadata": {},
   "outputs": [],
   "source": [
    "import os\n",
    "import json\n",
    "import torch\n",
    "import cv2\n",
    "from tqdm import tqdm\n",
    "\n",
    "\n",
    "from detection.yolov5.utils.general import non_max_suppression, scale_coords, xyxy2xywh\n",
    "from detection.yolov5.utils.augmentations import letterbox\n",
    "from detection.yolov5.models.experimental import attempt_load\n",
    "\n",
    "\n",
    "def preprocess(path_to_img, img_size, device):\n",
    "    print(path_to_img)\n",
    "    orig_img = cv2.imread(path_to_img)\n",
    "    orig_img = cv2.cvtColor(orig_img, cv2.COLOR_BGR2RGB)\n",
    "    img = letterbox(orig_img, img_size, auto=False)[0]\n",
    "    img = img.transpose(2, 0, 1)\n",
    "    img_tensor = torch.from_numpy(img).float().to(device)\n",
    "    img_tensor /= 255\n",
    "    img_tensor = img_tensor.unsqueeze(0)\n",
    "    return img_tensor, list(orig_img.shape), list(img_tensor.shape)\n",
    "\n",
    "\n",
    "def postprocess(\n",
    "    out,\n",
    "    tensor_shape,\n",
    "    orig_shape,\n",
    "    path_to_img,\n",
    "    conf_thres=0.6,\n",
    "    iou_thres=0.6,\n",
    "    counter = 1,\n",
    "):\n",
    "    out = non_max_suppression(out, conf_thres, iou_thres)\n",
    "    img_predict = []\n",
    "    idx = path_to_img.split('/')[-1:][0]\n",
    "    print(idx)\n",
    "    idx = image_dic[idx]\n",
    "    for pred in out:\n",
    "        pred[:, :4] = scale_coords(tensor_shape[2:], pred[:, :4], orig_shape).round()\n",
    "        box = xyxy2xywh(pred[:, :4])  # xywh\n",
    "        box[:, :2] -= box[:, 2:] / 2\n",
    "        for p, b in zip(pred.tolist(), box.tolist()):\n",
    "            img_predict.append(\n",
    "                {\n",
    "                    \"id\" : counter,\n",
    "                    \"image_id\": int(idx),\n",
    "                    \"category_id\": 1,\n",
    "                    \"segmentation\":[],\n",
    "                    \"area\":b[2] * b[3],\n",
    "                    \"bbox\": [round(x, 3) for x in b],\n",
    "                    \"iscrowd\": 0,\n",
    "                    \"attributes\":{\"occluded\":False}\n",
    "                }\n",
    "            )\n",
    "            counter += 1\n",
    "    return img_predict, counter\n",
    "\n",
    "\n",
    "def get_img_predict(model, path_to_img, device, img_size, counter = 1):\n",
    "    img_tensor, orig_shape, tensor_shape = preprocess(path_to_img, img_size, device)\n",
    "    with torch.no_grad():\n",
    "        out, _ = model(img_tensor, augment=False)\n",
    "    img_predict, counter = postprocess(out, tensor_shape, orig_shape, path_to_img,counter = counter)\n",
    "    return img_predict, counter\n",
    "\n",
    "\n",
    "def get_detection_solution(\n",
    "    path_to_weights ='yolov5/runs/train/exp2048/weights/best.pt' , path_to_test_images = \"data_task2/test/images\", path_to_dt_ann = 'detection_predictions.json', device = None, img_size = 2048\n",
    "):\n",
    "    detect_model = attempt_load(path_to_weights, map_location=device)\n",
    "    detect_model.eval()\n",
    "    result = []\n",
    "    ann = json.load(open('data_task2/submission_example.json'))\n",
    "    counter = 1\n",
    "    for file in tqdm(ann['images']):\n",
    "        file_name = file['file_name']\n",
    "        img_predict, counter = get_img_predict(\n",
    "            detect_model, os.path.join(path_to_test_images, file_name), device, img_size, counter\n",
    "        )\n",
    "        result.extend(img_predict)\n",
    "    ann['annotations'] = result\n",
    "    with open(path_to_dt_ann, \"w\") as f:\n",
    "        json.dump(ann, f)"
   ]
  },
  {
   "cell_type": "code",
   "execution_count": 88,
   "metadata": {
    "collapsed": true,
    "jupyter": {
     "outputs_hidden": true
    }
   },
   "outputs": [
    {
     "name": "stderr",
     "output_type": "stream",
     "text": [
      "  0%|          | 0/150 [00:00<?, ?it/s]"
     ]
    },
    {
     "name": "stdout",
     "output_type": "stream",
     "text": [
      "data_task2/test/images/oz_violation_frame544.jpg\n"
     ]
    },
    {
     "name": "stderr",
     "output_type": "stream",
     "text": [
      "  1%|          | 1/150 [00:00<00:48,  3.06it/s]"
     ]
    },
    {
     "name": "stdout",
     "output_type": "stream",
     "text": [
      "oz_violation_frame544.jpg\n",
      "data_task2/test/images/oz_violation_frame542.jpg\n"
     ]
    },
    {
     "name": "stderr",
     "output_type": "stream",
     "text": [
      "  1%|▏         | 2/150 [00:00<00:43,  3.43it/s]"
     ]
    },
    {
     "name": "stdout",
     "output_type": "stream",
     "text": [
      "oz_violation_frame542.jpg\n",
      "data_task2/test/images/oz_violation_frame522.jpg\n"
     ]
    },
    {
     "name": "stderr",
     "output_type": "stream",
     "text": [
      "  2%|▏         | 3/150 [00:00<00:39,  3.70it/s]"
     ]
    },
    {
     "name": "stdout",
     "output_type": "stream",
     "text": [
      "oz_violation_frame522.jpg\n",
      "data_task2/test/images/oz_violation_frame453.jpg\n"
     ]
    },
    {
     "name": "stderr",
     "output_type": "stream",
     "text": [
      "  3%|▎         | 4/150 [00:00<00:37,  3.93it/s]"
     ]
    },
    {
     "name": "stdout",
     "output_type": "stream",
     "text": [
      "oz_violation_frame453.jpg\n",
      "data_task2/test/images/oz_violation_frame451.jpg\n"
     ]
    },
    {
     "name": "stderr",
     "output_type": "stream",
     "text": [
      "  3%|▎         | 5/150 [00:01<00:35,  4.10it/s]"
     ]
    },
    {
     "name": "stdout",
     "output_type": "stream",
     "text": [
      "oz_violation_frame451.jpg\n",
      "data_task2/test/images/oz_violation_frame101.jpg\n"
     ]
    },
    {
     "name": "stderr",
     "output_type": "stream",
     "text": [
      "  4%|▍         | 6/150 [00:01<00:33,  4.24it/s]"
     ]
    },
    {
     "name": "stdout",
     "output_type": "stream",
     "text": [
      "oz_violation_frame101.jpg\n",
      "data_task2/test/images/oz_violation_frame100.jpg\n"
     ]
    },
    {
     "name": "stderr",
     "output_type": "stream",
     "text": [
      "  5%|▍         | 7/150 [00:01<00:32,  4.37it/s]"
     ]
    },
    {
     "name": "stdout",
     "output_type": "stream",
     "text": [
      "oz_violation_frame100.jpg\n",
      "data_task2/test/images/oz_violation_frame099.jpg\n"
     ]
    },
    {
     "name": "stderr",
     "output_type": "stream",
     "text": [
      "  5%|▌         | 8/150 [00:01<00:32,  4.42it/s]"
     ]
    },
    {
     "name": "stdout",
     "output_type": "stream",
     "text": [
      "oz_violation_frame099.jpg\n",
      "data_task2/test/images/oz_violation_frame006.jpg\n"
     ]
    },
    {
     "name": "stderr",
     "output_type": "stream",
     "text": [
      "  6%|▌         | 9/150 [00:02<00:31,  4.51it/s]"
     ]
    },
    {
     "name": "stdout",
     "output_type": "stream",
     "text": [
      "oz_violation_frame006.jpg\n",
      "data_task2/test/images/oz_frame617.jpg\n"
     ]
    },
    {
     "name": "stderr",
     "output_type": "stream",
     "text": [
      "  7%|▋         | 10/150 [00:02<00:30,  4.57it/s]"
     ]
    },
    {
     "name": "stdout",
     "output_type": "stream",
     "text": [
      "oz_frame617.jpg\n",
      "data_task2/test/images/oz_frame613.jpg\n"
     ]
    },
    {
     "name": "stderr",
     "output_type": "stream",
     "text": [
      "  7%|▋         | 11/150 [00:02<00:30,  4.62it/s]"
     ]
    },
    {
     "name": "stdout",
     "output_type": "stream",
     "text": [
      "oz_frame613.jpg\n",
      "data_task2/test/images/oz_frame583.jpg\n"
     ]
    },
    {
     "name": "stderr",
     "output_type": "stream",
     "text": [
      "  8%|▊         | 12/150 [00:02<00:29,  4.66it/s]"
     ]
    },
    {
     "name": "stdout",
     "output_type": "stream",
     "text": [
      "oz_frame583.jpg\n",
      "data_task2/test/images/oz_frame574.jpg\n"
     ]
    },
    {
     "name": "stderr",
     "output_type": "stream",
     "text": [
      "  9%|▊         | 13/150 [00:02<00:29,  4.67it/s]"
     ]
    },
    {
     "name": "stdout",
     "output_type": "stream",
     "text": [
      "oz_frame574.jpg\n",
      "data_task2/test/images/oz_frame564.jpg\n"
     ]
    },
    {
     "name": "stderr",
     "output_type": "stream",
     "text": [
      "  9%|▉         | 14/150 [00:03<00:29,  4.64it/s]"
     ]
    },
    {
     "name": "stdout",
     "output_type": "stream",
     "text": [
      "oz_frame564.jpg\n",
      "data_task2/test/images/oz_frame559.jpg\n"
     ]
    },
    {
     "name": "stderr",
     "output_type": "stream",
     "text": [
      " 10%|█         | 15/150 [00:03<00:29,  4.61it/s]"
     ]
    },
    {
     "name": "stdout",
     "output_type": "stream",
     "text": [
      "oz_frame559.jpg\n",
      "data_task2/test/images/oz_frame551.jpg\n"
     ]
    },
    {
     "name": "stderr",
     "output_type": "stream",
     "text": [
      " 11%|█         | 16/150 [00:03<00:29,  4.61it/s]"
     ]
    },
    {
     "name": "stdout",
     "output_type": "stream",
     "text": [
      "oz_frame551.jpg\n",
      "data_task2/test/images/oz_frame550.jpg\n"
     ]
    },
    {
     "name": "stderr",
     "output_type": "stream",
     "text": [
      " 11%|█▏        | 17/150 [00:03<00:28,  4.60it/s]"
     ]
    },
    {
     "name": "stdout",
     "output_type": "stream",
     "text": [
      "oz_frame550.jpg\n",
      "data_task2/test/images/oz_frame549.jpg\n"
     ]
    },
    {
     "name": "stderr",
     "output_type": "stream",
     "text": [
      " 12%|█▏        | 18/150 [00:03<00:28,  4.63it/s]"
     ]
    },
    {
     "name": "stdout",
     "output_type": "stream",
     "text": [
      "oz_frame549.jpg\n",
      "data_task2/test/images/oz_frame541.jpg\n"
     ]
    },
    {
     "name": "stderr",
     "output_type": "stream",
     "text": [
      " 13%|█▎        | 19/150 [00:04<00:28,  4.66it/s]"
     ]
    },
    {
     "name": "stdout",
     "output_type": "stream",
     "text": [
      "oz_frame541.jpg\n",
      "data_task2/test/images/oz_frame540.jpg\n"
     ]
    },
    {
     "name": "stderr",
     "output_type": "stream",
     "text": [
      " 13%|█▎        | 20/150 [00:04<00:27,  4.65it/s]"
     ]
    },
    {
     "name": "stdout",
     "output_type": "stream",
     "text": [
      "oz_frame540.jpg\n",
      "data_task2/test/images/oz_frame539.jpg\n"
     ]
    },
    {
     "name": "stderr",
     "output_type": "stream",
     "text": [
      " 14%|█▍        | 21/150 [00:04<00:27,  4.67it/s]"
     ]
    },
    {
     "name": "stdout",
     "output_type": "stream",
     "text": [
      "oz_frame539.jpg\n",
      "data_task2/test/images/oz_frame536.jpg\n"
     ]
    },
    {
     "name": "stderr",
     "output_type": "stream",
     "text": [
      " 15%|█▍        | 22/150 [00:04<00:27,  4.69it/s]"
     ]
    },
    {
     "name": "stdout",
     "output_type": "stream",
     "text": [
      "oz_frame536.jpg\n",
      "data_task2/test/images/oz_frame532.jpg\n"
     ]
    },
    {
     "name": "stderr",
     "output_type": "stream",
     "text": [
      " 15%|█▌        | 23/150 [00:05<00:26,  4.70it/s]"
     ]
    },
    {
     "name": "stdout",
     "output_type": "stream",
     "text": [
      "oz_frame532.jpg\n",
      "data_task2/test/images/oz_frame528.jpg\n"
     ]
    },
    {
     "name": "stderr",
     "output_type": "stream",
     "text": [
      " 16%|█▌        | 24/150 [00:05<00:26,  4.71it/s]"
     ]
    },
    {
     "name": "stdout",
     "output_type": "stream",
     "text": [
      "oz_frame528.jpg\n",
      "data_task2/test/images/oz_frame514.jpg\n"
     ]
    },
    {
     "name": "stderr",
     "output_type": "stream",
     "text": [
      " 17%|█▋        | 25/150 [00:05<00:26,  4.71it/s]"
     ]
    },
    {
     "name": "stdout",
     "output_type": "stream",
     "text": [
      "oz_frame514.jpg\n",
      "data_task2/test/images/oz_frame506.jpg\n"
     ]
    },
    {
     "name": "stderr",
     "output_type": "stream",
     "text": [
      " 17%|█▋        | 26/150 [00:05<00:26,  4.72it/s]"
     ]
    },
    {
     "name": "stdout",
     "output_type": "stream",
     "text": [
      "oz_frame506.jpg\n",
      "data_task2/test/images/oz_frame482.jpg\n"
     ]
    },
    {
     "name": "stderr",
     "output_type": "stream",
     "text": [
      " 18%|█▊        | 27/150 [00:05<00:26,  4.72it/s]"
     ]
    },
    {
     "name": "stdout",
     "output_type": "stream",
     "text": [
      "oz_frame482.jpg\n",
      "data_task2/test/images/oz_frame481.jpg\n"
     ]
    },
    {
     "name": "stderr",
     "output_type": "stream",
     "text": [
      " 19%|█▊        | 28/150 [00:06<00:25,  4.71it/s]"
     ]
    },
    {
     "name": "stdout",
     "output_type": "stream",
     "text": [
      "oz_frame481.jpg\n",
      "data_task2/test/images/oz_frame479.jpg\n"
     ]
    },
    {
     "name": "stderr",
     "output_type": "stream",
     "text": [
      " 19%|█▉        | 29/150 [00:06<00:25,  4.72it/s]"
     ]
    },
    {
     "name": "stdout",
     "output_type": "stream",
     "text": [
      "oz_frame479.jpg\n",
      "data_task2/test/images/oz_frame472.jpg\n"
     ]
    },
    {
     "name": "stderr",
     "output_type": "stream",
     "text": [
      " 20%|██        | 30/150 [00:06<00:25,  4.71it/s]"
     ]
    },
    {
     "name": "stdout",
     "output_type": "stream",
     "text": [
      "oz_frame472.jpg\n",
      "data_task2/test/images/oz_frame455.jpg\n"
     ]
    },
    {
     "name": "stderr",
     "output_type": "stream",
     "text": [
      " 21%|██        | 31/150 [00:06<00:25,  4.72it/s]"
     ]
    },
    {
     "name": "stdout",
     "output_type": "stream",
     "text": [
      "oz_frame455.jpg\n",
      "data_task2/test/images/oz_frame436.jpg\n"
     ]
    },
    {
     "name": "stderr",
     "output_type": "stream",
     "text": [
      " 21%|██▏       | 32/150 [00:06<00:25,  4.71it/s]"
     ]
    },
    {
     "name": "stdout",
     "output_type": "stream",
     "text": [
      "oz_frame436.jpg\n",
      "data_task2/test/images/oz_frame430.jpg\n"
     ]
    },
    {
     "name": "stderr",
     "output_type": "stream",
     "text": [
      " 22%|██▏       | 33/150 [00:07<00:24,  4.71it/s]"
     ]
    },
    {
     "name": "stdout",
     "output_type": "stream",
     "text": [
      "oz_frame430.jpg\n",
      "data_task2/test/images/oz_frame421.jpg\n"
     ]
    },
    {
     "name": "stderr",
     "output_type": "stream",
     "text": [
      " 23%|██▎       | 34/150 [00:07<00:24,  4.70it/s]"
     ]
    },
    {
     "name": "stdout",
     "output_type": "stream",
     "text": [
      "oz_frame421.jpg\n",
      "data_task2/test/images/oz_frame418.jpg\n"
     ]
    },
    {
     "name": "stderr",
     "output_type": "stream",
     "text": [
      " 23%|██▎       | 35/150 [00:07<00:24,  4.65it/s]"
     ]
    },
    {
     "name": "stdout",
     "output_type": "stream",
     "text": [
      "oz_frame418.jpg\n",
      "data_task2/test/images/oz_frame254.jpg\n"
     ]
    },
    {
     "name": "stderr",
     "output_type": "stream",
     "text": [
      " 24%|██▍       | 36/150 [00:07<00:24,  4.63it/s]"
     ]
    },
    {
     "name": "stdout",
     "output_type": "stream",
     "text": [
      "oz_frame254.jpg\n",
      "data_task2/test/images/oz_frame201.jpg\n"
     ]
    },
    {
     "name": "stderr",
     "output_type": "stream",
     "text": [
      " 25%|██▍       | 37/150 [00:08<00:24,  4.62it/s]"
     ]
    },
    {
     "name": "stdout",
     "output_type": "stream",
     "text": [
      "oz_frame201.jpg\n",
      "data_task2/test/images/oz_frame199.jpg\n"
     ]
    },
    {
     "name": "stderr",
     "output_type": "stream",
     "text": [
      " 25%|██▌       | 38/150 [00:08<00:24,  4.65it/s]"
     ]
    },
    {
     "name": "stdout",
     "output_type": "stream",
     "text": [
      "oz_frame199.jpg\n",
      "data_task2/test/images/oz_frame186.jpg\n"
     ]
    },
    {
     "name": "stderr",
     "output_type": "stream",
     "text": [
      " 26%|██▌       | 39/150 [00:08<00:23,  4.68it/s]"
     ]
    },
    {
     "name": "stdout",
     "output_type": "stream",
     "text": [
      "oz_frame186.jpg\n",
      "data_task2/test/images/oz_frame151.jpg\n"
     ]
    },
    {
     "name": "stderr",
     "output_type": "stream",
     "text": [
      " 27%|██▋       | 40/150 [00:08<00:23,  4.70it/s]"
     ]
    },
    {
     "name": "stdout",
     "output_type": "stream",
     "text": [
      "oz_frame151.jpg\n",
      "data_task2/test/images/oz_frame141.jpg\n"
     ]
    },
    {
     "name": "stderr",
     "output_type": "stream",
     "text": [
      " 27%|██▋       | 41/150 [00:08<00:23,  4.70it/s]"
     ]
    },
    {
     "name": "stdout",
     "output_type": "stream",
     "text": [
      "oz_frame141.jpg\n",
      "data_task2/test/images/oz_frame140.jpg\n"
     ]
    },
    {
     "name": "stderr",
     "output_type": "stream",
     "text": [
      " 28%|██▊       | 42/150 [00:09<00:22,  4.71it/s]"
     ]
    },
    {
     "name": "stdout",
     "output_type": "stream",
     "text": [
      "oz_frame140.jpg\n",
      "data_task2/test/images/oz_frame127.jpg\n"
     ]
    },
    {
     "name": "stderr",
     "output_type": "stream",
     "text": [
      " 29%|██▊       | 43/150 [00:09<00:22,  4.70it/s]"
     ]
    },
    {
     "name": "stdout",
     "output_type": "stream",
     "text": [
      "oz_frame127.jpg\n",
      "data_task2/test/images/oz_frame124.jpg\n"
     ]
    },
    {
     "name": "stderr",
     "output_type": "stream",
     "text": [
      " 29%|██▉       | 44/150 [00:09<00:22,  4.71it/s]"
     ]
    },
    {
     "name": "stdout",
     "output_type": "stream",
     "text": [
      "oz_frame124.jpg\n",
      "data_task2/test/images/oz_frame110.jpg\n"
     ]
    },
    {
     "name": "stderr",
     "output_type": "stream",
     "text": [
      " 30%|███       | 45/150 [00:09<00:22,  4.70it/s]"
     ]
    },
    {
     "name": "stdout",
     "output_type": "stream",
     "text": [
      "oz_frame110.jpg\n",
      "data_task2/test/images/oz_frame102.jpg\n"
     ]
    },
    {
     "name": "stderr",
     "output_type": "stream",
     "text": [
      " 31%|███       | 46/150 [00:09<00:22,  4.71it/s]"
     ]
    },
    {
     "name": "stdout",
     "output_type": "stream",
     "text": [
      "oz_frame102.jpg\n",
      "data_task2/test/images/oz_frame076.jpg\n"
     ]
    },
    {
     "name": "stderr",
     "output_type": "stream",
     "text": [
      " 31%|███▏      | 47/150 [00:10<00:21,  4.71it/s]"
     ]
    },
    {
     "name": "stdout",
     "output_type": "stream",
     "text": [
      "oz_frame076.jpg\n",
      "data_task2/test/images/oz_frame072.jpg\n"
     ]
    },
    {
     "name": "stderr",
     "output_type": "stream",
     "text": [
      " 32%|███▏      | 48/150 [00:10<00:21,  4.71it/s]"
     ]
    },
    {
     "name": "stdout",
     "output_type": "stream",
     "text": [
      "oz_frame072.jpg\n",
      "data_task2/test/images/oz_frame070.jpg\n"
     ]
    },
    {
     "name": "stderr",
     "output_type": "stream",
     "text": [
      " 33%|███▎      | 49/150 [00:10<00:21,  4.70it/s]"
     ]
    },
    {
     "name": "stdout",
     "output_type": "stream",
     "text": [
      "oz_frame070.jpg\n",
      "data_task2/test/images/oz_frame063.jpg\n"
     ]
    },
    {
     "name": "stderr",
     "output_type": "stream",
     "text": [
      " 33%|███▎      | 50/150 [00:10<00:21,  4.71it/s]"
     ]
    },
    {
     "name": "stdout",
     "output_type": "stream",
     "text": [
      "oz_frame063.jpg\n",
      "data_task2/test/images/oz_frame042.jpg\n"
     ]
    },
    {
     "name": "stderr",
     "output_type": "stream",
     "text": [
      " 34%|███▍      | 51/150 [00:11<00:21,  4.70it/s]"
     ]
    },
    {
     "name": "stdout",
     "output_type": "stream",
     "text": [
      "oz_frame042.jpg\n",
      "data_task2/test/images/oz_frame002.jpg\n"
     ]
    },
    {
     "name": "stderr",
     "output_type": "stream",
     "text": [
      " 35%|███▍      | 52/150 [00:11<00:20,  4.71it/s]"
     ]
    },
    {
     "name": "stdout",
     "output_type": "stream",
     "text": [
      "oz_frame002.jpg\n",
      "data_task2/test/images/oz7_violation_frame565.jpg\n"
     ]
    },
    {
     "name": "stderr",
     "output_type": "stream",
     "text": [
      " 35%|███▌      | 53/150 [00:11<00:20,  4.70it/s]"
     ]
    },
    {
     "name": "stdout",
     "output_type": "stream",
     "text": [
      "oz7_violation_frame565.jpg\n",
      "data_task2/test/images/oz7_violation_frame501.jpg\n"
     ]
    },
    {
     "name": "stderr",
     "output_type": "stream",
     "text": [
      " 36%|███▌      | 54/150 [00:11<00:20,  4.71it/s]"
     ]
    },
    {
     "name": "stdout",
     "output_type": "stream",
     "text": [
      "oz7_violation_frame501.jpg\n",
      "data_task2/test/images/oz7_violation_frame489.jpg\n"
     ]
    },
    {
     "name": "stderr",
     "output_type": "stream",
     "text": [
      " 37%|███▋      | 55/150 [00:11<00:20,  4.69it/s]"
     ]
    },
    {
     "name": "stdout",
     "output_type": "stream",
     "text": [
      "oz7_violation_frame489.jpg\n",
      "data_task2/test/images/oz7_violation_frame433.jpg\n"
     ]
    },
    {
     "name": "stderr",
     "output_type": "stream",
     "text": [
      " 37%|███▋      | 56/150 [00:12<00:19,  4.71it/s]"
     ]
    },
    {
     "name": "stdout",
     "output_type": "stream",
     "text": [
      "oz7_violation_frame433.jpg\n",
      "data_task2/test/images/oz7_violation_frame406.jpg\n"
     ]
    },
    {
     "name": "stderr",
     "output_type": "stream",
     "text": [
      " 38%|███▊      | 57/150 [00:12<00:19,  4.71it/s]"
     ]
    },
    {
     "name": "stdout",
     "output_type": "stream",
     "text": [
      "oz7_violation_frame406.jpg\n",
      "data_task2/test/images/oz7_violation_frame055.jpg\n"
     ]
    },
    {
     "name": "stderr",
     "output_type": "stream",
     "text": [
      " 39%|███▊      | 58/150 [00:12<00:19,  4.72it/s]"
     ]
    },
    {
     "name": "stdout",
     "output_type": "stream",
     "text": [
      "oz7_violation_frame055.jpg\n",
      "data_task2/test/images/oz7_frame558.jpg\n"
     ]
    },
    {
     "name": "stderr",
     "output_type": "stream",
     "text": [
      " 39%|███▉      | 59/150 [00:12<00:19,  4.71it/s]"
     ]
    },
    {
     "name": "stdout",
     "output_type": "stream",
     "text": [
      "oz7_frame558.jpg\n",
      "data_task2/test/images/oz7_frame557.jpg\n"
     ]
    },
    {
     "name": "stderr",
     "output_type": "stream",
     "text": [
      " 40%|████      | 60/150 [00:12<00:19,  4.72it/s]"
     ]
    },
    {
     "name": "stdout",
     "output_type": "stream",
     "text": [
      "oz7_frame557.jpg\n",
      "data_task2/test/images/oz7_frame556.jpg\n"
     ]
    },
    {
     "name": "stderr",
     "output_type": "stream",
     "text": [
      " 41%|████      | 61/150 [00:13<00:18,  4.73it/s]"
     ]
    },
    {
     "name": "stdout",
     "output_type": "stream",
     "text": [
      "oz7_frame556.jpg\n",
      "data_task2/test/images/oz7_frame531.jpg\n"
     ]
    },
    {
     "name": "stderr",
     "output_type": "stream",
     "text": [
      " 41%|████▏     | 62/150 [00:13<00:18,  4.73it/s]"
     ]
    },
    {
     "name": "stdout",
     "output_type": "stream",
     "text": [
      "oz7_frame531.jpg\n",
      "data_task2/test/images/oz7_frame514.jpg\n"
     ]
    },
    {
     "name": "stderr",
     "output_type": "stream",
     "text": [
      " 42%|████▏     | 63/150 [00:13<00:18,  4.74it/s]"
     ]
    },
    {
     "name": "stdout",
     "output_type": "stream",
     "text": [
      "oz7_frame514.jpg\n",
      "data_task2/test/images/oz7_frame512.jpg\n"
     ]
    },
    {
     "name": "stderr",
     "output_type": "stream",
     "text": [
      " 43%|████▎     | 64/150 [00:13<00:18,  4.75it/s]"
     ]
    },
    {
     "name": "stdout",
     "output_type": "stream",
     "text": [
      "oz7_frame512.jpg\n",
      "data_task2/test/images/oz7_frame497.jpg\n"
     ]
    },
    {
     "name": "stderr",
     "output_type": "stream",
     "text": [
      " 43%|████▎     | 65/150 [00:13<00:17,  4.74it/s]"
     ]
    },
    {
     "name": "stdout",
     "output_type": "stream",
     "text": [
      "oz7_frame497.jpg\n",
      "data_task2/test/images/oz7_frame495.jpg\n"
     ]
    },
    {
     "name": "stderr",
     "output_type": "stream",
     "text": [
      " 44%|████▍     | 66/150 [00:14<00:17,  4.69it/s]"
     ]
    },
    {
     "name": "stdout",
     "output_type": "stream",
     "text": [
      "oz7_frame495.jpg\n",
      "data_task2/test/images/oz7_frame494.jpg\n"
     ]
    },
    {
     "name": "stderr",
     "output_type": "stream",
     "text": [
      " 45%|████▍     | 67/150 [00:14<00:17,  4.72it/s]"
     ]
    },
    {
     "name": "stdout",
     "output_type": "stream",
     "text": [
      "oz7_frame494.jpg\n",
      "data_task2/test/images/oz7_frame484.jpg\n"
     ]
    },
    {
     "name": "stderr",
     "output_type": "stream",
     "text": [
      " 45%|████▌     | 68/150 [00:14<00:17,  4.73it/s]"
     ]
    },
    {
     "name": "stdout",
     "output_type": "stream",
     "text": [
      "oz7_frame484.jpg\n",
      "data_task2/test/images/oz7_frame469.jpg\n"
     ]
    },
    {
     "name": "stderr",
     "output_type": "stream",
     "text": [
      " 46%|████▌     | 69/150 [00:14<00:17,  4.72it/s]"
     ]
    },
    {
     "name": "stdout",
     "output_type": "stream",
     "text": [
      "oz7_frame469.jpg\n",
      "data_task2/test/images/oz7_frame465.jpg\n"
     ]
    },
    {
     "name": "stderr",
     "output_type": "stream",
     "text": [
      " 47%|████▋     | 70/150 [00:15<00:16,  4.72it/s]"
     ]
    },
    {
     "name": "stdout",
     "output_type": "stream",
     "text": [
      "oz7_frame465.jpg\n",
      "data_task2/test/images/oz7_frame447.jpg\n"
     ]
    },
    {
     "name": "stderr",
     "output_type": "stream",
     "text": [
      " 47%|████▋     | 71/150 [00:15<00:16,  4.71it/s]"
     ]
    },
    {
     "name": "stdout",
     "output_type": "stream",
     "text": [
      "oz7_frame447.jpg\n",
      "data_task2/test/images/oz7_frame434.jpg\n"
     ]
    },
    {
     "name": "stderr",
     "output_type": "stream",
     "text": [
      " 48%|████▊     | 72/150 [00:15<00:16,  4.73it/s]"
     ]
    },
    {
     "name": "stdout",
     "output_type": "stream",
     "text": [
      "oz7_frame434.jpg\n",
      "data_task2/test/images/oz7_frame401.jpg\n"
     ]
    },
    {
     "name": "stderr",
     "output_type": "stream",
     "text": [
      " 49%|████▊     | 73/150 [00:15<00:16,  4.68it/s]"
     ]
    },
    {
     "name": "stdout",
     "output_type": "stream",
     "text": [
      "oz7_frame401.jpg\n",
      "data_task2/test/images/oz7_frame400.jpg\n"
     ]
    },
    {
     "name": "stderr",
     "output_type": "stream",
     "text": [
      " 49%|████▉     | 74/150 [00:15<00:16,  4.64it/s]"
     ]
    },
    {
     "name": "stdout",
     "output_type": "stream",
     "text": [
      "oz7_frame400.jpg\n",
      "data_task2/test/images/oz7_frame385.jpg\n"
     ]
    },
    {
     "name": "stderr",
     "output_type": "stream",
     "text": [
      " 50%|█████     | 75/150 [00:16<00:16,  4.62it/s]"
     ]
    },
    {
     "name": "stdout",
     "output_type": "stream",
     "text": [
      "oz7_frame385.jpg\n",
      "data_task2/test/images/oz7_frame382.jpg\n"
     ]
    },
    {
     "name": "stderr",
     "output_type": "stream",
     "text": [
      " 51%|█████     | 76/150 [00:16<00:16,  4.60it/s]"
     ]
    },
    {
     "name": "stdout",
     "output_type": "stream",
     "text": [
      "oz7_frame382.jpg\n",
      "data_task2/test/images/oz7_frame381.jpg\n"
     ]
    },
    {
     "name": "stderr",
     "output_type": "stream",
     "text": [
      " 51%|█████▏    | 77/150 [00:16<00:15,  4.59it/s]"
     ]
    },
    {
     "name": "stdout",
     "output_type": "stream",
     "text": [
      "oz7_frame381.jpg\n",
      "data_task2/test/images/oz7_frame380.jpg\n"
     ]
    },
    {
     "name": "stderr",
     "output_type": "stream",
     "text": [
      " 52%|█████▏    | 78/150 [00:16<00:15,  4.63it/s]"
     ]
    },
    {
     "name": "stdout",
     "output_type": "stream",
     "text": [
      "oz7_frame380.jpg\n",
      "data_task2/test/images/oz7_frame369.jpg\n"
     ]
    },
    {
     "name": "stderr",
     "output_type": "stream",
     "text": [
      " 53%|█████▎    | 79/150 [00:16<00:15,  4.65it/s]"
     ]
    },
    {
     "name": "stdout",
     "output_type": "stream",
     "text": [
      "oz7_frame369.jpg\n",
      "data_task2/test/images/oz7_frame092.jpg\n"
     ]
    },
    {
     "name": "stderr",
     "output_type": "stream",
     "text": [
      " 53%|█████▎    | 80/150 [00:17<00:14,  4.68it/s]"
     ]
    },
    {
     "name": "stdout",
     "output_type": "stream",
     "text": [
      "oz7_frame092.jpg\n",
      "data_task2/test/images/oz7_frame080.jpg\n"
     ]
    },
    {
     "name": "stderr",
     "output_type": "stream",
     "text": [
      " 54%|█████▍    | 81/150 [00:17<00:14,  4.65it/s]"
     ]
    },
    {
     "name": "stdout",
     "output_type": "stream",
     "text": [
      "oz7_frame080.jpg\n",
      "data_task2/test/images/oz7_frame078.jpg\n"
     ]
    },
    {
     "name": "stderr",
     "output_type": "stream",
     "text": [
      " 55%|█████▍    | 82/150 [00:17<00:14,  4.66it/s]"
     ]
    },
    {
     "name": "stdout",
     "output_type": "stream",
     "text": [
      "oz7_frame078.jpg\n",
      "data_task2/test/images/oz7_frame068.jpg\n"
     ]
    },
    {
     "name": "stderr",
     "output_type": "stream",
     "text": [
      " 55%|█████▌    | 83/150 [00:17<00:14,  4.67it/s]"
     ]
    },
    {
     "name": "stdout",
     "output_type": "stream",
     "text": [
      "oz7_frame068.jpg\n",
      "data_task2/test/images/oz7_frame064.jpg\n"
     ]
    },
    {
     "name": "stderr",
     "output_type": "stream",
     "text": [
      " 56%|█████▌    | 84/150 [00:18<00:14,  4.69it/s]"
     ]
    },
    {
     "name": "stdout",
     "output_type": "stream",
     "text": [
      "oz7_frame064.jpg\n",
      "data_task2/test/images/oz7_frame063.jpg\n"
     ]
    },
    {
     "name": "stderr",
     "output_type": "stream",
     "text": [
      " 57%|█████▋    | 85/150 [00:18<00:13,  4.69it/s]"
     ]
    },
    {
     "name": "stdout",
     "output_type": "stream",
     "text": [
      "oz7_frame063.jpg\n",
      "data_task2/test/images/oz7_frame053.jpg\n"
     ]
    },
    {
     "name": "stderr",
     "output_type": "stream",
     "text": [
      " 57%|█████▋    | 86/150 [00:18<00:13,  4.70it/s]"
     ]
    },
    {
     "name": "stdout",
     "output_type": "stream",
     "text": [
      "oz7_frame053.jpg\n",
      "data_task2/test/images/oz7_frame041.jpg\n"
     ]
    },
    {
     "name": "stderr",
     "output_type": "stream",
     "text": [
      " 58%|█████▊    | 87/150 [00:18<00:13,  4.70it/s]"
     ]
    },
    {
     "name": "stdout",
     "output_type": "stream",
     "text": [
      "oz7_frame041.jpg\n",
      "data_task2/test/images/oz7_frame032.jpg\n"
     ]
    },
    {
     "name": "stderr",
     "output_type": "stream",
     "text": [
      " 59%|█████▊    | 88/150 [00:18<00:13,  4.70it/s]"
     ]
    },
    {
     "name": "stdout",
     "output_type": "stream",
     "text": [
      "oz7_frame032.jpg\n",
      "data_task2/test/images/oz7_frame030.jpg\n"
     ]
    },
    {
     "name": "stderr",
     "output_type": "stream",
     "text": [
      " 59%|█████▉    | 89/150 [00:19<00:12,  4.71it/s]"
     ]
    },
    {
     "name": "stdout",
     "output_type": "stream",
     "text": [
      "oz7_frame030.jpg\n",
      "data_task2/test/images/oz7_frame027.jpg\n"
     ]
    },
    {
     "name": "stderr",
     "output_type": "stream",
     "text": [
      " 60%|██████    | 90/150 [00:19<00:12,  4.71it/s]"
     ]
    },
    {
     "name": "stdout",
     "output_type": "stream",
     "text": [
      "oz7_frame027.jpg\n",
      "data_task2/test/images/oz7_frame022.jpg\n"
     ]
    },
    {
     "name": "stderr",
     "output_type": "stream",
     "text": [
      " 61%|██████    | 91/150 [00:19<00:12,  4.72it/s]"
     ]
    },
    {
     "name": "stdout",
     "output_type": "stream",
     "text": [
      "oz7_frame022.jpg\n",
      "data_task2/test/images/oz7_frame019.jpg\n"
     ]
    },
    {
     "name": "stderr",
     "output_type": "stream",
     "text": [
      " 61%|██████▏   | 92/150 [00:19<00:12,  4.72it/s]"
     ]
    },
    {
     "name": "stdout",
     "output_type": "stream",
     "text": [
      "oz7_frame019.jpg\n",
      "data_task2/test/images/am3_9_frame121.jpg\n"
     ]
    },
    {
     "name": "stderr",
     "output_type": "stream",
     "text": [
      " 62%|██████▏   | 93/150 [00:19<00:12,  4.68it/s]"
     ]
    },
    {
     "name": "stdout",
     "output_type": "stream",
     "text": [
      "am3_9_frame121.jpg\n",
      "data_task2/test/images/am3_9_frame072.jpg\n"
     ]
    },
    {
     "name": "stderr",
     "output_type": "stream",
     "text": [
      " 63%|██████▎   | 94/150 [00:20<00:12,  4.64it/s]"
     ]
    },
    {
     "name": "stdout",
     "output_type": "stream",
     "text": [
      "am3_9_frame072.jpg\n",
      "data_task2/test/images/am3_9_frame060.jpg\n"
     ]
    },
    {
     "name": "stderr",
     "output_type": "stream",
     "text": [
      " 63%|██████▎   | 95/150 [00:20<00:11,  4.61it/s]"
     ]
    },
    {
     "name": "stdout",
     "output_type": "stream",
     "text": [
      "am3_9_frame060.jpg\n",
      "data_task2/test/images/am3_9_frame052.jpg\n"
     ]
    },
    {
     "name": "stderr",
     "output_type": "stream",
     "text": [
      " 64%|██████▍   | 96/150 [00:20<00:11,  4.58it/s]"
     ]
    },
    {
     "name": "stdout",
     "output_type": "stream",
     "text": [
      "am3_9_frame052.jpg\n",
      "data_task2/test/images/am3_9_frame030.jpg\n"
     ]
    },
    {
     "name": "stderr",
     "output_type": "stream",
     "text": [
      " 65%|██████▍   | 97/150 [00:20<00:11,  4.57it/s]"
     ]
    },
    {
     "name": "stdout",
     "output_type": "stream",
     "text": [
      "am3_9_frame030.jpg\n",
      "data_task2/test/images/am3_9_frame027.jpg\n"
     ]
    },
    {
     "name": "stderr",
     "output_type": "stream",
     "text": [
      " 65%|██████▌   | 98/150 [00:21<00:11,  4.60it/s]"
     ]
    },
    {
     "name": "stdout",
     "output_type": "stream",
     "text": [
      "am3_9_frame027.jpg\n",
      "data_task2/test/images/am3_9_frame023.jpg\n"
     ]
    },
    {
     "name": "stderr",
     "output_type": "stream",
     "text": [
      " 66%|██████▌   | 99/150 [00:21<00:11,  4.61it/s]"
     ]
    },
    {
     "name": "stdout",
     "output_type": "stream",
     "text": [
      "am3_9_frame023.jpg\n",
      "data_task2/test/images/am3_9_frame021.jpg\n"
     ]
    },
    {
     "name": "stderr",
     "output_type": "stream",
     "text": [
      " 67%|██████▋   | 100/150 [00:21<00:10,  4.63it/s]"
     ]
    },
    {
     "name": "stdout",
     "output_type": "stream",
     "text": [
      "am3_9_frame021.jpg\n",
      "data_task2/test/images/am3_9_frame001.jpg\n"
     ]
    },
    {
     "name": "stderr",
     "output_type": "stream",
     "text": [
      " 67%|██████▋   | 101/150 [00:21<00:10,  4.64it/s]"
     ]
    },
    {
     "name": "stdout",
     "output_type": "stream",
     "text": [
      "am3_9_frame001.jpg\n",
      "data_task2/test/images/am3_7_violation_frame140.jpg\n"
     ]
    },
    {
     "name": "stderr",
     "output_type": "stream",
     "text": [
      " 68%|██████▊   | 102/150 [00:21<00:10,  4.67it/s]"
     ]
    },
    {
     "name": "stdout",
     "output_type": "stream",
     "text": [
      "am3_7_violation_frame140.jpg\n",
      "data_task2/test/images/am3_7_violation_frame139.jpg\n"
     ]
    },
    {
     "name": "stderr",
     "output_type": "stream",
     "text": [
      " 69%|██████▊   | 103/150 [00:22<00:10,  4.69it/s]"
     ]
    },
    {
     "name": "stdout",
     "output_type": "stream",
     "text": [
      "am3_7_violation_frame139.jpg\n",
      "data_task2/test/images/am3_7_frame151.jpg\n"
     ]
    },
    {
     "name": "stderr",
     "output_type": "stream",
     "text": [
      " 69%|██████▉   | 104/150 [00:22<00:09,  4.71it/s]"
     ]
    },
    {
     "name": "stdout",
     "output_type": "stream",
     "text": [
      "am3_7_frame151.jpg\n",
      "data_task2/test/images/am3_7_frame150.jpg\n"
     ]
    },
    {
     "name": "stderr",
     "output_type": "stream",
     "text": [
      " 70%|███████   | 105/150 [00:22<00:09,  4.72it/s]"
     ]
    },
    {
     "name": "stdout",
     "output_type": "stream",
     "text": [
      "am3_7_frame150.jpg\n",
      "data_task2/test/images/am3_7_frame147.jpg\n"
     ]
    },
    {
     "name": "stderr",
     "output_type": "stream",
     "text": [
      " 71%|███████   | 106/150 [00:22<00:09,  4.67it/s]"
     ]
    },
    {
     "name": "stdout",
     "output_type": "stream",
     "text": [
      "am3_7_frame147.jpg\n",
      "data_task2/test/images/am3_7_frame146.jpg\n"
     ]
    },
    {
     "name": "stderr",
     "output_type": "stream",
     "text": [
      " 71%|███████▏  | 107/150 [00:22<00:09,  4.68it/s]"
     ]
    },
    {
     "name": "stdout",
     "output_type": "stream",
     "text": [
      "am3_7_frame146.jpg\n",
      "data_task2/test/images/am3_7_frame145.jpg\n"
     ]
    },
    {
     "name": "stderr",
     "output_type": "stream",
     "text": [
      " 72%|███████▏  | 108/150 [00:23<00:09,  4.64it/s]"
     ]
    },
    {
     "name": "stdout",
     "output_type": "stream",
     "text": [
      "am3_7_frame145.jpg\n",
      "data_task2/test/images/am3_7_frame144.jpg\n"
     ]
    },
    {
     "name": "stderr",
     "output_type": "stream",
     "text": [
      " 73%|███████▎  | 109/150 [00:23<00:08,  4.62it/s]"
     ]
    },
    {
     "name": "stdout",
     "output_type": "stream",
     "text": [
      "am3_7_frame144.jpg\n",
      "data_task2/test/images/am3_7_frame137.jpg\n"
     ]
    },
    {
     "name": "stderr",
     "output_type": "stream",
     "text": [
      " 73%|███████▎  | 110/150 [00:23<00:08,  4.61it/s]"
     ]
    },
    {
     "name": "stdout",
     "output_type": "stream",
     "text": [
      "am3_7_frame137.jpg\n",
      "data_task2/test/images/am3_7_frame067.jpg\n"
     ]
    },
    {
     "name": "stderr",
     "output_type": "stream",
     "text": [
      " 74%|███████▍  | 111/150 [00:23<00:08,  4.61it/s]"
     ]
    },
    {
     "name": "stdout",
     "output_type": "stream",
     "text": [
      "am3_7_frame067.jpg\n",
      "data_task2/test/images/am3_7_frame049.jpg\n"
     ]
    },
    {
     "name": "stderr",
     "output_type": "stream",
     "text": [
      " 75%|███████▍  | 112/150 [00:24<00:08,  4.60it/s]"
     ]
    },
    {
     "name": "stdout",
     "output_type": "stream",
     "text": [
      "am3_7_frame049.jpg\n",
      "data_task2/test/images/am3_7_frame048.jpg\n"
     ]
    },
    {
     "name": "stderr",
     "output_type": "stream",
     "text": [
      " 75%|███████▌  | 113/150 [00:24<00:08,  4.60it/s]"
     ]
    },
    {
     "name": "stdout",
     "output_type": "stream",
     "text": [
      "am3_7_frame048.jpg\n",
      "data_task2/test/images/am3_7_frame030.jpg\n"
     ]
    },
    {
     "name": "stderr",
     "output_type": "stream",
     "text": [
      " 76%|███████▌  | 114/150 [00:24<00:07,  4.60it/s]"
     ]
    },
    {
     "name": "stdout",
     "output_type": "stream",
     "text": [
      "am3_7_frame030.jpg\n",
      "data_task2/test/images/am3_7_frame026.jpg\n"
     ]
    },
    {
     "name": "stderr",
     "output_type": "stream",
     "text": [
      " 77%|███████▋  | 115/150 [00:24<00:07,  4.60it/s]"
     ]
    },
    {
     "name": "stdout",
     "output_type": "stream",
     "text": [
      "am3_7_frame026.jpg\n",
      "data_task2/test/images/am3_7_frame019.jpg\n"
     ]
    },
    {
     "name": "stderr",
     "output_type": "stream",
     "text": [
      " 77%|███████▋  | 116/150 [00:24<00:07,  4.65it/s]"
     ]
    },
    {
     "name": "stdout",
     "output_type": "stream",
     "text": [
      "am3_7_frame019.jpg\n",
      "data_task2/test/images/am3_7_frame016.jpg\n"
     ]
    },
    {
     "name": "stderr",
     "output_type": "stream",
     "text": [
      " 78%|███████▊  | 117/150 [00:25<00:07,  4.68it/s]"
     ]
    },
    {
     "name": "stdout",
     "output_type": "stream",
     "text": [
      "am3_7_frame016.jpg\n",
      "data_task2/test/images/am3_7_frame006.jpg\n"
     ]
    },
    {
     "name": "stderr",
     "output_type": "stream",
     "text": [
      " 79%|███████▊  | 118/150 [00:25<00:06,  4.70it/s]"
     ]
    },
    {
     "name": "stdout",
     "output_type": "stream",
     "text": [
      "am3_7_frame006.jpg\n",
      "data_task2/test/images/am3_6_violation_frame059.jpg\n"
     ]
    },
    {
     "name": "stderr",
     "output_type": "stream",
     "text": [
      " 79%|███████▉  | 119/150 [00:25<00:06,  4.70it/s]"
     ]
    },
    {
     "name": "stdout",
     "output_type": "stream",
     "text": [
      "am3_6_violation_frame059.jpg\n",
      "data_task2/test/images/am3_6_frame088.jpg\n"
     ]
    },
    {
     "name": "stderr",
     "output_type": "stream",
     "text": [
      " 80%|████████  | 120/150 [00:25<00:06,  4.70it/s]"
     ]
    },
    {
     "name": "stdout",
     "output_type": "stream",
     "text": [
      "am3_6_frame088.jpg\n",
      "data_task2/test/images/am3_6_frame085.jpg\n"
     ]
    },
    {
     "name": "stderr",
     "output_type": "stream",
     "text": [
      " 81%|████████  | 121/150 [00:25<00:06,  4.69it/s]"
     ]
    },
    {
     "name": "stdout",
     "output_type": "stream",
     "text": [
      "am3_6_frame085.jpg\n",
      "data_task2/test/images/am3_6_frame075.jpg\n"
     ]
    },
    {
     "name": "stderr",
     "output_type": "stream",
     "text": [
      " 81%|████████▏ | 122/150 [00:26<00:05,  4.69it/s]"
     ]
    },
    {
     "name": "stdout",
     "output_type": "stream",
     "text": [
      "am3_6_frame075.jpg\n",
      "data_task2/test/images/am3_6_frame070.jpg\n"
     ]
    },
    {
     "name": "stderr",
     "output_type": "stream",
     "text": [
      " 82%|████████▏ | 123/150 [00:26<00:05,  4.65it/s]"
     ]
    },
    {
     "name": "stdout",
     "output_type": "stream",
     "text": [
      "am3_6_frame070.jpg\n",
      "data_task2/test/images/am3_6_frame061.jpg\n"
     ]
    },
    {
     "name": "stderr",
     "output_type": "stream",
     "text": [
      " 83%|████████▎ | 124/150 [00:26<00:05,  4.60it/s]"
     ]
    },
    {
     "name": "stdout",
     "output_type": "stream",
     "text": [
      "am3_6_frame061.jpg\n",
      "data_task2/test/images/am3_6_frame052.jpg\n"
     ]
    },
    {
     "name": "stderr",
     "output_type": "stream",
     "text": [
      " 83%|████████▎ | 125/150 [00:26<00:05,  4.57it/s]"
     ]
    },
    {
     "name": "stdout",
     "output_type": "stream",
     "text": [
      "am3_6_frame052.jpg\n",
      "data_task2/test/images/am3_6_frame042.jpg\n"
     ]
    },
    {
     "name": "stderr",
     "output_type": "stream",
     "text": [
      " 84%|████████▍ | 126/150 [00:27<00:05,  4.56it/s]"
     ]
    },
    {
     "name": "stdout",
     "output_type": "stream",
     "text": [
      "am3_6_frame042.jpg\n",
      "data_task2/test/images/am3_6_frame024.jpg\n"
     ]
    },
    {
     "name": "stderr",
     "output_type": "stream",
     "text": [
      " 85%|████████▍ | 127/150 [00:27<00:05,  4.53it/s]"
     ]
    },
    {
     "name": "stdout",
     "output_type": "stream",
     "text": [
      "am3_6_frame024.jpg\n",
      "data_task2/test/images/am3_6_frame019.jpg\n"
     ]
    },
    {
     "name": "stderr",
     "output_type": "stream",
     "text": [
      " 85%|████████▌ | 128/150 [00:27<00:04,  4.58it/s]"
     ]
    },
    {
     "name": "stdout",
     "output_type": "stream",
     "text": [
      "am3_6_frame019.jpg\n",
      "data_task2/test/images/am3_6_frame017.jpg\n"
     ]
    },
    {
     "name": "stderr",
     "output_type": "stream",
     "text": [
      " 86%|████████▌ | 129/150 [00:27<00:04,  4.60it/s]"
     ]
    },
    {
     "name": "stdout",
     "output_type": "stream",
     "text": [
      "am3_6_frame017.jpg\n",
      "data_task2/test/images/am3_5_violation_frame111.jpg\n"
     ]
    },
    {
     "name": "stderr",
     "output_type": "stream",
     "text": [
      " 87%|████████▋ | 130/150 [00:27<00:04,  4.63it/s]"
     ]
    },
    {
     "name": "stdout",
     "output_type": "stream",
     "text": [
      "am3_5_violation_frame111.jpg\n",
      "data_task2/test/images/am3_5_frame122.jpg\n"
     ]
    },
    {
     "name": "stderr",
     "output_type": "stream",
     "text": [
      " 87%|████████▋ | 131/150 [00:28<00:04,  4.66it/s]"
     ]
    },
    {
     "name": "stdout",
     "output_type": "stream",
     "text": [
      "am3_5_frame122.jpg\n",
      "data_task2/test/images/am3_5_frame117.jpg\n"
     ]
    },
    {
     "name": "stderr",
     "output_type": "stream",
     "text": [
      " 88%|████████▊ | 132/150 [00:28<00:03,  4.67it/s]"
     ]
    },
    {
     "name": "stdout",
     "output_type": "stream",
     "text": [
      "am3_5_frame117.jpg\n",
      "data_task2/test/images/am3_5_frame072.jpg\n"
     ]
    },
    {
     "name": "stderr",
     "output_type": "stream",
     "text": [
      " 89%|████████▊ | 133/150 [00:28<00:03,  4.68it/s]"
     ]
    },
    {
     "name": "stdout",
     "output_type": "stream",
     "text": [
      "am3_5_frame072.jpg\n",
      "data_task2/test/images/am3_5_frame066.jpg\n"
     ]
    },
    {
     "name": "stderr",
     "output_type": "stream",
     "text": [
      " 89%|████████▉ | 134/150 [00:28<00:03,  4.69it/s]"
     ]
    },
    {
     "name": "stdout",
     "output_type": "stream",
     "text": [
      "am3_5_frame066.jpg\n",
      "data_task2/test/images/am3_5_frame065.jpg\n"
     ]
    },
    {
     "name": "stderr",
     "output_type": "stream",
     "text": [
      " 90%|█████████ | 135/150 [00:29<00:03,  4.70it/s]"
     ]
    },
    {
     "name": "stdout",
     "output_type": "stream",
     "text": [
      "am3_5_frame065.jpg\n",
      "data_task2/test/images/am3_5_frame045.jpg\n"
     ]
    },
    {
     "name": "stderr",
     "output_type": "stream",
     "text": [
      " 91%|█████████ | 136/150 [00:29<00:02,  4.70it/s]"
     ]
    },
    {
     "name": "stdout",
     "output_type": "stream",
     "text": [
      "am3_5_frame045.jpg\n",
      "data_task2/test/images/am3_5_frame041.jpg\n"
     ]
    },
    {
     "name": "stderr",
     "output_type": "stream",
     "text": [
      " 91%|█████████▏| 137/150 [00:29<00:02,  4.66it/s]"
     ]
    },
    {
     "name": "stdout",
     "output_type": "stream",
     "text": [
      "am3_5_frame041.jpg\n",
      "data_task2/test/images/am3_5_frame036.jpg\n"
     ]
    },
    {
     "name": "stderr",
     "output_type": "stream",
     "text": [
      " 92%|█████████▏| 138/150 [00:29<00:02,  4.68it/s]"
     ]
    },
    {
     "name": "stdout",
     "output_type": "stream",
     "text": [
      "am3_5_frame036.jpg\n",
      "data_task2/test/images/am3_5_frame030.jpg\n"
     ]
    },
    {
     "name": "stderr",
     "output_type": "stream",
     "text": [
      " 93%|█████████▎| 139/150 [00:29<00:02,  4.70it/s]"
     ]
    },
    {
     "name": "stdout",
     "output_type": "stream",
     "text": [
      "am3_5_frame030.jpg\n",
      "data_task2/test/images/am3_5_frame019.jpg\n"
     ]
    },
    {
     "name": "stderr",
     "output_type": "stream",
     "text": [
      " 93%|█████████▎| 140/150 [00:30<00:02,  4.69it/s]"
     ]
    },
    {
     "name": "stdout",
     "output_type": "stream",
     "text": [
      "am3_5_frame019.jpg\n",
      "data_task2/test/images/am3_5_frame017.jpg\n"
     ]
    },
    {
     "name": "stderr",
     "output_type": "stream",
     "text": [
      " 94%|█████████▍| 141/150 [00:30<00:01,  4.70it/s]"
     ]
    },
    {
     "name": "stdout",
     "output_type": "stream",
     "text": [
      "am3_5_frame017.jpg\n",
      "data_task2/test/images/am3_5_frame015.jpg\n"
     ]
    },
    {
     "name": "stderr",
     "output_type": "stream",
     "text": [
      " 95%|█████████▍| 142/150 [00:30<00:01,  4.71it/s]"
     ]
    },
    {
     "name": "stdout",
     "output_type": "stream",
     "text": [
      "am3_5_frame015.jpg\n",
      "data_task2/test/images/am3_4_frame060.jpg\n"
     ]
    },
    {
     "name": "stderr",
     "output_type": "stream",
     "text": [
      " 95%|█████████▌| 143/150 [00:30<00:01,  4.71it/s]"
     ]
    },
    {
     "name": "stdout",
     "output_type": "stream",
     "text": [
      "am3_4_frame060.jpg\n",
      "data_task2/test/images/am3_3_frame032.jpg\n"
     ]
    },
    {
     "name": "stderr",
     "output_type": "stream",
     "text": [
      " 96%|█████████▌| 144/150 [00:30<00:01,  4.72it/s]"
     ]
    },
    {
     "name": "stdout",
     "output_type": "stream",
     "text": [
      "am3_3_frame032.jpg\n",
      "data_task2/test/images/am3_3_frame031.jpg\n"
     ]
    },
    {
     "name": "stderr",
     "output_type": "stream",
     "text": [
      " 97%|█████████▋| 145/150 [00:31<00:01,  4.71it/s]"
     ]
    },
    {
     "name": "stdout",
     "output_type": "stream",
     "text": [
      "am3_3_frame031.jpg\n",
      "data_task2/test/images/am3_3_frame019.jpg\n"
     ]
    },
    {
     "name": "stderr",
     "output_type": "stream",
     "text": [
      " 97%|█████████▋| 146/150 [00:31<00:00,  4.71it/s]"
     ]
    },
    {
     "name": "stdout",
     "output_type": "stream",
     "text": [
      "am3_3_frame019.jpg\n",
      "data_task2/test/images/am3_1_frame043.jpg\n"
     ]
    },
    {
     "name": "stderr",
     "output_type": "stream",
     "text": [
      " 98%|█████████▊| 147/150 [00:31<00:00,  4.71it/s]"
     ]
    },
    {
     "name": "stdout",
     "output_type": "stream",
     "text": [
      "am3_1_frame043.jpg\n",
      "data_task2/test/images/am3_1_frame030.jpg\n"
     ]
    },
    {
     "name": "stderr",
     "output_type": "stream",
     "text": [
      " 99%|█████████▊| 148/150 [00:31<00:00,  4.71it/s]"
     ]
    },
    {
     "name": "stdout",
     "output_type": "stream",
     "text": [
      "am3_1_frame030.jpg\n",
      "data_task2/test/images/am3_1_frame025.jpg\n"
     ]
    },
    {
     "name": "stderr",
     "output_type": "stream",
     "text": [
      " 99%|█████████▉| 149/150 [00:31<00:00,  4.70it/s]"
     ]
    },
    {
     "name": "stdout",
     "output_type": "stream",
     "text": [
      "am3_1_frame025.jpg\n",
      "data_task2/test/images/am3_1_frame011.jpg\n"
     ]
    },
    {
     "name": "stderr",
     "output_type": "stream",
     "text": [
      "100%|██████████| 150/150 [00:32<00:00,  4.66it/s]"
     ]
    },
    {
     "name": "stdout",
     "output_type": "stream",
     "text": [
      "am3_1_frame011.jpg\n"
     ]
    },
    {
     "name": "stderr",
     "output_type": "stream",
     "text": [
      "\n"
     ]
    }
   ],
   "source": [
    "device = torch.device(\"cuda\" if torch.cuda.is_available() else \"cpu\")\n",
    "get_detection_solution(device = device)"
   ]
  },
  {
   "cell_type": "code",
   "execution_count": null,
   "metadata": {},
   "outputs": [],
   "source": []
  }
 ],
 "metadata": {
  "instance_type": "ml.g4dn.xlarge",
  "kernelspec": {
   "display_name": "Python 3 (Data Science)",
   "language": "python",
   "name": "python3__SAGEMAKER_INTERNAL__arn:aws:sagemaker:eu-west-1:470317259841:image/datascience-1.0"
  },
  "language_info": {
   "codemirror_mode": {
    "name": "ipython",
    "version": 3
   },
   "file_extension": ".py",
   "mimetype": "text/x-python",
   "name": "python",
   "nbconvert_exporter": "python",
   "pygments_lexer": "ipython3",
   "version": "3.7.10"
  }
 },
 "nbformat": 4,
 "nbformat_minor": 4
}
